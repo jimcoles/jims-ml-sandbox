{
 "cells": [
  {
   "metadata": {},
   "cell_type": "markdown",
   "source": [
    "# Jim's Machine Learning Testbed\n",
    "\n",
    "\n",
    "\n",
    "## Jupyter Notes\n",
    "Put your cursor into the cell and press Shift+Enter to execute it and select the next one, or click 'Run Cell' button.\n",
    "\n",
    "Press Double Shift to search everywhere for classes, files, tool windows, actions, and settings.\n",
    "\n",
    "To learn more about Jupyter Notebooks in PyCharm, see [help](https://www.jetbrains.com/help/pycharm/ipython-notebook-support.html).\n",
    "For an overview of PyCharm, go to Help -> Learn IDE features or refer to [our documentation](https://www.jetbrains.com/help/pycharm/getting-started.html).\n",
    "\n",
    "# Basic Python interpreter check"
   ],
   "id": "8a77807f92f26ee"
  },
  {
   "metadata": {
    "ExecuteTime": {
     "end_time": "2025-02-09T23:48:22.709622Z",
     "start_time": "2025-02-09T23:48:22.699055Z"
    }
   },
   "cell_type": "code",
   "source": [
    "# Does anything work\n",
    "print(\"Hello World!\")\n",
    "\n",
    "# An IPython (Jupyter) thing\n",
    "%env\n",
    "\n"
   ],
   "id": "a78c74d9e1b071be",
   "outputs": [
    {
     "name": "stdout",
     "output_type": "stream",
     "text": [
      "Hello World!\n"
     ]
    },
    {
     "data": {
      "text/plain": [
       "{'HOMEBREW_PREFIX': '/opt/homebrew',\n",
       " 'MANPATH': '/opt/homebrew/share/man::',\n",
       " 'COMMAND_MODE': 'unix2003',\n",
       " 'INFOPATH': '/opt/homebrew/share/info:',\n",
       " 'SHELL': '/bin/zsh',\n",
       " 'PYTHONPATH': '/Users/jcoles/Source/jkc/testbeds/jims-ml-sandbox:/Users/jcoles/Applications/DataSpell.app/Contents/plugins/python-ce/helpers/pydev:/Users/jcoles/Applications/DataSpell.app/Contents/plugins/python-ce/helpers-pro/jupyter_debug',\n",
       " '__CFBundleIdentifier': 'com.jetbrains.dataspell',\n",
       " 'TMPDIR': '/var/folders/xc/32y9xdg50zv0b_kvssbpfc_00000gn/T/',\n",
       " 'LC_ALL': 'en_US.UTF-8',\n",
       " 'JBOSS_HOME': '/Users/jcoles/java/wildfly-29.0.0.Final',\n",
       " 'PKG_CONFIG_PATH': '/Users/jcoles/.opam/default/lib/pkgconfig:',\n",
       " 'TOOLBOX_VERSION': '2.5.3.37797',\n",
       " 'DISPLAY': '/private/tmp/com.apple.launchd.M4apHXqJbV/org.macosforge.xquartz:0',\n",
       " 'HOME': '/Users/jcoles',\n",
       " 'HOMEBREW_REPOSITORY': '/opt/homebrew',\n",
       " 'OPAMNOENVNOTICE': 'true',\n",
       " 'PATH': '/Users/jcoles/Source/jkc/testbeds/jims-ml-sandbox/.venv/bin:/Users/jcoles/Library/pnpm:/Users/jcoles/.opam/default/bin:/Users/jcoles/bin:/Library/Java/JavaVirtualMachines/graalvm-23.jdk/Contents/Home/bin:/opt/homebrew/bin:/opt/homebrew/sbin:/Library/Frameworks/Python.framework/Versions/3.7/bin:/Users/jcoles/java/groovy/bin:/usr/local/bin:/System/Cryptexes/App/usr/bin:/usr/bin:/bin:/usr/sbin:/sbin:/var/run/com.apple.security.cryptexd/codex.system/bootstrap/usr/local/bin:/var/run/com.apple.security.cryptexd/codex.system/bootstrap/usr/bin:/var/run/com.apple.security.cryptexd/codex.system/bootstrap/usr/appleinternal/bin:/opt/X11/bin:/Library/Apple/usr/bin:/Applications/Wireshark.app/Contents/MacOS:/usr/local/share/dotnet:~/.dotnet/tools:/usr/local/go/bin:/Library/Frameworks/Mono.framework/Versions/Current/Commands:/usr/local/bin',\n",
       " 'OPAM_SWITCH_PREFIX': '/Users/jcoles/.opam/default',\n",
       " 'LOGNAME': 'jcoles',\n",
       " 'GROOVY_HOME': '/Users/jcoles/java/groovy',\n",
       " 'XPC_FLAGS': '0x0',\n",
       " '__CF_USER_TEXT_ENCODING': '0x1F5:0x0:0x0',\n",
       " 'LANG': 'en_US.UTF-8',\n",
       " 'OPENAI_API_KEY': '<hidden>',\n",
       " 'OCAML_TOPLEVEL_PATH': '/Users/jcoles/.opam/default/lib/toplevel',\n",
       " 'CAML_LD_LIBRARY_PATH': '/Users/jcoles/.opam/default/lib/stublibs:/opt/homebrew/lib/ocaml/stublibs:/opt/homebrew/lib/ocaml',\n",
       " 'LC_CTYPE': 'en_US.UTF-8',\n",
       " 'LANGUAGE': '',\n",
       " 'VIRTUAL_ENV': '/Users/jcoles/Source/jkc/testbeds/jims-ml-sandbox/.venv',\n",
       " 'JAVA_HOME': '/Library/Java/JavaVirtualMachines/graalvm-23.jdk/Contents/Home',\n",
       " 'IJ_RESTARTER_LOG': '/Users/jcoles/Library/Logs/JetBrains/DataSpell2024.3/restarter.log',\n",
       " 'PS1': '(.venv) ',\n",
       " 'SSH_AUTH_SOCK': '/private/tmp/com.apple.launchd.oQPk4XY6J5/Listeners',\n",
       " 'OLDPWD': '/',\n",
       " 'SPACE_DEV_HOME': '/Users/jcoles/Source/jkc/space-java',\n",
       " 'XPC_SERVICE_NAME': 'application.com.jetbrains.dataspell.170280229.170291440.8877253B-789C-4FC2-B0A3-E8BB087FDA94',\n",
       " 'PROMPT': '%F{green}jcoles@Jimbos-M1 %~ %#%f ',\n",
       " 'M2_HOME': '/usr/local/Cellar/maven/3.9.4',\n",
       " 'USER': 'jcoles',\n",
       " 'HOMEBREW_CELLAR': '/opt/homebrew/Cellar',\n",
       " 'PWD': '/Users/jcoles/Source/jkc/testbeds/jims-ml-sandbox',\n",
       " 'PNPM_HOME': '/Users/jcoles/Library/pnpm',\n",
       " 'HERMETIC_PYTHON_VERSION': '3.12',\n",
       " 'JPY_SESSION_NAME': 'jims-ml-testbed.ipynb',\n",
       " 'JPY_PARENT_PID': '81254',\n",
       " 'PYDEVD_USE_FRAME_EVAL': 'NO',\n",
       " 'TERM': 'xterm-color',\n",
       " 'CLICOLOR': '1',\n",
       " 'FORCE_COLOR': '1',\n",
       " 'CLICOLOR_FORCE': '1',\n",
       " 'PAGER': 'cat',\n",
       " 'GIT_PAGER': 'cat',\n",
       " 'MPLBACKEND': 'module://matplotlib_inline.backend_inline'}"
      ]
     },
     "execution_count": 2,
     "metadata": {},
     "output_type": "execute_result"
    }
   ],
   "execution_count": 2
  },
  {
   "metadata": {},
   "cell_type": "markdown",
   "source": "Use a core Python package, numpy:",
   "id": "6c019e655ca9a5f5"
  },
  {
   "metadata": {
    "ExecuteTime": {
     "end_time": "2025-02-09T23:48:22.890215Z",
     "start_time": "2025-02-09T23:48:22.721158Z"
    }
   },
   "cell_type": "code",
   "source": [
    "import numpy as np\n",
    "np.add(1,2)"
   ],
   "id": "6155a5763b81ec36",
   "outputs": [
    {
     "data": {
      "text/plain": [
       "3"
      ]
     },
     "execution_count": 3,
     "metadata": {},
     "output_type": "execute_result"
    }
   ],
   "execution_count": 3
  },
  {
   "metadata": {},
   "cell_type": "markdown",
   "source": [
    "---\n",
    "# ML Engine #1: Google `TensorFlow`\n",
    "\n",
    "A sanity check call to `tensorflow` to make sure it finds and loads the library. NOTE: this does not do any tensor processing:"
   ],
   "id": "2a9bc4e2ec05f5db"
  },
  {
   "metadata": {
    "ExecuteTime": {
     "end_time": "2025-02-09T23:55:42.798345Z",
     "start_time": "2025-02-09T23:55:42.794052Z"
    }
   },
   "cell_type": "code",
   "source": [
    "import tensorflow as tf\n",
    "tf.add(1, 5).numpy()"
   ],
   "id": "3814a818a6d07176",
   "outputs": [
    {
     "data": {
      "text/plain": [
       "6"
      ]
     },
     "execution_count": 5,
     "metadata": {},
     "output_type": "execute_result"
    }
   ],
   "execution_count": 5
  },
  {
   "metadata": {},
   "cell_type": "markdown",
   "source": "A snippet of f",
   "id": "93e18483ba545c06"
  },
  {
   "metadata": {
    "ExecuteTime": {
     "end_time": "2025-02-09T18:40:11.215381Z",
     "start_time": "2025-02-09T18:40:11.206951Z"
    }
   },
   "cell_type": "code",
   "source": [
    "hello = tf.constant('Hello, TensorFlow!')\n",
    "hello.numpy()"
   ],
   "id": "467d313d147204",
   "outputs": [
    {
     "data": {
      "text/plain": [
       "b'Hello, TensorFlow!'"
      ]
     },
     "execution_count": 12,
     "metadata": {},
     "output_type": "execute_result"
    }
   ],
   "execution_count": 12
  },
  {
   "metadata": {},
   "cell_type": "markdown",
   "source": "Now we load a dataset from the convenient tensorflow_datasets python package.",
   "id": "3d85093ca3d9c35d"
  },
  {
   "metadata": {
    "ExecuteTime": {
     "end_time": "2025-02-09T23:55:51.556255Z",
     "start_time": "2025-02-09T23:55:51.317592Z"
    }
   },
   "cell_type": "code",
   "source": [
    "# Load from tensorflow_dataset\n",
    "import tensorflow_datasets\n",
    "\n"
   ],
   "id": "33d3dd51918dda5e",
   "outputs": [],
   "execution_count": 6
  },
  {
   "metadata": {},
   "cell_type": "markdown",
   "source": [
    "# Test Problem 1:\n",
    "## Create our own dataset: Customer product purchase predictor"
   ],
   "id": "feb872c71746bc52"
  },
  {
   "metadata": {
    "ExecuteTime": {
     "end_time": "2025-02-10T21:17:41.323479Z",
     "start_time": "2025-02-10T21:17:37.765239Z"
    }
   },
   "cell_type": "code",
   "source": [
    "import tensorflow as tf\n",
    "\n",
    "# Sample synthetic data\n",
    "users = tf.constant([f'user_{i}' for i in range(100)])\n",
    "products = tf.constant([f'product_{i}' for i in range(50)])\n",
    "\n",
    "# Generate random purchase data\n",
    "purchases = tf.random.uniform((100, 10), minval=0, maxval=50, dtype=tf.int32)\n",
    "purchases = tf.map_fn(lambda row: tf.gather(products, row), purchases)\n",
    "\n",
    "# Create dataset of (user, purchases) for training\n",
    "dataset = tf.data.Dataset.from_tensor_slices((users, purchases))\n",
    "\n",
    "# Define the model\n",
    "user_input = tf.keras.layers.Input(shape=(), dtype=tf.string, name=\"user\")\n",
    "product_input = tf.keras.layers.Input(shape=(None,), dtype=tf.string, name=\"products_purchased\")\n",
    "embedding_layer = tf.keras.layers.Embedding(input_dim=50, output_dim=8, mask_zero=True)\n",
    "product_embedding = embedding_layer(product_input)\n",
    "pooled_product_embedding = tf.keras.layers.GlobalAveragePooling1D()(product_embedding)\n",
    "concatenated = tf.keras.layers.Concatenate()([tf.keras.layers.Embedding(input_dim=100, output_dim=8)(tf.strings.to_hash_bucket_fast(user_input, num_buckets=100)), pooled_product_embedding])\n",
    "output = tf.keras.layers.Dense(10, activation=\"softmax\")(concatenated)  # Predict 10 recommended products\n",
    "\n",
    "model = tf.keras.Model(inputs=[user_input, product_input], outputs=output)\n",
    "\n",
    "# Compile the model\n",
    "model.compile(optimizer=\"adam\", loss=\"sparse_categorical_crossentropy\", metrics=[\"accuracy\"])\n",
    "\n",
    "# Create labels for training (synthetic labels for recommendations)\n",
    "labels = tf.random.uniform((100,), minval=0, maxval=50, dtype=tf.int32)\n",
    "train_dataset = dataset.map(lambda u, p: ({'user': u, 'products_purchased': p}, tf.random.uniform(shape=(10,), minval=0, maxval=50, dtype=tf.int32)))\n",
    "\n",
    "# Train the model\n",
    "model.fit(train_dataset.batch(10), epochs=5)"
   ],
   "id": "b6e724cbdcc38453",
   "outputs": [
    {
     "name": "stderr",
     "output_type": "stream",
     "text": [
      "2025-02-10 15:17:40.684566: I metal_plugin/src/device/metal_device.cc:1154] Metal device set to: Apple M1 Pro\n",
      "2025-02-10 15:17:40.684600: I metal_plugin/src/device/metal_device.cc:296] systemMemory: 32.00 GB\n",
      "2025-02-10 15:17:40.684606: I metal_plugin/src/device/metal_device.cc:313] maxCacheSize: 10.67 GB\n",
      "2025-02-10 15:17:40.684622: I tensorflow/core/common_runtime/pluggable_device/pluggable_device_factory.cc:305] Could not identify NUMA node of platform GPU ID 0, defaulting to 0. Your kernel may not have been built with NUMA support.\n",
      "2025-02-10 15:17:40.684635: I tensorflow/core/common_runtime/pluggable_device/pluggable_device_factory.cc:271] Created TensorFlow device (/job:localhost/replica:0/task:0/device:GPU:0 with 0 MB memory) -> physical PluggableDevice (device: 0, name: METAL, pci bus id: <undefined>)\n"
     ]
    },
    {
     "ename": "InvalidArgumentError",
     "evalue": "TensorArray dtype is int32 but Op is trying to write dtype string ",
     "output_type": "error",
     "traceback": [
      "\u001B[0;31m---------------------------------------------------------------------------\u001B[0m",
      "\u001B[0;31mInvalidArgumentError\u001B[0m                      Traceback (most recent call last)",
      "Cell \u001B[0;32mIn[5], line 9\u001B[0m\n\u001B[1;32m      7\u001B[0m \u001B[38;5;66;03m# Generate random purchase data\u001B[39;00m\n\u001B[1;32m      8\u001B[0m purchases \u001B[38;5;241m=\u001B[39m tf\u001B[38;5;241m.\u001B[39mrandom\u001B[38;5;241m.\u001B[39muniform((\u001B[38;5;241m100\u001B[39m, \u001B[38;5;241m10\u001B[39m), minval\u001B[38;5;241m=\u001B[39m\u001B[38;5;241m0\u001B[39m, maxval\u001B[38;5;241m=\u001B[39m\u001B[38;5;241m50\u001B[39m, dtype\u001B[38;5;241m=\u001B[39mtf\u001B[38;5;241m.\u001B[39mint32)\n\u001B[0;32m----> 9\u001B[0m purchases \u001B[38;5;241m=\u001B[39m \u001B[43mtf\u001B[49m\u001B[38;5;241;43m.\u001B[39;49m\u001B[43mmap_fn\u001B[49m\u001B[43m(\u001B[49m\u001B[38;5;28;43;01mlambda\u001B[39;49;00m\u001B[43m \u001B[49m\u001B[43mrow\u001B[49m\u001B[43m:\u001B[49m\u001B[43m \u001B[49m\u001B[43mtf\u001B[49m\u001B[38;5;241;43m.\u001B[39;49m\u001B[43mgather\u001B[49m\u001B[43m(\u001B[49m\u001B[43mproducts\u001B[49m\u001B[43m,\u001B[49m\u001B[43m \u001B[49m\u001B[43mrow\u001B[49m\u001B[43m)\u001B[49m\u001B[43m,\u001B[49m\u001B[43m \u001B[49m\u001B[43mpurchases\u001B[49m\u001B[43m)\u001B[49m\n\u001B[1;32m     11\u001B[0m \u001B[38;5;66;03m# Create dataset of (user, purchases) for training\u001B[39;00m\n\u001B[1;32m     12\u001B[0m dataset \u001B[38;5;241m=\u001B[39m tf\u001B[38;5;241m.\u001B[39mdata\u001B[38;5;241m.\u001B[39mDataset\u001B[38;5;241m.\u001B[39mfrom_tensor_slices((users, purchases))\n",
      "File \u001B[0;32m~/Source/jkc/testbeds/jims-ml-sandbox/.venv/lib/python3.10/site-packages/tensorflow/python/util/deprecation.py:660\u001B[0m, in \u001B[0;36mdeprecated_arg_values.<locals>.deprecated_wrapper.<locals>.new_func\u001B[0;34m(*args, **kwargs)\u001B[0m\n\u001B[1;32m    652\u001B[0m           _PRINTED_WARNING[(func, arg_name)] \u001B[38;5;241m=\u001B[39m \u001B[38;5;28;01mTrue\u001B[39;00m\n\u001B[1;32m    653\u001B[0m         _log_deprecation(\n\u001B[1;32m    654\u001B[0m             \u001B[38;5;124m'\u001B[39m\u001B[38;5;124mFrom \u001B[39m\u001B[38;5;132;01m%s\u001B[39;00m\u001B[38;5;124m: calling \u001B[39m\u001B[38;5;132;01m%s\u001B[39;00m\u001B[38;5;124m (from \u001B[39m\u001B[38;5;132;01m%s\u001B[39;00m\u001B[38;5;124m) with \u001B[39m\u001B[38;5;132;01m%s\u001B[39;00m\u001B[38;5;124m=\u001B[39m\u001B[38;5;132;01m%s\u001B[39;00m\u001B[38;5;124m is deprecated and \u001B[39m\u001B[38;5;124m'\u001B[39m\n\u001B[1;32m    655\u001B[0m             \u001B[38;5;124m'\u001B[39m\u001B[38;5;124mwill be removed \u001B[39m\u001B[38;5;132;01m%s\u001B[39;00m\u001B[38;5;124m.\u001B[39m\u001B[38;5;130;01m\\n\u001B[39;00m\u001B[38;5;124mInstructions for updating:\u001B[39m\u001B[38;5;130;01m\\n\u001B[39;00m\u001B[38;5;132;01m%s\u001B[39;00m\u001B[38;5;124m'\u001B[39m,\n\u001B[0;32m   (...)\u001B[0m\n\u001B[1;32m    658\u001B[0m             \u001B[38;5;124m'\u001B[39m\u001B[38;5;124min a future version\u001B[39m\u001B[38;5;124m'\u001B[39m \u001B[38;5;28;01mif\u001B[39;00m date \u001B[38;5;129;01mis\u001B[39;00m \u001B[38;5;28;01mNone\u001B[39;00m \u001B[38;5;28;01melse\u001B[39;00m\n\u001B[1;32m    659\u001B[0m             (\u001B[38;5;124m'\u001B[39m\u001B[38;5;124mafter \u001B[39m\u001B[38;5;132;01m%s\u001B[39;00m\u001B[38;5;124m'\u001B[39m \u001B[38;5;241m%\u001B[39m date), instructions)\n\u001B[0;32m--> 660\u001B[0m \u001B[38;5;28;01mreturn\u001B[39;00m \u001B[43mfunc\u001B[49m\u001B[43m(\u001B[49m\u001B[38;5;241;43m*\u001B[39;49m\u001B[43margs\u001B[49m\u001B[43m,\u001B[49m\u001B[43m \u001B[49m\u001B[38;5;241;43m*\u001B[39;49m\u001B[38;5;241;43m*\u001B[39;49m\u001B[43mkwargs\u001B[49m\u001B[43m)\u001B[49m\n",
      "File \u001B[0;32m~/Source/jkc/testbeds/jims-ml-sandbox/.venv/lib/python3.10/site-packages/tensorflow/python/util/deprecation.py:588\u001B[0m, in \u001B[0;36mdeprecated_args.<locals>.deprecated_wrapper.<locals>.new_func\u001B[0;34m(*args, **kwargs)\u001B[0m\n\u001B[1;32m    580\u001B[0m         _PRINTED_WARNING[(func, arg_name)] \u001B[38;5;241m=\u001B[39m \u001B[38;5;28;01mTrue\u001B[39;00m\n\u001B[1;32m    581\u001B[0m       _log_deprecation(\n\u001B[1;32m    582\u001B[0m           \u001B[38;5;124m'\u001B[39m\u001B[38;5;124mFrom \u001B[39m\u001B[38;5;132;01m%s\u001B[39;00m\u001B[38;5;124m: calling \u001B[39m\u001B[38;5;132;01m%s\u001B[39;00m\u001B[38;5;124m (from \u001B[39m\u001B[38;5;132;01m%s\u001B[39;00m\u001B[38;5;124m) with \u001B[39m\u001B[38;5;132;01m%s\u001B[39;00m\u001B[38;5;124m is deprecated and will \u001B[39m\u001B[38;5;124m'\u001B[39m\n\u001B[1;32m    583\u001B[0m           \u001B[38;5;124m'\u001B[39m\u001B[38;5;124mbe removed \u001B[39m\u001B[38;5;132;01m%s\u001B[39;00m\u001B[38;5;124m.\u001B[39m\u001B[38;5;130;01m\\n\u001B[39;00m\u001B[38;5;124mInstructions for updating:\u001B[39m\u001B[38;5;130;01m\\n\u001B[39;00m\u001B[38;5;132;01m%s\u001B[39;00m\u001B[38;5;124m'\u001B[39m,\n\u001B[0;32m   (...)\u001B[0m\n\u001B[1;32m    586\u001B[0m           \u001B[38;5;124m'\u001B[39m\u001B[38;5;124min a future version\u001B[39m\u001B[38;5;124m'\u001B[39m \u001B[38;5;28;01mif\u001B[39;00m date \u001B[38;5;129;01mis\u001B[39;00m \u001B[38;5;28;01mNone\u001B[39;00m \u001B[38;5;28;01melse\u001B[39;00m (\u001B[38;5;124m'\u001B[39m\u001B[38;5;124mafter \u001B[39m\u001B[38;5;132;01m%s\u001B[39;00m\u001B[38;5;124m'\u001B[39m \u001B[38;5;241m%\u001B[39m date),\n\u001B[1;32m    587\u001B[0m           instructions)\n\u001B[0;32m--> 588\u001B[0m \u001B[38;5;28;01mreturn\u001B[39;00m \u001B[43mfunc\u001B[49m\u001B[43m(\u001B[49m\u001B[38;5;241;43m*\u001B[39;49m\u001B[43margs\u001B[49m\u001B[43m,\u001B[49m\u001B[43m \u001B[49m\u001B[38;5;241;43m*\u001B[39;49m\u001B[38;5;241;43m*\u001B[39;49m\u001B[43mkwargs\u001B[49m\u001B[43m)\u001B[49m\n",
      "File \u001B[0;32m~/Source/jkc/testbeds/jims-ml-sandbox/.venv/lib/python3.10/site-packages/tensorflow/python/ops/map_fn.py:637\u001B[0m, in \u001B[0;36mmap_fn_v2\u001B[0;34m(fn, elems, dtype, parallel_iterations, back_prop, swap_memory, infer_shape, name, fn_output_signature)\u001B[0m\n\u001B[1;32m    635\u001B[0m \u001B[38;5;28;01mif\u001B[39;00m fn_output_signature \u001B[38;5;129;01mis\u001B[39;00m \u001B[38;5;28;01mNone\u001B[39;00m:\n\u001B[1;32m    636\u001B[0m   fn_output_signature \u001B[38;5;241m=\u001B[39m dtype\n\u001B[0;32m--> 637\u001B[0m \u001B[38;5;28;01mreturn\u001B[39;00m \u001B[43mmap_fn\u001B[49m\u001B[43m(\u001B[49m\n\u001B[1;32m    638\u001B[0m \u001B[43m    \u001B[49m\u001B[43mfn\u001B[49m\u001B[38;5;241;43m=\u001B[39;49m\u001B[43mfn\u001B[49m\u001B[43m,\u001B[49m\n\u001B[1;32m    639\u001B[0m \u001B[43m    \u001B[49m\u001B[43melems\u001B[49m\u001B[38;5;241;43m=\u001B[39;49m\u001B[43melems\u001B[49m\u001B[43m,\u001B[49m\n\u001B[1;32m    640\u001B[0m \u001B[43m    \u001B[49m\u001B[43mfn_output_signature\u001B[49m\u001B[38;5;241;43m=\u001B[39;49m\u001B[43mfn_output_signature\u001B[49m\u001B[43m,\u001B[49m\n\u001B[1;32m    641\u001B[0m \u001B[43m    \u001B[49m\u001B[43mparallel_iterations\u001B[49m\u001B[38;5;241;43m=\u001B[39;49m\u001B[43mparallel_iterations\u001B[49m\u001B[43m,\u001B[49m\n\u001B[1;32m    642\u001B[0m \u001B[43m    \u001B[49m\u001B[43mback_prop\u001B[49m\u001B[38;5;241;43m=\u001B[39;49m\u001B[43mback_prop\u001B[49m\u001B[43m,\u001B[49m\n\u001B[1;32m    643\u001B[0m \u001B[43m    \u001B[49m\u001B[43mswap_memory\u001B[49m\u001B[38;5;241;43m=\u001B[39;49m\u001B[43mswap_memory\u001B[49m\u001B[43m,\u001B[49m\n\u001B[1;32m    644\u001B[0m \u001B[43m    \u001B[49m\u001B[43minfer_shape\u001B[49m\u001B[38;5;241;43m=\u001B[39;49m\u001B[43minfer_shape\u001B[49m\u001B[43m,\u001B[49m\n\u001B[1;32m    645\u001B[0m \u001B[43m    \u001B[49m\u001B[43mname\u001B[49m\u001B[38;5;241;43m=\u001B[39;49m\u001B[43mname\u001B[49m\u001B[43m)\u001B[49m\n",
      "File \u001B[0;32m~/Source/jkc/testbeds/jims-ml-sandbox/.venv/lib/python3.10/site-packages/tensorflow/python/util/deprecation.py:588\u001B[0m, in \u001B[0;36mdeprecated_args.<locals>.deprecated_wrapper.<locals>.new_func\u001B[0;34m(*args, **kwargs)\u001B[0m\n\u001B[1;32m    580\u001B[0m         _PRINTED_WARNING[(func, arg_name)] \u001B[38;5;241m=\u001B[39m \u001B[38;5;28;01mTrue\u001B[39;00m\n\u001B[1;32m    581\u001B[0m       _log_deprecation(\n\u001B[1;32m    582\u001B[0m           \u001B[38;5;124m'\u001B[39m\u001B[38;5;124mFrom \u001B[39m\u001B[38;5;132;01m%s\u001B[39;00m\u001B[38;5;124m: calling \u001B[39m\u001B[38;5;132;01m%s\u001B[39;00m\u001B[38;5;124m (from \u001B[39m\u001B[38;5;132;01m%s\u001B[39;00m\u001B[38;5;124m) with \u001B[39m\u001B[38;5;132;01m%s\u001B[39;00m\u001B[38;5;124m is deprecated and will \u001B[39m\u001B[38;5;124m'\u001B[39m\n\u001B[1;32m    583\u001B[0m           \u001B[38;5;124m'\u001B[39m\u001B[38;5;124mbe removed \u001B[39m\u001B[38;5;132;01m%s\u001B[39;00m\u001B[38;5;124m.\u001B[39m\u001B[38;5;130;01m\\n\u001B[39;00m\u001B[38;5;124mInstructions for updating:\u001B[39m\u001B[38;5;130;01m\\n\u001B[39;00m\u001B[38;5;132;01m%s\u001B[39;00m\u001B[38;5;124m'\u001B[39m,\n\u001B[0;32m   (...)\u001B[0m\n\u001B[1;32m    586\u001B[0m           \u001B[38;5;124m'\u001B[39m\u001B[38;5;124min a future version\u001B[39m\u001B[38;5;124m'\u001B[39m \u001B[38;5;28;01mif\u001B[39;00m date \u001B[38;5;129;01mis\u001B[39;00m \u001B[38;5;28;01mNone\u001B[39;00m \u001B[38;5;28;01melse\u001B[39;00m (\u001B[38;5;124m'\u001B[39m\u001B[38;5;124mafter \u001B[39m\u001B[38;5;132;01m%s\u001B[39;00m\u001B[38;5;124m'\u001B[39m \u001B[38;5;241m%\u001B[39m date),\n\u001B[1;32m    587\u001B[0m           instructions)\n\u001B[0;32m--> 588\u001B[0m \u001B[38;5;28;01mreturn\u001B[39;00m \u001B[43mfunc\u001B[49m\u001B[43m(\u001B[49m\u001B[38;5;241;43m*\u001B[39;49m\u001B[43margs\u001B[49m\u001B[43m,\u001B[49m\u001B[43m \u001B[49m\u001B[38;5;241;43m*\u001B[39;49m\u001B[38;5;241;43m*\u001B[39;49m\u001B[43mkwargs\u001B[49m\u001B[43m)\u001B[49m\n",
      "File \u001B[0;32m~/Source/jkc/testbeds/jims-ml-sandbox/.venv/lib/python3.10/site-packages/tensorflow/python/ops/map_fn.py:497\u001B[0m, in \u001B[0;36mmap_fn\u001B[0;34m(fn, elems, dtype, parallel_iterations, back_prop, swap_memory, infer_shape, name, fn_output_signature)\u001B[0m\n\u001B[1;32m    492\u001B[0m   tas \u001B[38;5;241m=\u001B[39m [\n\u001B[1;32m    493\u001B[0m       ta\u001B[38;5;241m.\u001B[39mwrite(i, value) \u001B[38;5;28;01mfor\u001B[39;00m (ta, value) \u001B[38;5;129;01min\u001B[39;00m \u001B[38;5;28mzip\u001B[39m(tas, result_value_batchable)\n\u001B[1;32m    494\u001B[0m   ]\n\u001B[1;32m    495\u001B[0m   \u001B[38;5;28;01mreturn\u001B[39;00m (i \u001B[38;5;241m+\u001B[39m \u001B[38;5;241m1\u001B[39m, tas)\n\u001B[0;32m--> 497\u001B[0m _, r_a \u001B[38;5;241m=\u001B[39m \u001B[43mwhile_loop\u001B[49m\u001B[38;5;241;43m.\u001B[39;49m\u001B[43mwhile_loop\u001B[49m\u001B[43m(\u001B[49m\n\u001B[1;32m    498\u001B[0m \u001B[43m    \u001B[49m\u001B[38;5;28;43;01mlambda\u001B[39;49;00m\u001B[43m \u001B[49m\u001B[43mi\u001B[49m\u001B[43m,\u001B[49m\u001B[43m \u001B[49m\u001B[43m_\u001B[49m\u001B[43m:\u001B[49m\u001B[43m \u001B[49m\u001B[43mi\u001B[49m\u001B[43m \u001B[49m\u001B[38;5;241;43m<\u001B[39;49m\u001B[43m \u001B[49m\u001B[43mn\u001B[49m\u001B[43m,\u001B[49m\n\u001B[1;32m    499\u001B[0m \u001B[43m    \u001B[49m\u001B[43mcompute\u001B[49m\u001B[43m,\u001B[49m\u001B[43m \u001B[49m\u001B[43m(\u001B[49m\u001B[43mi\u001B[49m\u001B[43m,\u001B[49m\u001B[43m \u001B[49m\u001B[43mresult_batchable_ta\u001B[49m\u001B[43m)\u001B[49m\u001B[43m,\u001B[49m\n\u001B[1;32m    500\u001B[0m \u001B[43m    \u001B[49m\u001B[43mparallel_iterations\u001B[49m\u001B[38;5;241;43m=\u001B[39;49m\u001B[43mparallel_iterations\u001B[49m\u001B[43m,\u001B[49m\n\u001B[1;32m    501\u001B[0m \u001B[43m    \u001B[49m\u001B[43mback_prop\u001B[49m\u001B[38;5;241;43m=\u001B[39;49m\u001B[43mback_prop\u001B[49m\u001B[43m,\u001B[49m\n\u001B[1;32m    502\u001B[0m \u001B[43m    \u001B[49m\u001B[43mswap_memory\u001B[49m\u001B[38;5;241;43m=\u001B[39;49m\u001B[43mswap_memory\u001B[49m\u001B[43m,\u001B[49m\n\u001B[1;32m    503\u001B[0m \u001B[43m    \u001B[49m\u001B[43mmaximum_iterations\u001B[49m\u001B[38;5;241;43m=\u001B[39;49m\u001B[43mn\u001B[49m\u001B[43m)\u001B[49m\n\u001B[1;32m    504\u001B[0m result_batchable \u001B[38;5;241m=\u001B[39m [r\u001B[38;5;241m.\u001B[39mstack() \u001B[38;5;28;01mfor\u001B[39;00m r \u001B[38;5;129;01min\u001B[39;00m r_a]\n\u001B[1;32m    506\u001B[0m \u001B[38;5;66;03m# Update each output tensor w/ static shape info about the outer dimension.\u001B[39;00m\n",
      "File \u001B[0;32m~/Source/jkc/testbeds/jims-ml-sandbox/.venv/lib/python3.10/site-packages/tensorflow/python/ops/while_loop.py:488\u001B[0m, in \u001B[0;36mwhile_loop\u001B[0;34m(cond, body, loop_vars, shape_invariants, parallel_iterations, back_prop, swap_memory, name, maximum_iterations, return_same_structure)\u001B[0m\n\u001B[1;32m    485\u001B[0m loop_var_structure \u001B[38;5;241m=\u001B[39m nest\u001B[38;5;241m.\u001B[39mmap_structure(type_spec\u001B[38;5;241m.\u001B[39mtype_spec_from_value,\n\u001B[1;32m    486\u001B[0m                                         \u001B[38;5;28mlist\u001B[39m(loop_vars))\n\u001B[1;32m    487\u001B[0m \u001B[38;5;28;01mwhile\u001B[39;00m cond(\u001B[38;5;241m*\u001B[39mloop_vars):\n\u001B[0;32m--> 488\u001B[0m   loop_vars \u001B[38;5;241m=\u001B[39m \u001B[43mbody\u001B[49m\u001B[43m(\u001B[49m\u001B[38;5;241;43m*\u001B[39;49m\u001B[43mloop_vars\u001B[49m\u001B[43m)\u001B[49m\n\u001B[1;32m    489\u001B[0m   \u001B[38;5;28;01mif\u001B[39;00m try_to_pack \u001B[38;5;129;01mand\u001B[39;00m \u001B[38;5;129;01mnot\u001B[39;00m \u001B[38;5;28misinstance\u001B[39m(loop_vars, (\u001B[38;5;28mlist\u001B[39m, \u001B[38;5;28mtuple\u001B[39m)):\n\u001B[1;32m    490\u001B[0m     packed \u001B[38;5;241m=\u001B[39m \u001B[38;5;28;01mTrue\u001B[39;00m\n",
      "File \u001B[0;32m~/Source/jkc/testbeds/jims-ml-sandbox/.venv/lib/python3.10/site-packages/tensorflow/python/ops/while_loop.py:479\u001B[0m, in \u001B[0;36mwhile_loop.<locals>.<lambda>\u001B[0;34m(i, lv)\u001B[0m\n\u001B[1;32m    476\u001B[0m     loop_vars \u001B[38;5;241m=\u001B[39m (counter, loop_vars)\n\u001B[1;32m    477\u001B[0m     cond \u001B[38;5;241m=\u001B[39m \u001B[38;5;28;01mlambda\u001B[39;00m i, lv: (  \u001B[38;5;66;03m# pylint: disable=g-long-lambda\u001B[39;00m\n\u001B[1;32m    478\u001B[0m         math_ops\u001B[38;5;241m.\u001B[39mlogical_and(i \u001B[38;5;241m<\u001B[39m maximum_iterations, orig_cond(\u001B[38;5;241m*\u001B[39mlv)))\n\u001B[0;32m--> 479\u001B[0m     body \u001B[38;5;241m=\u001B[39m \u001B[38;5;28;01mlambda\u001B[39;00m i, lv: (i \u001B[38;5;241m+\u001B[39m \u001B[38;5;241m1\u001B[39m, \u001B[43morig_body\u001B[49m\u001B[43m(\u001B[49m\u001B[38;5;241;43m*\u001B[39;49m\u001B[43mlv\u001B[49m\u001B[43m)\u001B[49m)\n\u001B[1;32m    480\u001B[0m   try_to_pack \u001B[38;5;241m=\u001B[39m \u001B[38;5;28;01mFalse\u001B[39;00m\n\u001B[1;32m    482\u001B[0m \u001B[38;5;28;01mif\u001B[39;00m executing_eagerly:\n",
      "File \u001B[0;32m~/Source/jkc/testbeds/jims-ml-sandbox/.venv/lib/python3.10/site-packages/tensorflow/python/ops/map_fn.py:492\u001B[0m, in \u001B[0;36mmap_fn.<locals>.compute\u001B[0;34m(i, tas)\u001B[0m\n\u001B[1;32m    489\u001B[0m result_value_flat \u001B[38;5;241m=\u001B[39m nest\u001B[38;5;241m.\u001B[39mflatten(result_value)\n\u001B[1;32m    490\u001B[0m result_value_batchable \u001B[38;5;241m=\u001B[39m _result_value_flat_to_batchable(\n\u001B[1;32m    491\u001B[0m     result_value_flat, result_flat_signature)\n\u001B[0;32m--> 492\u001B[0m tas \u001B[38;5;241m=\u001B[39m [\n\u001B[1;32m    493\u001B[0m     ta\u001B[38;5;241m.\u001B[39mwrite(i, value) \u001B[38;5;28;01mfor\u001B[39;00m (ta, value) \u001B[38;5;129;01min\u001B[39;00m \u001B[38;5;28mzip\u001B[39m(tas, result_value_batchable)\n\u001B[1;32m    494\u001B[0m ]\n\u001B[1;32m    495\u001B[0m \u001B[38;5;28;01mreturn\u001B[39;00m (i \u001B[38;5;241m+\u001B[39m \u001B[38;5;241m1\u001B[39m, tas)\n",
      "File \u001B[0;32m~/Source/jkc/testbeds/jims-ml-sandbox/.venv/lib/python3.10/site-packages/tensorflow/python/ops/map_fn.py:493\u001B[0m, in \u001B[0;36m<listcomp>\u001B[0;34m(.0)\u001B[0m\n\u001B[1;32m    489\u001B[0m result_value_flat \u001B[38;5;241m=\u001B[39m nest\u001B[38;5;241m.\u001B[39mflatten(result_value)\n\u001B[1;32m    490\u001B[0m result_value_batchable \u001B[38;5;241m=\u001B[39m _result_value_flat_to_batchable(\n\u001B[1;32m    491\u001B[0m     result_value_flat, result_flat_signature)\n\u001B[1;32m    492\u001B[0m tas \u001B[38;5;241m=\u001B[39m [\n\u001B[0;32m--> 493\u001B[0m     \u001B[43mta\u001B[49m\u001B[38;5;241;43m.\u001B[39;49m\u001B[43mwrite\u001B[49m\u001B[43m(\u001B[49m\u001B[43mi\u001B[49m\u001B[43m,\u001B[49m\u001B[43m \u001B[49m\u001B[43mvalue\u001B[49m\u001B[43m)\u001B[49m \u001B[38;5;28;01mfor\u001B[39;00m (ta, value) \u001B[38;5;129;01min\u001B[39;00m \u001B[38;5;28mzip\u001B[39m(tas, result_value_batchable)\n\u001B[1;32m    494\u001B[0m ]\n\u001B[1;32m    495\u001B[0m \u001B[38;5;28;01mreturn\u001B[39;00m (i \u001B[38;5;241m+\u001B[39m \u001B[38;5;241m1\u001B[39m, tas)\n",
      "File \u001B[0;32m~/Source/jkc/testbeds/jims-ml-sandbox/.venv/lib/python3.10/site-packages/tensorflow/python/util/tf_should_use.py:288\u001B[0m, in \u001B[0;36mshould_use_result.<locals>.decorated.<locals>.wrapped\u001B[0;34m(*args, **kwargs)\u001B[0m\n\u001B[1;32m    287\u001B[0m \u001B[38;5;28;01mdef\u001B[39;00m\u001B[38;5;250m \u001B[39m\u001B[38;5;21mwrapped\u001B[39m(\u001B[38;5;241m*\u001B[39margs, \u001B[38;5;241m*\u001B[39m\u001B[38;5;241m*\u001B[39mkwargs):\n\u001B[0;32m--> 288\u001B[0m   \u001B[38;5;28;01mreturn\u001B[39;00m _add_should_use_warning(\u001B[43mfn\u001B[49m\u001B[43m(\u001B[49m\u001B[38;5;241;43m*\u001B[39;49m\u001B[43margs\u001B[49m\u001B[43m,\u001B[49m\u001B[43m \u001B[49m\u001B[38;5;241;43m*\u001B[39;49m\u001B[38;5;241;43m*\u001B[39;49m\u001B[43mkwargs\u001B[49m\u001B[43m)\u001B[49m,\n\u001B[1;32m    289\u001B[0m                                  warn_in_eager\u001B[38;5;241m=\u001B[39mwarn_in_eager,\n\u001B[1;32m    290\u001B[0m                                  error_in_function\u001B[38;5;241m=\u001B[39merror_in_function)\n",
      "File \u001B[0;32m~/Source/jkc/testbeds/jims-ml-sandbox/.venv/lib/python3.10/site-packages/tensorflow/python/ops/tensor_array_ops.py:1188\u001B[0m, in \u001B[0;36mTensorArray.write\u001B[0;34m(self, index, value, name)\u001B[0m\n\u001B[1;32m   1172\u001B[0m \u001B[38;5;129m@tf_should_use\u001B[39m\u001B[38;5;241m.\u001B[39mshould_use_result(warn_in_eager\u001B[38;5;241m=\u001B[39m\u001B[38;5;28;01mTrue\u001B[39;00m)\n\u001B[1;32m   1173\u001B[0m \u001B[38;5;28;01mdef\u001B[39;00m\u001B[38;5;250m \u001B[39m\u001B[38;5;21mwrite\u001B[39m(\u001B[38;5;28mself\u001B[39m, index, value, name\u001B[38;5;241m=\u001B[39m\u001B[38;5;28;01mNone\u001B[39;00m):\n\u001B[1;32m   1174\u001B[0m \u001B[38;5;250m  \u001B[39m\u001B[38;5;124;03m\"\"\"Write `value` into index `index` of the TensorArray.\u001B[39;00m\n\u001B[1;32m   1175\u001B[0m \n\u001B[1;32m   1176\u001B[0m \u001B[38;5;124;03m  Args:\u001B[39;00m\n\u001B[0;32m   (...)\u001B[0m\n\u001B[1;32m   1186\u001B[0m \u001B[38;5;124;03m    ValueError: if there are more writers than specified.\u001B[39;00m\n\u001B[1;32m   1187\u001B[0m \u001B[38;5;124;03m  \"\"\"\u001B[39;00m\n\u001B[0;32m-> 1188\u001B[0m   \u001B[38;5;28;01mreturn\u001B[39;00m \u001B[38;5;28;43mself\u001B[39;49m\u001B[38;5;241;43m.\u001B[39;49m\u001B[43m_implementation\u001B[49m\u001B[38;5;241;43m.\u001B[39;49m\u001B[43mwrite\u001B[49m\u001B[43m(\u001B[49m\u001B[43mindex\u001B[49m\u001B[43m,\u001B[49m\u001B[43m \u001B[49m\u001B[43mvalue\u001B[49m\u001B[43m,\u001B[49m\u001B[43m \u001B[49m\u001B[43mname\u001B[49m\u001B[38;5;241;43m=\u001B[39;49m\u001B[43mname\u001B[49m\u001B[43m)\u001B[49m\n",
      "File \u001B[0;32m~/Source/jkc/testbeds/jims-ml-sandbox/.venv/lib/python3.10/site-packages/tensorflow/python/ops/tensor_array_ops.py:858\u001B[0m, in \u001B[0;36m_EagerTensorArray.write\u001B[0;34m(***failed resolving arguments***)\u001B[0m\n\u001B[1;32m    856\u001B[0m \u001B[38;5;250m\u001B[39m\u001B[38;5;124;03m\"\"\"See TensorArray.\"\"\"\u001B[39;00m\n\u001B[1;32m    857\u001B[0m \u001B[38;5;28;01mdel\u001B[39;00m name  \u001B[38;5;66;03m# not meaningful when executing eagerly.\u001B[39;00m\n\u001B[0;32m--> 858\u001B[0m \u001B[38;5;28;43mself\u001B[39;49m\u001B[38;5;241;43m.\u001B[39;49m\u001B[43m_write\u001B[49m\u001B[43m(\u001B[49m\u001B[43mindex\u001B[49m\u001B[43m,\u001B[49m\u001B[43m \u001B[49m\u001B[43mvalue\u001B[49m\u001B[43m)\u001B[49m\n\u001B[1;32m    859\u001B[0m \u001B[38;5;28;01mreturn\u001B[39;00m \u001B[38;5;28mself\u001B[39m\u001B[38;5;241m.\u001B[39mparent()\n",
      "File \u001B[0;32m~/Source/jkc/testbeds/jims-ml-sandbox/.venv/lib/python3.10/site-packages/tensorflow/python/ops/tensor_array_ops.py:841\u001B[0m, in \u001B[0;36m_EagerTensorArray._write\u001B[0;34m(self, index, value)\u001B[0m\n\u001B[1;32m    837\u001B[0m   value \u001B[38;5;241m=\u001B[39m ops\u001B[38;5;241m.\u001B[39mconvert_to_tensor(\n\u001B[1;32m    838\u001B[0m       value, preferred_dtype\u001B[38;5;241m=\u001B[39m\u001B[38;5;28mself\u001B[39m\u001B[38;5;241m.\u001B[39m_dtype, name\u001B[38;5;241m=\u001B[39m\u001B[38;5;124m\"\u001B[39m\u001B[38;5;124mvalue\u001B[39m\u001B[38;5;124m\"\u001B[39m)\n\u001B[1;32m    840\u001B[0m \u001B[38;5;28;01mif\u001B[39;00m \u001B[38;5;28mself\u001B[39m\u001B[38;5;241m.\u001B[39m_dtype \u001B[38;5;241m!=\u001B[39m value\u001B[38;5;241m.\u001B[39mdtype:\n\u001B[0;32m--> 841\u001B[0m   \u001B[38;5;28;01mraise\u001B[39;00m errors_impl\u001B[38;5;241m.\u001B[39mInvalidArgumentError(\n\u001B[1;32m    842\u001B[0m       \u001B[38;5;28;01mNone\u001B[39;00m, \u001B[38;5;28;01mNone\u001B[39;00m,\n\u001B[1;32m    843\u001B[0m       \u001B[38;5;124m\"\u001B[39m\u001B[38;5;124mTensorArray dtype is \u001B[39m\u001B[38;5;132;01m%s\u001B[39;00m\u001B[38;5;124m but Op is trying to write dtype \u001B[39m\u001B[38;5;132;01m%s\u001B[39;00m\u001B[38;5;124m \u001B[39m\u001B[38;5;124m\"\u001B[39m \u001B[38;5;241m%\u001B[39m\n\u001B[1;32m    844\u001B[0m       (\u001B[38;5;28mself\u001B[39m\u001B[38;5;241m.\u001B[39m_dtype\u001B[38;5;241m.\u001B[39mname, value\u001B[38;5;241m.\u001B[39mdtype\u001B[38;5;241m.\u001B[39mname))\n\u001B[1;32m    846\u001B[0m \u001B[38;5;28;01mif\u001B[39;00m \u001B[38;5;129;01mnot\u001B[39;00m \u001B[38;5;28mself\u001B[39m\u001B[38;5;241m.\u001B[39m_element_shape\u001B[38;5;241m.\u001B[39mis_compatible_with(value\u001B[38;5;241m.\u001B[39mshape):\n\u001B[1;32m    847\u001B[0m   \u001B[38;5;28;01mraise\u001B[39;00m \u001B[38;5;167;01mValueError\u001B[39;00m(\u001B[38;5;124m\"\u001B[39m\u001B[38;5;124mIncompatible shape for value (\u001B[39m\u001B[38;5;132;01m%s\u001B[39;00m\u001B[38;5;124m), expected (\u001B[39m\u001B[38;5;132;01m%s\u001B[39;00m\u001B[38;5;124m)\u001B[39m\u001B[38;5;124m\"\u001B[39m \u001B[38;5;241m%\u001B[39m\n\u001B[1;32m    848\u001B[0m                    (value\u001B[38;5;241m.\u001B[39mshape, \u001B[38;5;28mself\u001B[39m\u001B[38;5;241m.\u001B[39m_element_shape))\n",
      "\u001B[0;31mInvalidArgumentError\u001B[0m: TensorArray dtype is int32 but Op is trying to write dtype string "
     ]
    }
   ],
   "execution_count": 5
  },
  {
   "metadata": {},
   "cell_type": "code",
   "outputs": [],
   "execution_count": null,
   "source": "",
   "id": "92e52311121b857a"
  },
  {
   "metadata": {},
   "cell_type": "markdown",
   "source": [
    "----\n",
    "# ML Engine #2: OpenAI\n",
    "OpenAI requires a paid API key. Set the key in an os environment variable, e.g.:\n",
    "\n",
    "`export OPENAI_API_KEY=sk-proj-12fKGWJW ...`"
   ],
   "id": "6cff362e1aa44a25"
  },
  {
   "metadata": {},
   "cell_type": "markdown",
   "source": "A \"hello world\", OpenAI API-based _Chat Completion_:",
   "id": "e9a4ac56a73460c1"
  },
  {
   "metadata": {
    "ExecuteTime": {
     "end_time": "2025-02-10T20:40:20.606732Z",
     "start_time": "2025-02-10T20:40:19.131283Z"
    }
   },
   "cell_type": "code",
   "source": [
    "from openai import OpenAI\n",
    "client = OpenAI()\n",
    "\n",
    "completion = client.chat.completions.create(\n",
    "    model=\"gpt-4o-mini\",\n",
    "    messages=[\n",
    "        {\"role\": \"system\", \"content\": \"You are a helpful assistant.\"},\n",
    "        {\n",
    "            \"role\": \"user\",\n",
    "            # \"content\": \"Write a haiku about recursion in programming.\"\n",
    "            \"content\": \"Hello, OpenAI.\"\n",
    "        }\n",
    "    ]\n",
    ")\n",
    "\n",
    "print(completion.choices[0].message)"
   ],
   "id": "4bcfc1d037d207a8",
   "outputs": [
    {
     "name": "stdout",
     "output_type": "stream",
     "text": [
      "ChatCompletionMessage(content='Hello! How can I assist you today?', refusal=None, role='assistant', audio=None, function_call=None, tool_calls=None)\n"
     ]
    }
   ],
   "execution_count": 4
  },
  {
   "metadata": {},
   "cell_type": "markdown",
   "source": "",
   "id": "9c6e7b2dc9d3b8ed"
  }
 ],
 "metadata": {
  "kernelspec": {
   "display_name": "Python 3",
   "language": "python",
   "name": "python3"
  },
  "language_info": {
   "codemirror_mode": {
    "name": "ipython",
    "version": 2
   },
   "file_extension": ".py",
   "mimetype": "text/x-python",
   "name": "python",
   "nbconvert_exporter": "python",
   "pygments_lexer": "ipython2",
   "version": "2.7.6"
  }
 },
 "nbformat": 4,
 "nbformat_minor": 5
}
