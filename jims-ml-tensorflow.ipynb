{
 "cells": [
  {
   "metadata": {},
   "cell_type": "markdown",
   "source": [
    "# Jim's Machine Learning Testbed\n",
    "\n",
    "\n",
    "\n",
    "## Jupyter Notes\n",
    "Put your cursor into the cell and press Shift+Enter to execute it and select the next one, or click 'Run Cell' button.\n",
    "\n",
    "Press Double Shift to search everywhere for classes, files, tool windows, actions, and settings.\n",
    "\n",
    "To learn more about Jupyter Notebooks in PyCharm, see [help](https://www.jetbrains.com/help/pycharm/ipython-notebook-support.html).\n",
    "For an overview of PyCharm, go to Help -> Learn IDE features or refer to [our documentation](https://www.jetbrains.com/help/pycharm/getting-started.html).\n",
    "\n",
    "# Basic Python interpreter check"
   ],
   "id": "8a77807f92f26ee"
  },
  {
   "metadata": {},
   "cell_type": "code",
   "source": [
    "# Does anything work\n",
    "print(\"Hello World!\")\n",
    "\n",
    "# An IPython (Jupyter) thing\n",
    "%env\n",
    "\n"
   ],
   "id": "a78c74d9e1b071be",
   "outputs": [],
   "execution_count": null
  },
  {
   "metadata": {},
   "cell_type": "markdown",
   "source": "Use a core Python package, numpy:",
   "id": "6c019e655ca9a5f5"
  },
  {
   "metadata": {},
   "cell_type": "code",
   "source": [
    "import numpy as np\n",
    "np.add(1,2)"
   ],
   "id": "6155a5763b81ec36",
   "outputs": [],
   "execution_count": null
  },
  {
   "metadata": {},
   "cell_type": "markdown",
   "source": [
    "---\n",
    "# ML Engine #1: Google `TensorFlow`\n",
    "\n",
    "A sanity check call to `tensorflow` to make sure it finds and loads the library. NOTE: this does not do any tensor processing:"
   ],
   "id": "2a9bc4e2ec05f5db"
  },
  {
   "metadata": {},
   "cell_type": "code",
   "source": [
    "import tensorflow as tf\n",
    "tf.add(1, 5).numpy()"
   ],
   "id": "3814a818a6d07176",
   "outputs": [],
   "execution_count": null
  },
  {
   "metadata": {},
   "cell_type": "markdown",
   "source": "A snippet of f",
   "id": "93e18483ba545c06"
  },
  {
   "metadata": {},
   "cell_type": "code",
   "source": [
    "hello = tf.constant('Hello, TensorFlow!')\n",
    "hello.numpy()"
   ],
   "id": "467d313d147204",
   "outputs": [],
   "execution_count": null
  },
  {
   "metadata": {},
   "cell_type": "markdown",
   "source": "Now we load a dataset from the convenient tensorflow_datasets python package.",
   "id": "3d85093ca3d9c35d"
  },
  {
   "metadata": {},
   "cell_type": "code",
   "source": [
    "# Load from tensorflow_dataset\n",
    "# Import directly because it's in the same directory\n",
    "from pylib.datasets import greet\n",
    "\n",
    "# Use the function\n",
    "print(greet(\"DataSpell User\"))\n"
   ],
   "id": "33d3dd51918dda5e",
   "outputs": [],
   "execution_count": null
  },
  {
   "metadata": {},
   "cell_type": "markdown",
   "source": [
    "# Test Problem 1:\n",
    "## Create our own dataset: Customer product purchase predictor\n"
   ],
   "id": "feb872c71746bc52"
  },
  {
   "metadata": {},
   "cell_type": "code",
   "source": "",
   "id": "50567b0fda428689",
   "outputs": [],
   "execution_count": null
  },
  {
   "metadata": {
    "ExecuteTime": {
     "end_time": "2025-02-11T22:36:27.702254Z",
     "start_time": "2025-02-11T22:36:27.610799Z"
    }
   },
   "cell_type": "code",
   "source": [
    "\n",
    "from pylib import datasets as ds\n",
    "\n",
    "#\n",
    "# Sample synthetic data\n",
    "#\n",
    "ds.build_ds_programmatic()\n"
   ],
   "id": "b6e724cbdcc38453",
   "outputs": [
    {
     "ename": "InvalidArgumentError",
     "evalue": "TensorArray dtype is int32 but Op is trying to write dtype string ",
     "output_type": "error",
     "traceback": [
      "\u001B[0;31m---------------------------------------------------------------------------\u001B[0m",
      "\u001B[0;31mInvalidArgumentError\u001B[0m                      Traceback (most recent call last)",
      "Cell \u001B[0;32mIn[11], line 6\u001B[0m\n\u001B[1;32m      1\u001B[0m \u001B[38;5;28;01mfrom\u001B[39;00m\u001B[38;5;250m \u001B[39m\u001B[38;5;21;01mpylib\u001B[39;00m\u001B[38;5;250m \u001B[39m\u001B[38;5;28;01mimport\u001B[39;00m datasets \u001B[38;5;28;01mas\u001B[39;00m ds\n\u001B[1;32m      3\u001B[0m \u001B[38;5;66;03m#\u001B[39;00m\n\u001B[1;32m      4\u001B[0m \u001B[38;5;66;03m# Sample synthetic data\u001B[39;00m\n\u001B[1;32m      5\u001B[0m \u001B[38;5;66;03m#\u001B[39;00m\n\u001B[0;32m----> 6\u001B[0m \u001B[43mds\u001B[49m\u001B[38;5;241;43m.\u001B[39;49m\u001B[43mbuild_ds_programmatic\u001B[49m\u001B[43m(\u001B[49m\u001B[43m)\u001B[49m\n",
      "File \u001B[0;32m~/Source/jkc/testbeds/jims-ml-sandbox/pylib/datasets.py:15\u001B[0m, in \u001B[0;36mbuild_ds_programmatic\u001B[0;34m()\u001B[0m\n\u001B[1;32m     13\u001B[0m \u001B[38;5;66;03m# Generate random purchase data\u001B[39;00m\n\u001B[1;32m     14\u001B[0m purchases \u001B[38;5;241m=\u001B[39m tf\u001B[38;5;241m.\u001B[39mrandom\u001B[38;5;241m.\u001B[39muniform((\u001B[38;5;241m100\u001B[39m, \u001B[38;5;241m10\u001B[39m), minval\u001B[38;5;241m=\u001B[39m\u001B[38;5;241m0\u001B[39m, maxval\u001B[38;5;241m=\u001B[39m\u001B[38;5;241m50\u001B[39m, dtype\u001B[38;5;241m=\u001B[39mtf\u001B[38;5;241m.\u001B[39mint32)\n\u001B[0;32m---> 15\u001B[0m purchases \u001B[38;5;241m=\u001B[39m \u001B[43mtf\u001B[49m\u001B[38;5;241;43m.\u001B[39;49m\u001B[43mmap_fn\u001B[49m\u001B[43m(\u001B[49m\u001B[38;5;28;43;01mlambda\u001B[39;49;00m\u001B[43m \u001B[49m\u001B[43mrow\u001B[49m\u001B[43m:\u001B[49m\u001B[43m \u001B[49m\u001B[43mtf\u001B[49m\u001B[38;5;241;43m.\u001B[39;49m\u001B[43mgather\u001B[49m\u001B[43m(\u001B[49m\u001B[43mproducts\u001B[49m\u001B[43m,\u001B[49m\u001B[43m \u001B[49m\u001B[43mrow\u001B[49m\u001B[43m)\u001B[49m\u001B[43m,\u001B[49m\u001B[43m \u001B[49m\u001B[43mpurchases\u001B[49m\u001B[43m)\u001B[49m\n\u001B[1;32m     16\u001B[0m \u001B[38;5;66;03m# Create dataset of (user, purchases) for training\u001B[39;00m\n\u001B[1;32m     17\u001B[0m dataset \u001B[38;5;241m=\u001B[39m tf\u001B[38;5;241m.\u001B[39mdata\u001B[38;5;241m.\u001B[39mDataset\u001B[38;5;241m.\u001B[39mfrom_tensor_slices((users, purchases))\n",
      "File \u001B[0;32m~/Source/jkc/testbeds/jims-ml-sandbox/.venv/lib/python3.10/site-packages/tensorflow/python/util/deprecation.py:660\u001B[0m, in \u001B[0;36mdeprecated_arg_values.<locals>.deprecated_wrapper.<locals>.new_func\u001B[0;34m(*args, **kwargs)\u001B[0m\n\u001B[1;32m    652\u001B[0m           _PRINTED_WARNING[(func, arg_name)] \u001B[38;5;241m=\u001B[39m \u001B[38;5;28;01mTrue\u001B[39;00m\n\u001B[1;32m    653\u001B[0m         _log_deprecation(\n\u001B[1;32m    654\u001B[0m             \u001B[38;5;124m'\u001B[39m\u001B[38;5;124mFrom \u001B[39m\u001B[38;5;132;01m%s\u001B[39;00m\u001B[38;5;124m: calling \u001B[39m\u001B[38;5;132;01m%s\u001B[39;00m\u001B[38;5;124m (from \u001B[39m\u001B[38;5;132;01m%s\u001B[39;00m\u001B[38;5;124m) with \u001B[39m\u001B[38;5;132;01m%s\u001B[39;00m\u001B[38;5;124m=\u001B[39m\u001B[38;5;132;01m%s\u001B[39;00m\u001B[38;5;124m is deprecated and \u001B[39m\u001B[38;5;124m'\u001B[39m\n\u001B[1;32m    655\u001B[0m             \u001B[38;5;124m'\u001B[39m\u001B[38;5;124mwill be removed \u001B[39m\u001B[38;5;132;01m%s\u001B[39;00m\u001B[38;5;124m.\u001B[39m\u001B[38;5;130;01m\\n\u001B[39;00m\u001B[38;5;124mInstructions for updating:\u001B[39m\u001B[38;5;130;01m\\n\u001B[39;00m\u001B[38;5;132;01m%s\u001B[39;00m\u001B[38;5;124m'\u001B[39m,\n\u001B[0;32m   (...)\u001B[0m\n\u001B[1;32m    658\u001B[0m             \u001B[38;5;124m'\u001B[39m\u001B[38;5;124min a future version\u001B[39m\u001B[38;5;124m'\u001B[39m \u001B[38;5;28;01mif\u001B[39;00m date \u001B[38;5;129;01mis\u001B[39;00m \u001B[38;5;28;01mNone\u001B[39;00m \u001B[38;5;28;01melse\u001B[39;00m\n\u001B[1;32m    659\u001B[0m             (\u001B[38;5;124m'\u001B[39m\u001B[38;5;124mafter \u001B[39m\u001B[38;5;132;01m%s\u001B[39;00m\u001B[38;5;124m'\u001B[39m \u001B[38;5;241m%\u001B[39m date), instructions)\n\u001B[0;32m--> 660\u001B[0m \u001B[38;5;28;01mreturn\u001B[39;00m \u001B[43mfunc\u001B[49m\u001B[43m(\u001B[49m\u001B[38;5;241;43m*\u001B[39;49m\u001B[43margs\u001B[49m\u001B[43m,\u001B[49m\u001B[43m \u001B[49m\u001B[38;5;241;43m*\u001B[39;49m\u001B[38;5;241;43m*\u001B[39;49m\u001B[43mkwargs\u001B[49m\u001B[43m)\u001B[49m\n",
      "File \u001B[0;32m~/Source/jkc/testbeds/jims-ml-sandbox/.venv/lib/python3.10/site-packages/tensorflow/python/util/deprecation.py:588\u001B[0m, in \u001B[0;36mdeprecated_args.<locals>.deprecated_wrapper.<locals>.new_func\u001B[0;34m(*args, **kwargs)\u001B[0m\n\u001B[1;32m    580\u001B[0m         _PRINTED_WARNING[(func, arg_name)] \u001B[38;5;241m=\u001B[39m \u001B[38;5;28;01mTrue\u001B[39;00m\n\u001B[1;32m    581\u001B[0m       _log_deprecation(\n\u001B[1;32m    582\u001B[0m           \u001B[38;5;124m'\u001B[39m\u001B[38;5;124mFrom \u001B[39m\u001B[38;5;132;01m%s\u001B[39;00m\u001B[38;5;124m: calling \u001B[39m\u001B[38;5;132;01m%s\u001B[39;00m\u001B[38;5;124m (from \u001B[39m\u001B[38;5;132;01m%s\u001B[39;00m\u001B[38;5;124m) with \u001B[39m\u001B[38;5;132;01m%s\u001B[39;00m\u001B[38;5;124m is deprecated and will \u001B[39m\u001B[38;5;124m'\u001B[39m\n\u001B[1;32m    583\u001B[0m           \u001B[38;5;124m'\u001B[39m\u001B[38;5;124mbe removed \u001B[39m\u001B[38;5;132;01m%s\u001B[39;00m\u001B[38;5;124m.\u001B[39m\u001B[38;5;130;01m\\n\u001B[39;00m\u001B[38;5;124mInstructions for updating:\u001B[39m\u001B[38;5;130;01m\\n\u001B[39;00m\u001B[38;5;132;01m%s\u001B[39;00m\u001B[38;5;124m'\u001B[39m,\n\u001B[0;32m   (...)\u001B[0m\n\u001B[1;32m    586\u001B[0m           \u001B[38;5;124m'\u001B[39m\u001B[38;5;124min a future version\u001B[39m\u001B[38;5;124m'\u001B[39m \u001B[38;5;28;01mif\u001B[39;00m date \u001B[38;5;129;01mis\u001B[39;00m \u001B[38;5;28;01mNone\u001B[39;00m \u001B[38;5;28;01melse\u001B[39;00m (\u001B[38;5;124m'\u001B[39m\u001B[38;5;124mafter \u001B[39m\u001B[38;5;132;01m%s\u001B[39;00m\u001B[38;5;124m'\u001B[39m \u001B[38;5;241m%\u001B[39m date),\n\u001B[1;32m    587\u001B[0m           instructions)\n\u001B[0;32m--> 588\u001B[0m \u001B[38;5;28;01mreturn\u001B[39;00m \u001B[43mfunc\u001B[49m\u001B[43m(\u001B[49m\u001B[38;5;241;43m*\u001B[39;49m\u001B[43margs\u001B[49m\u001B[43m,\u001B[49m\u001B[43m \u001B[49m\u001B[38;5;241;43m*\u001B[39;49m\u001B[38;5;241;43m*\u001B[39;49m\u001B[43mkwargs\u001B[49m\u001B[43m)\u001B[49m\n",
      "File \u001B[0;32m~/Source/jkc/testbeds/jims-ml-sandbox/.venv/lib/python3.10/site-packages/tensorflow/python/ops/map_fn.py:637\u001B[0m, in \u001B[0;36mmap_fn_v2\u001B[0;34m(fn, elems, dtype, parallel_iterations, back_prop, swap_memory, infer_shape, name, fn_output_signature)\u001B[0m\n\u001B[1;32m    635\u001B[0m \u001B[38;5;28;01mif\u001B[39;00m fn_output_signature \u001B[38;5;129;01mis\u001B[39;00m \u001B[38;5;28;01mNone\u001B[39;00m:\n\u001B[1;32m    636\u001B[0m   fn_output_signature \u001B[38;5;241m=\u001B[39m dtype\n\u001B[0;32m--> 637\u001B[0m \u001B[38;5;28;01mreturn\u001B[39;00m \u001B[43mmap_fn\u001B[49m\u001B[43m(\u001B[49m\n\u001B[1;32m    638\u001B[0m \u001B[43m    \u001B[49m\u001B[43mfn\u001B[49m\u001B[38;5;241;43m=\u001B[39;49m\u001B[43mfn\u001B[49m\u001B[43m,\u001B[49m\n\u001B[1;32m    639\u001B[0m \u001B[43m    \u001B[49m\u001B[43melems\u001B[49m\u001B[38;5;241;43m=\u001B[39;49m\u001B[43melems\u001B[49m\u001B[43m,\u001B[49m\n\u001B[1;32m    640\u001B[0m \u001B[43m    \u001B[49m\u001B[43mfn_output_signature\u001B[49m\u001B[38;5;241;43m=\u001B[39;49m\u001B[43mfn_output_signature\u001B[49m\u001B[43m,\u001B[49m\n\u001B[1;32m    641\u001B[0m \u001B[43m    \u001B[49m\u001B[43mparallel_iterations\u001B[49m\u001B[38;5;241;43m=\u001B[39;49m\u001B[43mparallel_iterations\u001B[49m\u001B[43m,\u001B[49m\n\u001B[1;32m    642\u001B[0m \u001B[43m    \u001B[49m\u001B[43mback_prop\u001B[49m\u001B[38;5;241;43m=\u001B[39;49m\u001B[43mback_prop\u001B[49m\u001B[43m,\u001B[49m\n\u001B[1;32m    643\u001B[0m \u001B[43m    \u001B[49m\u001B[43mswap_memory\u001B[49m\u001B[38;5;241;43m=\u001B[39;49m\u001B[43mswap_memory\u001B[49m\u001B[43m,\u001B[49m\n\u001B[1;32m    644\u001B[0m \u001B[43m    \u001B[49m\u001B[43minfer_shape\u001B[49m\u001B[38;5;241;43m=\u001B[39;49m\u001B[43minfer_shape\u001B[49m\u001B[43m,\u001B[49m\n\u001B[1;32m    645\u001B[0m \u001B[43m    \u001B[49m\u001B[43mname\u001B[49m\u001B[38;5;241;43m=\u001B[39;49m\u001B[43mname\u001B[49m\u001B[43m)\u001B[49m\n",
      "File \u001B[0;32m~/Source/jkc/testbeds/jims-ml-sandbox/.venv/lib/python3.10/site-packages/tensorflow/python/util/deprecation.py:588\u001B[0m, in \u001B[0;36mdeprecated_args.<locals>.deprecated_wrapper.<locals>.new_func\u001B[0;34m(*args, **kwargs)\u001B[0m\n\u001B[1;32m    580\u001B[0m         _PRINTED_WARNING[(func, arg_name)] \u001B[38;5;241m=\u001B[39m \u001B[38;5;28;01mTrue\u001B[39;00m\n\u001B[1;32m    581\u001B[0m       _log_deprecation(\n\u001B[1;32m    582\u001B[0m           \u001B[38;5;124m'\u001B[39m\u001B[38;5;124mFrom \u001B[39m\u001B[38;5;132;01m%s\u001B[39;00m\u001B[38;5;124m: calling \u001B[39m\u001B[38;5;132;01m%s\u001B[39;00m\u001B[38;5;124m (from \u001B[39m\u001B[38;5;132;01m%s\u001B[39;00m\u001B[38;5;124m) with \u001B[39m\u001B[38;5;132;01m%s\u001B[39;00m\u001B[38;5;124m is deprecated and will \u001B[39m\u001B[38;5;124m'\u001B[39m\n\u001B[1;32m    583\u001B[0m           \u001B[38;5;124m'\u001B[39m\u001B[38;5;124mbe removed \u001B[39m\u001B[38;5;132;01m%s\u001B[39;00m\u001B[38;5;124m.\u001B[39m\u001B[38;5;130;01m\\n\u001B[39;00m\u001B[38;5;124mInstructions for updating:\u001B[39m\u001B[38;5;130;01m\\n\u001B[39;00m\u001B[38;5;132;01m%s\u001B[39;00m\u001B[38;5;124m'\u001B[39m,\n\u001B[0;32m   (...)\u001B[0m\n\u001B[1;32m    586\u001B[0m           \u001B[38;5;124m'\u001B[39m\u001B[38;5;124min a future version\u001B[39m\u001B[38;5;124m'\u001B[39m \u001B[38;5;28;01mif\u001B[39;00m date \u001B[38;5;129;01mis\u001B[39;00m \u001B[38;5;28;01mNone\u001B[39;00m \u001B[38;5;28;01melse\u001B[39;00m (\u001B[38;5;124m'\u001B[39m\u001B[38;5;124mafter \u001B[39m\u001B[38;5;132;01m%s\u001B[39;00m\u001B[38;5;124m'\u001B[39m \u001B[38;5;241m%\u001B[39m date),\n\u001B[1;32m    587\u001B[0m           instructions)\n\u001B[0;32m--> 588\u001B[0m \u001B[38;5;28;01mreturn\u001B[39;00m \u001B[43mfunc\u001B[49m\u001B[43m(\u001B[49m\u001B[38;5;241;43m*\u001B[39;49m\u001B[43margs\u001B[49m\u001B[43m,\u001B[49m\u001B[43m \u001B[49m\u001B[38;5;241;43m*\u001B[39;49m\u001B[38;5;241;43m*\u001B[39;49m\u001B[43mkwargs\u001B[49m\u001B[43m)\u001B[49m\n",
      "File \u001B[0;32m~/Source/jkc/testbeds/jims-ml-sandbox/.venv/lib/python3.10/site-packages/tensorflow/python/ops/map_fn.py:497\u001B[0m, in \u001B[0;36mmap_fn\u001B[0;34m(fn, elems, dtype, parallel_iterations, back_prop, swap_memory, infer_shape, name, fn_output_signature)\u001B[0m\n\u001B[1;32m    492\u001B[0m   tas \u001B[38;5;241m=\u001B[39m [\n\u001B[1;32m    493\u001B[0m       ta\u001B[38;5;241m.\u001B[39mwrite(i, value) \u001B[38;5;28;01mfor\u001B[39;00m (ta, value) \u001B[38;5;129;01min\u001B[39;00m \u001B[38;5;28mzip\u001B[39m(tas, result_value_batchable)\n\u001B[1;32m    494\u001B[0m   ]\n\u001B[1;32m    495\u001B[0m   \u001B[38;5;28;01mreturn\u001B[39;00m (i \u001B[38;5;241m+\u001B[39m \u001B[38;5;241m1\u001B[39m, tas)\n\u001B[0;32m--> 497\u001B[0m _, r_a \u001B[38;5;241m=\u001B[39m \u001B[43mwhile_loop\u001B[49m\u001B[38;5;241;43m.\u001B[39;49m\u001B[43mwhile_loop\u001B[49m\u001B[43m(\u001B[49m\n\u001B[1;32m    498\u001B[0m \u001B[43m    \u001B[49m\u001B[38;5;28;43;01mlambda\u001B[39;49;00m\u001B[43m \u001B[49m\u001B[43mi\u001B[49m\u001B[43m,\u001B[49m\u001B[43m \u001B[49m\u001B[43m_\u001B[49m\u001B[43m:\u001B[49m\u001B[43m \u001B[49m\u001B[43mi\u001B[49m\u001B[43m \u001B[49m\u001B[38;5;241;43m<\u001B[39;49m\u001B[43m \u001B[49m\u001B[43mn\u001B[49m\u001B[43m,\u001B[49m\n\u001B[1;32m    499\u001B[0m \u001B[43m    \u001B[49m\u001B[43mcompute\u001B[49m\u001B[43m,\u001B[49m\u001B[43m \u001B[49m\u001B[43m(\u001B[49m\u001B[43mi\u001B[49m\u001B[43m,\u001B[49m\u001B[43m \u001B[49m\u001B[43mresult_batchable_ta\u001B[49m\u001B[43m)\u001B[49m\u001B[43m,\u001B[49m\n\u001B[1;32m    500\u001B[0m \u001B[43m    \u001B[49m\u001B[43mparallel_iterations\u001B[49m\u001B[38;5;241;43m=\u001B[39;49m\u001B[43mparallel_iterations\u001B[49m\u001B[43m,\u001B[49m\n\u001B[1;32m    501\u001B[0m \u001B[43m    \u001B[49m\u001B[43mback_prop\u001B[49m\u001B[38;5;241;43m=\u001B[39;49m\u001B[43mback_prop\u001B[49m\u001B[43m,\u001B[49m\n\u001B[1;32m    502\u001B[0m \u001B[43m    \u001B[49m\u001B[43mswap_memory\u001B[49m\u001B[38;5;241;43m=\u001B[39;49m\u001B[43mswap_memory\u001B[49m\u001B[43m,\u001B[49m\n\u001B[1;32m    503\u001B[0m \u001B[43m    \u001B[49m\u001B[43mmaximum_iterations\u001B[49m\u001B[38;5;241;43m=\u001B[39;49m\u001B[43mn\u001B[49m\u001B[43m)\u001B[49m\n\u001B[1;32m    504\u001B[0m result_batchable \u001B[38;5;241m=\u001B[39m [r\u001B[38;5;241m.\u001B[39mstack() \u001B[38;5;28;01mfor\u001B[39;00m r \u001B[38;5;129;01min\u001B[39;00m r_a]\n\u001B[1;32m    506\u001B[0m \u001B[38;5;66;03m# Update each output tensor w/ static shape info about the outer dimension.\u001B[39;00m\n",
      "File \u001B[0;32m~/Source/jkc/testbeds/jims-ml-sandbox/.venv/lib/python3.10/site-packages/tensorflow/python/ops/while_loop.py:488\u001B[0m, in \u001B[0;36mwhile_loop\u001B[0;34m(cond, body, loop_vars, shape_invariants, parallel_iterations, back_prop, swap_memory, name, maximum_iterations, return_same_structure)\u001B[0m\n\u001B[1;32m    485\u001B[0m loop_var_structure \u001B[38;5;241m=\u001B[39m nest\u001B[38;5;241m.\u001B[39mmap_structure(type_spec\u001B[38;5;241m.\u001B[39mtype_spec_from_value,\n\u001B[1;32m    486\u001B[0m                                         \u001B[38;5;28mlist\u001B[39m(loop_vars))\n\u001B[1;32m    487\u001B[0m \u001B[38;5;28;01mwhile\u001B[39;00m cond(\u001B[38;5;241m*\u001B[39mloop_vars):\n\u001B[0;32m--> 488\u001B[0m   loop_vars \u001B[38;5;241m=\u001B[39m \u001B[43mbody\u001B[49m\u001B[43m(\u001B[49m\u001B[38;5;241;43m*\u001B[39;49m\u001B[43mloop_vars\u001B[49m\u001B[43m)\u001B[49m\n\u001B[1;32m    489\u001B[0m   \u001B[38;5;28;01mif\u001B[39;00m try_to_pack \u001B[38;5;129;01mand\u001B[39;00m \u001B[38;5;129;01mnot\u001B[39;00m \u001B[38;5;28misinstance\u001B[39m(loop_vars, (\u001B[38;5;28mlist\u001B[39m, \u001B[38;5;28mtuple\u001B[39m)):\n\u001B[1;32m    490\u001B[0m     packed \u001B[38;5;241m=\u001B[39m \u001B[38;5;28;01mTrue\u001B[39;00m\n",
      "File \u001B[0;32m~/Source/jkc/testbeds/jims-ml-sandbox/.venv/lib/python3.10/site-packages/tensorflow/python/ops/while_loop.py:479\u001B[0m, in \u001B[0;36mwhile_loop.<locals>.<lambda>\u001B[0;34m(i, lv)\u001B[0m\n\u001B[1;32m    476\u001B[0m     loop_vars \u001B[38;5;241m=\u001B[39m (counter, loop_vars)\n\u001B[1;32m    477\u001B[0m     cond \u001B[38;5;241m=\u001B[39m \u001B[38;5;28;01mlambda\u001B[39;00m i, lv: (  \u001B[38;5;66;03m# pylint: disable=g-long-lambda\u001B[39;00m\n\u001B[1;32m    478\u001B[0m         math_ops\u001B[38;5;241m.\u001B[39mlogical_and(i \u001B[38;5;241m<\u001B[39m maximum_iterations, orig_cond(\u001B[38;5;241m*\u001B[39mlv)))\n\u001B[0;32m--> 479\u001B[0m     body \u001B[38;5;241m=\u001B[39m \u001B[38;5;28;01mlambda\u001B[39;00m i, lv: (i \u001B[38;5;241m+\u001B[39m \u001B[38;5;241m1\u001B[39m, \u001B[43morig_body\u001B[49m\u001B[43m(\u001B[49m\u001B[38;5;241;43m*\u001B[39;49m\u001B[43mlv\u001B[49m\u001B[43m)\u001B[49m)\n\u001B[1;32m    480\u001B[0m   try_to_pack \u001B[38;5;241m=\u001B[39m \u001B[38;5;28;01mFalse\u001B[39;00m\n\u001B[1;32m    482\u001B[0m \u001B[38;5;28;01mif\u001B[39;00m executing_eagerly:\n",
      "File \u001B[0;32m~/Source/jkc/testbeds/jims-ml-sandbox/.venv/lib/python3.10/site-packages/tensorflow/python/ops/map_fn.py:492\u001B[0m, in \u001B[0;36mmap_fn.<locals>.compute\u001B[0;34m(i, tas)\u001B[0m\n\u001B[1;32m    489\u001B[0m result_value_flat \u001B[38;5;241m=\u001B[39m nest\u001B[38;5;241m.\u001B[39mflatten(result_value)\n\u001B[1;32m    490\u001B[0m result_value_batchable \u001B[38;5;241m=\u001B[39m _result_value_flat_to_batchable(\n\u001B[1;32m    491\u001B[0m     result_value_flat, result_flat_signature)\n\u001B[0;32m--> 492\u001B[0m tas \u001B[38;5;241m=\u001B[39m [\n\u001B[1;32m    493\u001B[0m     ta\u001B[38;5;241m.\u001B[39mwrite(i, value) \u001B[38;5;28;01mfor\u001B[39;00m (ta, value) \u001B[38;5;129;01min\u001B[39;00m \u001B[38;5;28mzip\u001B[39m(tas, result_value_batchable)\n\u001B[1;32m    494\u001B[0m ]\n\u001B[1;32m    495\u001B[0m \u001B[38;5;28;01mreturn\u001B[39;00m (i \u001B[38;5;241m+\u001B[39m \u001B[38;5;241m1\u001B[39m, tas)\n",
      "File \u001B[0;32m~/Source/jkc/testbeds/jims-ml-sandbox/.venv/lib/python3.10/site-packages/tensorflow/python/ops/map_fn.py:493\u001B[0m, in \u001B[0;36m<listcomp>\u001B[0;34m(.0)\u001B[0m\n\u001B[1;32m    489\u001B[0m result_value_flat \u001B[38;5;241m=\u001B[39m nest\u001B[38;5;241m.\u001B[39mflatten(result_value)\n\u001B[1;32m    490\u001B[0m result_value_batchable \u001B[38;5;241m=\u001B[39m _result_value_flat_to_batchable(\n\u001B[1;32m    491\u001B[0m     result_value_flat, result_flat_signature)\n\u001B[1;32m    492\u001B[0m tas \u001B[38;5;241m=\u001B[39m [\n\u001B[0;32m--> 493\u001B[0m     \u001B[43mta\u001B[49m\u001B[38;5;241;43m.\u001B[39;49m\u001B[43mwrite\u001B[49m\u001B[43m(\u001B[49m\u001B[43mi\u001B[49m\u001B[43m,\u001B[49m\u001B[43m \u001B[49m\u001B[43mvalue\u001B[49m\u001B[43m)\u001B[49m \u001B[38;5;28;01mfor\u001B[39;00m (ta, value) \u001B[38;5;129;01min\u001B[39;00m \u001B[38;5;28mzip\u001B[39m(tas, result_value_batchable)\n\u001B[1;32m    494\u001B[0m ]\n\u001B[1;32m    495\u001B[0m \u001B[38;5;28;01mreturn\u001B[39;00m (i \u001B[38;5;241m+\u001B[39m \u001B[38;5;241m1\u001B[39m, tas)\n",
      "File \u001B[0;32m~/Source/jkc/testbeds/jims-ml-sandbox/.venv/lib/python3.10/site-packages/tensorflow/python/util/tf_should_use.py:288\u001B[0m, in \u001B[0;36mshould_use_result.<locals>.decorated.<locals>.wrapped\u001B[0;34m(*args, **kwargs)\u001B[0m\n\u001B[1;32m    287\u001B[0m \u001B[38;5;28;01mdef\u001B[39;00m\u001B[38;5;250m \u001B[39m\u001B[38;5;21mwrapped\u001B[39m(\u001B[38;5;241m*\u001B[39margs, \u001B[38;5;241m*\u001B[39m\u001B[38;5;241m*\u001B[39mkwargs):\n\u001B[0;32m--> 288\u001B[0m   \u001B[38;5;28;01mreturn\u001B[39;00m _add_should_use_warning(\u001B[43mfn\u001B[49m\u001B[43m(\u001B[49m\u001B[38;5;241;43m*\u001B[39;49m\u001B[43margs\u001B[49m\u001B[43m,\u001B[49m\u001B[43m \u001B[49m\u001B[38;5;241;43m*\u001B[39;49m\u001B[38;5;241;43m*\u001B[39;49m\u001B[43mkwargs\u001B[49m\u001B[43m)\u001B[49m,\n\u001B[1;32m    289\u001B[0m                                  warn_in_eager\u001B[38;5;241m=\u001B[39mwarn_in_eager,\n\u001B[1;32m    290\u001B[0m                                  error_in_function\u001B[38;5;241m=\u001B[39merror_in_function)\n",
      "File \u001B[0;32m~/Source/jkc/testbeds/jims-ml-sandbox/.venv/lib/python3.10/site-packages/tensorflow/python/ops/tensor_array_ops.py:1188\u001B[0m, in \u001B[0;36mTensorArray.write\u001B[0;34m(self, index, value, name)\u001B[0m\n\u001B[1;32m   1172\u001B[0m \u001B[38;5;129m@tf_should_use\u001B[39m\u001B[38;5;241m.\u001B[39mshould_use_result(warn_in_eager\u001B[38;5;241m=\u001B[39m\u001B[38;5;28;01mTrue\u001B[39;00m)\n\u001B[1;32m   1173\u001B[0m \u001B[38;5;28;01mdef\u001B[39;00m\u001B[38;5;250m \u001B[39m\u001B[38;5;21mwrite\u001B[39m(\u001B[38;5;28mself\u001B[39m, index, value, name\u001B[38;5;241m=\u001B[39m\u001B[38;5;28;01mNone\u001B[39;00m):\n\u001B[1;32m   1174\u001B[0m \u001B[38;5;250m  \u001B[39m\u001B[38;5;124;03m\"\"\"Write `value` into index `index` of the TensorArray.\u001B[39;00m\n\u001B[1;32m   1175\u001B[0m \n\u001B[1;32m   1176\u001B[0m \u001B[38;5;124;03m  Args:\u001B[39;00m\n\u001B[0;32m   (...)\u001B[0m\n\u001B[1;32m   1186\u001B[0m \u001B[38;5;124;03m    ValueError: if there are more writers than specified.\u001B[39;00m\n\u001B[1;32m   1187\u001B[0m \u001B[38;5;124;03m  \"\"\"\u001B[39;00m\n\u001B[0;32m-> 1188\u001B[0m   \u001B[38;5;28;01mreturn\u001B[39;00m \u001B[38;5;28;43mself\u001B[39;49m\u001B[38;5;241;43m.\u001B[39;49m\u001B[43m_implementation\u001B[49m\u001B[38;5;241;43m.\u001B[39;49m\u001B[43mwrite\u001B[49m\u001B[43m(\u001B[49m\u001B[43mindex\u001B[49m\u001B[43m,\u001B[49m\u001B[43m \u001B[49m\u001B[43mvalue\u001B[49m\u001B[43m,\u001B[49m\u001B[43m \u001B[49m\u001B[43mname\u001B[49m\u001B[38;5;241;43m=\u001B[39;49m\u001B[43mname\u001B[49m\u001B[43m)\u001B[49m\n",
      "File \u001B[0;32m~/Source/jkc/testbeds/jims-ml-sandbox/.venv/lib/python3.10/site-packages/tensorflow/python/ops/tensor_array_ops.py:858\u001B[0m, in \u001B[0;36m_EagerTensorArray.write\u001B[0;34m(***failed resolving arguments***)\u001B[0m\n\u001B[1;32m    856\u001B[0m \u001B[38;5;250m\u001B[39m\u001B[38;5;124;03m\"\"\"See TensorArray.\"\"\"\u001B[39;00m\n\u001B[1;32m    857\u001B[0m \u001B[38;5;28;01mdel\u001B[39;00m name  \u001B[38;5;66;03m# not meaningful when executing eagerly.\u001B[39;00m\n\u001B[0;32m--> 858\u001B[0m \u001B[38;5;28;43mself\u001B[39;49m\u001B[38;5;241;43m.\u001B[39;49m\u001B[43m_write\u001B[49m\u001B[43m(\u001B[49m\u001B[43mindex\u001B[49m\u001B[43m,\u001B[49m\u001B[43m \u001B[49m\u001B[43mvalue\u001B[49m\u001B[43m)\u001B[49m\n\u001B[1;32m    859\u001B[0m \u001B[38;5;28;01mreturn\u001B[39;00m \u001B[38;5;28mself\u001B[39m\u001B[38;5;241m.\u001B[39mparent()\n",
      "File \u001B[0;32m~/Source/jkc/testbeds/jims-ml-sandbox/.venv/lib/python3.10/site-packages/tensorflow/python/ops/tensor_array_ops.py:841\u001B[0m, in \u001B[0;36m_EagerTensorArray._write\u001B[0;34m(self, index, value)\u001B[0m\n\u001B[1;32m    837\u001B[0m   value \u001B[38;5;241m=\u001B[39m ops\u001B[38;5;241m.\u001B[39mconvert_to_tensor(\n\u001B[1;32m    838\u001B[0m       value, preferred_dtype\u001B[38;5;241m=\u001B[39m\u001B[38;5;28mself\u001B[39m\u001B[38;5;241m.\u001B[39m_dtype, name\u001B[38;5;241m=\u001B[39m\u001B[38;5;124m\"\u001B[39m\u001B[38;5;124mvalue\u001B[39m\u001B[38;5;124m\"\u001B[39m)\n\u001B[1;32m    840\u001B[0m \u001B[38;5;28;01mif\u001B[39;00m \u001B[38;5;28mself\u001B[39m\u001B[38;5;241m.\u001B[39m_dtype \u001B[38;5;241m!=\u001B[39m value\u001B[38;5;241m.\u001B[39mdtype:\n\u001B[0;32m--> 841\u001B[0m   \u001B[38;5;28;01mraise\u001B[39;00m errors_impl\u001B[38;5;241m.\u001B[39mInvalidArgumentError(\n\u001B[1;32m    842\u001B[0m       \u001B[38;5;28;01mNone\u001B[39;00m, \u001B[38;5;28;01mNone\u001B[39;00m,\n\u001B[1;32m    843\u001B[0m       \u001B[38;5;124m\"\u001B[39m\u001B[38;5;124mTensorArray dtype is \u001B[39m\u001B[38;5;132;01m%s\u001B[39;00m\u001B[38;5;124m but Op is trying to write dtype \u001B[39m\u001B[38;5;132;01m%s\u001B[39;00m\u001B[38;5;124m \u001B[39m\u001B[38;5;124m\"\u001B[39m \u001B[38;5;241m%\u001B[39m\n\u001B[1;32m    844\u001B[0m       (\u001B[38;5;28mself\u001B[39m\u001B[38;5;241m.\u001B[39m_dtype\u001B[38;5;241m.\u001B[39mname, value\u001B[38;5;241m.\u001B[39mdtype\u001B[38;5;241m.\u001B[39mname))\n\u001B[1;32m    846\u001B[0m \u001B[38;5;28;01mif\u001B[39;00m \u001B[38;5;129;01mnot\u001B[39;00m \u001B[38;5;28mself\u001B[39m\u001B[38;5;241m.\u001B[39m_element_shape\u001B[38;5;241m.\u001B[39mis_compatible_with(value\u001B[38;5;241m.\u001B[39mshape):\n\u001B[1;32m    847\u001B[0m   \u001B[38;5;28;01mraise\u001B[39;00m \u001B[38;5;167;01mValueError\u001B[39;00m(\u001B[38;5;124m\"\u001B[39m\u001B[38;5;124mIncompatible shape for value (\u001B[39m\u001B[38;5;132;01m%s\u001B[39;00m\u001B[38;5;124m), expected (\u001B[39m\u001B[38;5;132;01m%s\u001B[39;00m\u001B[38;5;124m)\u001B[39m\u001B[38;5;124m\"\u001B[39m \u001B[38;5;241m%\u001B[39m\n\u001B[1;32m    848\u001B[0m                    (value\u001B[38;5;241m.\u001B[39mshape, \u001B[38;5;28mself\u001B[39m\u001B[38;5;241m.\u001B[39m_element_shape))\n",
      "\u001B[0;31mInvalidArgumentError\u001B[0m: TensorArray dtype is int32 but Op is trying to write dtype string "
     ]
    }
   ],
   "execution_count": 11
  },
  {
   "metadata": {},
   "cell_type": "code",
   "source": "",
   "id": "92e52311121b857a",
   "outputs": [],
   "execution_count": null
  },
  {
   "metadata": {},
   "cell_type": "markdown",
   "source": "",
   "id": "9c6e7b2dc9d3b8ed"
  }
 ],
 "metadata": {
  "kernelspec": {
   "display_name": "Python 3",
   "language": "python",
   "name": "python3"
  },
  "language_info": {
   "codemirror_mode": {
    "name": "ipython",
    "version": 2
   },
   "file_extension": ".py",
   "mimetype": "text/x-python",
   "name": "python",
   "nbconvert_exporter": "python",
   "pygments_lexer": "ipython2",
   "version": "2.7.6"
  }
 },
 "nbformat": 4,
 "nbformat_minor": 5
}
