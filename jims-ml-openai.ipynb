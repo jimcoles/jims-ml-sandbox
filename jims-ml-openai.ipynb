{
 "cells": [
  {
   "metadata": {},
   "cell_type": "markdown",
   "source": [
    "# Jim's Machine Learning Testbed\n",
    "\n",
    "\n",
    "\n",
    "## Jupyter Notes\n",
    "Put your cursor into the cell and press Shift+Enter to execute it and select the next one, or click 'Run Cell' button.\n",
    "\n",
    "Press Double Shift to search everywhere for classes, files, tool windows, actions, and settings.\n",
    "\n",
    "To learn more about Jupyter Notebooks in PyCharm, see [help](https://www.jetbrains.com/help/pycharm/ipython-notebook-support.html).\n",
    "For an overview of PyCharm, go to Help -> Learn IDE features or refer to [our documentation](https://www.jetbrains.com/help/pycharm/getting-started.html).\n",
    "\n",
    "# Basic Python interpreter check"
   ],
   "id": "8a77807f92f26ee"
  },
  {
   "metadata": {
    "ExecuteTime": {
     "end_time": "2025-02-11T01:57:59.119499Z",
     "start_time": "2025-02-11T01:57:59.112346Z"
    }
   },
   "cell_type": "code",
   "source": [
    "# Does anything work\n",
    "print(\"Hello World!\")\n",
    "\n",
    "# An IPython (Jupyter) thing\n",
    "%env\n",
    "\n"
   ],
   "id": "a78c74d9e1b071be",
   "outputs": [
    {
     "name": "stdout",
     "output_type": "stream",
     "text": [
      "Hello World!\n"
     ]
    },
    {
     "data": {
      "text/plain": [
       "{'HOMEBREW_PREFIX': '/opt/homebrew',\n",
       " 'MANPATH': '/opt/homebrew/share/man::',\n",
       " 'COMMAND_MODE': 'unix2003',\n",
       " 'INFOPATH': '/opt/homebrew/share/info:',\n",
       " 'SHELL': '/bin/zsh',\n",
       " 'PYTHONPATH': '/Users/jcoles/Source/jkc/testbeds/jims-ml-sandbox:/Users/jcoles/Applications/DataSpell.app/Contents/plugins/python-ce/helpers/pydev:/Users/jcoles/Applications/DataSpell.app/Contents/plugins/python-ce/helpers-pro/jupyter_debug',\n",
       " '__CFBundleIdentifier': 'com.jetbrains.dataspell',\n",
       " 'TMPDIR': '/var/folders/xc/32y9xdg50zv0b_kvssbpfc_00000gn/T/',\n",
       " 'LC_ALL': 'en_US.UTF-8',\n",
       " 'JBOSS_HOME': '/Users/jcoles/java/wildfly-29.0.0.Final',\n",
       " 'PKG_CONFIG_PATH': '/Users/jcoles/.opam/default/lib/pkgconfig:',\n",
       " 'TOOLBOX_VERSION': '2.5.3.37797',\n",
       " 'DISPLAY': '/private/tmp/com.apple.launchd.M4apHXqJbV/org.macosforge.xquartz:0',\n",
       " 'HOME': '/Users/jcoles',\n",
       " 'HOMEBREW_REPOSITORY': '/opt/homebrew',\n",
       " 'OPAMNOENVNOTICE': 'true',\n",
       " 'PATH': '/Users/jcoles/Source/jkc/testbeds/jims-ml-sandbox/.venv/bin:/Users/jcoles/Library/pnpm:/Users/jcoles/.opam/default/bin:/Users/jcoles/bin:/Library/Java/JavaVirtualMachines/graalvm-23.jdk/Contents/Home/bin:/opt/homebrew/bin:/opt/homebrew/sbin:/Library/Frameworks/Python.framework/Versions/3.7/bin:/Users/jcoles/java/groovy/bin:/usr/local/bin:/System/Cryptexes/App/usr/bin:/usr/bin:/bin:/usr/sbin:/sbin:/var/run/com.apple.security.cryptexd/codex.system/bootstrap/usr/local/bin:/var/run/com.apple.security.cryptexd/codex.system/bootstrap/usr/bin:/var/run/com.apple.security.cryptexd/codex.system/bootstrap/usr/appleinternal/bin:/opt/X11/bin:/Library/Apple/usr/bin:/Applications/Wireshark.app/Contents/MacOS:/usr/local/share/dotnet:~/.dotnet/tools:/usr/local/go/bin:/Library/Frameworks/Mono.framework/Versions/Current/Commands:/usr/local/bin',\n",
       " 'OPAM_SWITCH_PREFIX': '/Users/jcoles/.opam/default',\n",
       " 'LOGNAME': 'jcoles',\n",
       " 'GROOVY_HOME': '/Users/jcoles/java/groovy',\n",
       " 'XPC_FLAGS': '0x0',\n",
       " '__CF_USER_TEXT_ENCODING': '0x1F5:0x0:0x0',\n",
       " 'LANG': 'en_US.UTF-8',\n",
       " 'OPENAI_API_KEY': '<hidden>',\n",
       " 'OCAML_TOPLEVEL_PATH': '/Users/jcoles/.opam/default/lib/toplevel',\n",
       " 'CAML_LD_LIBRARY_PATH': '/Users/jcoles/.opam/default/lib/stublibs:/opt/homebrew/lib/ocaml/stublibs:/opt/homebrew/lib/ocaml',\n",
       " 'LC_CTYPE': 'en_US.UTF-8',\n",
       " 'LANGUAGE': '',\n",
       " 'VIRTUAL_ENV': '/Users/jcoles/Source/jkc/testbeds/jims-ml-sandbox/.venv',\n",
       " 'JAVA_HOME': '/Library/Java/JavaVirtualMachines/graalvm-23.jdk/Contents/Home',\n",
       " 'PS1': '(.venv) ',\n",
       " 'SSH_AUTH_SOCK': '/private/tmp/com.apple.launchd.oQPk4XY6J5/Listeners',\n",
       " 'OLDPWD': '/',\n",
       " 'SPACE_DEV_HOME': '/Users/jcoles/Source/jkc/space-java',\n",
       " 'XPC_SERVICE_NAME': 'application.com.jetbrains.dataspell.170280229.170291440.45D5C564-1CD3-4C98-86D4-A7B88CFD37F3',\n",
       " 'PROMPT': '%F{green}jcoles@Jimbos-M1 %~ %#%f ',\n",
       " 'M2_HOME': '/usr/local/Cellar/maven/3.9.4',\n",
       " 'USER': 'jcoles',\n",
       " 'HOMEBREW_CELLAR': '/opt/homebrew/Cellar',\n",
       " 'PWD': '/Users/jcoles/Source/jkc/testbeds/jims-ml-sandbox',\n",
       " 'PNPM_HOME': '/Users/jcoles/Library/pnpm',\n",
       " 'HERMETIC_PYTHON_VERSION': '3.12',\n",
       " 'JPY_SESSION_NAME': 'jims-ml-openai.ipynb',\n",
       " 'JPY_PARENT_PID': '94258',\n",
       " 'PYDEVD_USE_FRAME_EVAL': 'NO',\n",
       " 'TERM': 'xterm-color',\n",
       " 'CLICOLOR': '1',\n",
       " 'FORCE_COLOR': '1',\n",
       " 'CLICOLOR_FORCE': '1',\n",
       " 'PAGER': 'cat',\n",
       " 'GIT_PAGER': 'cat',\n",
       " 'MPLBACKEND': 'module://matplotlib_inline.backend_inline'}"
      ]
     },
     "execution_count": 1,
     "metadata": {},
     "output_type": "execute_result"
    }
   ],
   "execution_count": 1
  },
  {
   "metadata": {},
   "cell_type": "markdown",
   "source": "Use a core Python package, numpy:",
   "id": "6c019e655ca9a5f5"
  },
  {
   "metadata": {
    "ExecuteTime": {
     "end_time": "2025-02-11T01:58:03.071647Z",
     "start_time": "2025-02-11T01:58:02.995657Z"
    }
   },
   "cell_type": "code",
   "source": [
    "import numpy as np\n",
    "np.add(1,2)"
   ],
   "id": "6155a5763b81ec36",
   "outputs": [
    {
     "data": {
      "text/plain": [
       "3"
      ]
     },
     "execution_count": 2,
     "metadata": {},
     "output_type": "execute_result"
    }
   ],
   "execution_count": 2
  },
  {
   "metadata": {},
   "cell_type": "markdown",
   "source": [
    "# Machine Learning Engine #2: OpenAI\n",
    "OpenAI requires a paid API key. Set the key in an os environment variable, e.g.:\n",
    "\n",
    "`export OPENAI_API_KEY=sk-proj-12fKGWJW ...`"
   ],
   "id": "6cff362e1aa44a25"
  },
  {
   "metadata": {},
   "cell_type": "markdown",
   "source": "A \"hello world\", OpenAI API-based _Chat Completion_:",
   "id": "e9a4ac56a73460c1"
  },
  {
   "metadata": {
    "ExecuteTime": {
     "end_time": "2025-02-10T20:40:20.606732Z",
     "start_time": "2025-02-10T20:40:19.131283Z"
    }
   },
   "cell_type": "code",
   "source": [
    "from openai import OpenAI\n",
    "client = OpenAI()\n",
    "\n",
    "completion = client.chat.completions.create(\n",
    "    model=\"gpt-4o-mini\",\n",
    "    messages=[\n",
    "        {\"role\": \"system\", \"content\": \"You are a helpful assistant.\"},\n",
    "        {\n",
    "            \"role\": \"user\",\n",
    "            # \"content\": \"Write a haiku about recursion in programming.\"\n",
    "            \"content\": \"Hello, OpenAI.\"\n",
    "        }\n",
    "    ]\n",
    ")\n",
    "\n",
    "print(completion.choices[0].message)"
   ],
   "id": "4bcfc1d037d207a8",
   "outputs": [
    {
     "name": "stdout",
     "output_type": "stream",
     "text": [
      "ChatCompletionMessage(content='Hello! How can I assist you today?', refusal=None, role='assistant', audio=None, function_call=None, tool_calls=None)\n"
     ]
    }
   ],
   "execution_count": 4
  },
  {
   "metadata": {},
   "cell_type": "markdown",
   "source": "",
   "id": "9c6e7b2dc9d3b8ed"
  }
 ],
 "metadata": {
  "kernelspec": {
   "display_name": "Python 3",
   "language": "python",
   "name": "python3"
  },
  "language_info": {
   "codemirror_mode": {
    "name": "ipython",
    "version": 2
   },
   "file_extension": ".py",
   "mimetype": "text/x-python",
   "name": "python",
   "nbconvert_exporter": "python",
   "pygments_lexer": "ipython2",
   "version": "2.7.6"
  }
 },
 "nbformat": 4,
 "nbformat_minor": 5
}
