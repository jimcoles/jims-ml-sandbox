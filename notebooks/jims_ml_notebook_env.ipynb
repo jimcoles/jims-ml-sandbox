{
 "cells": [
  {
   "cell_type": "code",
   "id": "initial_id",
   "metadata": {
    "collapsed": true,
    "jupyter": {
     "outputs_hidden": true
    },
    "ExecuteTime": {
     "end_time": "2025-03-05T20:20:58.562366Z",
     "start_time": "2025-03-05T20:20:58.560238Z"
    }
   },
   "source": [],
   "outputs": [],
   "execution_count": null
  },
  {
   "cell_type": "markdown",
   "id": "f4320ef47adc822a",
   "metadata": {},
   "source": [
    "# Jim's Machine Learning Testbed\n",
    "\n",
    "\n",
    "\n",
    "## Jupyter Notes\n",
    "Put your cursor into the cell and press Shift+Enter to execute it and select the next one, or click 'Run Cell' button.\n",
    "\n",
    "Press Double Shift to search everywhere for classes, files, tool windows, actions, and settings.\n",
    "\n",
    "To learn more about Jupyter Notebooks in PyCharm, see [help](https://www.jetbrains.com/help/pycharm/ipython-notebook-support.html).\n",
    "For an overview of PyCharm, go to Help -> Learn IDE features or refer to [our documentation](https://www.jetbrains.com/help/pycharm/getting-started.html).\n",
    "\n",
    "# Basic Python interpreter check running in Jupyter"
   ]
  },
  {
   "cell_type": "code",
   "id": "b14c3c2691fa4224",
   "metadata": {
    "ExecuteTime": {
     "end_time": "2025-03-05T20:20:58.845328Z",
     "start_time": "2025-03-05T20:20:58.583027Z"
    }
   },
   "source": [
    "import ipykernel\n",
    "import debugpy\n",
    "import sys\n",
    "\n",
    "print(f\"Python version: {sys.version}\")\n",
    "\n",
    "!which python\n",
    "!python --version\n",
    "\n",
    "# Does anything work\n",
    "print(\"Hello World!\")\n",
    "\n",
    "# Check Jupyter notebook info\n",
    "print(f\"ipykernel version: {ipykernel.__version__}\")\n",
    "\n",
    "#debugpy.listen(5678)\n",
    "#print(f\"debugpy is listening on port 5678\")\n",
    "\n",
    "# An IPython (Jupyter) thing\n",
    "%env\n"
   ],
   "outputs": [
    {
     "name": "stdout",
     "output_type": "stream",
     "text": [
      "Python version: 3.10.16 (main, Dec  3 2024, 17:27:57) [Clang 16.0.0 (clang-1600.0.26.4)]\n",
      "/Users/jcoles/Source/jkc/jims-ml-sandbox/.venv/bin/python\r\n",
      "Python 3.10.16\r\n",
      "Hello World!\n",
      "ipykernel version: 6.29.5\n"
     ]
    },
    {
     "data": {
      "text/plain": [
       "{'HOMEBREW_PREFIX': '/opt/homebrew',\n",
       " 'MANPATH': '/opt/homebrew/share/man::',\n",
       " 'COMMAND_MODE': 'unix2003',\n",
       " 'INFOPATH': '/opt/homebrew/share/info:',\n",
       " 'SHELL': '/bin/zsh',\n",
       " 'PYTHONPATH': '/Users/jcoles/Source/jkc/jims-ml-sandbox:/Users/jcoles/Applications/PyCharm Professional Edition.app/Contents/plugins/python-ce/helpers/pydev:/Users/jcoles/Applications/PyCharm Professional Edition.app/Contents/plugins/python/helpers-pro/jupyter_debug',\n",
       " '__CFBundleIdentifier': 'com.jetbrains.pycharm',\n",
       " 'TMPDIR': '/var/folders/xc/32y9xdg50zv0b_kvssbpfc_00000gn/T/',\n",
       " 'LC_ALL': 'en_US.UTF-8',\n",
       " 'JBOSS_HOME': '/Users/jcoles/java/wildfly-29.0.0.Final',\n",
       " 'TOOLBOX_VERSION': '2.5.4.38621',\n",
       " 'DISPLAY': '/private/tmp/com.apple.launchd.ypLDHhB6Dm/org.macosforge.xquartz:0',\n",
       " 'HOME': '/Users/jcoles',\n",
       " 'HOMEBREW_REPOSITORY': '/opt/homebrew',\n",
       " 'PATH': '/Users/jcoles/Source/jkc/jims-ml-sandbox/.venv/bin:/opt/homebrew/anaconda3/condabin:/Users/jcoles/bin:/Library/Java/JavaVirtualMachines/graalvm-23.jdk/Contents/Home/bin:/opt/homebrew/bin:/opt/homebrew/sbin::/opt/homebrew/anaconda3/bin:/Users/jcoles/java/groovy/bin:/usr/local/bin:/System/Cryptexes/App/usr/bin:/usr/bin:/bin:/usr/sbin:/sbin:/var/run/com.apple.security.cryptexd/codex.system/bootstrap/usr/local/bin:/var/run/com.apple.security.cryptexd/codex.system/bootstrap/usr/bin:/var/run/com.apple.security.cryptexd/codex.system/bootstrap/usr/appleinternal/bin:/opt/X11/bin:/Library/Apple/usr/bin:/Applications/Wireshark.app/Contents/MacOS:/usr/local/share/dotnet:~/.dotnet/tools:/usr/local/go/bin:/Library/Frameworks/Mono.framework/Versions/Current/Commands:/usr/local/bin',\n",
       " 'LOGNAME': 'jcoles',\n",
       " 'GROOVY_HOME': '/Users/jcoles/java/groovy',\n",
       " 'XPC_FLAGS': '0x0',\n",
       " '__CF_USER_TEXT_ENCODING': '0x1F5:0x0:0x0',\n",
       " '_CE_CONDA': '',\n",
       " 'LANG': 'en_US.UTF-8',\n",
       " 'OPENAI_API_KEY': '<hidden>',\n",
       " '_CE_M': '',\n",
       " 'LC_CTYPE': 'en_US.UTF-8',\n",
       " 'LANGUAGE': '',\n",
       " 'VIRTUAL_ENV': '/Users/jcoles/Source/jkc/jims-ml-sandbox/.venv',\n",
       " 'JAVA_HOME': '/Library/Java/JavaVirtualMachines/graalvm-23.jdk/Contents/Home',\n",
       " 'CONDA_SHLVL': '0',\n",
       " 'PS1': '(.venv) ',\n",
       " 'CONDA_EXE': '/opt/homebrew/anaconda3/bin/conda',\n",
       " 'SSH_AUTH_SOCK': '/private/tmp/com.apple.launchd.h6OQNMD69G/Listeners',\n",
       " 'OLDPWD': '/',\n",
       " 'SPACE_DEV_HOME': '/Users/jcoles/Source/jkc/space-java',\n",
       " 'XPC_SERVICE_NAME': 'application.com.jetbrains.pycharm.194741386.194741398.91375A71-265E-4433-BB8C-E6F3EA84D0F0',\n",
       " 'PROMPT': '%F{green}jcoles@Jimbos-M1 %~ %#%f ',\n",
       " 'M2_HOME': '/usr/local/Cellar/maven/3.9.4',\n",
       " 'USER': 'jcoles',\n",
       " 'HOMEBREW_CELLAR': '/opt/homebrew/Cellar',\n",
       " 'PWD': '/Users/jcoles/Source/jkc/jims-ml-sandbox',\n",
       " 'CONDA_PYTHON_EXE': '/opt/homebrew/anaconda3/bin/python',\n",
       " 'PNPM_HOME': '/Users/jcoles/Library/pnpm',\n",
       " 'HERMETIC_PYTHON_VERSION': '3.10',\n",
       " 'JPY_SESSION_NAME': 'notebooks/jims_ml_notebook_env.ipynb',\n",
       " 'JPY_PARENT_PID': '64379',\n",
       " 'PYDEVD_USE_FRAME_EVAL': 'NO',\n",
       " 'TERM': 'xterm-color',\n",
       " 'CLICOLOR': '1',\n",
       " 'FORCE_COLOR': '1',\n",
       " 'CLICOLOR_FORCE': '1',\n",
       " 'PAGER': 'cat',\n",
       " 'GIT_PAGER': 'cat',\n",
       " 'MPLBACKEND': 'module://matplotlib_inline.backend_inline'}"
      ]
     },
     "execution_count": 2,
     "metadata": {},
     "output_type": "execute_result"
    }
   ],
   "execution_count": 2
  },
  {
   "cell_type": "markdown",
   "id": "28d01bedf98430be",
   "metadata": {},
   "source": [
    "Use a core Python package, numpy:"
   ]
  },
  {
   "cell_type": "code",
   "id": "67d869c98219b905",
   "metadata": {
    "ExecuteTime": {
     "end_time": "2025-03-05T20:20:58.854938Z",
     "start_time": "2025-03-05T20:20:58.852805Z"
    }
   },
   "source": [
    "import numpy as np\n",
    "\n",
    "result = np.add(1, 2)\n",
    "\n",
    "print(f\"Result of np.add(1, 2): {result}\")\n"
   ],
   "outputs": [
    {
     "name": "stdout",
     "output_type": "stream",
     "text": [
      "Result of np.add(1, 2): 3\n"
     ]
    }
   ],
   "execution_count": 3
  }
 ],
 "metadata": {
  "kernelspec": {
   "display_name": "Python 3 (ipykernel)",
   "language": "python",
   "name": "python3"
  },
  "language_info": {
   "codemirror_mode": {
    "name": "ipython",
    "version": 3
   },
   "file_extension": ".py",
   "mimetype": "text/x-python",
   "name": "python",
   "nbconvert_exporter": "python",
   "pygments_lexer": "ipython3",
   "version": "3.10.16"
  }
 },
 "nbformat": 4,
 "nbformat_minor": 5
}
