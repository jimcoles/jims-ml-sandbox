{
 "cells": [
  {
   "metadata": {},
   "cell_type": "markdown",
   "source": "# TensorFlow TFX",
   "id": "109f2fe8ee6695a2"
  },
  {
   "cell_type": "code",
   "execution_count": null,
   "id": "initial_id",
   "metadata": {
    "collapsed": true
   },
   "outputs": [],
   "source": [
    "from tfx.orchestrators.local.local_dag_runner import LocalDagRunner\n",
    "from tfx.proto import example_gen_pb2\n",
    "from tfx.components import CsvExampleGen\n",
    "from tfx.proto import pipeline_pb2\n",
    "from tfx.utils.dsl_utils import external_input\n",
    "\n",
    "\n",
    "# Define pipeline\n",
    "def create_pipeline(pipeline_name: str, pipeline_root: str, data_root: str) -> pipeline_pb2.Pipeline:\n",
    "    # ExampleGen reads input data and produces TFExamples\n",
    "    example_gen = CsvExampleGen(input=external_input(data_root))\n",
    "\n",
    "    # Define the pipeline\n",
    "    components = [\n",
    "        example_gen\n",
    "    ]\n",
    "\n",
    "    return pipeline_pb2.Pipeline(\n",
    "        pipeline_info=pipeline_pb2.PipelineInfo(name=pipeline_name),\n",
    "        components=components,\n",
    "        root=pipeline_root\n",
    "    )\n",
    "\n",
    "\n",
    "# Run pipeline\n",
    "pipeline_name = \"tfx_hello_world\"\n",
    "pipeline_root = \"./pipeline_output\"\n",
    "data_root = \"./data/csv_data\"\n",
    "LocalDagRunner().run(create_pipeline(pipeline_name, pipeline_root, data_root))\n"
   ]
  }
 ],
 "metadata": {
  "kernelspec": {
   "display_name": "Python 3",
   "language": "python",
   "name": "python3"
  },
  "language_info": {
   "codemirror_mode": {
    "name": "ipython",
    "version": 2
   },
   "file_extension": ".py",
   "mimetype": "text/x-python",
   "name": "python",
   "nbconvert_exporter": "python",
   "pygments_lexer": "ipython2",
   "version": "2.7.6"
  }
 },
 "nbformat": 4,
 "nbformat_minor": 5
}
