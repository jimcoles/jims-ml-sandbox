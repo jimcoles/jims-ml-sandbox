{
 "cells": [
  {
   "metadata": {},
   "cell_type": "code",
   "outputs": [],
   "execution_count": null,
   "source": [
    "# Copyright (C) 2023 by IJ. All rights reserved.\n",
    "\n"
   ],
   "id": "5a7e2bd19792ce43"
  },
  {
   "metadata": {},
   "cell_type": "markdown",
   "source": "# Problem 1 (Quadratic and n-Dim Inference) using TensorFlow",
   "id": "e9ac7b8619d5d948"
  },
  {
   "metadata": {
    "ExecuteTime": {
     "end_time": "2025-02-26T15:33:06.802504Z",
     "start_time": "2025-02-26T15:33:02.552264Z"
    }
   },
   "cell_type": "code",
   "source": [
    "import keras\n",
    "import tensorflow as tf\n",
    "from keras import layers, ops\n",
    "import pandas as pd\n",
    "\n",
    "# Load data using pandas\n",
    "data = pd.read_csv('../../data/two-points-xy.csv')  # Read the data file\n",
    "x = data['x'].values.reshape(-1, 1)  # Reshape into 2D array for TensorFlow\n",
    "y = data['y'].values.reshape(-1, 1)\n",
    "\n",
    "# Define a simple sequential model\n",
    "model = Sequential([\n",
    "    Input(shape=(1,)),\n",
    "    Dense(1, activation='linear')  # Single neuron, linear activation\n",
    "])\n",
    "\n",
    "# Compile the model\n",
    "model.compile(optimizer='adam', loss='mean_squared_error')\n",
    "\n",
    "# Train the model\n",
    "model.fit(x, y, epochs=100)\n",
    "\n",
    "# Predict y given x\n",
    "predictions = model.predict(x)\n",
    "\n",
    "# Display predictions\n",
    "print(predictions)"
   ],
   "id": "f1cfa073b1bb67c5",
   "outputs": [
    {
     "ename": "NameError",
     "evalue": "name 'Sequential' is not defined",
     "output_type": "error",
     "traceback": [
      "\u001B[0;31m---------------------------------------------------------------------------\u001B[0m",
      "\u001B[0;31mNameError\u001B[0m                                 Traceback (most recent call last)",
      "Cell \u001B[0;32mIn[1], line 12\u001B[0m\n\u001B[1;32m      9\u001B[0m y \u001B[38;5;241m=\u001B[39m data[\u001B[38;5;124m'\u001B[39m\u001B[38;5;124my\u001B[39m\u001B[38;5;124m'\u001B[39m]\u001B[38;5;241m.\u001B[39mvalues\u001B[38;5;241m.\u001B[39mreshape(\u001B[38;5;241m-\u001B[39m\u001B[38;5;241m1\u001B[39m, \u001B[38;5;241m1\u001B[39m)\n\u001B[1;32m     11\u001B[0m \u001B[38;5;66;03m# Define a simple sequential model\u001B[39;00m\n\u001B[0;32m---> 12\u001B[0m model \u001B[38;5;241m=\u001B[39m \u001B[43mSequential\u001B[49m([\n\u001B[1;32m     13\u001B[0m     Input(shape\u001B[38;5;241m=\u001B[39m(\u001B[38;5;241m1\u001B[39m,)),\n\u001B[1;32m     14\u001B[0m     Dense(\u001B[38;5;241m1\u001B[39m, activation\u001B[38;5;241m=\u001B[39m\u001B[38;5;124m'\u001B[39m\u001B[38;5;124mlinear\u001B[39m\u001B[38;5;124m'\u001B[39m)  \u001B[38;5;66;03m# Single neuron, linear activation\u001B[39;00m\n\u001B[1;32m     15\u001B[0m ])\n\u001B[1;32m     17\u001B[0m \u001B[38;5;66;03m# Compile the model\u001B[39;00m\n\u001B[1;32m     18\u001B[0m model\u001B[38;5;241m.\u001B[39mcompile(optimizer\u001B[38;5;241m=\u001B[39m\u001B[38;5;124m'\u001B[39m\u001B[38;5;124madam\u001B[39m\u001B[38;5;124m'\u001B[39m, loss\u001B[38;5;241m=\u001B[39m\u001B[38;5;124m'\u001B[39m\u001B[38;5;124mmean_squared_error\u001B[39m\u001B[38;5;124m'\u001B[39m)\n",
      "\u001B[0;31mNameError\u001B[0m: name 'Sequential' is not defined"
     ]
    }
   ],
   "execution_count": 1
  }
 ],
 "metadata": {
  "kernelspec": {
   "display_name": "Python 3",
   "language": "python",
   "name": "python3"
  },
  "language_info": {
   "codemirror_mode": {
    "name": "ipython",
    "version": 2
   },
   "file_extension": ".py",
   "mimetype": "text/x-python",
   "name": "python",
   "nbconvert_exporter": "python",
   "pygments_lexer": "ipython2",
   "version": "2.7.6"
  }
 },
 "nbformat": 4,
 "nbformat_minor": 5
}
