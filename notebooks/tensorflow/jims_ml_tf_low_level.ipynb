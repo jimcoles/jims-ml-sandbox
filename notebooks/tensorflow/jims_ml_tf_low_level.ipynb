{
 "cells": [
  {
   "metadata": {},
   "cell_type": "markdown",
   "source": [
    "# TensorFlow low-level API with no Keras layer\n",
    "\n",
    "Yes, TensorFlow indeed provides a low-level API for building models without using Keras. This approach involves directly working with Tensors, defining computations via the computational graph, and utilizing customization with the `tf` module.\n",
    "Here’s an overview of how you can use the low-level TensorFlow API to build models:\n",
    "### Key APIs in Low-level TensorFlow:\n",
    "1. **Tensors and Graphs**: TensorFlow operates at its core with Tensors (data containers) and computational graphs. You manually define operations and their interrelations.\n",
    "2. **Modules like `tf.Variable` and `tf.GradientTape`**: Use these APIs for defining parameters, computing gradients, and performing backpropagation manually.\n",
    "3. **Custom Training Loop**: Instead of the Keras `fit()` function, low-level APIs require you to define custom optimization and training manually.\n",
    "\n",
    "### Example Workflow for Model Building in Low-Level TensorFlow:\n",
    "Low-level TensorFlow requires manually managing the forward pass, loss calculation, gradient computation, and optimization. Here's an illustrative (code-based) workflow:\n",
    "#### Define the Model\n",
    "Define model parameters manually using `tf.Variable` and structure computations using matrix operations like `tf.matmul`.\n",
    "#### Example:\n"
   ],
   "id": "2b9d389e8417f1da"
  },
  {
   "cell_type": "code",
   "id": "initial_id",
   "metadata": {
    "collapsed": true,
    "ExecuteTime": {
     "end_time": "2025-02-26T01:57:19.177178Z",
     "start_time": "2025-02-26T01:57:15.135988Z"
    }
   },
   "source": [
    "import tensorflow as tf\n",
    "\n",
    "# Initialize model parameters manually\n",
    "W = tf.Variable(tf.random.normal([2, 2]), name=\"weights\")  # Weights\n",
    "b = tf.Variable(tf.random.normal([2]), name=\"bias\")  # Bias\n",
    "\n",
    "\n",
    "# Example forward computation\n",
    "def model(X):\n",
    "    return tf.matmul(X, W) + b\n"
   ],
   "outputs": [],
   "execution_count": 1
  },
  {
   "metadata": {},
   "cell_type": "markdown",
   "source": [
    "#### Define a Custom Training Loop\n",
    "Train the model by computing the forward pass, loss, gradients, and adjusting parameters.\n"
   ],
   "id": "e89eabfab2390cc3"
  },
  {
   "metadata": {
    "ExecuteTime": {
     "end_time": "2025-02-26T01:57:33.070646Z",
     "start_time": "2025-02-26T01:57:32.987177Z"
    }
   },
   "cell_type": "code",
   "source": [
    "# Example dataset\n",
    "X_data = tf.random.normal([100, 2])\n",
    "y_data = tf.random.normal([100, 2])  # Mock data for this example\n",
    "\n",
    "\n",
    "# Define a simple loss function (e.g., Mean Squared Error)\n",
    "def loss_fn(y_true, y_pred):\n",
    "    return tf.reduce_mean(tf.square(y_true - y_pred))\n",
    "\n",
    "\n",
    "# Training loop with SGD optimizer\n",
    "optimizer = tf.optimizers.SGD(learning_rate=0.01)\n",
    "\n",
    "# Training\n",
    "for epoch in range(50):  # Epochs\n",
    "    with tf.GradientTape() as tape:\n",
    "        y_pred = model(X_data)  # Forward pass\n",
    "        loss = loss_fn(y_data, y_pred)  # Compute loss\n",
    "    gradients = tape.gradient(loss, [W, b])  # Compute gradients\n",
    "    optimizer.apply_gradients(zip(gradients, [W, b]))  # Update parameters\n",
    "    print(f\"Epoch {epoch}, Loss: {loss.numpy()}\")\n"
   ],
   "id": "f7d5b4dab6f3be38",
   "outputs": [
    {
     "name": "stdout",
     "output_type": "stream",
     "text": [
      "Epoch 0, Loss: 7.370989799499512\n",
      "Epoch 1, Loss: 7.2070536613464355\n",
      "Epoch 2, Loss: 7.047356128692627\n",
      "Epoch 3, Loss: 6.891782283782959\n",
      "Epoch 4, Loss: 6.740230083465576\n",
      "Epoch 5, Loss: 6.592590808868408\n",
      "Epoch 6, Loss: 6.448763370513916\n",
      "Epoch 7, Loss: 6.308650016784668\n",
      "Epoch 8, Loss: 6.172153949737549\n",
      "Epoch 9, Loss: 6.039180755615234\n",
      "Epoch 10, Loss: 5.90963888168335\n",
      "Epoch 11, Loss: 5.783438682556152\n",
      "Epoch 12, Loss: 5.660494327545166\n",
      "Epoch 13, Loss: 5.540721416473389\n",
      "Epoch 14, Loss: 5.424036979675293\n",
      "Epoch 15, Loss: 5.310359954833984\n",
      "Epoch 16, Loss: 5.199613571166992\n",
      "Epoch 17, Loss: 5.091722011566162\n",
      "Epoch 18, Loss: 4.986609935760498\n",
      "Epoch 19, Loss: 4.884206295013428\n",
      "Epoch 20, Loss: 4.784440040588379\n",
      "Epoch 21, Loss: 4.6872429847717285\n",
      "Epoch 22, Loss: 4.592548847198486\n",
      "Epoch 23, Loss: 4.500292778015137\n",
      "Epoch 24, Loss: 4.4104108810424805\n",
      "Epoch 25, Loss: 4.322841644287109\n",
      "Epoch 26, Loss: 4.2375264167785645\n",
      "Epoch 27, Loss: 4.154405117034912\n",
      "Epoch 28, Loss: 4.073421478271484\n",
      "Epoch 29, Loss: 3.9945201873779297\n",
      "Epoch 30, Loss: 3.917647361755371\n",
      "Epoch 31, Loss: 3.8427507877349854\n",
      "Epoch 32, Loss: 3.7697784900665283\n",
      "Epoch 33, Loss: 3.698681116104126\n",
      "Epoch 34, Loss: 3.6294097900390625\n",
      "Epoch 35, Loss: 3.561917781829834\n",
      "Epoch 36, Loss: 3.496159076690674\n",
      "Epoch 37, Loss: 3.4320876598358154\n",
      "Epoch 38, Loss: 3.369661331176758\n",
      "Epoch 39, Loss: 3.3088366985321045\n",
      "Epoch 40, Loss: 3.24957275390625\n",
      "Epoch 41, Loss: 3.191828727722168\n",
      "Epoch 42, Loss: 3.1355652809143066\n",
      "Epoch 43, Loss: 3.080744743347168\n",
      "Epoch 44, Loss: 3.027329206466675\n",
      "Epoch 45, Loss: 2.975283145904541\n",
      "Epoch 46, Loss: 2.924569606781006\n",
      "Epoch 47, Loss: 2.8751556873321533\n",
      "Epoch 48, Loss: 2.827007532119751\n",
      "Epoch 49, Loss: 2.7800915241241455\n"
     ]
    }
   ],
   "execution_count": 2
  },
  {
   "metadata": {},
   "cell_type": "markdown",
   "source": [
    "#### Benefits of Using Low-level APIs:\n",
    "1. Full control over computations and model customization.\n",
    "2. No abstraction layers – good for research or debugging intricate models.\n",
    "3. Direct and transparent use of TensorFlow's underlying features.\n",
    "\n",
    "#### When to Use Low-level APIs:\n",
    "Low-level TensorFlow APIs are appropriate when:\n",
    "- You need fine-grained control over the model's architecture and training logic.\n",
    "- Building complex models not facilitated by Keras layers or high-level APIs.\n",
    "- Learning or debugging large-scale, low-level TensorFlow-based systems.\n",
    "\n",
    "If this approach seems too detailed for your needs, you can explore Keras's functional or subclassing API for some flexibility while keeping the convenience. However, the low-level TensorFlow API ensures the highest granularity for models and training.\n"
   ],
   "id": "37575c81815c1853"
  }
 ],
 "metadata": {
  "kernelspec": {
   "display_name": "Python 3",
   "language": "python",
   "name": "python3"
  },
  "language_info": {
   "codemirror_mode": {
    "name": "ipython",
    "version": 2
   },
   "file_extension": ".py",
   "mimetype": "text/x-python",
   "name": "python",
   "nbconvert_exporter": "python",
   "pygments_lexer": "ipython2",
   "version": "2.7.6"
  }
 },
 "nbformat": 4,
 "nbformat_minor": 5
}
