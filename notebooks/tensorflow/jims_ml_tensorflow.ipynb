{
 "cells": [
  {
   "metadata": {},
   "cell_type": "markdown",
   "source": [
    "# Jim's Machine Learning Testbed\n",
    "\n",
    "\n",
    "\n",
    "## Jupyter Notes\n",
    "Put your cursor into the cell and press Shift+Enter to execute it and select the next one, or click 'Run Cell' button.\n",
    "\n",
    "Press Double Shift to search everywhere for classes, files, tool windows, actions, and settings.\n",
    "\n",
    "To learn more about Jupyter Notebooks in PyCharm, see [help](https://www.jetbrains.com/help/pycharm/ipython-notebook-support.html).\n",
    "For an overview of PyCharm, go to Help -> Learn IDE features or refer to [our documentation](https://www.jetbrains.com/help/pycharm/getting-started.html).\n",
    "\n",
    "# Basic Python interpreter check"
   ],
   "id": "8a77807f92f26ee"
  },
  {
   "metadata": {
    "ExecuteTime": {
     "end_time": "2025-02-26T15:46:32.108307Z",
     "start_time": "2025-02-26T15:46:32.101791Z"
    }
   },
   "cell_type": "code",
   "source": [
    "\n",
    "import jkcsoft\n",
    "\n",
    "# Does anything work\n",
    "print(\"Hello World!\")\n",
    "\n",
    "# An IPython (Jupyter) thing\n",
    "%env\n",
    "\n"
   ],
   "id": "a78c74d9e1b071be",
   "outputs": [
    {
     "name": "stdout",
     "output_type": "stream",
     "text": [
      "Hello World!\n"
     ]
    },
    {
     "data": {
      "text/plain": [
       "{'HOMEBREW_PREFIX': '/opt/homebrew',\n",
       " 'MANPATH': '/opt/homebrew/share/man::',\n",
       " 'COMMAND_MODE': 'unix2003',\n",
       " 'INFOPATH': '/opt/homebrew/share/info:',\n",
       " 'SHELL': '/bin/zsh',\n",
       " 'PYTHONPATH': '/Users/jcoles/Source/jkc/testbeds/jims-ml-sandbox:/Users/jcoles/Applications/PyCharm Professional Edition.app/Contents/plugins/python-ce/helpers/pydev:/Users/jcoles/Applications/PyCharm Professional Edition.app/Contents/plugins/python/helpers-pro/jupyter_debug',\n",
       " '__CFBundleIdentifier': 'com.jetbrains.pycharm',\n",
       " 'TMPDIR': '/var/folders/xc/32y9xdg50zv0b_kvssbpfc_00000gn/T/',\n",
       " 'LC_ALL': 'en_US.UTF-8',\n",
       " 'JBOSS_HOME': '/Users/jcoles/java/wildfly-29.0.0.Final',\n",
       " 'TOOLBOX_VERSION': '2.5.3.37797',\n",
       " 'DISPLAY': '/private/tmp/com.apple.launchd.aV1Bwy1f3E/org.macosforge.xquartz:0',\n",
       " 'HOME': '/Users/jcoles',\n",
       " 'HOMEBREW_REPOSITORY': '/opt/homebrew',\n",
       " 'PATH': '/Users/jcoles/Source/jkc/testbeds/jims-ml-sandbox/.venv/bin:/opt/homebrew/anaconda3/condabin:/Users/jcoles/bin:/Library/Java/JavaVirtualMachines/graalvm-23.jdk/Contents/Home/bin:/opt/homebrew/bin:/opt/homebrew/sbin::/opt/homebrew/anaconda3/bin:/Users/jcoles/java/groovy/bin:/usr/local/bin:/System/Cryptexes/App/usr/bin:/usr/bin:/bin:/usr/sbin:/sbin:/var/run/com.apple.security.cryptexd/codex.system/bootstrap/usr/local/bin:/var/run/com.apple.security.cryptexd/codex.system/bootstrap/usr/bin:/var/run/com.apple.security.cryptexd/codex.system/bootstrap/usr/appleinternal/bin:/opt/X11/bin:/Library/Apple/usr/bin:/Applications/Wireshark.app/Contents/MacOS:/usr/local/share/dotnet:~/.dotnet/tools:/usr/local/go/bin:/Library/Frameworks/Mono.framework/Versions/Current/Commands:/usr/local/bin',\n",
       " 'LOGNAME': 'jcoles',\n",
       " 'GROOVY_HOME': '/Users/jcoles/java/groovy',\n",
       " 'XPC_FLAGS': '0x0',\n",
       " '__CF_USER_TEXT_ENCODING': '0x1F5:0x0:0x0',\n",
       " '_CE_CONDA': '',\n",
       " 'LANG': 'en_US.UTF-8',\n",
       " 'OPENAI_API_KEY': '<hidden>',\n",
       " '_CE_M': '',\n",
       " 'LC_CTYPE': 'en_US.UTF-8',\n",
       " 'LANGUAGE': '',\n",
       " 'VIRTUAL_ENV': '/Users/jcoles/Source/jkc/testbeds/jims-ml-sandbox/.venv',\n",
       " 'JAVA_HOME': '/Library/Java/JavaVirtualMachines/graalvm-23.jdk/Contents/Home',\n",
       " 'CONDA_SHLVL': '0',\n",
       " 'PS1': '(.venv) ',\n",
       " 'CONDA_EXE': '/opt/homebrew/anaconda3/bin/conda',\n",
       " 'SSH_AUTH_SOCK': '/private/tmp/com.apple.launchd.nutw4ay1YB/Listeners',\n",
       " 'OLDPWD': '/',\n",
       " 'SPACE_DEV_HOME': '/Users/jcoles/Source/jkc/space-java',\n",
       " 'XPC_SERVICE_NAME': 'application.com.jetbrains.pycharm.188122273.188134319.67748BB1-8C05-42BA-9E64-0B1F889F84D3',\n",
       " 'PROMPT': '%F{green}jcoles@Jimbos-M1 %~ %#%f ',\n",
       " 'M2_HOME': '/usr/local/Cellar/maven/3.9.4',\n",
       " 'USER': 'jcoles',\n",
       " 'HOMEBREW_CELLAR': '/opt/homebrew/Cellar',\n",
       " 'PWD': '/Users/jcoles/Source/jkc/testbeds/jims-ml-sandbox',\n",
       " 'CONDA_PYTHON_EXE': '/opt/homebrew/anaconda3/bin/python',\n",
       " 'PNPM_HOME': '/Users/jcoles/Library/pnpm',\n",
       " 'HERMETIC_PYTHON_VERSION': '3.10',\n",
       " 'JPY_SESSION_NAME': 'notebooks/tensorflow/jims_ml_tensorflow.ipynb',\n",
       " 'JPY_PARENT_PID': '68342',\n",
       " 'PYDEVD_USE_FRAME_EVAL': 'NO',\n",
       " 'TERM': 'xterm-color',\n",
       " 'CLICOLOR': '1',\n",
       " 'FORCE_COLOR': '1',\n",
       " 'CLICOLOR_FORCE': '1',\n",
       " 'PAGER': 'cat',\n",
       " 'GIT_PAGER': 'cat',\n",
       " 'MPLBACKEND': 'module://matplotlib_inline.backend_inline',\n",
       " 'TF2_BEHAVIOR': '1',\n",
       " 'TPU_ML_PLATFORM': 'Tensorflow',\n",
       " 'KMP_DUPLICATE_LIB_OK': 'True',\n",
       " 'KMP_INIT_AT_FORK': 'FALSE'}"
      ]
     },
     "execution_count": 4,
     "metadata": {},
     "output_type": "execute_result"
    }
   ],
   "execution_count": 4
  },
  {
   "metadata": {},
   "cell_type": "markdown",
   "source": "Use a core Python package, numpy:",
   "id": "6c019e655ca9a5f5"
  },
  {
   "metadata": {
    "ExecuteTime": {
     "end_time": "2025-02-26T15:46:32.188029Z",
     "start_time": "2025-02-26T15:46:32.185268Z"
    }
   },
   "cell_type": "code",
   "source": [
    "import numpy as np\n",
    "\n",
    "np.add(1, 2)"
   ],
   "id": "6155a5763b81ec36",
   "outputs": [
    {
     "data": {
      "text/plain": [
       "3"
      ]
     },
     "execution_count": 5,
     "metadata": {},
     "output_type": "execute_result"
    }
   ],
   "execution_count": 5
  },
  {
   "metadata": {},
   "cell_type": "markdown",
   "source": [
    "# A basic `TensorFlow` installation check\n",
    "\n",
    "A sanity check call to `tensorflow` to make sure it finds and loads the library. NOTE: this does not do any tensor processing:"
   ],
   "id": "2a9bc4e2ec05f5db"
  },
  {
   "metadata": {
    "ExecuteTime": {
     "end_time": "2025-02-26T15:46:32.305071Z",
     "start_time": "2025-02-26T15:46:32.272350Z"
    }
   },
   "cell_type": "code",
   "source": [
    "import tensorflow as tf\n",
    "\n",
    "print(f\"A TF computation: {tf.add(1, 5).numpy()}\")\n",
    "\n",
    "hello = tf.constant('Hello, TensorFlow!')\n",
    "print(f\"A TensorFlow string constant: {hello.numpy()}\")"
   ],
   "id": "3814a818a6d07176",
   "outputs": [
    {
     "name": "stdout",
     "output_type": "stream",
     "text": [
      "A TF computation: 6\n",
      "A TensorFlow string constant: b'Hello, TensorFlow!'\n"
     ]
    }
   ],
   "execution_count": 6
  },
  {
   "metadata": {},
   "cell_type": "markdown",
   "source": [
    "# Of special `import` for `keras`\n",
    "Keras notions should be imported from `keras.*`, not from `tensorflow`.\n",
    "\n",
    "When coding to the conventional API:"
   ],
   "id": "1315965ff70582e9"
  },
  {
   "metadata": {
    "ExecuteTime": {
     "end_time": "2025-02-26T15:46:32.356862Z",
     "start_time": "2025-02-26T15:46:32.355014Z"
    }
   },
   "cell_type": "code",
   "source": [
    "\n",
    "# Imports when using the conventional class-centric Keras API\n",
    "\n",
    "# from keras.api.datasets import mnist\n",
    "from keras.api.models import Sequential\n",
    "from keras.api.layers import Input, Dense\n",
    "\n"
   ],
   "id": "d05cb1fe7133365a",
   "outputs": [],
   "execution_count": 7
  },
  {
   "metadata": {},
   "cell_type": "markdown",
   "source": [
    "\n",
    "When coding to the newer functional Keras API:\n"
   ],
   "id": "c604df980cf7df0d"
  },
  {
   "metadata": {
    "ExecuteTime": {
     "end_time": "2025-02-26T15:46:32.370913Z",
     "start_time": "2025-02-26T15:46:32.368981Z"
    }
   },
   "cell_type": "code",
   "source": "import keras  # has keras.Model keras.Input etc\n",
   "id": "7fad8da6c28f3ff6",
   "outputs": [],
   "execution_count": 8
  },
  {
   "metadata": {},
   "cell_type": "markdown",
   "source": "Now we load a dataset from the convenient tensorflow_datasets python package.",
   "id": "3d85093ca3d9c35d"
  },
  {
   "metadata": {
    "ExecuteTime": {
     "end_time": "2025-02-26T15:46:34.986262Z",
     "start_time": "2025-02-26T15:46:32.384451Z"
    }
   },
   "cell_type": "code",
   "source": [
    "import importlib\n",
    "import jkcsoft.ml.tfds_utils\n",
    "\n",
    "importlib.reload(jkcsoft.ml.tfds_utils)\n",
    "\n",
    "from jkcsoft.ml.tfds_utils import dump_dataset_info, display_dataset_info\n",
    "\n",
    "\n",
    "# Validates datasets package install and lists voluminous available datasets\n",
    "dump_dataset_info()\n",
    "\n",
    "# Create an array of 5 most popular datasets\n",
    "most_popular_datasets = ['mnist', 'cifar10', 'imdb_reviews', 'fashion_mnist', 'coco']\n",
    "print(f\"Most popular datasets: {most_popular_datasets}\")\n",
    "\n",
    "for dataset_name in most_popular_datasets:\n",
    "    display_dataset_info(dataset_name)\n"
   ],
   "id": "33d3dd51918dda5e",
   "outputs": [
    {
     "name": "stdout",
     "output_type": "stream",
     "text": [
      "Total datasets available: 1297\n",
      "A few available datasets: ['abstract_reasoning', 'accentdb', 'aeslc', 'aflw2k3d', 'ag_news_subset', 'ai2_arc', 'ai2_arc_with_ir', 'ai2dcaption', 'aloha_mobile', 'amazon_us_reviews'] ...\n",
      "Most popular datasets: ['mnist', 'cifar10', 'imdb_reviews', 'fashion_mnist', 'coco']\n",
      "\n",
      "Dataset: mnist\n",
      "Description: The MNIST database of handwritten digits.\n",
      "Features: FeaturesDict({\n",
      "    'image': Image(shape=(28, 28, 1), dtype=uint8),\n",
      "    'label': ClassLabel(shape=(), dtype=int64, num_classes=10),\n",
      "})\n",
      "Supervised keys: ('image', 'label')\n",
      "Splits: {'test': <SplitInfo num_examples=10000, num_shards=1>, 'train': <SplitInfo num_examples=60000, num_shards=1>}\n",
      "Dataset size: 21.00 MiB bytes\n",
      "Citation: @article{lecun2010mnist,\n",
      "  title={MNIST handwritten digit database},\n",
      "  author={LeCun, Yann and Cortes, Corinna and Burges, CJ},\n",
      "  journal={ATT Labs [Online]. Available: http://yann.lecun.com/exdb/mnist},\n",
      "  volume={2},\n",
      "  year={2010}\n",
      "}\n",
      "\n",
      "Dataset: cifar10\n",
      "Description: The CIFAR-10 dataset consists of 60000 32x32 colour images in 10 classes, with 6000 images per class. There are 50000 training images and 10000 test images.\n",
      "Features: FeaturesDict({\n",
      "    'id': Text(shape=(), dtype=string),\n",
      "    'image': Image(shape=(32, 32, 3), dtype=uint8),\n",
      "    'label': ClassLabel(shape=(), dtype=int64, num_classes=10),\n",
      "})\n",
      "Supervised keys: ('image', 'label')\n",
      "Splits: {'train': <SplitInfo num_examples=50000, num_shards=1>, 'test': <SplitInfo num_examples=10000, num_shards=1>}\n",
      "Dataset size: 132.40 MiB bytes\n",
      "Citation: @TECHREPORT{Krizhevsky09learningmultiple,\n",
      "    author = {Alex Krizhevsky},\n",
      "    title = {Learning multiple layers of features from tiny images},\n",
      "    institution = {},\n",
      "    year = {2009}\n",
      "}\n",
      "\n",
      "Dataset: imdb_reviews\n",
      "Description: Large Movie Review Dataset. This is a dataset for binary sentiment\n",
      "classification containing substantially more data than previous benchmark\n",
      "datasets. We provide a set of 25,000 highly polar movie reviews for training,\n",
      "and 25,000 for testing. There is additional unlabeled data for use as well.\n",
      "Features: FeaturesDict({\n",
      "    'label': ClassLabel(shape=(), dtype=int64, num_classes=2),\n",
      "    'text': Text(shape=(), dtype=string),\n",
      "})\n",
      "Supervised keys: ('text', 'label')\n",
      "Splits: {'train': <SplitInfo num_examples=25000, num_shards=1>, 'test': <SplitInfo num_examples=25000, num_shards=1>, 'unsupervised': <SplitInfo num_examples=50000, num_shards=1>}\n",
      "Dataset size: 129.83 MiB bytes\n",
      "Citation: @InProceedings{maas-EtAl:2011:ACL-HLT2011,\n",
      "  author    = {Maas, Andrew L.  and  Daly, Raymond E.  and  Pham, Peter T.  and  Huang, Dan  and  Ng, Andrew Y.  and  Potts, Christopher},\n",
      "  title     = {Learning Word Vectors for Sentiment Analysis},\n",
      "  booktitle = {Proceedings of the 49th Annual Meeting of the Association for Computational Linguistics: Human Language Technologies},\n",
      "  month     = {June},\n",
      "  year      = {2011},\n",
      "  address   = {Portland, Oregon, USA},\n",
      "  publisher = {Association for Computational Linguistics},\n",
      "  pages     = {142--150},\n",
      "  url       = {http://www.aclweb.org/anthology/P11-1015}\n",
      "}\n",
      "\n",
      "Dataset: fashion_mnist\n",
      "Description: Fashion-MNIST is a dataset of Zalando's article images consisting of a training set of 60,000 examples and a test set of 10,000 examples. Each example is a 28x28 grayscale image, associated with a label from 10 classes.\n",
      "Features: FeaturesDict({\n",
      "    'image': Image(shape=(28, 28, 1), dtype=uint8),\n",
      "    'label': ClassLabel(shape=(), dtype=int64, num_classes=10),\n",
      "})\n",
      "Supervised keys: ('image', 'label')\n",
      "Splits: {'train': <SplitInfo num_examples=60000, num_shards=1>, 'test': <SplitInfo num_examples=10000, num_shards=1>}\n",
      "Dataset size: 36.42 MiB bytes\n",
      "Citation: @article{DBLP:journals/corr/abs-1708-07747,\n",
      "  author    = {Han Xiao and\n",
      "               Kashif Rasul and\n",
      "               Roland Vollgraf},\n",
      "  title     = {Fashion-MNIST: a Novel Image Dataset for Benchmarking Machine Learning\n",
      "               Algorithms},\n",
      "  journal   = {CoRR},\n",
      "  volume    = {abs/1708.07747},\n",
      "  year      = {2017},\n",
      "  url       = {http://arxiv.org/abs/1708.07747},\n",
      "  archivePrefix = {arXiv},\n",
      "  eprint    = {1708.07747},\n",
      "  timestamp = {Mon, 13 Aug 2018 16:47:27 +0200},\n",
      "  biburl    = {https://dblp.org/rec/bib/journals/corr/abs-1708-07747},\n",
      "  bibsource = {dblp computer science bibliography, https://dblp.org}\n",
      "}\n",
      "\n",
      "Dataset: coco\n",
      "Description: COCO is a large-scale object detection, segmentation, and\n",
      "captioning dataset.\n",
      "\n",
      "Note:\n",
      " * Some images from the train and validation sets don't have annotations.\n",
      " * Coco 2014 and 2017 uses the same images, but different train/val/test splits\n",
      " * The test split don't have any annotations (only images).\n",
      " * Coco defines 91 classes but the data only uses 80 classes.\n",
      " * Panotptic annotations defines defines 200 classes but only uses 133.\n",
      "Features: FeaturesDict({\n",
      "    'image': Image(shape=(None, None, 3), dtype=uint8),\n",
      "    'image/filename': Text(shape=(), dtype=string),\n",
      "    'image/id': int64,\n",
      "    'objects': Sequence({\n",
      "        'area': int64,\n",
      "        'bbox': BBoxFeature(shape=(4,), dtype=float32),\n",
      "        'id': int64,\n",
      "        'is_crowd': bool,\n",
      "        'label': ClassLabel(shape=(), dtype=int64, num_classes=80),\n",
      "    }),\n",
      "})\n",
      "Supervised keys: None\n",
      "Splits: {'test': <SplitInfo num_examples=40775, num_shards=64>, 'test2015': <SplitInfo num_examples=81434, num_shards=128>, 'train': <SplitInfo num_examples=82783, num_shards=128>, 'validation': <SplitInfo num_examples=40504, num_shards=64>}\n",
      "Dataset size: Unknown size bytes\n",
      "Citation: @article{DBLP:journals/corr/LinMBHPRDZ14,\n",
      "  author    = {Tsung{-}Yi Lin and\n",
      "               Michael Maire and\n",
      "               Serge J. Belongie and\n",
      "               Lubomir D. Bourdev and\n",
      "               Ross B. Girshick and\n",
      "               James Hays and\n",
      "               Pietro Perona and\n",
      "               Deva Ramanan and\n",
      "               Piotr Doll{'{a}}r and\n",
      "               C. Lawrence Zitnick},\n",
      "  title     = {Microsoft {COCO:} Common Objects in Context},\n",
      "  journal   = {CoRR},\n",
      "  volume    = {abs/1405.0312},\n",
      "  year      = {2014},\n",
      "  url       = {http://arxiv.org/abs/1405.0312},\n",
      "  archivePrefix = {arXiv},\n",
      "  eprint    = {1405.0312},\n",
      "  timestamp = {Mon, 13 Aug 2018 16:48:13 +0200},\n",
      "  biburl    = {https://dblp.org/rec/bib/journals/corr/LinMBHPRDZ14},\n",
      "  bibsource = {dblp computer science bibliography, https://dblp.org}\n",
      "}\n"
     ]
    }
   ],
   "execution_count": 9
  },
  {
   "metadata": {},
   "cell_type": "markdown",
   "source": [
    "# Setup training and test datums to be used in the next two examples\n",
    "\n",
    "The common datums are used to compare the use of the two Keras APIs.\n"
   ],
   "id": "7174123b6113b98"
  },
  {
   "metadata": {
    "ExecuteTime": {
     "end_time": "2025-02-26T15:46:35.007587Z",
     "start_time": "2025-02-26T15:46:34.993466Z"
    }
   },
   "cell_type": "code",
   "source": [
    "from jkcsoft.ml.sandbox.tf_tinker import ModelTest, RunBatch\n",
    "\n",
    "# define a batch include a common dataset for all tests\n",
    "run_batch = RunBatch()\n",
    "run_batch.x_train = tf.constant([[1.0], [2.0], [3.0], [4.0]])\n",
    "run_batch.y_train = tf.constant([[2.0], [4.0], [6.0], [8.0]])\n",
    "run_batch.x_test = tf.constant([[5.0], [6.0]])\n",
    "run_batch.y_test = tf.constant([[10.0], [12.0]])"
   ],
   "id": "df1acb5bb736369",
   "outputs": [],
   "execution_count": 10
  },
  {
   "metadata": {},
   "cell_type": "markdown",
   "source": "# A simple _conventional_ Keras pipeline with hard-coded TensorFlow datasets",
   "id": "9c6e7b2dc9d3b8ed"
  },
  {
   "metadata": {
    "ExecuteTime": {
     "end_time": "2025-02-26T15:46:36.853358Z",
     "start_time": "2025-02-26T15:46:35.012782Z"
    }
   },
   "cell_type": "code",
   "source": [
    "# Define a model using the conventional Keras class API\n",
    "model = Sequential([\n",
    "    Input(shape=(1,)),  # Input layer for single-dimensional input\n",
    "    Dense(32, activation=\"relu\"),  # kera.src.core.dense.Dense\n",
    "    Dense(16, activation=\"sigmoid\"),\n",
    "    Dense(16, activation=\"softmax\"),\n",
    "    Dense(1, activation=\"linear\")\n",
    "])\n",
    "\n",
    "test_common_dense = ModelTest().set_description(\"Common Dense Sequence\").set_model(model)\n",
    "test_common_dense.set_fit_epochs(10)\n",
    "\n",
    "# invoke model compile here\n",
    "test_common_dense.compile_model(\n",
    "    optimizer=\"adam\",\n",
    "    loss=\"mean_squared_error\",\n",
    "    metrics=[\n",
    "        \"mean_absolute_error\",\n",
    "        \"mean_absolute_percentage_error\",\n",
    "        \"mean_squared_error\",\n",
    "        \"root_mean_squared_error\",\n",
    "        \"accuracy\",\n",
    "        \"precision\",\n",
    "        \"recall\",\n",
    "        \"auc\",\n",
    "        \"binary_accuracy\"\n",
    "    ])\n",
    "\n",
    "# test_common_dense.model.fit()\n",
    "\n",
    "run_batch.add_test(test_common_dense)\n",
    "\n",
    "# run all models against the same batch dataset\n",
    "run_batch.run_all()\n",
    "\n",
    "print('\\nTest accuracy:', run_batch.results[0].eval_results)"
   ],
   "id": "2e98b868ec73286d",
   "outputs": [
    {
     "name": "stdout",
     "output_type": "stream",
     "text": [
      "━━━━━━━━━━━━━━━━━━━━━━━━━━━━━━━━━━━━━━━━━━━━━━━━━━━━━━━━━━━━━━━━━━━━━━━━━━━━━━━━\n",
      "Testing Model: Common Dense Sequence\n",
      "━━━━━━━━━━━━━━━━━━━━━━━━━━━━━━━━━━━━━━━━━━━━━━━━━━━━━━━━━━━━━━━━━━━━━━━━━━━━━━━━\n"
     ]
    },
    {
     "data": {
      "text/plain": [
       "\u001B[1mModel: \"sequential\"\u001B[0m\n"
      ],
      "text/html": [
       "<pre style=\"white-space:pre;overflow-x:auto;line-height:normal;font-family:Menlo,'DejaVu Sans Mono',consolas,'Courier New',monospace\"><span style=\"font-weight: bold\">Model: \"sequential\"</span>\n",
       "</pre>\n"
      ]
     },
     "metadata": {},
     "output_type": "display_data"
    },
    {
     "data": {
      "text/plain": [
       "┏━━━━━━━━━━━━━━━━━━━━━━━━━━━━━━━━━┳━━━━━━━━━━━━━━━━━━━━━━━━┳━━━━━━━━━━━━━━━┓\n",
       "┃\u001B[1m \u001B[0m\u001B[1mLayer (type)                   \u001B[0m\u001B[1m \u001B[0m┃\u001B[1m \u001B[0m\u001B[1mOutput Shape          \u001B[0m\u001B[1m \u001B[0m┃\u001B[1m \u001B[0m\u001B[1m      Param #\u001B[0m\u001B[1m \u001B[0m┃\n",
       "┡━━━━━━━━━━━━━━━━━━━━━━━━━━━━━━━━━╇━━━━━━━━━━━━━━━━━━━━━━━━╇━━━━━━━━━━━━━━━┩\n",
       "│ dense (\u001B[38;5;33mDense\u001B[0m)                   │ (\u001B[38;5;45mNone\u001B[0m, \u001B[38;5;34m32\u001B[0m)             │            \u001B[38;5;34m64\u001B[0m │\n",
       "├─────────────────────────────────┼────────────────────────┼───────────────┤\n",
       "│ dense_1 (\u001B[38;5;33mDense\u001B[0m)                 │ (\u001B[38;5;45mNone\u001B[0m, \u001B[38;5;34m16\u001B[0m)             │           \u001B[38;5;34m528\u001B[0m │\n",
       "├─────────────────────────────────┼────────────────────────┼───────────────┤\n",
       "│ dense_2 (\u001B[38;5;33mDense\u001B[0m)                 │ (\u001B[38;5;45mNone\u001B[0m, \u001B[38;5;34m16\u001B[0m)             │           \u001B[38;5;34m272\u001B[0m │\n",
       "├─────────────────────────────────┼────────────────────────┼───────────────┤\n",
       "│ dense_3 (\u001B[38;5;33mDense\u001B[0m)                 │ (\u001B[38;5;45mNone\u001B[0m, \u001B[38;5;34m1\u001B[0m)              │            \u001B[38;5;34m17\u001B[0m │\n",
       "└─────────────────────────────────┴────────────────────────┴───────────────┘\n"
      ],
      "text/html": [
       "<pre style=\"white-space:pre;overflow-x:auto;line-height:normal;font-family:Menlo,'DejaVu Sans Mono',consolas,'Courier New',monospace\">┏━━━━━━━━━━━━━━━━━━━━━━━━━━━━━━━━━┳━━━━━━━━━━━━━━━━━━━━━━━━┳━━━━━━━━━━━━━━━┓\n",
       "┃<span style=\"font-weight: bold\"> Layer (type)                    </span>┃<span style=\"font-weight: bold\"> Output Shape           </span>┃<span style=\"font-weight: bold\">       Param # </span>┃\n",
       "┡━━━━━━━━━━━━━━━━━━━━━━━━━━━━━━━━━╇━━━━━━━━━━━━━━━━━━━━━━━━╇━━━━━━━━━━━━━━━┩\n",
       "│ dense (<span style=\"color: #0087ff; text-decoration-color: #0087ff\">Dense</span>)                   │ (<span style=\"color: #00d7ff; text-decoration-color: #00d7ff\">None</span>, <span style=\"color: #00af00; text-decoration-color: #00af00\">32</span>)             │            <span style=\"color: #00af00; text-decoration-color: #00af00\">64</span> │\n",
       "├─────────────────────────────────┼────────────────────────┼───────────────┤\n",
       "│ dense_1 (<span style=\"color: #0087ff; text-decoration-color: #0087ff\">Dense</span>)                 │ (<span style=\"color: #00d7ff; text-decoration-color: #00d7ff\">None</span>, <span style=\"color: #00af00; text-decoration-color: #00af00\">16</span>)             │           <span style=\"color: #00af00; text-decoration-color: #00af00\">528</span> │\n",
       "├─────────────────────────────────┼────────────────────────┼───────────────┤\n",
       "│ dense_2 (<span style=\"color: #0087ff; text-decoration-color: #0087ff\">Dense</span>)                 │ (<span style=\"color: #00d7ff; text-decoration-color: #00d7ff\">None</span>, <span style=\"color: #00af00; text-decoration-color: #00af00\">16</span>)             │           <span style=\"color: #00af00; text-decoration-color: #00af00\">272</span> │\n",
       "├─────────────────────────────────┼────────────────────────┼───────────────┤\n",
       "│ dense_3 (<span style=\"color: #0087ff; text-decoration-color: #0087ff\">Dense</span>)                 │ (<span style=\"color: #00d7ff; text-decoration-color: #00d7ff\">None</span>, <span style=\"color: #00af00; text-decoration-color: #00af00\">1</span>)              │            <span style=\"color: #00af00; text-decoration-color: #00af00\">17</span> │\n",
       "└─────────────────────────────────┴────────────────────────┴───────────────┘\n",
       "</pre>\n"
      ]
     },
     "metadata": {},
     "output_type": "display_data"
    },
    {
     "data": {
      "text/plain": [
       "\u001B[1m Total params: \u001B[0m\u001B[38;5;34m881\u001B[0m (3.44 KB)\n"
      ],
      "text/html": [
       "<pre style=\"white-space:pre;overflow-x:auto;line-height:normal;font-family:Menlo,'DejaVu Sans Mono',consolas,'Courier New',monospace\"><span style=\"font-weight: bold\"> Total params: </span><span style=\"color: #00af00; text-decoration-color: #00af00\">881</span> (3.44 KB)\n",
       "</pre>\n"
      ]
     },
     "metadata": {},
     "output_type": "display_data"
    },
    {
     "data": {
      "text/plain": [
       "\u001B[1m Trainable params: \u001B[0m\u001B[38;5;34m881\u001B[0m (3.44 KB)\n"
      ],
      "text/html": [
       "<pre style=\"white-space:pre;overflow-x:auto;line-height:normal;font-family:Menlo,'DejaVu Sans Mono',consolas,'Courier New',monospace\"><span style=\"font-weight: bold\"> Trainable params: </span><span style=\"color: #00af00; text-decoration-color: #00af00\">881</span> (3.44 KB)\n",
       "</pre>\n"
      ]
     },
     "metadata": {},
     "output_type": "display_data"
    },
    {
     "data": {
      "text/plain": [
       "\u001B[1m Non-trainable params: \u001B[0m\u001B[38;5;34m0\u001B[0m (0.00 B)\n"
      ],
      "text/html": [
       "<pre style=\"white-space:pre;overflow-x:auto;line-height:normal;font-family:Menlo,'DejaVu Sans Mono',consolas,'Courier New',monospace\"><span style=\"font-weight: bold\"> Non-trainable params: </span><span style=\"color: #00af00; text-decoration-color: #00af00\">0</span> (0.00 B)\n",
       "</pre>\n"
      ]
     },
     "metadata": {},
     "output_type": "display_data"
    },
    {
     "name": "stdout",
     "output_type": "stream",
     "text": [
      "Epoch 1/10\n",
      "\u001B[1m1/1\u001B[0m \u001B[32m━━━━━━━━━━━━━━━━━━━━\u001B[0m\u001B[37m\u001B[0m \u001B[1m1s\u001B[0m 1s/step - accuracy: 0.0000e+00 - auc: 0.0000e+00 - binary_accuracy: 0.0000e+00 - loss: 30.2505 - mean_absolute_error: 5.0305 - mean_absolute_percentage_error: 100.9683 - mean_squared_error: 30.2505 - precision: 0.0000e+00 - recall: 0.0000e+00 - root_mean_squared_error: 5.5001\n",
      "Epoch 2/10\n",
      "\u001B[1m1/1\u001B[0m \u001B[32m━━━━━━━━━━━━━━━━━━━━\u001B[0m\u001B[37m\u001B[0m \u001B[1m0s\u001B[0m 22ms/step - accuracy: 0.0000e+00 - auc: 0.0000e+00 - binary_accuracy: 0.0000e+00 - loss: 30.1804 - mean_absolute_error: 5.0237 - mean_absolute_percentage_error: 100.7980 - mean_squared_error: 30.1804 - precision: 0.0000e+00 - recall: 0.0000e+00 - root_mean_squared_error: 5.4937\n",
      "Epoch 3/10\n",
      "\u001B[1m1/1\u001B[0m \u001B[32m━━━━━━━━━━━━━━━━━━━━\u001B[0m\u001B[37m\u001B[0m \u001B[1m0s\u001B[0m 23ms/step - accuracy: 0.0000e+00 - auc: 0.0000e+00 - binary_accuracy: 0.0000e+00 - loss: 30.1103 - mean_absolute_error: 5.0170 - mean_absolute_percentage_error: 100.6277 - mean_squared_error: 30.1103 - precision: 0.0000e+00 - recall: 0.0000e+00 - root_mean_squared_error: 5.4873\n",
      "Epoch 4/10\n",
      "\u001B[1m1/1\u001B[0m \u001B[32m━━━━━━━━━━━━━━━━━━━━\u001B[0m\u001B[37m\u001B[0m \u001B[1m0s\u001B[0m 30ms/step - accuracy: 0.0000e+00 - auc: 0.0000e+00 - binary_accuracy: 0.0000e+00 - loss: 30.0404 - mean_absolute_error: 5.0102 - mean_absolute_percentage_error: 100.4574 - mean_squared_error: 30.0404 - precision: 0.0000e+00 - recall: 0.0000e+00 - root_mean_squared_error: 5.4809\n",
      "Epoch 5/10\n",
      "\u001B[1m1/1\u001B[0m \u001B[32m━━━━━━━━━━━━━━━━━━━━\u001B[0m\u001B[37m\u001B[0m \u001B[1m0s\u001B[0m 21ms/step - accuracy: 0.0000e+00 - auc: 0.0000e+00 - binary_accuracy: 0.0000e+00 - loss: 29.9706 - mean_absolute_error: 5.0034 - mean_absolute_percentage_error: 100.2871 - mean_squared_error: 29.9706 - precision: 0.0000e+00 - recall: 0.0000e+00 - root_mean_squared_error: 5.4745\n",
      "Epoch 6/10\n",
      "\u001B[1m1/1\u001B[0m \u001B[32m━━━━━━━━━━━━━━━━━━━━\u001B[0m\u001B[37m\u001B[0m \u001B[1m0s\u001B[0m 23ms/step - accuracy: 0.0000e+00 - auc: 0.0000e+00 - binary_accuracy: 0.0000e+00 - loss: 29.9010 - mean_absolute_error: 4.9966 - mean_absolute_percentage_error: 100.1169 - mean_squared_error: 29.9010 - precision: 0.0000e+00 - recall: 0.0000e+00 - root_mean_squared_error: 5.4682\n",
      "Epoch 7/10\n",
      "\u001B[1m1/1\u001B[0m \u001B[32m━━━━━━━━━━━━━━━━━━━━\u001B[0m\u001B[37m\u001B[0m \u001B[1m0s\u001B[0m 21ms/step - accuracy: 0.0000e+00 - auc: 0.0000e+00 - binary_accuracy: 0.0000e+00 - loss: 29.8316 - mean_absolute_error: 4.9899 - mean_absolute_percentage_error: 99.9468 - mean_squared_error: 29.8316 - precision: 0.0000e+00 - recall: 0.0000e+00 - root_mean_squared_error: 5.4618\n",
      "Epoch 8/10\n",
      "\u001B[1m1/1\u001B[0m \u001B[32m━━━━━━━━━━━━━━━━━━━━\u001B[0m\u001B[37m\u001B[0m \u001B[1m0s\u001B[0m 30ms/step - accuracy: 0.0000e+00 - auc: 0.0000e+00 - binary_accuracy: 0.0000e+00 - loss: 29.7624 - mean_absolute_error: 4.9831 - mean_absolute_percentage_error: 99.7768 - mean_squared_error: 29.7624 - precision: 0.0000e+00 - recall: 0.0000e+00 - root_mean_squared_error: 5.4555\n",
      "Epoch 9/10\n",
      "\u001B[1m1/1\u001B[0m \u001B[32m━━━━━━━━━━━━━━━━━━━━\u001B[0m\u001B[37m\u001B[0m \u001B[1m0s\u001B[0m 23ms/step - accuracy: 0.0000e+00 - auc: 0.0000e+00 - binary_accuracy: 0.0000e+00 - loss: 29.6934 - mean_absolute_error: 4.9764 - mean_absolute_percentage_error: 99.6070 - mean_squared_error: 29.6934 - precision: 0.0000e+00 - recall: 0.0000e+00 - root_mean_squared_error: 5.4492\n",
      "Epoch 10/10\n",
      "\u001B[1m1/1\u001B[0m \u001B[32m━━━━━━━━━━━━━━━━━━━━\u001B[0m\u001B[37m\u001B[0m \u001B[1m0s\u001B[0m 22ms/step - accuracy: 0.0000e+00 - auc: 0.0000e+00 - binary_accuracy: 0.0000e+00 - loss: 29.6247 - mean_absolute_error: 4.9697 - mean_absolute_percentage_error: 99.4375 - mean_squared_error: 29.6247 - precision: 0.0000e+00 - recall: 0.0000e+00 - root_mean_squared_error: 5.4429\n",
      "\n",
      "\n",
      "1/1 - 0s - 287ms/step - accuracy: 0.0000e+00 - auc: 0.0000e+00 - binary_accuracy: 0.0000e+00 - loss: 120.4072 - mean_absolute_error: 10.9277 - mean_absolute_percentage_error: 99.3410 - mean_squared_error: 120.4072 - precision: 0.0000e+00 - recall: 0.0000e+00 - root_mean_squared_error: 10.9730\n",
      "\n",
      "Test accuracy: [120.40718078613281, 10.927734375, 99.34098815917969, 120.40718078613281, 10.973020553588867, 0.0, 0.0, 0.0, 0.0, 0.0]\n"
     ]
    }
   ],
   "execution_count": 11
  },
  {
   "metadata": {},
   "cell_type": "markdown",
   "source": "# A simple pipeline with the Keras _functional_ API",
   "id": "422842e3e21bc460"
  },
  {
   "metadata": {
    "ExecuteTime": {
     "end_time": "2025-02-26T15:46:38.532602Z",
     "start_time": "2025-02-26T15:46:36.865855Z"
    }
   },
   "cell_type": "code",
   "source": [
    "from keras import layers\n",
    "\n",
    "keras.backend.clear_session()\n",
    "\n",
    "# Keep the input tensor\n",
    "inputs_fn = keras.Input(shape=(1,))\n",
    "\n",
    "print(f\"inputs shape: {inputs_fn.shape}\")\n",
    "\n",
    "print(f\"inputs dtype: {inputs_fn.dtype}\")\n",
    "\n",
    "# pipe input\n",
    "d1 = layers.Dense(32, activation=\"relu\")\n",
    "x = d1(inputs_fn)\n",
    "\n",
    "# pipe thru proc layers\n",
    "d2 = layers.Dense(16, activation=\"sigmoid\")\n",
    "x = d2(x)\n",
    "d3 = layers.Dense(8, activation=\"softmax\")\n",
    "x = d3(x)\n",
    "\n",
    "# use final layer to reduce to output\n",
    "final_layer = layers.Dense(1, activation=\"linear\")\n",
    "outputs_fn = final_layer(x)\n",
    "\n",
    "functional_model = keras.Model(inputs=inputs_fn, outputs=outputs_fn, name=\"functional_model_1\")\n",
    "\n",
    "print(f\"functional_model summary: {functional_model.summary()}\")\n",
    "\n",
    "functional_model.compile(\n",
    "    optimizer=\"adam\",\n",
    "    loss=\"mean_squared_error\",\n",
    "    metrics=[\n",
    "        \"mean_absolute_error\",\n",
    "        \"mean_absolute_percentage_error\",\n",
    "        \"mean_squared_error\",\n",
    "        \"root_mean_squared_error\",\n",
    "        \"accuracy\",\n",
    "        \"precision\",\n",
    "        \"recall\",\n",
    "        \"auc\",\n",
    "        \"binary_accuracy\"\n",
    "    ]\n",
    ")\n",
    "\n",
    "functional_model.fit(run_batch.x_train, run_batch.y_train, epochs=3, verbose=1)\n",
    "\n",
    "loss_and_metrics = functional_model.evaluate(run_batch.x_test, run_batch.y_test, verbose=2)\n",
    "\n",
    "print(f\"Test eval results: {loss_and_metrics}\")"
   ],
   "id": "e7019ccccaa94659",
   "outputs": [
    {
     "name": "stdout",
     "output_type": "stream",
     "text": [
      "inputs shape: (None, 1)\n",
      "inputs dtype: float32\n"
     ]
    },
    {
     "data": {
      "text/plain": [
       "\u001B[1mModel: \"functional_model_1\"\u001B[0m\n"
      ],
      "text/html": [
       "<pre style=\"white-space:pre;overflow-x:auto;line-height:normal;font-family:Menlo,'DejaVu Sans Mono',consolas,'Courier New',monospace\"><span style=\"font-weight: bold\">Model: \"functional_model_1\"</span>\n",
       "</pre>\n"
      ]
     },
     "metadata": {},
     "output_type": "display_data"
    },
    {
     "data": {
      "text/plain": [
       "┏━━━━━━━━━━━━━━━━━━━━━━━━━━━━━━━━━┳━━━━━━━━━━━━━━━━━━━━━━━━┳━━━━━━━━━━━━━━━┓\n",
       "┃\u001B[1m \u001B[0m\u001B[1mLayer (type)                   \u001B[0m\u001B[1m \u001B[0m┃\u001B[1m \u001B[0m\u001B[1mOutput Shape          \u001B[0m\u001B[1m \u001B[0m┃\u001B[1m \u001B[0m\u001B[1m      Param #\u001B[0m\u001B[1m \u001B[0m┃\n",
       "┡━━━━━━━━━━━━━━━━━━━━━━━━━━━━━━━━━╇━━━━━━━━━━━━━━━━━━━━━━━━╇━━━━━━━━━━━━━━━┩\n",
       "│ input_layer (\u001B[38;5;33mInputLayer\u001B[0m)        │ (\u001B[38;5;45mNone\u001B[0m, \u001B[38;5;34m1\u001B[0m)              │             \u001B[38;5;34m0\u001B[0m │\n",
       "├─────────────────────────────────┼────────────────────────┼───────────────┤\n",
       "│ dense (\u001B[38;5;33mDense\u001B[0m)                   │ (\u001B[38;5;45mNone\u001B[0m, \u001B[38;5;34m32\u001B[0m)             │            \u001B[38;5;34m64\u001B[0m │\n",
       "├─────────────────────────────────┼────────────────────────┼───────────────┤\n",
       "│ dense_1 (\u001B[38;5;33mDense\u001B[0m)                 │ (\u001B[38;5;45mNone\u001B[0m, \u001B[38;5;34m16\u001B[0m)             │           \u001B[38;5;34m528\u001B[0m │\n",
       "├─────────────────────────────────┼────────────────────────┼───────────────┤\n",
       "│ dense_2 (\u001B[38;5;33mDense\u001B[0m)                 │ (\u001B[38;5;45mNone\u001B[0m, \u001B[38;5;34m8\u001B[0m)              │           \u001B[38;5;34m136\u001B[0m │\n",
       "├─────────────────────────────────┼────────────────────────┼───────────────┤\n",
       "│ dense_3 (\u001B[38;5;33mDense\u001B[0m)                 │ (\u001B[38;5;45mNone\u001B[0m, \u001B[38;5;34m1\u001B[0m)              │             \u001B[38;5;34m9\u001B[0m │\n",
       "└─────────────────────────────────┴────────────────────────┴───────────────┘\n"
      ],
      "text/html": [
       "<pre style=\"white-space:pre;overflow-x:auto;line-height:normal;font-family:Menlo,'DejaVu Sans Mono',consolas,'Courier New',monospace\">┏━━━━━━━━━━━━━━━━━━━━━━━━━━━━━━━━━┳━━━━━━━━━━━━━━━━━━━━━━━━┳━━━━━━━━━━━━━━━┓\n",
       "┃<span style=\"font-weight: bold\"> Layer (type)                    </span>┃<span style=\"font-weight: bold\"> Output Shape           </span>┃<span style=\"font-weight: bold\">       Param # </span>┃\n",
       "┡━━━━━━━━━━━━━━━━━━━━━━━━━━━━━━━━━╇━━━━━━━━━━━━━━━━━━━━━━━━╇━━━━━━━━━━━━━━━┩\n",
       "│ input_layer (<span style=\"color: #0087ff; text-decoration-color: #0087ff\">InputLayer</span>)        │ (<span style=\"color: #00d7ff; text-decoration-color: #00d7ff\">None</span>, <span style=\"color: #00af00; text-decoration-color: #00af00\">1</span>)              │             <span style=\"color: #00af00; text-decoration-color: #00af00\">0</span> │\n",
       "├─────────────────────────────────┼────────────────────────┼───────────────┤\n",
       "│ dense (<span style=\"color: #0087ff; text-decoration-color: #0087ff\">Dense</span>)                   │ (<span style=\"color: #00d7ff; text-decoration-color: #00d7ff\">None</span>, <span style=\"color: #00af00; text-decoration-color: #00af00\">32</span>)             │            <span style=\"color: #00af00; text-decoration-color: #00af00\">64</span> │\n",
       "├─────────────────────────────────┼────────────────────────┼───────────────┤\n",
       "│ dense_1 (<span style=\"color: #0087ff; text-decoration-color: #0087ff\">Dense</span>)                 │ (<span style=\"color: #00d7ff; text-decoration-color: #00d7ff\">None</span>, <span style=\"color: #00af00; text-decoration-color: #00af00\">16</span>)             │           <span style=\"color: #00af00; text-decoration-color: #00af00\">528</span> │\n",
       "├─────────────────────────────────┼────────────────────────┼───────────────┤\n",
       "│ dense_2 (<span style=\"color: #0087ff; text-decoration-color: #0087ff\">Dense</span>)                 │ (<span style=\"color: #00d7ff; text-decoration-color: #00d7ff\">None</span>, <span style=\"color: #00af00; text-decoration-color: #00af00\">8</span>)              │           <span style=\"color: #00af00; text-decoration-color: #00af00\">136</span> │\n",
       "├─────────────────────────────────┼────────────────────────┼───────────────┤\n",
       "│ dense_3 (<span style=\"color: #0087ff; text-decoration-color: #0087ff\">Dense</span>)                 │ (<span style=\"color: #00d7ff; text-decoration-color: #00d7ff\">None</span>, <span style=\"color: #00af00; text-decoration-color: #00af00\">1</span>)              │             <span style=\"color: #00af00; text-decoration-color: #00af00\">9</span> │\n",
       "└─────────────────────────────────┴────────────────────────┴───────────────┘\n",
       "</pre>\n"
      ]
     },
     "metadata": {},
     "output_type": "display_data"
    },
    {
     "data": {
      "text/plain": [
       "\u001B[1m Total params: \u001B[0m\u001B[38;5;34m737\u001B[0m (2.88 KB)\n"
      ],
      "text/html": [
       "<pre style=\"white-space:pre;overflow-x:auto;line-height:normal;font-family:Menlo,'DejaVu Sans Mono',consolas,'Courier New',monospace\"><span style=\"font-weight: bold\"> Total params: </span><span style=\"color: #00af00; text-decoration-color: #00af00\">737</span> (2.88 KB)\n",
       "</pre>\n"
      ]
     },
     "metadata": {},
     "output_type": "display_data"
    },
    {
     "data": {
      "text/plain": [
       "\u001B[1m Trainable params: \u001B[0m\u001B[38;5;34m737\u001B[0m (2.88 KB)\n"
      ],
      "text/html": [
       "<pre style=\"white-space:pre;overflow-x:auto;line-height:normal;font-family:Menlo,'DejaVu Sans Mono',consolas,'Courier New',monospace\"><span style=\"font-weight: bold\"> Trainable params: </span><span style=\"color: #00af00; text-decoration-color: #00af00\">737</span> (2.88 KB)\n",
       "</pre>\n"
      ]
     },
     "metadata": {},
     "output_type": "display_data"
    },
    {
     "data": {
      "text/plain": [
       "\u001B[1m Non-trainable params: \u001B[0m\u001B[38;5;34m0\u001B[0m (0.00 B)\n"
      ],
      "text/html": [
       "<pre style=\"white-space:pre;overflow-x:auto;line-height:normal;font-family:Menlo,'DejaVu Sans Mono',consolas,'Courier New',monospace\"><span style=\"font-weight: bold\"> Non-trainable params: </span><span style=\"color: #00af00; text-decoration-color: #00af00\">0</span> (0.00 B)\n",
       "</pre>\n"
      ]
     },
     "metadata": {},
     "output_type": "display_data"
    },
    {
     "name": "stdout",
     "output_type": "stream",
     "text": [
      "functional_model summary: None\n",
      "Epoch 1/3\n",
      "\u001B[1m1/1\u001B[0m \u001B[32m━━━━━━━━━━━━━━━━━━━━\u001B[0m\u001B[37m\u001B[0m \u001B[1m1s\u001B[0m 990ms/step - accuracy: 0.0000e+00 - auc: 0.0000e+00 - binary_accuracy: 0.0000e+00 - loss: 32.6202 - mean_absolute_error: 5.2535 - mean_absolute_percentage_error: 106.5352 - mean_squared_error: 32.6202 - precision: 0.0000e+00 - recall: 0.0000e+00 - root_mean_squared_error: 5.7114\n",
      "Epoch 2/3\n",
      "\u001B[1m1/1\u001B[0m \u001B[32m━━━━━━━━━━━━━━━━━━━━\u001B[0m\u001B[37m\u001B[0m \u001B[1m0s\u001B[0m 27ms/step - accuracy: 0.0000e+00 - auc: 0.0000e+00 - binary_accuracy: 0.0000e+00 - loss: 32.5359 - mean_absolute_error: 5.2458 - mean_absolute_percentage_error: 106.3405 - mean_squared_error: 32.5359 - precision: 0.0000e+00 - recall: 0.0000e+00 - root_mean_squared_error: 5.7040\n",
      "Epoch 3/3\n",
      "\u001B[1m1/1\u001B[0m \u001B[32m━━━━━━━━━━━━━━━━━━━━\u001B[0m\u001B[37m\u001B[0m \u001B[1m0s\u001B[0m 21ms/step - accuracy: 0.0000e+00 - auc: 0.0000e+00 - binary_accuracy: 0.0000e+00 - loss: 32.4512 - mean_absolute_error: 5.2379 - mean_absolute_percentage_error: 106.1445 - mean_squared_error: 32.4512 - precision: 0.0000e+00 - recall: 0.0000e+00 - root_mean_squared_error: 5.6966\n",
      "1/1 - 0s - 431ms/step - accuracy: 0.0000e+00 - auc: 0.0000e+00 - binary_accuracy: 0.0000e+00 - loss: 127.1480 - mean_absolute_error: 11.2316 - mean_absolute_percentage_error: 102.1237 - mean_squared_error: 127.1480 - precision: 0.0000e+00 - recall: 0.0000e+00 - root_mean_squared_error: 11.2760\n",
      "Test eval results: [127.14797973632812, 11.231620788574219, 102.12374877929688, 127.14797973632812, 11.275991439819336, 0.0, 0.0, 0.0, 0.0, 0.0]\n"
     ]
    }
   ],
   "execution_count": 12
  },
  {
   "metadata": {},
   "cell_type": "markdown",
   "source": "## A more readable functional pipeline declaration",
   "id": "e478301b84a30d91"
  },
  {
   "metadata": {
    "ExecuteTime": {
     "end_time": "2025-02-26T15:46:39.321803Z",
     "start_time": "2025-02-26T15:46:38.541088Z"
    }
   },
   "cell_type": "code",
   "source": [
    "from jkcsoft.ml import keras_utils\n",
    "\n",
    "importlib.reload(keras_utils)\n",
    "\n",
    "proc_layers = [d1, d2, d3, final_layer]\n",
    "\n",
    "composite_model = keras_utils.compose_layers(inputs_fn, proc_layers, verbose=False)\n",
    "\n",
    "print(f\"composite_model summary: {composite_model.summary()}\")\n",
    "\n",
    "composite_model.compile(\n",
    "    optimizer=\"adam\",\n",
    "    loss=\"mean_squared_error\",\n",
    "    metrics=[\n",
    "#        \"mean_absolute_error\",\n",
    "        \"mean_absolute_percentage_error\",\n",
    "#        \"mean_squared_error\",\n",
    "#        \"root_mean_squared_error\",\n",
    "#        \"accuracy\",\n",
    "#        \"precision\",\n",
    "#        \"recall\",\n",
    "#        \"auc\",\n",
    "#        \"binary_accuracy\"\n",
    "    ]\n",
    ")\n",
    "\n",
    "composite_model.fit(run_batch.x_train, run_batch.y_train, epochs=3, verbose=1)\n",
    "\n",
    "loss_and_metrics = composite_model.evaluate(run_batch.x_test, run_batch.y_test, verbose=2)\n",
    "\n",
    "print(f\"Test eval results: {loss_and_metrics}\")"
   ],
   "id": "afd9f15c2ad0b8b5",
   "outputs": [
    {
     "data": {
      "text/plain": [
       "\u001B[1mModel: \"functional\"\u001B[0m\n"
      ],
      "text/html": [
       "<pre style=\"white-space:pre;overflow-x:auto;line-height:normal;font-family:Menlo,'DejaVu Sans Mono',consolas,'Courier New',monospace\"><span style=\"font-weight: bold\">Model: \"functional\"</span>\n",
       "</pre>\n"
      ]
     },
     "metadata": {},
     "output_type": "display_data"
    },
    {
     "data": {
      "text/plain": [
       "┏━━━━━━━━━━━━━━━━━━━━━━━━━━━━━━━━━┳━━━━━━━━━━━━━━━━━━━━━━━━┳━━━━━━━━━━━━━━━┓\n",
       "┃\u001B[1m \u001B[0m\u001B[1mLayer (type)                   \u001B[0m\u001B[1m \u001B[0m┃\u001B[1m \u001B[0m\u001B[1mOutput Shape          \u001B[0m\u001B[1m \u001B[0m┃\u001B[1m \u001B[0m\u001B[1m      Param #\u001B[0m\u001B[1m \u001B[0m┃\n",
       "┡━━━━━━━━━━━━━━━━━━━━━━━━━━━━━━━━━╇━━━━━━━━━━━━━━━━━━━━━━━━╇━━━━━━━━━━━━━━━┩\n",
       "│ input_layer (\u001B[38;5;33mInputLayer\u001B[0m)        │ (\u001B[38;5;45mNone\u001B[0m, \u001B[38;5;34m1\u001B[0m)              │             \u001B[38;5;34m0\u001B[0m │\n",
       "├─────────────────────────────────┼────────────────────────┼───────────────┤\n",
       "│ dense (\u001B[38;5;33mDense\u001B[0m)                   │ (\u001B[38;5;45mNone\u001B[0m, \u001B[38;5;34m32\u001B[0m)             │            \u001B[38;5;34m64\u001B[0m │\n",
       "├─────────────────────────────────┼────────────────────────┼───────────────┤\n",
       "│ dense_1 (\u001B[38;5;33mDense\u001B[0m)                 │ (\u001B[38;5;45mNone\u001B[0m, \u001B[38;5;34m16\u001B[0m)             │           \u001B[38;5;34m528\u001B[0m │\n",
       "├─────────────────────────────────┼────────────────────────┼───────────────┤\n",
       "│ dense_2 (\u001B[38;5;33mDense\u001B[0m)                 │ (\u001B[38;5;45mNone\u001B[0m, \u001B[38;5;34m8\u001B[0m)              │           \u001B[38;5;34m136\u001B[0m │\n",
       "├─────────────────────────────────┼────────────────────────┼───────────────┤\n",
       "│ dense_3 (\u001B[38;5;33mDense\u001B[0m)                 │ (\u001B[38;5;45mNone\u001B[0m, \u001B[38;5;34m1\u001B[0m)              │             \u001B[38;5;34m9\u001B[0m │\n",
       "└─────────────────────────────────┴────────────────────────┴───────────────┘\n"
      ],
      "text/html": [
       "<pre style=\"white-space:pre;overflow-x:auto;line-height:normal;font-family:Menlo,'DejaVu Sans Mono',consolas,'Courier New',monospace\">┏━━━━━━━━━━━━━━━━━━━━━━━━━━━━━━━━━┳━━━━━━━━━━━━━━━━━━━━━━━━┳━━━━━━━━━━━━━━━┓\n",
       "┃<span style=\"font-weight: bold\"> Layer (type)                    </span>┃<span style=\"font-weight: bold\"> Output Shape           </span>┃<span style=\"font-weight: bold\">       Param # </span>┃\n",
       "┡━━━━━━━━━━━━━━━━━━━━━━━━━━━━━━━━━╇━━━━━━━━━━━━━━━━━━━━━━━━╇━━━━━━━━━━━━━━━┩\n",
       "│ input_layer (<span style=\"color: #0087ff; text-decoration-color: #0087ff\">InputLayer</span>)        │ (<span style=\"color: #00d7ff; text-decoration-color: #00d7ff\">None</span>, <span style=\"color: #00af00; text-decoration-color: #00af00\">1</span>)              │             <span style=\"color: #00af00; text-decoration-color: #00af00\">0</span> │\n",
       "├─────────────────────────────────┼────────────────────────┼───────────────┤\n",
       "│ dense (<span style=\"color: #0087ff; text-decoration-color: #0087ff\">Dense</span>)                   │ (<span style=\"color: #00d7ff; text-decoration-color: #00d7ff\">None</span>, <span style=\"color: #00af00; text-decoration-color: #00af00\">32</span>)             │            <span style=\"color: #00af00; text-decoration-color: #00af00\">64</span> │\n",
       "├─────────────────────────────────┼────────────────────────┼───────────────┤\n",
       "│ dense_1 (<span style=\"color: #0087ff; text-decoration-color: #0087ff\">Dense</span>)                 │ (<span style=\"color: #00d7ff; text-decoration-color: #00d7ff\">None</span>, <span style=\"color: #00af00; text-decoration-color: #00af00\">16</span>)             │           <span style=\"color: #00af00; text-decoration-color: #00af00\">528</span> │\n",
       "├─────────────────────────────────┼────────────────────────┼───────────────┤\n",
       "│ dense_2 (<span style=\"color: #0087ff; text-decoration-color: #0087ff\">Dense</span>)                 │ (<span style=\"color: #00d7ff; text-decoration-color: #00d7ff\">None</span>, <span style=\"color: #00af00; text-decoration-color: #00af00\">8</span>)              │           <span style=\"color: #00af00; text-decoration-color: #00af00\">136</span> │\n",
       "├─────────────────────────────────┼────────────────────────┼───────────────┤\n",
       "│ dense_3 (<span style=\"color: #0087ff; text-decoration-color: #0087ff\">Dense</span>)                 │ (<span style=\"color: #00d7ff; text-decoration-color: #00d7ff\">None</span>, <span style=\"color: #00af00; text-decoration-color: #00af00\">1</span>)              │             <span style=\"color: #00af00; text-decoration-color: #00af00\">9</span> │\n",
       "└─────────────────────────────────┴────────────────────────┴───────────────┘\n",
       "</pre>\n"
      ]
     },
     "metadata": {},
     "output_type": "display_data"
    },
    {
     "data": {
      "text/plain": [
       "\u001B[1m Total params: \u001B[0m\u001B[38;5;34m737\u001B[0m (2.88 KB)\n"
      ],
      "text/html": [
       "<pre style=\"white-space:pre;overflow-x:auto;line-height:normal;font-family:Menlo,'DejaVu Sans Mono',consolas,'Courier New',monospace\"><span style=\"font-weight: bold\"> Total params: </span><span style=\"color: #00af00; text-decoration-color: #00af00\">737</span> (2.88 KB)\n",
       "</pre>\n"
      ]
     },
     "metadata": {},
     "output_type": "display_data"
    },
    {
     "data": {
      "text/plain": [
       "\u001B[1m Trainable params: \u001B[0m\u001B[38;5;34m737\u001B[0m (2.88 KB)\n"
      ],
      "text/html": [
       "<pre style=\"white-space:pre;overflow-x:auto;line-height:normal;font-family:Menlo,'DejaVu Sans Mono',consolas,'Courier New',monospace\"><span style=\"font-weight: bold\"> Trainable params: </span><span style=\"color: #00af00; text-decoration-color: #00af00\">737</span> (2.88 KB)\n",
       "</pre>\n"
      ]
     },
     "metadata": {},
     "output_type": "display_data"
    },
    {
     "data": {
      "text/plain": [
       "\u001B[1m Non-trainable params: \u001B[0m\u001B[38;5;34m0\u001B[0m (0.00 B)\n"
      ],
      "text/html": [
       "<pre style=\"white-space:pre;overflow-x:auto;line-height:normal;font-family:Menlo,'DejaVu Sans Mono',consolas,'Courier New',monospace\"><span style=\"font-weight: bold\"> Non-trainable params: </span><span style=\"color: #00af00; text-decoration-color: #00af00\">0</span> (0.00 B)\n",
       "</pre>\n"
      ]
     },
     "metadata": {},
     "output_type": "display_data"
    },
    {
     "name": "stdout",
     "output_type": "stream",
     "text": [
      "composite_model summary: None\n",
      "Epoch 1/3\n",
      "WARNING:tensorflow:5 out of the last 16 calls to <function TensorFlowTrainer._make_function.<locals>.multi_step_on_iterator at 0x3217501f0> triggered tf.function retracing. Tracing is expensive and the excessive number of tracings could be due to (1) creating @tf.function repeatedly in a loop, (2) passing tensors with different shapes, (3) passing Python objects instead of tensors. For (1), please define your @tf.function outside of the loop. For (2), @tf.function has reduce_retracing=True option that can avoid unnecessary retracing. For (3), please refer to https://www.tensorflow.org/guide/function#controlling_retracing and https://www.tensorflow.org/api_docs/python/tf/function for  more details.\n"
     ]
    },
    {
     "name": "stderr",
     "output_type": "stream",
     "text": [
      "WARNING:tensorflow:5 out of the last 16 calls to <function TensorFlowTrainer._make_function.<locals>.multi_step_on_iterator at 0x3217501f0> triggered tf.function retracing. Tracing is expensive and the excessive number of tracings could be due to (1) creating @tf.function repeatedly in a loop, (2) passing tensors with different shapes, (3) passing Python objects instead of tensors. For (1), please define your @tf.function outside of the loop. For (2), @tf.function has reduce_retracing=True option that can avoid unnecessary retracing. For (3), please refer to https://www.tensorflow.org/guide/function#controlling_retracing and https://www.tensorflow.org/api_docs/python/tf/function for  more details.\n"
     ]
    },
    {
     "name": "stdout",
     "output_type": "stream",
     "text": [
      "\u001B[1m1/1\u001B[0m \u001B[32m━━━━━━━━━━━━━━━━━━━━\u001B[0m\u001B[37m\u001B[0m \u001B[1m1s\u001B[0m 589ms/step - loss: 32.3658 - mean_absolute_percentage_error: 105.9469\n",
      "Epoch 2/3\n",
      "\u001B[1m1/1\u001B[0m \u001B[32m━━━━━━━━━━━━━━━━━━━━\u001B[0m\u001B[37m\u001B[0m \u001B[1m0s\u001B[0m 22ms/step - loss: 32.2799 - mean_absolute_percentage_error: 105.7476\n",
      "Epoch 3/3\n",
      "\u001B[1m1/1\u001B[0m \u001B[32m━━━━━━━━━━━━━━━━━━━━\u001B[0m\u001B[37m\u001B[0m \u001B[1m0s\u001B[0m 19ms/step - loss: 32.1933 - mean_absolute_percentage_error: 105.5466\n",
      "WARNING:tensorflow:6 out of the last 19 calls to <function TensorFlowTrainer._make_function.<locals>.multi_step_on_iterator at 0x321753c70> triggered tf.function retracing. Tracing is expensive and the excessive number of tracings could be due to (1) creating @tf.function repeatedly in a loop, (2) passing tensors with different shapes, (3) passing Python objects instead of tensors. For (1), please define your @tf.function outside of the loop. For (2), @tf.function has reduce_retracing=True option that can avoid unnecessary retracing. For (3), please refer to https://www.tensorflow.org/guide/function#controlling_retracing and https://www.tensorflow.org/api_docs/python/tf/function for  more details.\n"
     ]
    },
    {
     "name": "stderr",
     "output_type": "stream",
     "text": [
      "WARNING:tensorflow:6 out of the last 19 calls to <function TensorFlowTrainer._make_function.<locals>.multi_step_on_iterator at 0x321753c70> triggered tf.function retracing. Tracing is expensive and the excessive number of tracings could be due to (1) creating @tf.function repeatedly in a loop, (2) passing tensors with different shapes, (3) passing Python objects instead of tensors. For (1), please define your @tf.function outside of the loop. For (2), @tf.function has reduce_retracing=True option that can avoid unnecessary retracing. For (3), please refer to https://www.tensorflow.org/guide/function#controlling_retracing and https://www.tensorflow.org/api_docs/python/tf/function for  more details.\n"
     ]
    },
    {
     "name": "stdout",
     "output_type": "stream",
     "text": [
      "1/1 - 0s - 79ms/step - loss: 126.5247 - mean_absolute_percentage_error: 101.8697\n",
      "Test eval results: [126.52469635009766, 101.86973571777344]\n"
     ]
    }
   ],
   "execution_count": 13
  },
  {
   "metadata": {},
   "cell_type": "markdown",
   "source": "## A _functional_ model loaded into our `RunBatch` apparatus",
   "id": "bbee7ecdf45019e4"
  },
  {
   "metadata": {
    "ExecuteTime": {
     "end_time": "2025-02-26T15:46:41.214324Z",
     "start_time": "2025-02-26T15:46:39.348422Z"
    }
   },
   "cell_type": "code",
   "source": [
    "keras.backend.clear_session()\n",
    "\n",
    "test_common_dense_fn = ModelTest().set_description(\"Common Dense Sequence\").set_model(functional_model)\n",
    "test_common_dense_fn.set_fit_epochs(10)\n",
    "test_common_dense_fn.compile_model(\n",
    "    optimizer=\"adam\",\n",
    "    loss=\"mean_squared_error\",\n",
    "    metrics=[\n",
    "#        \"mean_absolute_error\",\n",
    "        \"mean_absolute_percentage_error\",\n",
    "#        \"mean_squared_error\",\n",
    "#        \"root_mean_squared_error\",\n",
    "#        \"accuracy\",\n",
    "#        \"precision\",\n",
    "#        \"recall\",\n",
    "#        \"auc\",\n",
    "#        \"binary_accuracy\"\n",
    "    ]\n",
    ")\n",
    "\n",
    "test_common_dense_fn.model.summary()\n",
    "\n",
    "test_common_dense_fn.model.fit(run_batch.x_train, run_batch.y_train, epochs=10, verbose=1)\n",
    "\n",
    "run_batch.add_test(test_common_dense_fn)\n",
    "\n",
    "run_batch.run_all()\n",
    "\n",
    "for i, result in enumerate(run_batch.results):\n",
    "    print(f\"Test {i} eval results: {result.eval_results}\")\n"
   ],
   "id": "448674ee8410b86e",
   "outputs": [
    {
     "data": {
      "text/plain": [
       "\u001B[1mModel: \"functional_model_1\"\u001B[0m\n"
      ],
      "text/html": [
       "<pre style=\"white-space:pre;overflow-x:auto;line-height:normal;font-family:Menlo,'DejaVu Sans Mono',consolas,'Courier New',monospace\"><span style=\"font-weight: bold\">Model: \"functional_model_1\"</span>\n",
       "</pre>\n"
      ]
     },
     "metadata": {},
     "output_type": "display_data"
    },
    {
     "data": {
      "text/plain": [
       "┏━━━━━━━━━━━━━━━━━━━━━━━━━━━━━━━━━┳━━━━━━━━━━━━━━━━━━━━━━━━┳━━━━━━━━━━━━━━━┓\n",
       "┃\u001B[1m \u001B[0m\u001B[1mLayer (type)                   \u001B[0m\u001B[1m \u001B[0m┃\u001B[1m \u001B[0m\u001B[1mOutput Shape          \u001B[0m\u001B[1m \u001B[0m┃\u001B[1m \u001B[0m\u001B[1m      Param #\u001B[0m\u001B[1m \u001B[0m┃\n",
       "┡━━━━━━━━━━━━━━━━━━━━━━━━━━━━━━━━━╇━━━━━━━━━━━━━━━━━━━━━━━━╇━━━━━━━━━━━━━━━┩\n",
       "│ input_layer (\u001B[38;5;33mInputLayer\u001B[0m)        │ (\u001B[38;5;45mNone\u001B[0m, \u001B[38;5;34m1\u001B[0m)              │             \u001B[38;5;34m0\u001B[0m │\n",
       "├─────────────────────────────────┼────────────────────────┼───────────────┤\n",
       "│ dense (\u001B[38;5;33mDense\u001B[0m)                   │ (\u001B[38;5;45mNone\u001B[0m, \u001B[38;5;34m32\u001B[0m)             │            \u001B[38;5;34m64\u001B[0m │\n",
       "├─────────────────────────────────┼────────────────────────┼───────────────┤\n",
       "│ dense_1 (\u001B[38;5;33mDense\u001B[0m)                 │ (\u001B[38;5;45mNone\u001B[0m, \u001B[38;5;34m16\u001B[0m)             │           \u001B[38;5;34m528\u001B[0m │\n",
       "├─────────────────────────────────┼────────────────────────┼───────────────┤\n",
       "│ dense_2 (\u001B[38;5;33mDense\u001B[0m)                 │ (\u001B[38;5;45mNone\u001B[0m, \u001B[38;5;34m8\u001B[0m)              │           \u001B[38;5;34m136\u001B[0m │\n",
       "├─────────────────────────────────┼────────────────────────┼───────────────┤\n",
       "│ dense_3 (\u001B[38;5;33mDense\u001B[0m)                 │ (\u001B[38;5;45mNone\u001B[0m, \u001B[38;5;34m1\u001B[0m)              │             \u001B[38;5;34m9\u001B[0m │\n",
       "└─────────────────────────────────┴────────────────────────┴───────────────┘\n"
      ],
      "text/html": [
       "<pre style=\"white-space:pre;overflow-x:auto;line-height:normal;font-family:Menlo,'DejaVu Sans Mono',consolas,'Courier New',monospace\">┏━━━━━━━━━━━━━━━━━━━━━━━━━━━━━━━━━┳━━━━━━━━━━━━━━━━━━━━━━━━┳━━━━━━━━━━━━━━━┓\n",
       "┃<span style=\"font-weight: bold\"> Layer (type)                    </span>┃<span style=\"font-weight: bold\"> Output Shape           </span>┃<span style=\"font-weight: bold\">       Param # </span>┃\n",
       "┡━━━━━━━━━━━━━━━━━━━━━━━━━━━━━━━━━╇━━━━━━━━━━━━━━━━━━━━━━━━╇━━━━━━━━━━━━━━━┩\n",
       "│ input_layer (<span style=\"color: #0087ff; text-decoration-color: #0087ff\">InputLayer</span>)        │ (<span style=\"color: #00d7ff; text-decoration-color: #00d7ff\">None</span>, <span style=\"color: #00af00; text-decoration-color: #00af00\">1</span>)              │             <span style=\"color: #00af00; text-decoration-color: #00af00\">0</span> │\n",
       "├─────────────────────────────────┼────────────────────────┼───────────────┤\n",
       "│ dense (<span style=\"color: #0087ff; text-decoration-color: #0087ff\">Dense</span>)                   │ (<span style=\"color: #00d7ff; text-decoration-color: #00d7ff\">None</span>, <span style=\"color: #00af00; text-decoration-color: #00af00\">32</span>)             │            <span style=\"color: #00af00; text-decoration-color: #00af00\">64</span> │\n",
       "├─────────────────────────────────┼────────────────────────┼───────────────┤\n",
       "│ dense_1 (<span style=\"color: #0087ff; text-decoration-color: #0087ff\">Dense</span>)                 │ (<span style=\"color: #00d7ff; text-decoration-color: #00d7ff\">None</span>, <span style=\"color: #00af00; text-decoration-color: #00af00\">16</span>)             │           <span style=\"color: #00af00; text-decoration-color: #00af00\">528</span> │\n",
       "├─────────────────────────────────┼────────────────────────┼───────────────┤\n",
       "│ dense_2 (<span style=\"color: #0087ff; text-decoration-color: #0087ff\">Dense</span>)                 │ (<span style=\"color: #00d7ff; text-decoration-color: #00d7ff\">None</span>, <span style=\"color: #00af00; text-decoration-color: #00af00\">8</span>)              │           <span style=\"color: #00af00; text-decoration-color: #00af00\">136</span> │\n",
       "├─────────────────────────────────┼────────────────────────┼───────────────┤\n",
       "│ dense_3 (<span style=\"color: #0087ff; text-decoration-color: #0087ff\">Dense</span>)                 │ (<span style=\"color: #00d7ff; text-decoration-color: #00d7ff\">None</span>, <span style=\"color: #00af00; text-decoration-color: #00af00\">1</span>)              │             <span style=\"color: #00af00; text-decoration-color: #00af00\">9</span> │\n",
       "└─────────────────────────────────┴────────────────────────┴───────────────┘\n",
       "</pre>\n"
      ]
     },
     "metadata": {},
     "output_type": "display_data"
    },
    {
     "data": {
      "text/plain": [
       "\u001B[1m Total params: \u001B[0m\u001B[38;5;34m737\u001B[0m (2.88 KB)\n"
      ],
      "text/html": [
       "<pre style=\"white-space:pre;overflow-x:auto;line-height:normal;font-family:Menlo,'DejaVu Sans Mono',consolas,'Courier New',monospace\"><span style=\"font-weight: bold\"> Total params: </span><span style=\"color: #00af00; text-decoration-color: #00af00\">737</span> (2.88 KB)\n",
       "</pre>\n"
      ]
     },
     "metadata": {},
     "output_type": "display_data"
    },
    {
     "data": {
      "text/plain": [
       "\u001B[1m Trainable params: \u001B[0m\u001B[38;5;34m737\u001B[0m (2.88 KB)\n"
      ],
      "text/html": [
       "<pre style=\"white-space:pre;overflow-x:auto;line-height:normal;font-family:Menlo,'DejaVu Sans Mono',consolas,'Courier New',monospace\"><span style=\"font-weight: bold\"> Trainable params: </span><span style=\"color: #00af00; text-decoration-color: #00af00\">737</span> (2.88 KB)\n",
       "</pre>\n"
      ]
     },
     "metadata": {},
     "output_type": "display_data"
    },
    {
     "data": {
      "text/plain": [
       "\u001B[1m Non-trainable params: \u001B[0m\u001B[38;5;34m0\u001B[0m (0.00 B)\n"
      ],
      "text/html": [
       "<pre style=\"white-space:pre;overflow-x:auto;line-height:normal;font-family:Menlo,'DejaVu Sans Mono',consolas,'Courier New',monospace\"><span style=\"font-weight: bold\"> Non-trainable params: </span><span style=\"color: #00af00; text-decoration-color: #00af00\">0</span> (0.00 B)\n",
       "</pre>\n"
      ]
     },
     "metadata": {},
     "output_type": "display_data"
    },
    {
     "name": "stdout",
     "output_type": "stream",
     "text": [
      "Epoch 1/10\n",
      "\u001B[1m1/1\u001B[0m \u001B[32m━━━━━━━━━━━━━━━━━━━━\u001B[0m\u001B[37m\u001B[0m \u001B[1m1s\u001B[0m 588ms/step - loss: 32.1061 - mean_absolute_percentage_error: 105.3439\n",
      "Epoch 2/10\n",
      "\u001B[1m1/1\u001B[0m \u001B[32m━━━━━━━━━━━━━━━━━━━━\u001B[0m\u001B[37m\u001B[0m \u001B[1m0s\u001B[0m 18ms/step - loss: 32.0183 - mean_absolute_percentage_error: 105.1398\n",
      "Epoch 3/10\n",
      "\u001B[1m1/1\u001B[0m \u001B[32m━━━━━━━━━━━━━━━━━━━━\u001B[0m\u001B[37m\u001B[0m \u001B[1m0s\u001B[0m 18ms/step - loss: 31.9300 - mean_absolute_percentage_error: 104.9339\n",
      "Epoch 4/10\n",
      "\u001B[1m1/1\u001B[0m \u001B[32m━━━━━━━━━━━━━━━━━━━━\u001B[0m\u001B[37m\u001B[0m \u001B[1m0s\u001B[0m 18ms/step - loss: 31.8410 - mean_absolute_percentage_error: 104.7265\n",
      "Epoch 5/10\n",
      "\u001B[1m1/1\u001B[0m \u001B[32m━━━━━━━━━━━━━━━━━━━━\u001B[0m\u001B[37m\u001B[0m \u001B[1m0s\u001B[0m 20ms/step - loss: 31.7515 - mean_absolute_percentage_error: 104.5173\n",
      "Epoch 6/10\n",
      "\u001B[1m1/1\u001B[0m \u001B[32m━━━━━━━━━━━━━━━━━━━━\u001B[0m\u001B[37m\u001B[0m \u001B[1m0s\u001B[0m 20ms/step - loss: 31.6614 - mean_absolute_percentage_error: 104.3065\n",
      "Epoch 7/10\n",
      "\u001B[1m1/1\u001B[0m \u001B[32m━━━━━━━━━━━━━━━━━━━━\u001B[0m\u001B[37m\u001B[0m \u001B[1m0s\u001B[0m 18ms/step - loss: 31.5706 - mean_absolute_percentage_error: 104.0939\n",
      "Epoch 8/10\n",
      "\u001B[1m1/1\u001B[0m \u001B[32m━━━━━━━━━━━━━━━━━━━━\u001B[0m\u001B[37m\u001B[0m \u001B[1m0s\u001B[0m 19ms/step - loss: 31.4793 - mean_absolute_percentage_error: 103.8796\n",
      "Epoch 9/10\n",
      "\u001B[1m1/1\u001B[0m \u001B[32m━━━━━━━━━━━━━━━━━━━━\u001B[0m\u001B[37m\u001B[0m \u001B[1m0s\u001B[0m 19ms/step - loss: 31.3873 - mean_absolute_percentage_error: 103.6636\n",
      "Epoch 10/10\n",
      "\u001B[1m1/1\u001B[0m \u001B[32m━━━━━━━━━━━━━━━━━━━━\u001B[0m\u001B[37m\u001B[0m \u001B[1m0s\u001B[0m 20ms/step - loss: 31.2946 - mean_absolute_percentage_error: 103.4457\n",
      "━━━━━━━━━━━━━━━━━━━━━━━━━━━━━━━━━━━━━━━━━━━━━━━━━━━━━━━━━━━━━━━━━━━━━━━━━━━━━━━━\n",
      "Testing Model: Common Dense Sequence\n",
      "━━━━━━━━━━━━━━━━━━━━━━━━━━━━━━━━━━━━━━━━━━━━━━━━━━━━━━━━━━━━━━━━━━━━━━━━━━━━━━━━\n"
     ]
    },
    {
     "data": {
      "text/plain": [
       "\u001B[1mModel: \"sequential\"\u001B[0m\n"
      ],
      "text/html": [
       "<pre style=\"white-space:pre;overflow-x:auto;line-height:normal;font-family:Menlo,'DejaVu Sans Mono',consolas,'Courier New',monospace\"><span style=\"font-weight: bold\">Model: \"sequential\"</span>\n",
       "</pre>\n"
      ]
     },
     "metadata": {},
     "output_type": "display_data"
    },
    {
     "data": {
      "text/plain": [
       "┏━━━━━━━━━━━━━━━━━━━━━━━━━━━━━━━━━┳━━━━━━━━━━━━━━━━━━━━━━━━┳━━━━━━━━━━━━━━━┓\n",
       "┃\u001B[1m \u001B[0m\u001B[1mLayer (type)                   \u001B[0m\u001B[1m \u001B[0m┃\u001B[1m \u001B[0m\u001B[1mOutput Shape          \u001B[0m\u001B[1m \u001B[0m┃\u001B[1m \u001B[0m\u001B[1m      Param #\u001B[0m\u001B[1m \u001B[0m┃\n",
       "┡━━━━━━━━━━━━━━━━━━━━━━━━━━━━━━━━━╇━━━━━━━━━━━━━━━━━━━━━━━━╇━━━━━━━━━━━━━━━┩\n",
       "│ dense (\u001B[38;5;33mDense\u001B[0m)                   │ (\u001B[38;5;45mNone\u001B[0m, \u001B[38;5;34m32\u001B[0m)             │            \u001B[38;5;34m64\u001B[0m │\n",
       "├─────────────────────────────────┼────────────────────────┼───────────────┤\n",
       "│ dense_1 (\u001B[38;5;33mDense\u001B[0m)                 │ (\u001B[38;5;45mNone\u001B[0m, \u001B[38;5;34m16\u001B[0m)             │           \u001B[38;5;34m528\u001B[0m │\n",
       "├─────────────────────────────────┼────────────────────────┼───────────────┤\n",
       "│ dense_2 (\u001B[38;5;33mDense\u001B[0m)                 │ (\u001B[38;5;45mNone\u001B[0m, \u001B[38;5;34m16\u001B[0m)             │           \u001B[38;5;34m272\u001B[0m │\n",
       "├─────────────────────────────────┼────────────────────────┼───────────────┤\n",
       "│ dense_3 (\u001B[38;5;33mDense\u001B[0m)                 │ (\u001B[38;5;45mNone\u001B[0m, \u001B[38;5;34m1\u001B[0m)              │            \u001B[38;5;34m17\u001B[0m │\n",
       "└─────────────────────────────────┴────────────────────────┴───────────────┘\n"
      ],
      "text/html": [
       "<pre style=\"white-space:pre;overflow-x:auto;line-height:normal;font-family:Menlo,'DejaVu Sans Mono',consolas,'Courier New',monospace\">┏━━━━━━━━━━━━━━━━━━━━━━━━━━━━━━━━━┳━━━━━━━━━━━━━━━━━━━━━━━━┳━━━━━━━━━━━━━━━┓\n",
       "┃<span style=\"font-weight: bold\"> Layer (type)                    </span>┃<span style=\"font-weight: bold\"> Output Shape           </span>┃<span style=\"font-weight: bold\">       Param # </span>┃\n",
       "┡━━━━━━━━━━━━━━━━━━━━━━━━━━━━━━━━━╇━━━━━━━━━━━━━━━━━━━━━━━━╇━━━━━━━━━━━━━━━┩\n",
       "│ dense (<span style=\"color: #0087ff; text-decoration-color: #0087ff\">Dense</span>)                   │ (<span style=\"color: #00d7ff; text-decoration-color: #00d7ff\">None</span>, <span style=\"color: #00af00; text-decoration-color: #00af00\">32</span>)             │            <span style=\"color: #00af00; text-decoration-color: #00af00\">64</span> │\n",
       "├─────────────────────────────────┼────────────────────────┼───────────────┤\n",
       "│ dense_1 (<span style=\"color: #0087ff; text-decoration-color: #0087ff\">Dense</span>)                 │ (<span style=\"color: #00d7ff; text-decoration-color: #00d7ff\">None</span>, <span style=\"color: #00af00; text-decoration-color: #00af00\">16</span>)             │           <span style=\"color: #00af00; text-decoration-color: #00af00\">528</span> │\n",
       "├─────────────────────────────────┼────────────────────────┼───────────────┤\n",
       "│ dense_2 (<span style=\"color: #0087ff; text-decoration-color: #0087ff\">Dense</span>)                 │ (<span style=\"color: #00d7ff; text-decoration-color: #00d7ff\">None</span>, <span style=\"color: #00af00; text-decoration-color: #00af00\">16</span>)             │           <span style=\"color: #00af00; text-decoration-color: #00af00\">272</span> │\n",
       "├─────────────────────────────────┼────────────────────────┼───────────────┤\n",
       "│ dense_3 (<span style=\"color: #0087ff; text-decoration-color: #0087ff\">Dense</span>)                 │ (<span style=\"color: #00d7ff; text-decoration-color: #00d7ff\">None</span>, <span style=\"color: #00af00; text-decoration-color: #00af00\">1</span>)              │            <span style=\"color: #00af00; text-decoration-color: #00af00\">17</span> │\n",
       "└─────────────────────────────────┴────────────────────────┴───────────────┘\n",
       "</pre>\n"
      ]
     },
     "metadata": {},
     "output_type": "display_data"
    },
    {
     "data": {
      "text/plain": [
       "\u001B[1m Total params: \u001B[0m\u001B[38;5;34m2,645\u001B[0m (10.34 KB)\n"
      ],
      "text/html": [
       "<pre style=\"white-space:pre;overflow-x:auto;line-height:normal;font-family:Menlo,'DejaVu Sans Mono',consolas,'Courier New',monospace\"><span style=\"font-weight: bold\"> Total params: </span><span style=\"color: #00af00; text-decoration-color: #00af00\">2,645</span> (10.34 KB)\n",
       "</pre>\n"
      ]
     },
     "metadata": {},
     "output_type": "display_data"
    },
    {
     "data": {
      "text/plain": [
       "\u001B[1m Trainable params: \u001B[0m\u001B[38;5;34m881\u001B[0m (3.44 KB)\n"
      ],
      "text/html": [
       "<pre style=\"white-space:pre;overflow-x:auto;line-height:normal;font-family:Menlo,'DejaVu Sans Mono',consolas,'Courier New',monospace\"><span style=\"font-weight: bold\"> Trainable params: </span><span style=\"color: #00af00; text-decoration-color: #00af00\">881</span> (3.44 KB)\n",
       "</pre>\n"
      ]
     },
     "metadata": {},
     "output_type": "display_data"
    },
    {
     "data": {
      "text/plain": [
       "\u001B[1m Non-trainable params: \u001B[0m\u001B[38;5;34m0\u001B[0m (0.00 B)\n"
      ],
      "text/html": [
       "<pre style=\"white-space:pre;overflow-x:auto;line-height:normal;font-family:Menlo,'DejaVu Sans Mono',consolas,'Courier New',monospace\"><span style=\"font-weight: bold\"> Non-trainable params: </span><span style=\"color: #00af00; text-decoration-color: #00af00\">0</span> (0.00 B)\n",
       "</pre>\n"
      ]
     },
     "metadata": {},
     "output_type": "display_data"
    },
    {
     "data": {
      "text/plain": [
       "\u001B[1m Optimizer params: \u001B[0m\u001B[38;5;34m1,764\u001B[0m (6.89 KB)\n"
      ],
      "text/html": [
       "<pre style=\"white-space:pre;overflow-x:auto;line-height:normal;font-family:Menlo,'DejaVu Sans Mono',consolas,'Courier New',monospace\"><span style=\"font-weight: bold\"> Optimizer params: </span><span style=\"color: #00af00; text-decoration-color: #00af00\">1,764</span> (6.89 KB)\n",
       "</pre>\n"
      ]
     },
     "metadata": {},
     "output_type": "display_data"
    },
    {
     "name": "stdout",
     "output_type": "stream",
     "text": [
      "Epoch 1/10\n",
      "\u001B[1m1/1\u001B[0m \u001B[32m━━━━━━━━━━━━━━━━━━━━\u001B[0m\u001B[37m\u001B[0m \u001B[1m0s\u001B[0m 136ms/step - accuracy: 0.0000e+00 - auc: 0.0000e+00 - binary_accuracy: 0.0000e+00 - loss: 29.5562 - mean_absolute_error: 4.9629 - mean_absolute_percentage_error: 99.2682 - mean_squared_error: 29.5562 - precision: 0.0000e+00 - recall: 0.0000e+00 - root_mean_squared_error: 5.4366\n",
      "Epoch 2/10\n",
      "\u001B[1m1/1\u001B[0m \u001B[32m━━━━━━━━━━━━━━━━━━━━\u001B[0m\u001B[37m\u001B[0m \u001B[1m0s\u001B[0m 24ms/step - accuracy: 0.0000e+00 - auc: 0.0000e+00 - binary_accuracy: 0.0000e+00 - loss: 29.4880 - mean_absolute_error: 4.9562 - mean_absolute_percentage_error: 99.0993 - mean_squared_error: 29.4880 - precision: 0.0000e+00 - recall: 0.0000e+00 - root_mean_squared_error: 5.4303\n",
      "Epoch 3/10\n",
      "\u001B[1m1/1\u001B[0m \u001B[32m━━━━━━━━━━━━━━━━━━━━\u001B[0m\u001B[37m\u001B[0m \u001B[1m0s\u001B[0m 23ms/step - accuracy: 0.0000e+00 - auc: 0.0000e+00 - binary_accuracy: 0.0000e+00 - loss: 29.4201 - mean_absolute_error: 4.9496 - mean_absolute_percentage_error: 98.9306 - mean_squared_error: 29.4201 - precision: 0.0000e+00 - recall: 0.0000e+00 - root_mean_squared_error: 5.4240\n",
      "Epoch 4/10\n",
      "\u001B[1m1/1\u001B[0m \u001B[32m━━━━━━━━━━━━━━━━━━━━\u001B[0m\u001B[37m\u001B[0m \u001B[1m0s\u001B[0m 23ms/step - accuracy: 0.0000e+00 - auc: 0.0000e+00 - binary_accuracy: 0.0000e+00 - loss: 29.3525 - mean_absolute_error: 4.9429 - mean_absolute_percentage_error: 98.7624 - mean_squared_error: 29.3525 - precision: 0.0000e+00 - recall: 0.0000e+00 - root_mean_squared_error: 5.4178\n",
      "Epoch 5/10\n",
      "\u001B[1m1/1\u001B[0m \u001B[32m━━━━━━━━━━━━━━━━━━━━\u001B[0m\u001B[37m\u001B[0m \u001B[1m0s\u001B[0m 34ms/step - accuracy: 0.0000e+00 - auc: 0.0000e+00 - binary_accuracy: 0.0000e+00 - loss: 29.2852 - mean_absolute_error: 4.9363 - mean_absolute_percentage_error: 98.5946 - mean_squared_error: 29.2852 - precision: 0.0000e+00 - recall: 0.0000e+00 - root_mean_squared_error: 5.4116\n",
      "Epoch 6/10\n",
      "\u001B[1m1/1\u001B[0m \u001B[32m━━━━━━━━━━━━━━━━━━━━\u001B[0m\u001B[37m\u001B[0m \u001B[1m0s\u001B[0m 24ms/step - accuracy: 0.0000e+00 - auc: 0.0000e+00 - binary_accuracy: 0.0000e+00 - loss: 29.2183 - mean_absolute_error: 4.9296 - mean_absolute_percentage_error: 98.4272 - mean_squared_error: 29.2183 - precision: 0.0000e+00 - recall: 0.0000e+00 - root_mean_squared_error: 5.4054\n",
      "Epoch 7/10\n",
      "\u001B[1m1/1\u001B[0m \u001B[32m━━━━━━━━━━━━━━━━━━━━\u001B[0m\u001B[37m\u001B[0m \u001B[1m0s\u001B[0m 23ms/step - accuracy: 0.0000e+00 - auc: 0.0000e+00 - binary_accuracy: 0.0000e+00 - loss: 29.1517 - mean_absolute_error: 4.9230 - mean_absolute_percentage_error: 98.2603 - mean_squared_error: 29.1517 - precision: 0.0000e+00 - recall: 0.0000e+00 - root_mean_squared_error: 5.3992\n",
      "Epoch 8/10\n",
      "\u001B[1m1/1\u001B[0m \u001B[32m━━━━━━━━━━━━━━━━━━━━\u001B[0m\u001B[37m\u001B[0m \u001B[1m0s\u001B[0m 22ms/step - accuracy: 0.0000e+00 - auc: 0.0000e+00 - binary_accuracy: 0.0000e+00 - loss: 29.0855 - mean_absolute_error: 4.9165 - mean_absolute_percentage_error: 98.0940 - mean_squared_error: 29.0855 - precision: 0.0000e+00 - recall: 0.0000e+00 - root_mean_squared_error: 5.3931\n",
      "Epoch 9/10\n",
      "\u001B[1m1/1\u001B[0m \u001B[32m━━━━━━━━━━━━━━━━━━━━\u001B[0m\u001B[37m\u001B[0m \u001B[1m0s\u001B[0m 22ms/step - accuracy: 0.0000e+00 - auc: 0.0000e+00 - binary_accuracy: 0.0000e+00 - loss: 29.0197 - mean_absolute_error: 4.9099 - mean_absolute_percentage_error: 97.9281 - mean_squared_error: 29.0197 - precision: 0.0000e+00 - recall: 0.0000e+00 - root_mean_squared_error: 5.3870\n",
      "Epoch 10/10\n",
      "\u001B[1m1/1\u001B[0m \u001B[32m━━━━━━━━━━━━━━━━━━━━\u001B[0m\u001B[37m\u001B[0m \u001B[1m0s\u001B[0m 22ms/step - accuracy: 0.0000e+00 - auc: 0.0000e+00 - binary_accuracy: 0.0000e+00 - loss: 28.9542 - mean_absolute_error: 4.9034 - mean_absolute_percentage_error: 97.7629 - mean_squared_error: 28.9542 - precision: 0.0000e+00 - recall: 0.0000e+00 - root_mean_squared_error: 5.3809\n",
      "\n",
      "\n",
      "1/1 - 0s - 77ms/step - accuracy: 0.0000e+00 - auc: 0.0000e+00 - binary_accuracy: 0.0000e+00 - loss: 118.8165 - mean_absolute_error: 10.8548 - mean_absolute_percentage_error: 98.6728 - mean_squared_error: 118.8165 - precision: 0.0000e+00 - recall: 0.0000e+00 - root_mean_squared_error: 10.9003\n",
      "━━━━━━━━━━━━━━━━━━━━━━━━━━━━━━━━━━━━━━━━━━━━━━━━━━━━━━━━━━━━━━━━━━━━━━━━━━━━━━━━\n",
      "Testing Model: Common Dense Sequence\n",
      "━━━━━━━━━━━━━━━━━━━━━━━━━━━━━━━━━━━━━━━━━━━━━━━━━━━━━━━━━━━━━━━━━━━━━━━━━━━━━━━━\n"
     ]
    },
    {
     "data": {
      "text/plain": [
       "\u001B[1mModel: \"functional_model_1\"\u001B[0m\n"
      ],
      "text/html": [
       "<pre style=\"white-space:pre;overflow-x:auto;line-height:normal;font-family:Menlo,'DejaVu Sans Mono',consolas,'Courier New',monospace\"><span style=\"font-weight: bold\">Model: \"functional_model_1\"</span>\n",
       "</pre>\n"
      ]
     },
     "metadata": {},
     "output_type": "display_data"
    },
    {
     "data": {
      "text/plain": [
       "┏━━━━━━━━━━━━━━━━━━━━━━━━━━━━━━━━━┳━━━━━━━━━━━━━━━━━━━━━━━━┳━━━━━━━━━━━━━━━┓\n",
       "┃\u001B[1m \u001B[0m\u001B[1mLayer (type)                   \u001B[0m\u001B[1m \u001B[0m┃\u001B[1m \u001B[0m\u001B[1mOutput Shape          \u001B[0m\u001B[1m \u001B[0m┃\u001B[1m \u001B[0m\u001B[1m      Param #\u001B[0m\u001B[1m \u001B[0m┃\n",
       "┡━━━━━━━━━━━━━━━━━━━━━━━━━━━━━━━━━╇━━━━━━━━━━━━━━━━━━━━━━━━╇━━━━━━━━━━━━━━━┩\n",
       "│ input_layer (\u001B[38;5;33mInputLayer\u001B[0m)        │ (\u001B[38;5;45mNone\u001B[0m, \u001B[38;5;34m1\u001B[0m)              │             \u001B[38;5;34m0\u001B[0m │\n",
       "├─────────────────────────────────┼────────────────────────┼───────────────┤\n",
       "│ dense (\u001B[38;5;33mDense\u001B[0m)                   │ (\u001B[38;5;45mNone\u001B[0m, \u001B[38;5;34m32\u001B[0m)             │            \u001B[38;5;34m64\u001B[0m │\n",
       "├─────────────────────────────────┼────────────────────────┼───────────────┤\n",
       "│ dense_1 (\u001B[38;5;33mDense\u001B[0m)                 │ (\u001B[38;5;45mNone\u001B[0m, \u001B[38;5;34m16\u001B[0m)             │           \u001B[38;5;34m528\u001B[0m │\n",
       "├─────────────────────────────────┼────────────────────────┼───────────────┤\n",
       "│ dense_2 (\u001B[38;5;33mDense\u001B[0m)                 │ (\u001B[38;5;45mNone\u001B[0m, \u001B[38;5;34m8\u001B[0m)              │           \u001B[38;5;34m136\u001B[0m │\n",
       "├─────────────────────────────────┼────────────────────────┼───────────────┤\n",
       "│ dense_3 (\u001B[38;5;33mDense\u001B[0m)                 │ (\u001B[38;5;45mNone\u001B[0m, \u001B[38;5;34m1\u001B[0m)              │             \u001B[38;5;34m9\u001B[0m │\n",
       "└─────────────────────────────────┴────────────────────────┴───────────────┘\n"
      ],
      "text/html": [
       "<pre style=\"white-space:pre;overflow-x:auto;line-height:normal;font-family:Menlo,'DejaVu Sans Mono',consolas,'Courier New',monospace\">┏━━━━━━━━━━━━━━━━━━━━━━━━━━━━━━━━━┳━━━━━━━━━━━━━━━━━━━━━━━━┳━━━━━━━━━━━━━━━┓\n",
       "┃<span style=\"font-weight: bold\"> Layer (type)                    </span>┃<span style=\"font-weight: bold\"> Output Shape           </span>┃<span style=\"font-weight: bold\">       Param # </span>┃\n",
       "┡━━━━━━━━━━━━━━━━━━━━━━━━━━━━━━━━━╇━━━━━━━━━━━━━━━━━━━━━━━━╇━━━━━━━━━━━━━━━┩\n",
       "│ input_layer (<span style=\"color: #0087ff; text-decoration-color: #0087ff\">InputLayer</span>)        │ (<span style=\"color: #00d7ff; text-decoration-color: #00d7ff\">None</span>, <span style=\"color: #00af00; text-decoration-color: #00af00\">1</span>)              │             <span style=\"color: #00af00; text-decoration-color: #00af00\">0</span> │\n",
       "├─────────────────────────────────┼────────────────────────┼───────────────┤\n",
       "│ dense (<span style=\"color: #0087ff; text-decoration-color: #0087ff\">Dense</span>)                   │ (<span style=\"color: #00d7ff; text-decoration-color: #00d7ff\">None</span>, <span style=\"color: #00af00; text-decoration-color: #00af00\">32</span>)             │            <span style=\"color: #00af00; text-decoration-color: #00af00\">64</span> │\n",
       "├─────────────────────────────────┼────────────────────────┼───────────────┤\n",
       "│ dense_1 (<span style=\"color: #0087ff; text-decoration-color: #0087ff\">Dense</span>)                 │ (<span style=\"color: #00d7ff; text-decoration-color: #00d7ff\">None</span>, <span style=\"color: #00af00; text-decoration-color: #00af00\">16</span>)             │           <span style=\"color: #00af00; text-decoration-color: #00af00\">528</span> │\n",
       "├─────────────────────────────────┼────────────────────────┼───────────────┤\n",
       "│ dense_2 (<span style=\"color: #0087ff; text-decoration-color: #0087ff\">Dense</span>)                 │ (<span style=\"color: #00d7ff; text-decoration-color: #00d7ff\">None</span>, <span style=\"color: #00af00; text-decoration-color: #00af00\">8</span>)              │           <span style=\"color: #00af00; text-decoration-color: #00af00\">136</span> │\n",
       "├─────────────────────────────────┼────────────────────────┼───────────────┤\n",
       "│ dense_3 (<span style=\"color: #0087ff; text-decoration-color: #0087ff\">Dense</span>)                 │ (<span style=\"color: #00d7ff; text-decoration-color: #00d7ff\">None</span>, <span style=\"color: #00af00; text-decoration-color: #00af00\">1</span>)              │             <span style=\"color: #00af00; text-decoration-color: #00af00\">9</span> │\n",
       "└─────────────────────────────────┴────────────────────────┴───────────────┘\n",
       "</pre>\n"
      ]
     },
     "metadata": {},
     "output_type": "display_data"
    },
    {
     "data": {
      "text/plain": [
       "\u001B[1m Total params: \u001B[0m\u001B[38;5;34m2,213\u001B[0m (8.65 KB)\n"
      ],
      "text/html": [
       "<pre style=\"white-space:pre;overflow-x:auto;line-height:normal;font-family:Menlo,'DejaVu Sans Mono',consolas,'Courier New',monospace\"><span style=\"font-weight: bold\"> Total params: </span><span style=\"color: #00af00; text-decoration-color: #00af00\">2,213</span> (8.65 KB)\n",
       "</pre>\n"
      ]
     },
     "metadata": {},
     "output_type": "display_data"
    },
    {
     "data": {
      "text/plain": [
       "\u001B[1m Trainable params: \u001B[0m\u001B[38;5;34m737\u001B[0m (2.88 KB)\n"
      ],
      "text/html": [
       "<pre style=\"white-space:pre;overflow-x:auto;line-height:normal;font-family:Menlo,'DejaVu Sans Mono',consolas,'Courier New',monospace\"><span style=\"font-weight: bold\"> Trainable params: </span><span style=\"color: #00af00; text-decoration-color: #00af00\">737</span> (2.88 KB)\n",
       "</pre>\n"
      ]
     },
     "metadata": {},
     "output_type": "display_data"
    },
    {
     "data": {
      "text/plain": [
       "\u001B[1m Non-trainable params: \u001B[0m\u001B[38;5;34m0\u001B[0m (0.00 B)\n"
      ],
      "text/html": [
       "<pre style=\"white-space:pre;overflow-x:auto;line-height:normal;font-family:Menlo,'DejaVu Sans Mono',consolas,'Courier New',monospace\"><span style=\"font-weight: bold\"> Non-trainable params: </span><span style=\"color: #00af00; text-decoration-color: #00af00\">0</span> (0.00 B)\n",
       "</pre>\n"
      ]
     },
     "metadata": {},
     "output_type": "display_data"
    },
    {
     "data": {
      "text/plain": [
       "\u001B[1m Optimizer params: \u001B[0m\u001B[38;5;34m1,476\u001B[0m (5.77 KB)\n"
      ],
      "text/html": [
       "<pre style=\"white-space:pre;overflow-x:auto;line-height:normal;font-family:Menlo,'DejaVu Sans Mono',consolas,'Courier New',monospace\"><span style=\"font-weight: bold\"> Optimizer params: </span><span style=\"color: #00af00; text-decoration-color: #00af00\">1,476</span> (5.77 KB)\n",
       "</pre>\n"
      ]
     },
     "metadata": {},
     "output_type": "display_data"
    },
    {
     "name": "stdout",
     "output_type": "stream",
     "text": [
      "Epoch 1/10\n",
      "\u001B[1m1/1\u001B[0m \u001B[32m━━━━━━━━━━━━━━━━━━━━\u001B[0m\u001B[37m\u001B[0m \u001B[1m0s\u001B[0m 18ms/step - loss: 31.2013 - mean_absolute_percentage_error: 103.2259\n",
      "Epoch 2/10\n",
      "\u001B[1m1/1\u001B[0m \u001B[32m━━━━━━━━━━━━━━━━━━━━\u001B[0m\u001B[37m\u001B[0m \u001B[1m0s\u001B[0m 19ms/step - loss: 31.1074 - mean_absolute_percentage_error: 103.0043\n",
      "Epoch 3/10\n",
      "\u001B[1m1/1\u001B[0m \u001B[32m━━━━━━━━━━━━━━━━━━━━\u001B[0m\u001B[37m\u001B[0m \u001B[1m0s\u001B[0m 23ms/step - loss: 31.0128 - mean_absolute_percentage_error: 102.7809\n",
      "Epoch 4/10\n",
      "\u001B[1m1/1\u001B[0m \u001B[32m━━━━━━━━━━━━━━━━━━━━\u001B[0m\u001B[37m\u001B[0m \u001B[1m0s\u001B[0m 20ms/step - loss: 30.9175 - mean_absolute_percentage_error: 102.5555\n",
      "Epoch 5/10\n",
      "\u001B[1m1/1\u001B[0m \u001B[32m━━━━━━━━━━━━━━━━━━━━\u001B[0m\u001B[37m\u001B[0m \u001B[1m0s\u001B[0m 19ms/step - loss: 30.8216 - mean_absolute_percentage_error: 102.3282\n",
      "Epoch 6/10\n",
      "\u001B[1m1/1\u001B[0m \u001B[32m━━━━━━━━━━━━━━━━━━━━\u001B[0m\u001B[37m\u001B[0m \u001B[1m0s\u001B[0m 20ms/step - loss: 30.7250 - mean_absolute_percentage_error: 102.0991\n",
      "Epoch 7/10\n",
      "\u001B[1m1/1\u001B[0m \u001B[32m━━━━━━━━━━━━━━━━━━━━\u001B[0m\u001B[37m\u001B[0m \u001B[1m0s\u001B[0m 19ms/step - loss: 30.6278 - mean_absolute_percentage_error: 101.8680\n",
      "Epoch 8/10\n",
      "\u001B[1m1/1\u001B[0m \u001B[32m━━━━━━━━━━━━━━━━━━━━\u001B[0m\u001B[37m\u001B[0m \u001B[1m0s\u001B[0m 20ms/step - loss: 30.5299 - mean_absolute_percentage_error: 101.6350\n",
      "Epoch 9/10\n",
      "\u001B[1m1/1\u001B[0m \u001B[32m━━━━━━━━━━━━━━━━━━━━\u001B[0m\u001B[37m\u001B[0m \u001B[1m0s\u001B[0m 19ms/step - loss: 30.4313 - mean_absolute_percentage_error: 101.4000\n",
      "Epoch 10/10\n",
      "\u001B[1m1/1\u001B[0m \u001B[32m━━━━━━━━━━━━━━━━━━━━\u001B[0m\u001B[37m\u001B[0m \u001B[1m0s\u001B[0m 21ms/step - loss: 30.3321 - mean_absolute_percentage_error: 101.1632\n",
      "\n",
      "\n",
      "1/1 - 0s - 99ms/step - loss: 122.0417 - mean_absolute_percentage_error: 100.0224\n",
      "Test 0 eval results: [118.81648254394531, 10.854774475097656, 98.67280578613281, 118.81648254394531, 10.900297164916992, 0.0, 0.0, 0.0, 0.0, 0.0]\n",
      "Test 1 eval results: [122.04170227050781, 100.02237701416016]\n"
     ]
    }
   ],
   "execution_count": 14
  }
 ],
 "metadata": {
  "kernelspec": {
   "display_name": "Python 3",
   "language": "python",
   "name": "python3"
  },
  "language_info": {
   "codemirror_mode": {
    "name": "ipython",
    "version": 2
   },
   "file_extension": ".py",
   "mimetype": "text/x-python",
   "name": "python",
   "nbconvert_exporter": "python",
   "pygments_lexer": "ipython2",
   "version": "2.7.6"
  }
 },
 "nbformat": 4,
 "nbformat_minor": 5
}
