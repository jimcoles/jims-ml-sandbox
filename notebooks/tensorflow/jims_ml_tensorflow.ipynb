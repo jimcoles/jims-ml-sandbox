{
 "cells": [
  {
   "metadata": {},
   "cell_type": "markdown",
   "source": [
    "# Jim's Machine Learning Testbed\n",
    "\n",
    "\n",
    "\n",
    "## Jupyter Notes\n",
    "Put your cursor into the cell and press Shift+Enter to execute it and select the next one, or click 'Run Cell' button.\n",
    "\n",
    "Press Double Shift to search everywhere for classes, files, tool windows, actions, and settings.\n",
    "\n",
    "To learn more about Jupyter Notebooks in PyCharm, see [help](https://www.jetbrains.com/help/pycharm/ipython-notebook-support.html).\n",
    "For an overview of PyCharm, go to Help -> Learn IDE features or refer to [our documentation](https://www.jetbrains.com/help/pycharm/getting-started.html).\n",
    "\n",
    "# Basic Python interpreter check"
   ],
   "id": "8a77807f92f26ee"
  },
  {
   "metadata": {},
   "cell_type": "code",
   "source": [
    "# Does anything work\n",
    "print(\"Hello World!\")\n",
    "\n",
    "# An IPython (Jupyter) thing\n",
    "%env\n",
    "\n"
   ],
   "id": "a78c74d9e1b071be",
   "outputs": [],
   "execution_count": null
  },
  {
   "metadata": {},
   "cell_type": "markdown",
   "source": "Use a core Python package, numpy:",
   "id": "6c019e655ca9a5f5"
  },
  {
   "metadata": {},
   "cell_type": "code",
   "source": [
    "import numpy as np\n",
    "\n",
    "np.add(1, 2)"
   ],
   "id": "6155a5763b81ec36",
   "outputs": [],
   "execution_count": null
  },
  {
   "metadata": {},
   "cell_type": "markdown",
   "source": [
    "# A basic `TensorFlow` installation check\n",
    "\n",
    "A sanity check call to `tensorflow` to make sure it finds and loads the library. NOTE: this does not do any tensor processing:"
   ],
   "id": "2a9bc4e2ec05f5db"
  },
  {
   "metadata": {},
   "cell_type": "code",
   "source": [
    "import tensorflow as tf\n",
    "\n",
    "print(f\"A TF computation: {tf.add(1, 5).numpy()}\")\n",
    "\n",
    "hello = tf.constant('Hello, TensorFlow!')\n",
    "print(f\"A TensorFlow string constant: {hello.numpy()}\")"
   ],
   "id": "3814a818a6d07176",
   "outputs": [],
   "execution_count": null
  },
  {
   "metadata": {},
   "cell_type": "markdown",
   "source": [
    "# Of special `import`\n",
    "The following odd import is to get around an IDE type checking issue which is a problem either in `tensorflow` package of an IDE shortcoming."
   ],
   "id": "1315965ff70582e9"
  },
  {
   "metadata": {},
   "cell_type": "code",
   "source": [
    "from typing import TYPE_CHECKING\n",
    "\n",
    "# These imports only affect an IDE like PyCharm\n",
    "from keras.src.layers.core.dense import Dense\n",
    "from keras.src.models import Model\n",
    "from keras.src.models.sequential import Sequential\n",
    "from keras.src.layers.regularization.dropout import Dropout\n"
   ],
   "id": "d05cb1fe7133365a",
   "outputs": [],
   "execution_count": null
  },
  {
   "metadata": {},
   "cell_type": "markdown",
   "source": "Now we load a dataset from the convenient tensorflow_datasets python package.",
   "id": "3d85093ca3d9c35d"
  },
  {
   "metadata": {},
   "cell_type": "code",
   "source": [
    "# Load from tensorflow_dataset\n",
    "# Import directly because it's in the same directory\n",
    "from jims_ml.tensorflow_datasets import greet\n",
    "\n",
    "# Use the function\n",
    "print(greet(\"DataSpell User\"))\n"
   ],
   "id": "33d3dd51918dda5e",
   "outputs": [],
   "execution_count": null
  },
  {
   "metadata": {},
   "cell_type": "markdown",
   "source": "# Playing with my Pipes",
   "id": "9c6e7b2dc9d3b8ed"
  },
  {
   "metadata": {
    "ExecuteTime": {
     "end_time": "2025-02-22T02:59:06.345209Z",
     "start_time": "2025-02-22T02:59:05.380615Z"
    }
   },
   "cell_type": "code",
   "source": [
    "from keras.api import optimizers, losses, metrics, activations\n",
    "from keras import Input\n",
    "from jims_ml.sandbox.tf_tinker import ModelTest, RunBatch\n",
    "\n",
    "# define a batch include a common dataset for all tests\n",
    "run_batch = RunBatch()\n",
    "run_batch.x_train = tf.constant([[1.0], [2.0], [3.0], [4.0]])\n",
    "run_batch.y_train = tf.constant([[2.0], [4.0], [6.0], [8.0]])\n",
    "run_batch.x_test = tf.constant([[5.0], [6.0]])\n",
    "run_batch.y_test = tf.constant([[10.0], [12.0]])\n",
    "\n",
    "# define one or more models\n",
    "model = Sequential([\n",
    "    Input(shape=(1,)),  # Input layer for single-dimensional input\n",
    "    Dense(32, activations.relu),  # kera.src.core.dense.Dense\n",
    "    # Dense(16, activation='sigmoid'),\n",
    "    # Dense(16, activation='softmax'),\n",
    "    \n",
    "    Dense(1, activations.linear)\n",
    "])\n",
    "\n",
    "test_common_dense = ModelTest().set_description(\"Common Dense Sequence\").set_model(model)\n",
    "test_common_dense.set_fit_epochs(10)\n",
    "\n",
    "# invoke model compile here\n",
    "test_common_dense.compile_model(optimizer=optimizers.Adam(), loss=losses.MeanSquaredError(),\n",
    "                                metrics=[metrics.MeanAbsoluteError(), metrics.MeanAbsolutePercentageError])\n",
    "\n",
    "# stochastic gradient decent cross-entropy loss\n",
    "# test_common_dense.compile_model(optimizer='sgd', loss='cel', metrics=['mae']) \n",
    "\n",
    "# test_common_dense.model.fit()\n",
    "\n",
    "run_batch.add_test(test_common_dense)\n",
    "\n",
    "# run all models against the same batch dataset\n",
    "run_batch.run_all()\n",
    "\n",
    "print('\\nTest accuracy:', run_batch.results[0].eval_results)"
   ],
   "id": "c20607e7695c79c8",
   "outputs": [
    {
     "name": "stdout",
     "output_type": "stream",
     "text": [
      "━━━━━━━━━━━━━━━━━━━━━━━━━━━━━━━━━━━━━━━━━━━━━━━━━━━━━━━━━━━━━━━━━━━━━━━━━━━━━━━━\n",
      "Testing Model: Common Dense Sequence\n",
      "━━━━━━━━━━━━━━━━━━━━━━━━━━━━━━━━━━━━━━━━━━━━━━━━━━━━━━━━━━━━━━━━━━━━━━━━━━━━━━━━\n"
     ]
    },
    {
     "data": {
      "text/plain": [
       "\u001B[1mModel: \"sequential_9\"\u001B[0m\n"
      ],
      "text/html": [
       "<pre style=\"white-space:pre;overflow-x:auto;line-height:normal;font-family:Menlo,'DejaVu Sans Mono',consolas,'Courier New',monospace\"><span style=\"font-weight: bold\">Model: \"sequential_9\"</span>\n",
       "</pre>\n"
      ]
     },
     "metadata": {},
     "output_type": "display_data"
    },
    {
     "data": {
      "text/plain": [
       "┏━━━━━━━━━━━━━━━━━━━━━━━━━━━━━━━━━┳━━━━━━━━━━━━━━━━━━━━━━━━┳━━━━━━━━━━━━━━━┓\n",
       "┃\u001B[1m \u001B[0m\u001B[1mLayer (type)                   \u001B[0m\u001B[1m \u001B[0m┃\u001B[1m \u001B[0m\u001B[1mOutput Shape          \u001B[0m\u001B[1m \u001B[0m┃\u001B[1m \u001B[0m\u001B[1m      Param #\u001B[0m\u001B[1m \u001B[0m┃\n",
       "┡━━━━━━━━━━━━━━━━━━━━━━━━━━━━━━━━━╇━━━━━━━━━━━━━━━━━━━━━━━━╇━━━━━━━━━━━━━━━┩\n",
       "│ dense_25 (\u001B[38;5;33mDense\u001B[0m)                │ (\u001B[38;5;45mNone\u001B[0m, \u001B[38;5;34m32\u001B[0m)             │            \u001B[38;5;34m64\u001B[0m │\n",
       "├─────────────────────────────────┼────────────────────────┼───────────────┤\n",
       "│ dense_26 (\u001B[38;5;33mDense\u001B[0m)                │ (\u001B[38;5;45mNone\u001B[0m, \u001B[38;5;34m1\u001B[0m)              │            \u001B[38;5;34m33\u001B[0m │\n",
       "└─────────────────────────────────┴────────────────────────┴───────────────┘\n"
      ],
      "text/html": [
       "<pre style=\"white-space:pre;overflow-x:auto;line-height:normal;font-family:Menlo,'DejaVu Sans Mono',consolas,'Courier New',monospace\">┏━━━━━━━━━━━━━━━━━━━━━━━━━━━━━━━━━┳━━━━━━━━━━━━━━━━━━━━━━━━┳━━━━━━━━━━━━━━━┓\n",
       "┃<span style=\"font-weight: bold\"> Layer (type)                    </span>┃<span style=\"font-weight: bold\"> Output Shape           </span>┃<span style=\"font-weight: bold\">       Param # </span>┃\n",
       "┡━━━━━━━━━━━━━━━━━━━━━━━━━━━━━━━━━╇━━━━━━━━━━━━━━━━━━━━━━━━╇━━━━━━━━━━━━━━━┩\n",
       "│ dense_25 (<span style=\"color: #0087ff; text-decoration-color: #0087ff\">Dense</span>)                │ (<span style=\"color: #00d7ff; text-decoration-color: #00d7ff\">None</span>, <span style=\"color: #00af00; text-decoration-color: #00af00\">32</span>)             │            <span style=\"color: #00af00; text-decoration-color: #00af00\">64</span> │\n",
       "├─────────────────────────────────┼────────────────────────┼───────────────┤\n",
       "│ dense_26 (<span style=\"color: #0087ff; text-decoration-color: #0087ff\">Dense</span>)                │ (<span style=\"color: #00d7ff; text-decoration-color: #00d7ff\">None</span>, <span style=\"color: #00af00; text-decoration-color: #00af00\">1</span>)              │            <span style=\"color: #00af00; text-decoration-color: #00af00\">33</span> │\n",
       "└─────────────────────────────────┴────────────────────────┴───────────────┘\n",
       "</pre>\n"
      ]
     },
     "metadata": {},
     "output_type": "display_data"
    },
    {
     "data": {
      "text/plain": [
       "\u001B[1m Total params: \u001B[0m\u001B[38;5;34m97\u001B[0m (388.00 B)\n"
      ],
      "text/html": [
       "<pre style=\"white-space:pre;overflow-x:auto;line-height:normal;font-family:Menlo,'DejaVu Sans Mono',consolas,'Courier New',monospace\"><span style=\"font-weight: bold\"> Total params: </span><span style=\"color: #00af00; text-decoration-color: #00af00\">97</span> (388.00 B)\n",
       "</pre>\n"
      ]
     },
     "metadata": {},
     "output_type": "display_data"
    },
    {
     "data": {
      "text/plain": [
       "\u001B[1m Trainable params: \u001B[0m\u001B[38;5;34m97\u001B[0m (388.00 B)\n"
      ],
      "text/html": [
       "<pre style=\"white-space:pre;overflow-x:auto;line-height:normal;font-family:Menlo,'DejaVu Sans Mono',consolas,'Courier New',monospace\"><span style=\"font-weight: bold\"> Trainable params: </span><span style=\"color: #00af00; text-decoration-color: #00af00\">97</span> (388.00 B)\n",
       "</pre>\n"
      ]
     },
     "metadata": {},
     "output_type": "display_data"
    },
    {
     "data": {
      "text/plain": [
       "\u001B[1m Non-trainable params: \u001B[0m\u001B[38;5;34m0\u001B[0m (0.00 B)\n"
      ],
      "text/html": [
       "<pre style=\"white-space:pre;overflow-x:auto;line-height:normal;font-family:Menlo,'DejaVu Sans Mono',consolas,'Courier New',monospace\"><span style=\"font-weight: bold\"> Non-trainable params: </span><span style=\"color: #00af00; text-decoration-color: #00af00\">0</span> (0.00 B)\n",
       "</pre>\n"
      ]
     },
     "metadata": {},
     "output_type": "display_data"
    },
    {
     "name": "stdout",
     "output_type": "stream",
     "text": [
      "Epoch 1/10\n",
      "\u001B[1m1/1\u001B[0m \u001B[32m━━━━━━━━━━━━━━━━━━━━\u001B[0m\u001B[37m\u001B[0m \u001B[1m1s\u001B[0m 568ms/step - loss: 23.0185 - mean_absolute_error: 4.3797 - mean_absolute_percentage_error: 87.5948\n",
      "Epoch 2/10\n",
      "\u001B[1m1/1\u001B[0m \u001B[32m━━━━━━━━━━━━━━━━━━━━\u001B[0m\u001B[37m\u001B[0m \u001B[1m0s\u001B[0m 18ms/step - loss: 22.7680 - mean_absolute_error: 4.3550 - mean_absolute_percentage_error: 87.0720\n",
      "Epoch 3/10\n",
      "\u001B[1m1/1\u001B[0m \u001B[32m━━━━━━━━━━━━━━━━━━━━\u001B[0m\u001B[37m\u001B[0m \u001B[1m0s\u001B[0m 27ms/step - loss: 22.5187 - mean_absolute_error: 4.3303 - mean_absolute_percentage_error: 86.5487\n",
      "Epoch 4/10\n",
      "\u001B[1m1/1\u001B[0m \u001B[32m━━━━━━━━━━━━━━━━━━━━\u001B[0m\u001B[37m\u001B[0m \u001B[1m0s\u001B[0m 18ms/step - loss: 22.2704 - mean_absolute_error: 4.3056 - mean_absolute_percentage_error: 86.0249\n",
      "Epoch 5/10\n",
      "\u001B[1m1/1\u001B[0m \u001B[32m━━━━━━━━━━━━━━━━━━━━\u001B[0m\u001B[37m\u001B[0m \u001B[1m0s\u001B[0m 19ms/step - loss: 22.0234 - mean_absolute_error: 4.2808 - mean_absolute_percentage_error: 85.5006\n",
      "Epoch 6/10\n",
      "\u001B[1m1/1\u001B[0m \u001B[32m━━━━━━━━━━━━━━━━━━━━\u001B[0m\u001B[37m\u001B[0m \u001B[1m0s\u001B[0m 18ms/step - loss: 21.7776 - mean_absolute_error: 4.2560 - mean_absolute_percentage_error: 84.9759\n",
      "Epoch 7/10\n",
      "\u001B[1m1/1\u001B[0m \u001B[32m━━━━━━━━━━━━━━━━━━━━\u001B[0m\u001B[37m\u001B[0m \u001B[1m0s\u001B[0m 20ms/step - loss: 21.5330 - mean_absolute_error: 4.2312 - mean_absolute_percentage_error: 84.4508\n",
      "Epoch 8/10\n",
      "\u001B[1m1/1\u001B[0m \u001B[32m━━━━━━━━━━━━━━━━━━━━\u001B[0m\u001B[37m\u001B[0m \u001B[1m0s\u001B[0m 20ms/step - loss: 21.2896 - mean_absolute_error: 4.2064 - mean_absolute_percentage_error: 83.9254\n",
      "Epoch 9/10\n",
      "\u001B[1m1/1\u001B[0m \u001B[32m━━━━━━━━━━━━━━━━━━━━\u001B[0m\u001B[37m\u001B[0m \u001B[1m0s\u001B[0m 27ms/step - loss: 21.0475 - mean_absolute_error: 4.1816 - mean_absolute_percentage_error: 83.3996\n",
      "Epoch 10/10\n",
      "\u001B[1m1/1\u001B[0m \u001B[32m━━━━━━━━━━━━━━━━━━━━\u001B[0m\u001B[37m\u001B[0m \u001B[1m0s\u001B[0m 19ms/step - loss: 20.8066 - mean_absolute_error: 4.1568 - mean_absolute_percentage_error: 82.8736\n",
      "\n",
      "\n",
      "1/1 - 0s - 88ms/step - loss: 84.3831 - mean_absolute_error: 9.1479 - mean_absolute_percentage_error: 83.1592\n"
     ]
    },
    {
     "ename": "ValueError",
     "evalue": "too many values to unpack (expected 2)",
     "output_type": "error",
     "traceback": [
      "\u001B[0;31m---------------------------------------------------------------------------\u001B[0m",
      "\u001B[0;31mValueError\u001B[0m                                Traceback (most recent call last)",
      "Cell \u001B[0;32mIn[17], line 37\u001B[0m\n\u001B[1;32m     34\u001B[0m run_batch\u001B[38;5;241m.\u001B[39madd_test(test_common_dense)\n\u001B[1;32m     36\u001B[0m \u001B[38;5;66;03m# run all models against the same batch dataset\u001B[39;00m\n\u001B[0;32m---> 37\u001B[0m \u001B[43mrun_batch\u001B[49m\u001B[38;5;241;43m.\u001B[39;49m\u001B[43mrun_all\u001B[49m\u001B[43m(\u001B[49m\u001B[43m)\u001B[49m\n\u001B[1;32m     39\u001B[0m \u001B[38;5;28mprint\u001B[39m(\u001B[38;5;124m'\u001B[39m\u001B[38;5;130;01m\\n\u001B[39;00m\u001B[38;5;124mTest accuracy:\u001B[39m\u001B[38;5;124m'\u001B[39m, run_batch\u001B[38;5;241m.\u001B[39mresults[\u001B[38;5;241m0\u001B[39m]\u001B[38;5;241m.\u001B[39meval_results)\n",
      "File \u001B[0;32m~/Source/jkc/testbeds/jims-ml-sandbox/jims_ml/sandbox/tf_tinker.py:70\u001B[0m, in \u001B[0;36mRunBatch.run_all\u001B[0;34m(self)\u001B[0m\n\u001B[1;32m     67\u001B[0m \u001B[38;5;28mself\u001B[39m\u001B[38;5;241m.\u001B[39mresults \u001B[38;5;241m=\u001B[39m []  \u001B[38;5;66;03m# Initialize results to an empty list\u001B[39;00m\n\u001B[1;32m     69\u001B[0m \u001B[38;5;28;01mfor\u001B[39;00m model_test \u001B[38;5;129;01min\u001B[39;00m \u001B[38;5;28mself\u001B[39m\u001B[38;5;241m.\u001B[39mtests:\n\u001B[0;32m---> 70\u001B[0m     result \u001B[38;5;241m=\u001B[39m \u001B[38;5;28;43mself\u001B[39;49m\u001B[38;5;241;43m.\u001B[39;49m\u001B[43mrun_test\u001B[49m\u001B[43m(\u001B[49m\u001B[43mmodel_test\u001B[49m\u001B[43m)\u001B[49m\n\u001B[1;32m     71\u001B[0m     \u001B[38;5;28mself\u001B[39m\u001B[38;5;241m.\u001B[39mresults\u001B[38;5;241m.\u001B[39mappend(result)\n",
      "File \u001B[0;32m~/Source/jkc/testbeds/jims-ml-sandbox/jims_ml/sandbox/tf_tinker.py:83\u001B[0m, in \u001B[0;36mRunBatch.run_test\u001B[0;34m(self, model_test)\u001B[0m\n\u001B[1;32m     80\u001B[0m model_test\u001B[38;5;241m.\u001B[39mmodel\u001B[38;5;241m.\u001B[39mfit(\u001B[38;5;28mself\u001B[39m\u001B[38;5;241m.\u001B[39mx_train, \u001B[38;5;28mself\u001B[39m\u001B[38;5;241m.\u001B[39my_train, epochs\u001B[38;5;241m=\u001B[39mmodel_test\u001B[38;5;241m.\u001B[39mfit_epochs, verbose\u001B[38;5;241m=\u001B[39m\u001B[38;5;241m1\u001B[39m)\n\u001B[1;32m     81\u001B[0m \u001B[38;5;28mprint\u001B[39m(\u001B[38;5;124m\"\u001B[39m\u001B[38;5;130;01m\\n\u001B[39;00m\u001B[38;5;124m\"\u001B[39m)\n\u001B[0;32m---> 83\u001B[0m test_loss, test_acc \u001B[38;5;241m=\u001B[39m model_test\u001B[38;5;241m.\u001B[39mmodel\u001B[38;5;241m.\u001B[39mevaluate(\u001B[38;5;28mself\u001B[39m\u001B[38;5;241m.\u001B[39mx_test,  \u001B[38;5;28mself\u001B[39m\u001B[38;5;241m.\u001B[39my_test, verbose\u001B[38;5;241m=\u001B[39m\u001B[38;5;241m2\u001B[39m)\n\u001B[1;32m     85\u001B[0m \u001B[38;5;28;01mreturn\u001B[39;00m RunResult()\u001B[38;5;241m.\u001B[39mset_eval_result({test_loss, test_acc})\n",
      "\u001B[0;31mValueError\u001B[0m: too many values to unpack (expected 2)"
     ]
    }
   ],
   "execution_count": 17
  }
 ],
 "metadata": {
  "kernelspec": {
   "display_name": "Python 3",
   "language": "python",
   "name": "python3"
  },
  "language_info": {
   "codemirror_mode": {
    "name": "ipython",
    "version": 2
   },
   "file_extension": ".py",
   "mimetype": "text/x-python",
   "name": "python",
   "nbconvert_exporter": "python",
   "pygments_lexer": "ipython2",
   "version": "2.7.6"
  }
 },
 "nbformat": 4,
 "nbformat_minor": 5
}
