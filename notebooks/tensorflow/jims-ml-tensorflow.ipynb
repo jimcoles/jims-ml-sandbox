{
 "cells": [
  {
   "metadata": {},
   "cell_type": "markdown",
   "source": [
    "# Jim's Machine Learning Testbed\n",
    "\n",
    "\n",
    "\n",
    "## Jupyter Notes\n",
    "Put your cursor into the cell and press Shift+Enter to execute it and select the next one, or click 'Run Cell' button.\n",
    "\n",
    "Press Double Shift to search everywhere for classes, files, tool windows, actions, and settings.\n",
    "\n",
    "To learn more about Jupyter Notebooks in PyCharm, see [help](https://www.jetbrains.com/help/pycharm/ipython-notebook-support.html).\n",
    "For an overview of PyCharm, go to Help -> Learn IDE features or refer to [our documentation](https://www.jetbrains.com/help/pycharm/getting-started.html).\n",
    "\n",
    "# Basic Python interpreter check"
   ],
   "id": "8a77807f92f26ee"
  },
  {
   "metadata": {
    "ExecuteTime": {
     "end_time": "2025-02-13T22:00:25.826222Z",
     "start_time": "2025-02-13T22:00:25.818608Z"
    }
   },
   "cell_type": "code",
   "source": [
    "# Does anything work\n",
    "print(\"Hello World!\")\n",
    "\n",
    "# An IPython (Jupyter) thing\n",
    "%env\n",
    "\n"
   ],
   "id": "a78c74d9e1b071be",
   "outputs": [
    {
     "name": "stdout",
     "output_type": "stream",
     "text": [
      "Hello World!\n"
     ]
    },
    {
     "data": {
      "text/plain": [
       "{'HOMEBREW_PREFIX': '/opt/homebrew',\n",
       " 'MANPATH': '/opt/homebrew/share/man::',\n",
       " 'COMMAND_MODE': 'unix2003',\n",
       " 'INFOPATH': '/opt/homebrew/share/info:',\n",
       " 'SHELL': '/bin/zsh',\n",
       " 'PYTHONPATH': '/Users/jcoles/Source/jkc/testbeds/jims-ml-sandbox:/Users/jcoles/Applications/PyCharm Professional Edition.app/Contents/plugins/python-ce/helpers/pydev:/Users/jcoles/Applications/PyCharm Professional Edition.app/Contents/plugins/python/helpers-pro/jupyter_debug',\n",
       " '__CFBundleIdentifier': 'com.jetbrains.pycharm',\n",
       " 'TMPDIR': '/var/folders/xc/32y9xdg50zv0b_kvssbpfc_00000gn/T/',\n",
       " 'LC_ALL': 'en_US.UTF-8',\n",
       " 'JBOSS_HOME': '/Users/jcoles/java/wildfly-29.0.0.Final',\n",
       " 'TOOLBOX_VERSION': '2.5.3.37797',\n",
       " 'DISPLAY': '/private/tmp/com.apple.launchd.M4apHXqJbV/org.macosforge.xquartz:0',\n",
       " 'HOME': '/Users/jcoles',\n",
       " 'HOMEBREW_REPOSITORY': '/opt/homebrew',\n",
       " 'PATH': '/Users/jcoles/Source/jkc/testbeds/jims-ml-sandbox/.venv/bin:/opt/homebrew/anaconda3/condabin:/Users/jcoles/bin:/Library/Java/JavaVirtualMachines/graalvm-23.jdk/Contents/Home/bin:/opt/homebrew/bin:/opt/homebrew/sbin::/opt/homebrew/anaconda3/bin:/Users/jcoles/java/groovy/bin:/usr/local/bin:/System/Cryptexes/App/usr/bin:/usr/bin:/bin:/usr/sbin:/sbin:/var/run/com.apple.security.cryptexd/codex.system/bootstrap/usr/local/bin:/var/run/com.apple.security.cryptexd/codex.system/bootstrap/usr/bin:/var/run/com.apple.security.cryptexd/codex.system/bootstrap/usr/appleinternal/bin:/opt/X11/bin:/Library/Apple/usr/bin:/Applications/Wireshark.app/Contents/MacOS:/usr/local/share/dotnet:~/.dotnet/tools:/usr/local/go/bin:/Library/Frameworks/Mono.framework/Versions/Current/Commands:/usr/local/bin',\n",
       " 'LOGNAME': 'jcoles',\n",
       " 'GROOVY_HOME': '/Users/jcoles/java/groovy',\n",
       " 'XPC_FLAGS': '0x0',\n",
       " '__CF_USER_TEXT_ENCODING': '0x1F5:0x0:0x0',\n",
       " '_CE_CONDA': '',\n",
       " 'LANG': 'en_US.UTF-8',\n",
       " 'OPENAI_API_KEY': '<hidden>',\n",
       " '_CE_M': '',\n",
       " 'LC_CTYPE': 'en_US.UTF-8',\n",
       " 'LANGUAGE': '',\n",
       " 'VIRTUAL_ENV': '/Users/jcoles/Source/jkc/testbeds/jims-ml-sandbox/.venv',\n",
       " 'JAVA_HOME': '/Library/Java/JavaVirtualMachines/graalvm-23.jdk/Contents/Home',\n",
       " 'CONDA_SHLVL': '0',\n",
       " 'PS1': '(.venv) ',\n",
       " 'CONDA_EXE': '/opt/homebrew/anaconda3/bin/conda',\n",
       " 'SSH_AUTH_SOCK': '/private/tmp/com.apple.launchd.oQPk4XY6J5/Listeners',\n",
       " 'OLDPWD': '/',\n",
       " 'SPACE_DEV_HOME': '/Users/jcoles/Source/jkc/space-java',\n",
       " 'XPC_SERVICE_NAME': 'application.com.jetbrains.pycharm.179507832.179520388.FD5EC76D-57D6-4871-9644-7A9B7D8238A0',\n",
       " 'PROMPT': '%F{green}jcoles@Jimbos-M1 %~ %#%f ',\n",
       " 'M2_HOME': '/usr/local/Cellar/maven/3.9.4',\n",
       " 'USER': 'jcoles',\n",
       " 'HOMEBREW_CELLAR': '/opt/homebrew/Cellar',\n",
       " 'PWD': '/Users/jcoles/Source/jkc/testbeds/jims-ml-sandbox',\n",
       " 'CONDA_PYTHON_EXE': '/opt/homebrew/anaconda3/bin/python',\n",
       " 'PNPM_HOME': '/Users/jcoles/Library/pnpm',\n",
       " 'HERMETIC_PYTHON_VERSION': '3.10',\n",
       " 'JPY_SESSION_NAME': 'jims-ml-tensorflow.ipynb',\n",
       " 'JPY_PARENT_PID': '48327',\n",
       " 'PYDEVD_USE_FRAME_EVAL': 'NO',\n",
       " 'TERM': 'xterm-color',\n",
       " 'CLICOLOR': '1',\n",
       " 'FORCE_COLOR': '1',\n",
       " 'CLICOLOR_FORCE': '1',\n",
       " 'PAGER': 'cat',\n",
       " 'GIT_PAGER': 'cat',\n",
       " 'MPLBACKEND': 'module://matplotlib_inline.backend_inline'}"
      ]
     },
     "execution_count": 1,
     "metadata": {},
     "output_type": "execute_result"
    }
   ],
   "execution_count": 1
  },
  {
   "metadata": {},
   "cell_type": "markdown",
   "source": "Use a core Python package, numpy:",
   "id": "6c019e655ca9a5f5"
  },
  {
   "metadata": {
    "ExecuteTime": {
     "end_time": "2025-02-13T22:00:29.323063Z",
     "start_time": "2025-02-13T22:00:29.278372Z"
    }
   },
   "cell_type": "code",
   "source": [
    "import numpy as np\n",
    "np.add(1,2)"
   ],
   "id": "6155a5763b81ec36",
   "outputs": [
    {
     "data": {
      "text/plain": [
       "np.int64(3)"
      ]
     },
     "execution_count": 2,
     "metadata": {},
     "output_type": "execute_result"
    }
   ],
   "execution_count": 2
  },
  {
   "metadata": {},
   "cell_type": "markdown",
   "source": [
    "# A basic `TensorFlow` installation check\n",
    "\n",
    "A sanity check call to `tensorflow` to make sure it finds and loads the library. NOTE: this does not do any tensor processing:"
   ],
   "id": "2a9bc4e2ec05f5db"
  },
  {
   "metadata": {
    "ExecuteTime": {
     "end_time": "2025-02-16T14:39:18.356471Z",
     "start_time": "2025-02-16T14:39:14.564611Z"
    }
   },
   "cell_type": "code",
   "source": [
    "import tensorflow as tf\n",
    "print(f\"A TF computation: {tf.add(1, 5).numpy()}\")\n",
    "\n",
    "\n",
    "hello = tf.constant('Hello, TensorFlow!')\n",
    "print(f\"A TensorFlow string constant: {hello.numpy()}\")"
   ],
   "id": "3814a818a6d07176",
   "outputs": [
    {
     "name": "stdout",
     "output_type": "stream",
     "text": [
      "A TF computation: 6\n",
      "A TensorFlow string constant: b'Hello, TensorFlow!'\n"
     ]
    }
   ],
   "execution_count": 1
  },
  {
   "metadata": {},
   "cell_type": "markdown",
   "source": "Now we load a dataset from the convenient tensorflow_datasets python package.",
   "id": "3d85093ca3d9c35d"
  },
  {
   "metadata": {
    "ExecuteTime": {
     "end_time": "2025-02-13T22:01:07.780396Z",
     "start_time": "2025-02-13T22:01:07.766231Z"
    }
   },
   "cell_type": "code",
   "source": [
    "# Load from tensorflow_dataset\n",
    "# Import directly because it's in the same directory\n",
    "from pylib.datasets import greet\n",
    "\n",
    "# Use the function\n",
    "print(greet(\"DataSpell User\"))\n"
   ],
   "id": "33d3dd51918dda5e",
   "outputs": [
    {
     "name": "stdout",
     "output_type": "stream",
     "text": [
      "Hello, DataSpell User!\n"
     ]
    }
   ],
   "execution_count": 5
  },
  {
   "metadata": {},
   "cell_type": "markdown",
   "source": "",
   "id": "9c6e7b2dc9d3b8ed"
  }
 ],
 "metadata": {
  "kernelspec": {
   "display_name": "Python 3",
   "language": "python",
   "name": "python3"
  },
  "language_info": {
   "codemirror_mode": {
    "name": "ipython",
    "version": 2
   },
   "file_extension": ".py",
   "mimetype": "text/x-python",
   "name": "python",
   "nbconvert_exporter": "python",
   "pygments_lexer": "ipython2",
   "version": "2.7.6"
  }
 },
 "nbformat": 4,
 "nbformat_minor": 5
}
