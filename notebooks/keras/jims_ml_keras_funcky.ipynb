{
 "cells": [
  {
   "metadata": {},
   "cell_type": "markdown",
   "source": "# Jim's Keras basics",
   "id": "d27ad15c06e46d89"
  },
  {
   "metadata": {
    "ExecuteTime": {
     "end_time": "2025-03-14T17:09:09.180339Z",
     "start_time": "2025-03-14T17:09:09.176335Z"
    }
   },
   "cell_type": "code",
   "source": [
    "import os\n",
    "os.environ[\"KERAS_BACKEND\"] = \"tensorflow\"  # Or \"tensorflow\" or \"torch\"!\n",
    "#os.environ[\"KERAS_BACKEND\"] = \"torch\"  # Or \"tensorflow\" or \"torch\"!\n",
    "#os.environ[\"KERAS_BACKEND\"] = \"jax\"  # Or \"tensorflow\" or \"torch\"!\n"
   ],
   "id": "a46793cfbfcae3c9",
   "outputs": [],
   "execution_count": 1
  },
  {
   "cell_type": "code",
   "id": "initial_id",
   "metadata": {
    "collapsed": true,
    "ExecuteTime": {
     "end_time": "2025-03-14T17:09:14.287254Z",
     "start_time": "2025-03-14T17:09:11.251343Z"
    }
   },
   "source": [
    "import numpy as np\n",
    "import keras\n",
    "from keras import datasets\n",
    "from keras import layers, ops\n",
    "\n",
    "# List all attributes under keras.datasets\n",
    "print([name for name in dir(datasets) if not name.startswith('_')])\n",
    "\n",
    "keras_dataset_names = [\n",
    "    \"mnist\",\n",
    "    \"fashion_mnist\",\n",
    "    \"cifar10\",\n",
    "    \"cifar100\",\n",
    "    \"imdb\",\n",
    "    \"reuters\",\n",
    "    \"boston_housing\"\n",
    "]\n"
   ],
   "outputs": [
    {
     "name": "stdout",
     "output_type": "stream",
     "text": [
      "['boston_housing', 'california_housing', 'cifar10', 'cifar100', 'fashion_mnist', 'imdb', 'mnist', 'reuters']\n"
     ]
    }
   ],
   "execution_count": 2
  },
  {
   "metadata": {
    "ExecuteTime": {
     "end_time": "2025-03-07T00:44:23.009633Z",
     "start_time": "2025-03-07T00:44:22.928286Z"
    }
   },
   "cell_type": "code",
   "source": [
    "\n",
    "# Dataset names\n",
    "dataset_name = \"mnist\"  # Change this to any dataset name from keras.datasets\n",
    "dataset = getattr(datasets, dataset_name)\n",
    "\n",
    "# Load the dataset\n",
    "(x_train, y_train), (x_test, y_test) = dataset.load_data()\n",
    "\n",
    "print(f\"Loaded dataset: {dataset_name}\")\n",
    "print(f\"x_train shape: {x_train.shape}, y_train shape: {y_train.shape}\")\n"
   ],
   "id": "8df6fde8045bd264",
   "outputs": [
    {
     "name": "stdout",
     "output_type": "stream",
     "text": [
      "Loaded dataset: mnist\n",
      "x_train shape: (60000, 28, 28), y_train shape: (60000,)\n"
     ]
    }
   ],
   "execution_count": 5
  },
  {
   "metadata": {},
   "cell_type": "markdown",
   "source": "# Keras _functional_ API using a Keras canned dataset: MNIST",
   "id": "8220f477834ba428"
  },
  {
   "metadata": {
    "ExecuteTime": {
     "end_time": "2025-03-07T00:46:53.336738Z",
     "start_time": "2025-03-07T00:46:53.209334Z"
    }
   },
   "cell_type": "code",
   "source": [
    "from keras.api.datasets import mnist\n",
    "# Load the MNIST dataset\n",
    "(x_train, y_train), (x_test, y_test) = mnist.load_data()\n",
    "\n",
    "# Check the data shapes\n",
    "print(f\"x_train shape: {x_train.shape}, y_train shape: {y_train.shape}\")\n",
    "print(f\"x_test shape: {x_test.shape}, y_test shape: {y_test.shape}\")\n",
    "\n",
    "# View a sample data point\n",
    "import matplotlib.pyplot as plt\n",
    "\n",
    "plt.imshow(x_train[0], cmap='gray')\n",
    "plt.title(f\"Label: {y_train[0]}\")\n",
    "plt.show()\n"
   ],
   "id": "5183001fb7940c2e",
   "outputs": [
    {
     "name": "stdout",
     "output_type": "stream",
     "text": [
      "x_train shape: (60000, 28, 28), y_train shape: (60000,)\n",
      "x_test shape: (10000, 28, 28), y_test shape: (10000,)\n"
     ]
    },
    {
     "data": {
      "text/plain": [
       "<Figure size 640x480 with 1 Axes>"
      ],
      "image/png": "[encoded data removed]"
     },
     "metadata": {},
     "output_type": "display_data"
    }
   ],
   "execution_count": 9
  }
 ],
 "metadata": {
  "kernelspec": {
   "display_name": "Python 3",
   "language": "python",
   "name": "python3"
  },
  "language_info": {
   "codemirror_mode": {
    "name": "ipython",
    "version": 2
   },
   "file_extension": ".py",
   "mimetype": "text/x-python",
   "name": "python",
   "nbconvert_exporter": "python",
   "pygments_lexer": "ipython2",
   "version": "2.7.6"
  }
 },
 "nbformat": 4,
 "nbformat_minor": 5
}
