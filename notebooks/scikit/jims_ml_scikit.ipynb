{
 "cells": [
  {
   "metadata": {},
   "cell_type": "markdown",
   "source": "# SciKit Basics",
   "id": "3bd3730074ce4724"
  },
  {
   "metadata": {},
   "cell_type": "markdown",
   "source": "## A simple sklearn example using one of their standard datasets",
   "id": "e2943ed3f5be93db"
  },
  {
   "cell_type": "code",
   "id": "initial_id",
   "metadata": {
    "collapsed": true,
    "ExecuteTime": {
     "end_time": "2025-03-06T23:39:34.613647Z",
     "start_time": "2025-03-06T23:39:32.525332Z"
    }
   },
   "source": [
    "from datetime import datetime\n",
    "from sklearn.datasets import load_iris\n",
    "from sklearn.model_selection import train_test_split\n",
    "from sklearn.neighbors import KNeighborsClassifier\n",
    "from sklearn.metrics import accuracy_score\n",
    "\n",
    "# Load the Iris dataset\n",
    "iris = load_iris()\n",
    "X, y = iris.data, iris.target\n",
    "\n",
    "# Split dataset into training and testing data\n",
    "X_train, X_test, y_train, y_test = train_test_split(X, y, test_size=0.2, random_state=42)\n",
    "\n",
    "# Create a KNN classifier and train it\n",
    "knn = KNeighborsClassifier(n_neighbors=3)\n",
    "knn.fit(X_train, y_train)\n",
    "\n",
    "# Test the model and calculate accuracy\n",
    "y_pred = knn.predict(X_test)\n",
    "accuracy = accuracy_score(y_test, y_pred)\n",
    "print(f\"{datetime.now()}: Model Accuracy: {accuracy:.2f}\")\n",
    "\n"
   ],
   "outputs": [
    {
     "name": "stdout",
     "output_type": "stream",
     "text": [
      "2025-03-06 17:39:34.611902: Model Accuracy: 1.00\n"
     ]
    }
   ],
   "execution_count": 1
  },
  {
   "metadata": {},
   "cell_type": "markdown",
   "source": "## OpenML Datasets vis sklearn",
   "id": "ab29739536be75f0"
  },
  {
   "metadata": {
    "ExecuteTime": {
     "end_time": "2025-03-07T00:16:28.703869Z",
     "start_time": "2025-03-07T00:16:18.358160Z"
    }
   },
   "cell_type": "code",
   "source": [
    "from sklearn import datasets\n",
    "\n",
    "from sklearn.datasets import fetch_openml\n",
    "\n",
    "mnist = fetch_openml(name=\"mnist_784\", version=1)\n",
    "X, y = mnist.data, mnist.target\n",
    "\n",
    "X, y = mnist.data, mnist.target\n",
    "print(X.shape, y.shape)\n"
   ],
   "id": "eadeaf836276d75c",
   "outputs": [
    {
     "name": "stdout",
     "output_type": "stream",
     "text": [
      "(70000, 784) (70000,)\n"
     ]
    }
   ],
   "execution_count": 2
  }
 ],
 "metadata": {
  "kernelspec": {
   "display_name": "Python 3",
   "language": "python",
   "name": "python3"
  },
  "language_info": {
   "codemirror_mode": {
    "name": "ipython",
    "version": 2
   },
   "file_extension": ".py",
   "mimetype": "text/x-python",
   "name": "python",
   "nbconvert_exporter": "python",
   "pygments_lexer": "ipython2",
   "version": "2.7.6"
  }
 },
 "nbformat": 4,
 "nbformat_minor": 5
}
