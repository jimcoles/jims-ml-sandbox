{
 "cells": [
  {
   "metadata": {},
   "cell_type": "markdown",
   "source": "# Problem 1 (fitting quadratics) using a custom HF 🤗 Pipeline",
   "id": "b7c0db2b3f312868"
  },
  {
   "metadata": {},
   "cell_type": "markdown",
   "source": [
    "## Step 1: Define a Custom transformers.configuration Configuration for the Model\n",
    "A custom configuration class is created to define the model's architecture, including input dimension, output dimension, and hidden layers."
   ],
   "id": "169770c533a286a7"
  },
  {
   "metadata": {
    "ExecuteTime": {
     "end_time": "2025-03-05T18:50:58.590902Z",
     "start_time": "2025-03-05T18:50:56.388218Z"
    }
   },
   "cell_type": "code",
   "source": [
    "from transformers import PreTrainedModel, PretrainedConfig\n",
    "import torch\n",
    "import torch.nn as nn\n",
    "\n",
    "\n",
    "class CustomConfig(PretrainedConfig):\n",
    "    def __init__(self, input_dim=1, output_dim=1, hidden_dim=16, **kwargs):\n",
    "        super().__init__(**kwargs)\n",
    "        self.input_dim = input_dim\n",
    "        self.output_dim = output_dim\n",
    "        self.hidden_dim = hidden_dim"
   ],
   "id": "404babb457364dc3",
   "outputs": [],
   "execution_count": 1
  },
  {
   "metadata": {},
   "cell_type": "markdown",
   "source": [
    "## Step 2: Create the Custom Model\n",
    "\n",
    "A simple feedforward neural network is implemented using PyTorch. The model will predict outputs from 2D input data.\n"
   ],
   "id": "ae8f696ceabdbcad"
  },
  {
   "metadata": {
    "ExecuteTime": {
     "end_time": "2025-03-05T18:51:07.927743Z",
     "start_time": "2025-03-05T18:51:07.923907Z"
    }
   },
   "cell_type": "code",
   "source": [
    "class CustomModel(PreTrainedModel):\n",
    "    config_class = CustomConfig\n",
    "\n",
    "    def __init__(self, config):\n",
    "        super().__init__(config)\n",
    "        self.model = nn.Sequential(\n",
    "            nn.Linear(config.input_dim, config.hidden_dim),\n",
    "            nn.ReLU(),\n",
    "            nn.Linear(config.hidden_dim, config.output_dim)\n",
    "        )\n",
    "\n",
    "    def forward(self, x):\n",
    "        return self.model(x)"
   ],
   "id": "7c03d4da48b4b09d",
   "outputs": [],
   "execution_count": 2
  },
  {
   "metadata": {},
   "cell_type": "markdown",
   "source": [
    "# Step 3: Build a Custom Pipeline\n",
    "A custom Hugging Face pipeline is defined to handle preprocessing, forward pass, and postprocessing for predictions.\n"
   ],
   "id": "6e23cc8ef744e1c5"
  },
  {
   "metadata": {
    "ExecuteTime": {
     "end_time": "2025-03-05T18:51:13.053624Z",
     "start_time": "2025-03-05T18:51:13.009525Z"
    }
   },
   "cell_type": "code",
   "source": [
    "from transformers import Pipeline\n",
    "\n",
    "class CustomPipeline(Pipeline):\n",
    "\n",
    "    def __init__(self, model, **kwargs):\n",
    "        super().__init__(model, **kwargs)\n",
    "\n",
    "    def _sanitize_parameters(self, **kwargs):\n",
    "        return {}, {}, {}\n",
    "\n",
    "    def preprocess(self, inputs):\n",
    "        return torch.tensor(inputs, dtype=torch.float32).unsqueeze(0)\n",
    "\n",
    "    def _forward(self, model_inputs):\n",
    "        with torch.no_grad():\n",
    "            return self.model(model_inputs)\n",
    "\n",
    "    def postprocess(self, model_outputs):\n",
    "        return model_outputs.squeeze().tolist()"
   ],
   "id": "e0b0a0addc955674",
   "outputs": [],
   "execution_count": 3
  },
  {
   "metadata": {},
   "cell_type": "markdown",
   "source": [
    "# Step 4: Instantiate the Model, Config, and Pipeline\n",
    "The model and pipeline are created based on the defined configuration.\n"
   ],
   "id": "2b48b597daf4f14b"
  },
  {
   "metadata": {
    "ExecuteTime": {
     "end_time": "2025-03-05T18:51:18.877492Z",
     "start_time": "2025-03-05T18:51:18.848236Z"
    }
   },
   "cell_type": "code",
   "source": [
    "config = CustomConfig(input_dim=1, output_dim=1, hidden_dim=16)\n",
    "\n",
    "# Check for MPS device support (for Apple silicon)\n",
    "device = torch.device(\"mps\") if torch.backends.mps.is_available() else torch.device(\"cpu\")\n",
    "print(f\"Using device: {device}\")\n",
    "\n",
    "model = CustomModel(config)\n",
    "# Initialize the model and move it to the correct device\n",
    "# model = CustomModel(config).to(device)\n",
    "\n",
    "pipeline = CustomPipeline(model)"
   ],
   "id": "98c5cfdfaf55cf11",
   "outputs": [
    {
     "name": "stderr",
     "output_type": "stream",
     "text": [
      "Device set to use mps:0\n"
     ]
    },
    {
     "name": "stdout",
     "output_type": "stream",
     "text": [
      "Using device: mps\n"
     ]
    }
   ],
   "execution_count": 4
  },
  {
   "metadata": {},
   "cell_type": "markdown",
   "source": [
    "# Step 5: Train the Model\n",
    "A simple training loop is used with Mean Squared Error loss and stochastic gradient descent to train the model."
   ],
   "id": "ba97ab7a3fd45652"
  },
  {
   "metadata": {
    "ExecuteTime": {
     "end_time": "2025-03-05T18:51:29.091243Z",
     "start_time": "2025-03-05T18:51:27.220307Z"
    }
   },
   "cell_type": "code",
   "source": [
    "x_train = [[1], [2], [3], [4]]\n",
    "y_train = [2, 4, 6, 8]\n",
    "\n",
    "optimizer = torch.optim.SGD(model.parameters(), lr=0.01)\n",
    "loss_fn = nn.MSELoss()\n",
    "\n",
    "for epoch in range(500):\n",
    "    model.train()\n",
    "    optimizer.zero_grad()\n",
    "    inputs = torch.tensor(x_train, dtype=torch.float32).to(device)\n",
    "    targets = torch.tensor(y_train, dtype=torch.float32).to(device)\n",
    "    outputs = model(inputs)\n",
    "    loss = loss_fn(outputs.squeeze(), targets)\n",
    "    loss.backward()\n",
    "    optimizer.step()"
   ],
   "id": "db5c7417d72fbd4c",
   "outputs": [],
   "execution_count": 5
  },
  {
   "metadata": {},
   "cell_type": "markdown",
   "source": [
    "# Step 6: Test the Pipeline\n",
    "Use the trained pipeline to make predictions on new data.\n"
   ],
   "id": "d2a7ab031ac31999"
  },
  {
   "metadata": {
    "ExecuteTime": {
     "end_time": "2025-03-05T18:51:35.088916Z",
     "start_time": "2025-03-05T18:51:34.830179Z"
    }
   },
   "cell_type": "code",
   "source": [
    "#print(\"dum\")\n",
    "output = pipeline([5])\n",
    "print(output)"
   ],
   "id": "b430b05435c1d9be",
   "outputs": [
    {
     "name": "stdout",
     "output_type": "stream",
     "text": [
      "[9.959477424621582]\n"
     ]
    }
   ],
   "execution_count": 6
  },
  {
   "metadata": {},
   "cell_type": "markdown",
   "source": "",
   "id": "42fdbe315c0c20c9"
  },
  {
   "metadata": {
    "ExecuteTime": {
     "end_time": "2025-03-05T18:51:38.713661Z",
     "start_time": "2025-03-05T18:51:38.585291Z"
    }
   },
   "cell_type": "code",
   "source": [
    "from scipy.stats import pearsonr\n",
    "\n",
    "# Test the pipeline against training data\n",
    "predictions = [pipeline([x])[0] for x in x_train]\n",
    "targets = [float(y) for y in y_train]\n",
    "\n",
    "# Calculate correlation coefficient\n",
    "correlation, _ = pearsonr(predictions, targets)\n",
    "print(f\"Correlation coefficient: {correlation}\")"
   ],
   "id": "7576532465a96495",
   "outputs": [
    {
     "name": "stdout",
     "output_type": "stream",
     "text": [
      "Correlation coefficient: 0.9999605257488521\n"
     ]
    }
   ],
   "execution_count": 7
  }
 ],
 "metadata": {
  "kernelspec": {
   "name": "jims_keras2_sandbox",
   "language": "python",
   "display_name": "Jim's Keras 2 Sandbox"
  }
 },
 "nbformat": 4,
 "nbformat_minor": 5
}
