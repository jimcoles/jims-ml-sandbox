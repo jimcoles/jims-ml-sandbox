{
 "cells": [
  {
   "metadata": {},
   "cell_type": "markdown",
   "source": [
    "# Working with Hugging Face 🤗 Models\n",
    "\n",
    "## Using a simple pre-trained HF model `gpt2`"
   ],
   "id": "83913c4c694dbadb"
  },
  {
   "metadata": {
    "collapsed": true,
    "ExecuteTime": {
     "end_time": "2025-02-16T22:41:19.357602Z",
     "start_time": "2025-02-16T22:41:10.161656Z"
    }
   },
   "cell_type": "code",
   "source": [
    "from transformers import pipeline\n",
    "\n",
    "# Load a pretrained pipeline for text generation using Hugging Face\n",
    "text_generator = pipeline(\"text-generation\", model=\"gpt2\")\n",
    "\n",
    "# Generate text\n",
    "output = text_generator(\"Hello, world! This is a Hugging Face example.\", truncation=True, max_length=50,\n",
    "                        num_return_sequences=1)\n",
    "\n",
    "# Display the generated text\n",
    "print(output)\n"
   ],
   "id": "initial_id",
   "outputs": [
    {
     "name": "stderr",
     "output_type": "stream",
     "text": [
      "Device set to use mps:0\n",
      "Setting `pad_token_id` to `eos_token_id`:50256 for open-end generation.\n"
     ]
    },
    {
     "name": "stdout",
     "output_type": "stream",
     "text": [
      "[{'generated_text': \"Hello, world! This is a Hugging Face example. It's really fun to share!\\n\\nThis is a Hugging Face example. It's really fun to share! This is a Hugging Face example:\\n\\nNow, I'm\"}]\n"
     ]
    }
   ],
   "execution_count": 1
  }
 ],
 "metadata": {
  "kernelspec": {
   "display_name": "Python 3",
   "language": "python",
   "name": "python3"
  },
  "language_info": {
   "codemirror_mode": {
    "name": "ipython",
    "version": 2
   },
   "file_extension": ".py",
   "mimetype": "text/x-python",
   "name": "python",
   "nbconvert_exporter": "python",
   "pygments_lexer": "ipython2",
   "version": "2.7.6"
  }
 },
 "nbformat": 4,
 "nbformat_minor": 5
}
