{
 "cells": [
  {
   "metadata": {},
   "cell_type": "code",
   "outputs": [],
   "execution_count": null,
   "source": [
    "# Working with Hugging Face 🤗 Models\n",
    "\n",
    "## Using a simple pre-trained HF model `gpt2`"
   ],
   "id": "3a9a604db74d2ddc"
  },
  {
   "metadata": {},
   "cell_type": "code",
   "outputs": [],
   "execution_count": null,
   "source": [
    "from transformers import pipeline\n",
    "\n",
    "# Load a pretrained pipeline for text generation using Hugging Face\n",
    "text_generator = pipeline(\"text-generation\", model=\"gpt2\")\n",
    "\n",
    "# Generate text\n",
    "output = text_generator(\"Hello, world! This is a Hugging Face example.\", truncation=True, max_length=50,\n",
    "                        num_return_sequences=1)\n",
    "\n",
    "# Display the generated text\n",
    "print(output)\n"
   ],
   "id": "dd397367416ed555"
  }
 ],
 "metadata": {},
 "nbformat": 5,
 "nbformat_minor": 9
}
