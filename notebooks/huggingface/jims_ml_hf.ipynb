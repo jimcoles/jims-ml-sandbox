{
 "cells": [
  {
   "metadata": {},
   "cell_type": "markdown",
   "source": [
    "# Working with Hugging Face 🤗 Models\n",
    "\n",
    "## Using a simple pre-trained HF model `gpt2`"
   ],
   "id": "72c9ca50233a3a2e"
  },
  {
   "metadata": {},
   "cell_type": "code",
   "outputs": [],
   "execution_count": null,
   "source": [
    "from transformers import pipeline\n",
    "\n",
    "# Load a pretrained pipeline for text generation using Hugging Face\n",
    "text_generator = pipeline(\"text-generation\", model=\"gpt2\")\n",
    "\n",
    "# Generate text\n",
    "output = text_generator(\"Hello, world! This is a Hugging Face example.\", truncation=True, max_length=50,\n",
    "                        num_return_sequences=1)\n",
    "\n",
    "# Display the generated text\n",
    "print(output)\n"
   ],
   "id": "dd83f02056c2106b"
  }
 ],
 "metadata": {
  "kernelspec": {
   "display_name": "Jim's Keras 2 Sandbox",
   "language": "python",
   "name": "jims_keras2_sandbox"
  },
  "language_info": {
   "codemirror_mode": {
    "name": "ipython",
    "version": 3
   },
   "file_extension": ".py",
   "mimetype": "text/x-python",
   "name": "python",
   "nbconvert_exporter": "python",
   "pygments_lexer": "ipython3",
   "version": "3.10.16"
  }
 },
 "nbformat": 4,
 "nbformat_minor": 5
}
