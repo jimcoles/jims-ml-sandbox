{
 "cells": [
  {
   "metadata": {},
   "cell_type": "markdown",
   "source": "# Problem 1 (fitting quadratics) using a custom HF 🤗 Pipeline",
   "id": "fd362be14d0e606a"
  },
  {
   "metadata": {},
   "cell_type": "markdown",
   "source": [
    "## Step 1: Define a Custom Configuration for the Model\n",
    "A custom configuration class is created to define the model's architecture, including input dimension, output dimension, and hidden layers."
   ],
   "id": "e6a6215dd9f2f90e"
  },
  {
   "metadata": {
    "ExecuteTime": {
     "end_time": "2025-02-17T19:40:29.233462Z",
     "start_time": "2025-02-17T19:40:23.625676Z"
    }
   },
   "cell_type": "code",
   "source": [
    "from transformers import PreTrainedModel, PretrainedConfig\n",
    "import torch\n",
    "import torch.nn as nn\n",
    "\n",
    "\n",
    "class CustomConfig(PretrainedConfig):\n",
    "    def __init__(self, input_dim=1, output_dim=1, hidden_dim=16, **kwargs):\n",
    "        super().__init__(**kwargs)\n",
    "        self.input_dim = input_dim\n",
    "        self.output_dim = output_dim\n",
    "        self.hidden_dim = hidden_dim"
   ],
   "id": "b79f1364c9e90fc",
   "outputs": [],
   "execution_count": 2
  },
  {
   "metadata": {},
   "cell_type": "markdown",
   "source": [
    "## Step 2: Create the Custom Model\n",
    "\n",
    "A simple feedforward neural network is implemented using PyTorch. The model will predict outputs from 2D input data.\n"
   ],
   "id": "f5daada79108b1fd"
  },
  {
   "metadata": {
    "ExecuteTime": {
     "end_time": "2025-02-17T19:40:29.241214Z",
     "start_time": "2025-02-17T19:40:29.238445Z"
    }
   },
   "cell_type": "code",
   "source": [
    "class CustomModel(PreTrainedModel):\n",
    "    config_class = CustomConfig\n",
    "\n",
    "    def __init__(self, config):\n",
    "        super().__init__(config)\n",
    "        self.model = nn.Sequential(\n",
    "            nn.Linear(config.input_dim, config.hidden_dim),\n",
    "            nn.ReLU(),\n",
    "            nn.Linear(config.hidden_dim, config.output_dim)\n",
    "        )\n",
    "\n",
    "    def forward(self, x):\n",
    "        return self.model(x)"
   ],
   "id": "77efdee165323b07",
   "outputs": [],
   "execution_count": 3
  },
  {
   "metadata": {},
   "cell_type": "markdown",
   "source": [
    "# Step 3: Build a Custom Pipeline\n",
    "A custom Hugging Face pipeline is defined to handle preprocessing, forward pass, and postprocessing for predictions.\n"
   ],
   "id": "1b7f33b698203ecd"
  },
  {
   "metadata": {
    "ExecuteTime": {
     "end_time": "2025-02-17T19:40:29.296830Z",
     "start_time": "2025-02-17T19:40:29.246714Z"
    }
   },
   "cell_type": "code",
   "source": [
    "from transformers import Pipeline\n",
    "\n",
    "class CustomPipeline(Pipeline):\n",
    "\n",
    "    def __init__(self, model, **kwargs):\n",
    "        super().__init__(model, **kwargs)\n",
    "\n",
    "    def _sanitize_parameters(self, **kwargs):\n",
    "        return {}, {}, {}\n",
    "\n",
    "    def preprocess(self, inputs):\n",
    "        return torch.tensor(inputs, dtype=torch.float32).unsqueeze(0)\n",
    "\n",
    "    def _forward(self, model_inputs):\n",
    "        with torch.no_grad():\n",
    "            return self.model(model_inputs)\n",
    "\n",
    "    def postprocess(self, model_outputs):\n",
    "        return model_outputs.squeeze().tolist()"
   ],
   "id": "5bde7f356b7dd342",
   "outputs": [],
   "execution_count": 4
  },
  {
   "metadata": {},
   "cell_type": "markdown",
   "source": [
    "# Step 4: Instantiate the Model, Config, and Pipeline\n",
    "The model and pipeline are created based on the defined configuration.\n"
   ],
   "id": "e1f403d1a4ecc74f"
  },
  {
   "metadata": {
    "ExecuteTime": {
     "end_time": "2025-02-17T19:40:29.327666Z",
     "start_time": "2025-02-17T19:40:29.306002Z"
    }
   },
   "cell_type": "code",
   "source": [
    "config = CustomConfig(input_dim=1, output_dim=1, hidden_dim=16)\n",
    "\n",
    "# Check for MPS device support (for Apple silicon)\n",
    "device = torch.device(\"mps\") if torch.backends.mps.is_available() else torch.device(\"cpu\")\n",
    "print(f\"Using device: {device}\")\n",
    "\n",
    "model = CustomModel(config)\n",
    "# Initialize the model and move it to the correct device\n",
    "# model = CustomModel(config).to(device)\n",
    "\n",
    "pipeline = CustomPipeline(model)"
   ],
   "id": "aa9e774619ed588f",
   "outputs": [
    {
     "name": "stderr",
     "output_type": "stream",
     "text": [
      "Device set to use mps:0\n"
     ]
    },
    {
     "name": "stdout",
     "output_type": "stream",
     "text": [
      "Using device: mps\n"
     ]
    }
   ],
   "execution_count": 5
  },
  {
   "metadata": {},
   "cell_type": "markdown",
   "source": [
    "# Step 5: Train the Model\n",
    "A simple training loop is used with Mean Squared Error loss and stochastic gradient descent to train the model."
   ],
   "id": "d15d245807899c90"
  },
  {
   "metadata": {
    "ExecuteTime": {
     "end_time": "2025-02-17T19:40:30.179341Z",
     "start_time": "2025-02-17T19:40:29.340487Z"
    }
   },
   "cell_type": "code",
   "source": [
    "x_train = [[1], [2], [3], [4]]\n",
    "y_train = [2, 4, 6, 8]\n",
    "\n",
    "optimizer = torch.optim.SGD(model.parameters(), lr=0.01)\n",
    "loss_fn = nn.MSELoss()\n",
    "\n",
    "for epoch in range(500):\n",
    "    model.train()\n",
    "    optimizer.zero_grad()\n",
    "    inputs = torch.tensor(x_train, dtype=torch.float32).to(device)\n",
    "    targets = torch.tensor(y_train, dtype=torch.float32).to(device)\n",
    "    outputs = model(inputs)\n",
    "    loss = loss_fn(outputs.squeeze(), targets)\n",
    "    loss.backward()\n",
    "    optimizer.step()"
   ],
   "id": "8dc0fbd4e471f1b7",
   "outputs": [],
   "execution_count": 6
  },
  {
   "metadata": {},
   "cell_type": "markdown",
   "source": [
    "# Step 6: Test the Pipeline\n",
    "Use the trained pipeline to make predictions on new data.\n"
   ],
   "id": "2eb3486d02a1a328"
  },
  {
   "metadata": {
    "ExecuteTime": {
     "end_time": "2025-02-17T19:40:30.311253Z",
     "start_time": "2025-02-17T19:40:30.295224Z"
    }
   },
   "cell_type": "code",
   "source": [
    "#print(\"dum\")\n",
    "output = pipeline([5])\n",
    "print(output)"
   ],
   "id": "feabb02f5e6953bb",
   "outputs": [
    {
     "name": "stdout",
     "output_type": "stream",
     "text": [
      "[9.948281288146973]\n"
     ]
    }
   ],
   "execution_count": 7
  },
  {
   "metadata": {},
   "cell_type": "markdown",
   "source": "",
   "id": "f525e5197765c5cc"
  },
  {
   "metadata": {
    "ExecuteTime": {
     "end_time": "2025-02-17T19:40:34.038518Z",
     "start_time": "2025-02-17T19:40:33.908746Z"
    }
   },
   "cell_type": "code",
   "source": [
    "from scipy.stats import pearsonr\n",
    "\n",
    "# Test the pipeline against training data\n",
    "predictions = [pipeline([x])[0] for x in x_train]\n",
    "targets = [float(y) for y in y_train]\n",
    "\n",
    "# Calculate correlation coefficient\n",
    "correlation, _ = pearsonr(predictions, targets)\n",
    "print(f\"Correlation coefficient: {correlation}\")"
   ],
   "id": "f451f7fb13df208a",
   "outputs": [
    {
     "name": "stdout",
     "output_type": "stream",
     "text": [
      "Correlation coefficient: 0.9999999999999931\n"
     ]
    }
   ],
   "execution_count": 8
  }
 ],
 "metadata": {
  "kernelspec": {
   "display_name": "Python 3",
   "language": "python",
   "name": "python3"
  },
  "language_info": {
   "codemirror_mode": {
    "name": "ipython",
    "version": 2
   },
   "file_extension": ".py",
   "mimetype": "text/x-python",
   "name": "python",
   "nbconvert_exporter": "python",
   "pygments_lexer": "ipython2",
   "version": "2.7.6"
  }
 },
 "nbformat": 4,
 "nbformat_minor": 5
}
