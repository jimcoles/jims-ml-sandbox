{
 "cells": [
  {
   "metadata": {},
   "cell_type": "code",
   "outputs": [],
   "execution_count": null,
   "source": "# Python Math Basics",
   "id": "4ba701f8039c825e"
  },
  {
   "metadata": {},
   "cell_type": "markdown",
   "source": "## Python math built-ins: `min()`, `max()`, `pow()`, `...`",
   "id": "795c69955acd5ecf"
  },
  {
   "metadata": {},
   "cell_type": "code",
   "outputs": [],
   "execution_count": null,
   "source": [
    "# Python has some built-in math functions\n",
    "x = min(5, 10, 25)\n",
    "y = max(5, 10, 25)\n",
    "\n",
    "print(x)\n",
    "print(y)"
   ],
   "id": "87ec06c9aa649a5a"
  },
  {
   "metadata": {},
   "cell_type": "code",
   "outputs": [],
   "execution_count": null,
   "source": [
    "x = abs(-7.25)\n",
    "\n",
    "print(x)"
   ],
   "id": "59ba8c9d2ae52840"
  },
  {
   "metadata": {},
   "cell_type": "code",
   "outputs": [],
   "execution_count": null,
   "source": [
    "x = pow(4, 3)\n",
    "\n",
    "print(x)"
   ],
   "id": "10807316730727aa"
  },
  {
   "metadata": {},
   "cell_type": "code",
   "outputs": [],
   "execution_count": null,
   "source": [
    "import math\n",
    "\n",
    "x = math.sqrt(64)\n",
    "\n",
    "print(x)"
   ],
   "id": "bb7af453d93caa75"
  },
  {
   "metadata": {},
   "cell_type": "markdown",
   "source": "## Python `math` package",
   "id": "48e64525c74373b7"
  },
  {
   "metadata": {},
   "cell_type": "code",
   "outputs": [],
   "execution_count": null,
   "source": [
    "import math\n",
    "\n",
    "x = math.ceil(1.4)\n",
    "y = math.floor(1.4)\n",
    "\n",
    "print(x)  # returns 2\n",
    "print(y)  # returns 1"
   ],
   "id": "e9d94fd8d40544c2"
  },
  {
   "metadata": {},
   "cell_type": "markdown",
   "source": "## `numpy` the magnificent",
   "id": "9e237b4fbf225670"
  },
  {
   "metadata": {},
   "cell_type": "code",
   "outputs": [],
   "execution_count": null,
   "source": [
    "import numpy as np\n",
    "\n",
    "b = np.array([[1, 2, 3], [4, 5, 6]])  # Create a rank 2 array\n",
    "print(f\"shape: {b.shape}\\n\"\n",
    "      f\"values:\\n{b}\")"
   ],
   "id": "294eb294b869014"
  },
  {
   "metadata": {},
   "cell_type": "code",
   "outputs": [],
   "execution_count": null,
   "source": [
    "c = np.array(\n",
    "    [\n",
    "        [\n",
    "            [1, 2, 3],\n",
    "            [4, 5, 6]\n",
    "        ],\n",
    "        [\n",
    "            [7, 8, 9],\n",
    "            [10, 11, 12]\n",
    "        ]\n",
    "    ]\n",
    ")  # Create a rank 2 array\n",
    "\n",
    "print(f\"shape: {c.shape}\\n\"\n",
    "      f\"values:\\n{c}\")"
   ],
   "id": "bd99ba9910f107d3"
  },
  {
   "metadata": {},
   "cell_type": "markdown",
   "source": [
    "## Re-entering the matrix: hand-coded matrix `mult()` and `dot()`\n",
    "\n",
    "Some basic matrix math. I've implemented a mult and a dot product as an exercise to refresh my memory on linear algebra."
   ],
   "id": "7daac8ff984226c3"
  },
  {
   "metadata": {},
   "cell_type": "code",
   "outputs": [],
   "execution_count": null,
   "source": [
    "from jkcsoft.math import jymath\n",
    "import importlib\n",
    "\n",
    "importlib.reload(jymath)\n",
    "\n",
    "x = np.array([[1,2],[3,4],[5,6]], dtype=np.float64)\n",
    "y = np.array([[5,6,7],[7,8,9]], dtype=np.float64)\n",
    "\n",
    "print(f\"x: {x}\\ny: {y}\")\n",
    "print(f\"x shape: {x.shape} x[0] shape: {x[0].shape} \")\n",
    "print(f\"x ndim: {x.ndim} x[0] ndim: {x[0].ndim} \")\n",
    "\n",
    "prod = jymath.matrix_multiply(x, y)\n",
    "\n",
    "print(f\"Product:\\n{prod}\")\n",
    "\n",
    "np_prod = np.matmul(x, y)\n",
    "\n",
    "print(f\"Numpy Product:\\n{np_prod}\")\n"
   ],
   "id": "671056536f502f4b"
  },
  {
   "metadata": {},
   "cell_type": "markdown",
   "source": "## `SciPy`",
   "id": "5c07c91aa70ccca4"
  },
  {
   "metadata": {},
   "cell_type": "markdown",
   "source": "### `scipy.constants`: Universal constants",
   "id": "951428dd167cd900"
  },
  {
   "metadata": {},
   "cell_type": "code",
   "outputs": [],
   "execution_count": null,
   "source": [
    "from scipy.constants import pi, golden, e, c, h, G, g, Avogadro, Boltzmann\n",
    "\n",
    "# Mathematical constants\n",
    "print(f\"Pi: {pi}\")  # The ratio of a circle's `1circumference to its diameter\n",
    "print(f\"Golden Ratio: {golden}\")  # (1 + sqrt(5)) / 2, appears in various natural patterns\n",
    "print(f\"Euler's Number: {e}\")  # Base of the natural logarithm, approximately 2.718\n",
    "\n",
    "# Physical constants\n",
    "print(f\"Speed of Light (c): {c} m/s\")  # The speed at which light propagates in a vacuum\n",
    "print(f\"Planck's Constant (h): {h} J·s\")  # Relates the energy of a photon to its frequency\n",
    "print(f\"Gravitational Constant (G): {G} m^3/kg/s^2\")  # Describes the strength of gravitation\n",
    "print(f\"Acceleration due to Gravity (g): {g} m/s^2\")  # Standard acceleration of free fall on Earth\n",
    "\n",
    "# Scientific constants\n",
    "print(f\"Avogadro's Number: {Avogadro} 1/mol\")  # Number of constituent particles per mole of a substance\n",
    "print(f\"Boltzmann Constant: {Boltzmann} J/K\")  # Relates the average kinetic energy of particles to temperature"
   ],
   "id": "a2fa4d3687972671"
  },
  {
   "metadata": {},
   "cell_type": "markdown",
   "source": "Solving linear systems of equations",
   "id": "42311db9d9614fed"
  },
  {
   "metadata": {},
   "cell_type": "code",
   "outputs": [],
   "execution_count": null,
   "source": [
    "import numpy as np\n",
    "\n",
    "x = np.array([1, 2.5, 3.5, 4, 5, 7, 8.5])\n",
    "y = np.array([0.3, 1.1, 1.5, 2.0, 3.2, 6.6, 8.6])"
   ],
   "id": "32a99b625a6c6d32"
  },
  {
   "metadata": {},
   "cell_type": "markdown",
   "source": "### `scipy.differentiate`",
   "id": "5bcb4d9c477242e6"
  },
  {
   "metadata": {},
   "cell_type": "markdown",
   "source": "### `scipy.fft` - Fast-Fourier Transforms",
   "id": "f569483ccd90bbf5"
  },
  {
   "metadata": {},
   "cell_type": "markdown",
   "source": [
    "### `scipy.ndimage`: N-Dimensional interpolation for equally-spaced data\n",
    "\n",
    "The scipy.ndimage package also contains spline\\_filter and\n",
    "map\\_coordinates which can be used to perform N-dimensional\n",
    "interpolation for equally-spaced data. A two-dimensional example is\n",
    "given below:"
   ],
   "id": "3ac8d61410804fea"
  },
  {
   "metadata": {},
   "cell_type": "code",
   "outputs": [],
   "execution_count": null,
   "source": [
    "from numpy import ogrid, mgrid, sin, array\n",
    "from scipy import ndimage\n",
    "from matplotlib import pyplot as plt\n",
    "\n",
    "x,y = ogrid[-1:1:5j,-1:1:5j]\n",
    "fvals = sin(x)*sin(y)\n",
    "newx,newy = mgrid[-1:1:100j,-1:1:100j]\n",
    "x0 = x[0,0]\n",
    "y0 = y[0,0]\n",
    "dx = x[1,0] - x0\n",
    "dy = y[0,1] - y0\n",
    "ivals = (newx - x0)/dx\n",
    "jvals = (newy - y0)/dy\n",
    "coords = array([ivals, jvals])\n",
    "newf1 = ndimage.map_coordinates(fvals, coords)"
   ],
   "id": "f48e9cb36f6cf973"
  },
  {
   "metadata": {},
   "cell_type": "markdown",
   "source": [
    "To pre-compute the weights (for multiple interpolation results), you\n",
    "would use"
   ],
   "id": "8ec1ebf99484344c"
  },
  {
   "metadata": {},
   "cell_type": "code",
   "outputs": [],
   "execution_count": null,
   "source": [
    "coeffs = ndimage.spline_filter(fvals)\n",
    "newf2 = ndimage.map_coordinates(coeffs, coords, prefilter=False)\n",
    "\n",
    "plt.subplot(1,2,1)\n",
    "plt.imshow(newf1)\n",
    "plt.subplot(1,2,2)\n",
    "plt.imshow(newf2)\n",
    "plt.show()"
   ],
   "id": "eb3b53386dcf8dbd"
  },
  {
   "metadata": {},
   "cell_type": "markdown",
   "source": "### `scipy.integrate`",
   "id": "81829e3678b81f8a"
  },
  {
   "metadata": {},
   "cell_type": "markdown",
   "source": [
    "### `scipy.interpolation`: Interpolation of an N-D curve\n",
    "\n",
    "The scipy.interpolate packages wraps the netlib FITPACK routines\n",
    "(Dierckx) for calculating smoothing splines for various kinds of data\n",
    "and geometries. Although the data is evenly spaced in this example, it\n",
    "need not be so to use this routine."
   ],
   "id": "a9b559c63e8d0dcb"
  },
  {
   "metadata": {},
   "cell_type": "code",
   "outputs": [],
   "execution_count": null,
   "source": [
    "from numpy import cos, linspace, pi, sin, random\n",
    "from scipy.interpolate import splprep, splev\n",
    "from matplotlib import pyplot\n",
    "\n",
    "# make ascending spiral in 3-space\n",
    "t=linspace(0,1.75*2*pi,100)\n",
    "\n",
    "x = sin(t)\n",
    "y = cos(t)\n",
    "z = t\n",
    "\n",
    "# add noise\n",
    "x+= random.normal(scale=0.1, size=x.shape)\n",
    "y+= random.normal(scale=0.1, size=y.shape)\n",
    "z+= random.normal(scale=0.1, size=z.shape)\n",
    "\n",
    "# spline parameters\n",
    "s=3.0 # smoothness parameter\n",
    "k=2 # spline order\n",
    "nest=-1 # estimate of number of knots needed (-1 = maximal)\n",
    "\n",
    "# find the knot points\n",
    "tckp, u = splprep([x,y,z],s=s,k=k,nest=-1)\n",
    "\n",
    "# evaluate spline, including interpolated points\n",
    "xnew,ynew,znew = splev(linspace(0,1,400),tckp)\n",
    "\n",
    "#import pylab\n",
    "\n",
    "pyplot.subplot(2,2,1)\n",
    "data,=pyplot.plot(x,y,'bo-',label='data')\n",
    "fit,=pyplot.plot(xnew,ynew,'r-',label='fit')\n",
    "pyplot.legend()\n",
    "pyplot.xlabel('x')\n",
    "pyplot.ylabel('y')\n",
    "\n",
    "pyplot.subplot(2,2,2)\n",
    "data,=pyplot.plot(x,z,'bo-',label='data')\n",
    "fit,=pyplot.plot(xnew,znew,'r-',label='fit')\n",
    "pyplot.legend()\n",
    "pyplot.xlabel('x')\n",
    "pyplot.ylabel('z')\n",
    "\n",
    "pyplot.subplot(2,2,3)\n",
    "data,=pyplot.plot(y,z,'bo-',label='data')\n",
    "fit,=pyplot.plot(ynew,znew,'r-',label='fit')\n",
    "pyplot.legend()\n",
    "pyplot.xlabel('y')\n",
    "pyplot.ylabel('z')\n",
    "plt.show()"
   ],
   "id": "5d76c6c907a3c0aa"
  },
  {
   "metadata": {},
   "cell_type": "markdown",
   "source": "### `scipy.linalg`: Linear Algebra, eigenvectors and such",
   "id": "68e5275698b7e5df"
  },
  {
   "metadata": {},
   "cell_type": "code",
   "outputs": [],
   "execution_count": null,
   "source": [
    "from scipy.linalg import eig\n",
    "import numpy as np\n",
    "\n",
    "# Define a square matrix\n",
    "matrix = np.array([[4, -2],\n",
    "                   [1,  1]])\n",
    "\n",
    "# Compute eigenvalues and eigenvectors\n",
    "eigenvalues, eigenvectors = eig(matrix)\n",
    "\n",
    "# Print the results\n",
    "print(\"Eigenvalues:\")\n",
    "print(eigenvalues)\n",
    "\n",
    "print(\"Eigenvectors:\")\n",
    "print(eigenvectors)"
   ],
   "id": "a771fb7db9f9edfd"
  },
  {
   "metadata": {},
   "cell_type": "markdown",
   "source": "### `scipy.odr`",
   "id": "90e2994074a2f01"
  },
  {
   "metadata": {},
   "cell_type": "markdown",
   "source": [
    "### `scipy.optimize`: Optimization\n",
    "\n",
    "SciPy's optimization package is scipy.optimize. The most basic\n",
    "non-linear optimization functions are:\n",
    "\n",
    "* `optimize.fmin(func, x0)`, which finds the minimum of func(x) starting x with x0 (x can be a vector)\n",
    "* `optimize.fsolve(func, x0)`, which finds a solution to func(x) = 0 starting with x = x0 (x can be a vector)\n",
    "* `optimize.fminbound(func, x1, x2)`, which finds the minimum of a scalar function func(x) for the range [x1,x2] (x1,x2 must be a scalar and func(x) must return a scalar)\n",
    "\n",
    "See the [scipy.optimze documentation](http://docs.scipy.org/doc/scipy/reference/optimize.html) for details.\n",
    "\n",
    "This is a quick demonstration of generating data from several Bessel\n",
    "functions and finding some local maxima using fminbound. This uses ipython with the -pylab switch."
   ],
   "id": "11802b7d7e15265a"
  },
  {
   "metadata": {},
   "cell_type": "code",
   "outputs": [],
   "execution_count": null,
   "source": [
    "from scipy import optimize, special\n",
    "from pylab import *\n",
    "\n",
    "x = arange(0,10,0.01)\n",
    "\n",
    "for k in arange(0.5,5.5):\n",
    "     y = special.jv(k,x)\n",
    "     plot(x,y)\n",
    "     f = lambda x: -special.jv(k,x)\n",
    "     x_max = optimize.fminbound(f,0,6)\n",
    "     plot([x_max], [special.jv(k,x_max)],'ro')\n",
    "\n",
    "title('Different Bessel functions and their local maxima')\n",
    "show()\n",
    "from numpy import r_, sin"
   ],
   "id": "518f24edb2d2a182"
  },
  {
   "metadata": {},
   "cell_type": "markdown",
   "source": [
    "### `scipy.signal`: Interpolation, Splines\n",
    "\n",
    "#### Using B-splines in scipy.signal\n",
    "\n",
    "Example showing how to use B-splines in scipy.signal to do\n",
    "interpolation. The input points must be equally spaced to use these\n",
    "routine."
   ],
   "id": "1653587fe5c6bd77"
  },
  {
   "metadata": {},
   "cell_type": "code",
   "outputs": [],
   "execution_count": null,
   "source": [
    "from scipy.signal import cspline1d, cspline1d_eval\n",
    "#from pylab import plot, show\n",
    "#%pylab inline\n",
    "\n",
    "x = r_[0:10]\n",
    "dx = x[1]-x[0]\n",
    "newx = r_[-3:13:0.1]  # notice outside the original domain\n",
    "y = sin(x)\n",
    "cj = cspline1d(y)\n",
    "newy = cspline1d_eval(cj, newx, dx=dx,x0=x[0])\n",
    "plot(newx, newy, x, y, 'o')\n",
    "show()"
   ],
   "id": "8a59f613b9921084"
  },
  {
   "metadata": {},
   "cell_type": "markdown",
   "source": "### `scipy.sparse`",
   "id": "d87a8c4d97f7afbd"
  },
  {
   "metadata": {},
   "cell_type": "markdown",
   "source": "### `scipy.spatial`",
   "id": "b287410d05224212"
  },
  {
   "metadata": {},
   "cell_type": "markdown",
   "source": "### Miscellaneous: `scipy.datasets`, `scipy.special`, `scipy.cluster`",
   "id": "7aff72737d5b6d1f"
  },
  {
   "metadata": {},
   "cell_type": "code",
   "outputs": [],
   "execution_count": null,
   "source": [
    "from scipy.datasets import ascent, face\n",
    "import matplotlib.pyplot as plt\n",
    "\n",
    "# Load the \"ascent\" test image\n",
    "ascent_image = ascent()\n",
    "\n",
    "# Load the \"face\" test image\n",
    "face_image = face()\n",
    "\n",
    "# Plot both images\n",
    "fig, ax = plt.subplots(1, 2, figsize=(12, 6))\n",
    "\n",
    "# Display ascent image\n",
    "ax[0].imshow(ascent_image, cmap=\"gray\")\n",
    "ax[0].set_title(\"Ascent Image\")\n",
    "ax[0].axis(\"off\")\n",
    "\n",
    "# Display face image\n",
    "ax[1].imshow(face_image)\n",
    "ax[1].set_title(\"Face Image\")\n",
    "ax[1].axis(\"off\")\n",
    "\n",
    "plt.show()"
   ],
   "id": "ac95764d83d0e8f2"
  },
  {
   "metadata": {},
   "cell_type": "markdown",
   "source": "## Using `pint` to control Units, Quantities",
   "id": "aef1f0591c21f90f"
  },
  {
   "metadata": {},
   "cell_type": "code",
   "outputs": [],
   "execution_count": null,
   "source": [
    "from pint import UnitRegistry\n",
    "\n",
    "# Create a UnitRegistry\n",
    "ureg = UnitRegistry()\n",
    "\n",
    "# Define quantities with units\n",
    "distance = 5 * ureg.meter\n",
    "time = 10 * ureg.second\n",
    "\n",
    "# Perform calculations\n",
    "speed = distance / time\n",
    "print(f\"Speed: {speed}\")  # Speed: 0.5 meter / second\n",
    "\n",
    "# Convert to a different unit\n",
    "speed_in_kmh = speed.to(ureg.kilometer / ureg.hour)\n",
    "print(f\"Speed in km/h: {speed_in_kmh}\")  # Speed in km/h: 1.8 kilometer / hour\n"
   ],
   "id": "dd0e989bc9b06af7"
  }
 ],
 "metadata": {},
 "nbformat": 5,
 "nbformat_minor": 9
}
