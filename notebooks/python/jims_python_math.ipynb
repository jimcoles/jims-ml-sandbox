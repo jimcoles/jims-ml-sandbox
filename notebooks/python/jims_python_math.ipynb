{
 "cells": [
  {
   "metadata": {},
   "cell_type": "markdown",
   "source": "# Jim's take on Python math basics with builtins, `math` and `numpy`"
  },
  {
   "metadata": {},
   "cell_type": "markdown",
   "source": "## Python math built-ins: `min()`, `max()`, `pow()`, `...`"
  },
  {
   "metadata": {
    "ExecuteTime": {
     "end_time": "2025-03-07T02:50:19.793256Z",
     "start_time": "2025-03-07T02:50:19.789150Z"
    }
   },
   "cell_type": "code",
   "source": [
    "\n",
    "# Python has some built-in math functions\n",
    "x = min(5, 10, 25)\n",
    "y = max(5, 10, 25)\n",
    "\n",
    "print(x)\n",
    "print(y)"
   ],
   "outputs": [
    {
     "name": "stdout",
     "output_type": "stream",
     "text": [
      "5\n",
      "25\n"
     ]
    }
   ],
   "execution_count": 1
  },
  {
   "metadata": {
    "ExecuteTime": {
     "end_time": "2025-03-07T02:50:19.798423Z",
     "start_time": "2025-03-07T02:50:19.796713Z"
    }
   },
   "cell_type": "code",
   "source": [
    "x = abs(-7.25)\n",
    "\n",
    "print(x)"
   ],
   "outputs": [
    {
     "name": "stdout",
     "output_type": "stream",
     "text": [
      "7.25\n"
     ]
    }
   ],
   "execution_count": 2
  },
  {
   "metadata": {
    "ExecuteTime": {
     "end_time": "2025-03-07T02:50:19.912516Z",
     "start_time": "2025-03-07T02:50:19.910609Z"
    }
   },
   "cell_type": "code",
   "source": [
    "x = pow(4, 3)\n",
    "\n",
    "print(x)"
   ],
   "outputs": [
    {
     "name": "stdout",
     "output_type": "stream",
     "text": [
      "64\n"
     ]
    }
   ],
   "execution_count": 3
  },
  {
   "metadata": {
    "ExecuteTime": {
     "end_time": "2025-03-07T02:50:19.919202Z",
     "start_time": "2025-03-07T02:50:19.917410Z"
    }
   },
   "cell_type": "code",
   "source": [
    "import math\n",
    "\n",
    "x = math.sqrt(64)\n",
    "\n",
    "print(x)"
   ],
   "outputs": [
    {
     "name": "stdout",
     "output_type": "stream",
     "text": [
      "8.0\n"
     ]
    }
   ],
   "execution_count": 4
  },
  {
   "metadata": {},
   "cell_type": "markdown",
   "source": "## Python `math` package"
  },
  {
   "metadata": {
    "ExecuteTime": {
     "end_time": "2025-03-07T02:50:19.939248Z",
     "start_time": "2025-03-07T02:50:19.937047Z"
    }
   },
   "cell_type": "code",
   "source": [
    "import math\n",
    "\n",
    "x = math.ceil(1.4)\n",
    "y = math.floor(1.4)\n",
    "\n",
    "print(x)  # returns 2\n",
    "print(y)  # returns 1"
   ],
   "outputs": [
    {
     "name": "stdout",
     "output_type": "stream",
     "text": [
      "2\n",
      "1\n"
     ]
    }
   ],
   "execution_count": 5
  },
  {
   "metadata": {},
   "cell_type": "markdown",
   "source": "## `numpy` the magnificent"
  },
  {
   "metadata": {
    "ExecuteTime": {
     "end_time": "2025-03-07T02:50:20.012831Z",
     "start_time": "2025-03-07T02:50:19.952234Z"
    }
   },
   "cell_type": "code",
   "source": [
    "import numpy as np\n",
    "\n",
    "b = np.array([[1, 2, 3], [4, 5, 6]])  # Create a rank 2 array\n",
    "print(f\"shape: {b.shape}\\n\"\n",
    "      f\"values:\\n{b}\")"
   ],
   "outputs": [
    {
     "name": "stdout",
     "output_type": "stream",
     "text": [
      "shape: (2, 3)\n",
      "values:\n",
      "[[1 2 3]\n",
      " [4 5 6]]\n"
     ]
    }
   ],
   "execution_count": 6
  },
  {
   "metadata": {
    "ExecuteTime": {
     "end_time": "2025-03-07T02:50:20.102674Z",
     "start_time": "2025-03-07T02:50:20.077377Z"
    }
   },
   "cell_type": "code",
   "source": [
    "c = np.array([[[1, 2, 3], [4, 5, 6], [4, 5, 6]], [[7, 8, 9], [4, 5, 6], [10, 11, 12]]])\n",
    "\n",
    "print(f\"shape: {c.shape}\\n\"\n",
    "      f\"values:\\n{c}\")\n",
    "print(f\"ndim: {c.ndim}\")\n",
    "print(f\"size: {c.size}\")\n",
    "print(f\"dtype: {c.dtype}\")\n",
    "print(f\"itemsize: {c.itemsize} bytes\")\n",
    "print(f\"nbytes: {c.nbytes}\")\n",
    "print(f\"data: {c.data}\")\n",
    "print(f\"value at index [0,0,0]: {c[1,0,0]}\")\n"
   ],
   "outputs": [
    {
     "name": "stdout",
     "output_type": "stream",
     "text": [
      "shape: (2, 3, 3)\n",
      "values:\n",
      "[[[ 1  2  3]\n",
      "  [ 4  5  6]\n",
      "  [ 4  5  6]]\n",
      "\n",
      " [[ 7  8  9]\n",
      "  [ 4  5  6]\n",
      "  [10 11 12]]]\n",
      "ndim: 3\n",
      "size: 18\n",
      "dtype: int64\n",
      "itemsize: 8 bytes\n",
      "nbytes: 144\n",
      "data: <memory at 0x10343b100>\n",
      "value at index [0,0,0]: 7\n"
     ]
    }
   ],
   "execution_count": 7
  },
  {
   "metadata": {},
   "cell_type": "markdown",
   "source": [
    "## Re-entering the matrix: hand-coded matrix `mult()` and `dot()`\n",
    "\n",
    "Some basic matrix math. I've implemented a mult and a dot product as an exercise to refresh my memory on linear algebra."
   ]
  },
  {
   "metadata": {
    "ExecuteTime": {
     "end_time": "2025-03-07T23:32:40.654384Z",
     "start_time": "2025-03-07T23:32:40.650101Z"
    }
   },
   "cell_type": "code",
   "source": [
    "from jkcsoft.math import jymath\n",
    "import importlib\n",
    "\n",
    "importlib.reload(jymath)\n",
    "\n",
    "A = np.array([[1,2],[3,4],[5,6]], dtype=np.float64)\n",
    "B = np.array([[5,6,7],[7,8,9]], dtype=np.float64)\n",
    "\n",
    "print(f\"A shape: {A.shape}\")\n",
    "print(f\"B shape: {B.shape}\")\n",
    "print(f\"A ndim: {A.ndim}\")\n",
    "print(f\"A:\\n{A}\\n\"\n",
    "      f\"B:\\n{B}\")\n",
    "\n",
    "jims_product = jymath.matrix_multiply(A, B)\n",
    "\n",
    "print(f\"Jim's mat mult product:\\n{jims_product}\")\n",
    "\n",
    "np_prod = np.matmul(A, B)\n",
    "\n",
    "print(f\"Numpy Product:\\n{np_prod}\")\n"
   ],
   "outputs": [
    {
     "name": "stdout",
     "output_type": "stream",
     "text": [
      "A shape: (3, 2)\n",
      "B shape: (2, 3)\n",
      "A ndim: 2\n",
      "A:\n",
      "[[1. 2.]\n",
      " [3. 4.]\n",
      " [5. 6.]]\n",
      "B:\n",
      "[[5. 6. 7.]\n",
      " [7. 8. 9.]]\n",
      "Jim's mat mult product:\n",
      "[[19. 22. 25.]\n",
      " [43. 50. 57.]\n",
      " [67. 78. 89.]]\n",
      "Numpy Product:\n",
      "[[19. 22. 25.]\n",
      " [43. 50. 57.]\n",
      " [67. 78. 89.]]\n"
     ]
    }
   ],
   "execution_count": 8
  },
  {
   "metadata": {},
   "cell_type": "markdown",
   "source": "## Matrices with NumPy"
  },
  {
   "metadata": {
    "ExecuteTime": {
     "end_time": "2025-03-07T22:41:12.875129Z",
     "start_time": "2025-03-07T22:41:12.762919Z"
    }
   },
   "cell_type": "code",
   "source": [
    "import numpy as np\n",
    "# Example 1 - Matrix multiplication using @ operator and numpy.dot\n",
    "A = np.array([[1, 2], [3, 4]])\n",
    "B = np.array([[5, 6], [7, 8]])\n",
    "\n",
    "# Using @ operator\n",
    "C = A @ B\n",
    "# Using numpy.dot\n",
    "D = np.dot(A, B)\n",
    "\n",
    "print(\"Matrix Multiplication using @ operator:\\n\", C)\n",
    "print(\"Matrix Multiplication using numpy.dot:\\n\", D)\n",
    "\n",
    "# Example 2 - Matrix inverse and transpose\n",
    "E = np.array([[1, 2], [3, 4]])\n",
    "E_inverse = np.linalg.inv(E)\n",
    "E_transpose = E.T\n",
    "\n",
    "print(\"Matrix Inverse:\\n\", E_inverse)\n",
    "print(\"Matrix Transpose:\\n\", E_transpose)"
   ],
   "outputs": [
    {
     "name": "stdout",
     "output_type": "stream",
     "text": [
      "Matrix Multiplication using @ operator:\n",
      " [[19 22]\n",
      " [43 50]]\n",
      "Matrix Multiplication using numpy.dot:\n",
      " [[19 22]\n",
      " [43 50]]\n",
      "Matrix Inverse:\n",
      " [[-2.   1. ]\n",
      " [ 1.5 -0.5]]\n",
      "Matrix Transpose:\n",
      " [[1 3]\n",
      " [2 4]]\n"
     ]
    }
   ],
   "execution_count": 2
  }
 ],
 "metadata": {
  "kernelspec": {
   "name": "python3",
   "language": "python",
   "display_name": "Python 3 (ipykernel)"
  }
 },
 "nbformat": 4,
 "nbformat_minor": 4
}
