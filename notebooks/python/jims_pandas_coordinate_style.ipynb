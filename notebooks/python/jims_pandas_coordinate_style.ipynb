{
 "cells": [
  {
   "metadata": {},
   "cell_type": "markdown",
   "source": [
    "# Coordinate-Style Assignments with pandas.MultiIndex\n",
    "This notebook demonstrates how to use pandas MultiIndex to simulate coordinate-style data management. We'll explore the creation of a MultiIndex DataFrame, assigning values to specific coordinates, batch assignments, adding new coordinates, querying, and defining a helper function to simplify the process."
   ],
   "id": "e5f529e185d55537"
  },
  {
   "metadata": {
    "ExecuteTime": {
     "end_time": "2025-03-03T22:02:10.050150Z",
     "start_time": "2025-03-03T22:02:10.045609Z"
    }
   },
   "cell_type": "code",
   "source": [
    "# Importing pandas\n",
    "import pandas as pd\n",
    "\n",
    "# Creating a pandas DataFrame with a MultiIndex using `from_tuples`\n",
    "index = pd.MultiIndex.from_tuples(\n",
    "    [\n",
    "        (0, 40.7128, -74.0060),  # New York\n",
    "        (1, 34.0522, -118.2437),  # Los Angeles\n",
    "        (2, 37.7749, -122.4194),  # San Francisco\n",
    "    ],\n",
    "    names=[\"time\", \"latitude\", \"longitude\"]\n",
    ")\n",
    "\n",
    "df = pd.DataFrame({\"value\": [1.0, 2.0, 3.0]}, index=index)\n",
    "print(\"Structure of the DataFrame:\")\n",
    "print(df)"
   ],
   "id": "788a8dc2125c3399",
   "outputs": [
    {
     "name": "stdout",
     "output_type": "stream",
     "text": [
      "Structure of the DataFrame:\n",
      "                         value\n",
      "time latitude longitude       \n",
      "0    40.7128  -74.0060     1.0\n",
      "1    34.0522  -118.2437    2.0\n",
      "2    37.7749  -122.4194    3.0\n"
     ]
    }
   ],
   "execution_count": 15
  },
  {
   "metadata": {
    "ExecuteTime": {
     "end_time": "2025-03-03T21:56:40.097657Z",
     "start_time": "2025-03-03T21:56:40.093581Z"
    }
   },
   "cell_type": "code",
   "source": [
    "# Assigning specific values to individual coordinates using `df.loc`\n",
    "\n",
    "# Assign a new value to the coordinate (time=0, latitude=40.7128, longitude=-74.0060)\n",
    "df.loc[(0, 40.7128, -74.0060), \"value\"] = 10.0\n",
    "\n",
    "# Print updated DataFrame\n",
    "print(\"DataFrame after assigning a value to a specific coordinate:\")\n",
    "print(df)"
   ],
   "id": "2c123123de664deb",
   "outputs": [
    {
     "name": "stdout",
     "output_type": "stream",
     "text": [
      "DataFrame after assigning a value to a specific coordinate:\n",
      "                         value\n",
      "time latitude longitude       \n",
      "0    40.7128  -74.0060    10.0\n",
      "1    34.0522  -118.2437    2.0\n",
      "2    37.7749  -122.4194    3.0\n"
     ]
    }
   ],
   "execution_count": 10
  },
  {
   "metadata": {
    "ExecuteTime": {
     "end_time": "2025-03-03T21:56:40.122590Z",
     "start_time": "2025-03-03T21:56:40.118743Z"
    }
   },
   "cell_type": "code",
   "source": [
    "# Batch assigning values to multiple coordinates using a dictionary of coordinate-value pairs\n",
    "\n",
    "# Dictionary containing coordinates and their new values\n",
    "coordinate_value_pairs = {\n",
    "    (1, 34.0522, -118.2437): 20.0,  # Los Angeles\n",
    "    (2, 37.7749, -122.4194): 30.0,  # San Francisco\n",
    "}\n",
    "\n",
    "# Updating values in the DataFrame\n",
    "for coords, value in coordinate_value_pairs.items():\n",
    "    df.loc[coords, \"value\"] = value\n",
    "\n",
    "print(\"DataFrame after batch assignment of values:\")\n",
    "print(df)"
   ],
   "id": "3bddab33318c63be",
   "outputs": [
    {
     "name": "stdout",
     "output_type": "stream",
     "text": [
      "DataFrame after batch assignment of values:\n",
      "                         value\n",
      "time latitude longitude       \n",
      "0    40.7128  -74.0060    10.0\n",
      "1    34.0522  -118.2437   20.0\n",
      "2    37.7749  -122.4194   30.0\n"
     ]
    }
   ],
   "execution_count": 11
  },
  {
   "metadata": {},
   "cell_type": "markdown",
   "source": "# Querying values by specific coordinates and filtering rows by MultiIndex levels",
   "id": "80e95e035568a401"
  },
  {
   "metadata": {
    "ExecuteTime": {
     "end_time": "2025-03-03T21:56:40.160652Z",
     "start_time": "2025-03-03T21:56:40.156811Z"
    }
   },
   "cell_type": "code",
   "source": [
    "# Querying values by specific coordinates and filtering rows by MultiIndex levels\n",
    "\n",
    "# Query by specific coordinate\n",
    "coordinate = (1, 34.0522, -118.2437)  # Los Angeles\n",
    "value = df.loc[coordinate, \"value\"]\n",
    "print(f\"Value for coordinate {coordinate}: {value}\")\n",
    "\n",
    "# Filtering rows by a specific latitude\n",
    "filtered_df = df[df.index.get_level_values(\"latitude\") == 40.7128]\n",
    "print(\"Rows filtered by latitude=40.7128:\")\n",
    "print(filtered_df)"
   ],
   "id": "d3bedbe68b7d515a",
   "outputs": [
    {
     "name": "stdout",
     "output_type": "stream",
     "text": [
      "Value for coordinate (1, 34.0522, -118.2437): 20.0\n",
      "Rows filtered by latitude=40.7128:\n",
      "                         value\n",
      "time latitude longitude       \n",
      "0    40.7128  -74.006     10.0\n"
     ]
    }
   ],
   "execution_count": 13
  },
  {
   "metadata": {
    "ExecuteTime": {
     "end_time": "2025-03-03T21:56:40.174649Z",
     "start_time": "2025-03-03T21:56:40.169750Z"
    }
   },
   "cell_type": "code",
   "source": [
    "# Defining a helper function for setting or adding coordinate values\n",
    "\n",
    "def set_value(df, coordinates, value):\n",
    "    \"\"\"\n",
    "    Sets the value for given coordinates. If the coordinates don't exist,\n",
    "    they are added to the DataFrame.\n",
    "\n",
    "    Parameters:\n",
    "        df (pd.DataFrame): Target DataFrame with MultiIndex.\n",
    "        coordinates (tuple): Coordinates to set.\n",
    "        value (float): Value to assign.\n",
    "    \"\"\"\n",
    "    df.loc[coordinates, \"value\"] = value\n",
    "\n",
    "# Demonstrating the use of the helper function\n",
    "set_value(df, (5, 35.6895, 139.6917), 60.0)  # Tokyo\n",
    "set_value(df, (1, 34.0522, -118.2437), 25.0)  # Update Los Angeles\n",
    "\n",
    "print(\"DataFrame after using the `set_value` function:\")\n",
    "print(df)"
   ],
   "id": "fceceffdb62138c6",
   "outputs": [
    {
     "name": "stdout",
     "output_type": "stream",
     "text": [
      "DataFrame after using the `set_value` function:\n",
      "                         value\n",
      "time latitude longitude       \n",
      "0    40.7128  -74.0060    10.0\n",
      "1    34.0522  -118.2437   25.0\n",
      "2    37.7749  -122.4194   30.0\n",
      "3    51.5074  -0.1278     40.0\n",
      "4    48.8566   2.3522     50.0\n",
      "5    35.6895   139.6917   60.0\n"
     ]
    }
   ],
   "execution_count": 14
  },
  {
   "metadata": {},
   "cell_type": "markdown",
   "source": "## RDB-like access to Pandas",
   "id": "fbea88e4a9160092"
  },
  {
   "metadata": {
    "ExecuteTime": {
     "end_time": "2025-03-03T22:58:46.943221Z",
     "start_time": "2025-03-03T22:58:46.935835Z"
    }
   },
   "cell_type": "code",
   "source": [
    "import pandas as pd\n",
    "\n",
    "# Define data\n",
    "data = [\n",
    "    (0, 0, 30, 0.2),\n",
    "    (1, 1, 35, 0.25),\n",
    "    (2, 2, 40, 0.3),\n",
    "]\n",
    "\n",
    "# Load into DataFrame\n",
    "df = pd.DataFrame(data, columns=[\"x\", \"y\", \"temperature\", \"humidity\"])\n",
    "\n",
    "print(df)\n",
    "\n",
    "# Set keys for indexing\n",
    "df = df.set_index([\"x\", \"y\"])\n",
    "\n",
    "# Query/filter\n",
    "result = df[df[\"temperature\"] > 30]\n",
    "print(result)\n",
    "\n",
    "# Group and aggregate\n",
    "avg_temp = df[\"temperature\"].mean()\n",
    "print(f\"Average temperature: {avg_temp}\")\n"
   ],
   "id": "d090eee079bd8656",
   "outputs": [
    {
     "name": "stdout",
     "output_type": "stream",
     "text": [
      "   x  y  temperature  humidity\n",
      "0  0  0           30      0.20\n",
      "1  1  1           35      0.25\n",
      "2  2  2           40      0.30\n",
      "     temperature  humidity\n",
      "x y                       \n",
      "1 1           35      0.25\n",
      "2 2           40      0.30\n",
      "Average temperature: 35.0\n"
     ]
    }
   ],
   "execution_count": 23
  },
  {
   "metadata": {},
   "cell_type": "markdown",
   "source": "## Duck DB to query Pandas datasets",
   "id": "5a8c8edc85b8b23"
  },
  {
   "metadata": {
    "ExecuteTime": {
     "end_time": "2025-03-03T22:57:11.953506Z",
     "start_time": "2025-03-03T22:57:11.944319Z"
    }
   },
   "cell_type": "code",
   "source": [
    "import duckdb\n",
    "import pandas as pd\n",
    "\n",
    "# Setup data\n",
    "data = [\n",
    "    (0, 0, 30, 0.2),\n",
    "    (1, 1, 35, 0.25),\n",
    "    (2, 2, 40, 0.3),\n",
    "]\n",
    "df = pd.DataFrame(data, columns=[\"x\", \"y\", \"temperature\", \"humidity\"])\n",
    "\n",
    "print(df)\n",
    "\n",
    "df.set_index([\"x\", \"y\"])\n",
    "\n",
    "# Query DataFrame using DuckDB\n",
    "query = \"\"\"\n",
    "SELECT x, y, AVG(temperature) as avg_temp\n",
    "FROM df\n",
    "WHERE temperature > 30\n",
    "GROUP BY x, y\n",
    "\"\"\"\n",
    "result = duckdb.query(query).to_df()\n",
    "print(result)\n"
   ],
   "id": "365d912193b12ea3",
   "outputs": [
    {
     "name": "stdout",
     "output_type": "stream",
     "text": [
      "   x  y  temperature  humidity\n",
      "0  0  0           30      0.20\n",
      "1  1  1           35      0.25\n",
      "2  2  2           40      0.30\n",
      "   x  y  avg_temp\n",
      "0  2  2      40.0\n",
      "1  1  1      35.0\n"
     ]
    }
   ],
   "execution_count": 22
  }
 ],
 "metadata": {
  "kernelspec": {
   "display_name": "Python 3",
   "language": "python",
   "name": "python3"
  },
  "language_info": {
   "codemirror_mode": {
    "name": "ipython",
    "version": 2
   },
   "file_extension": ".py",
   "mimetype": "text/x-python",
   "name": "python",
   "nbconvert_exporter": "python",
   "pygments_lexer": "ipython2",
   "version": "2.7.6"
  }
 },
 "nbformat": 4,
 "nbformat_minor": 5
}
