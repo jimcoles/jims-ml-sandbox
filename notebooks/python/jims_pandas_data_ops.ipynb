{
 "cells": [
  {
   "metadata": {},
   "cell_type": "markdown",
   "source": "# Pandas Uniform Data Grids",
   "id": "294f065a6038a714"
  },
  {
   "metadata": {
    "ExecuteTime": {
     "end_time": "2025-03-03T21:48:00.515727Z",
     "start_time": "2025-03-03T21:48:00.500827Z"
    }
   },
   "cell_type": "code",
   "source": [
    "# Import required libraries\n",
    "import pandas as pd\n",
    "import numpy as np\n",
    "\n",
    "# Create a pandas MultiIndex DataFrame\n",
    "index = pd.MultiIndex.from_product(\n",
    "    [[1, 2, 3], [10, 20, 30], [100, 200]],\n",
    "    names=[\"time\", \"latitude\", \"longitude\"]\n",
    ")\n",
    "df = pd.DataFrame({\"value\": np.random.rand(len(index))}, index=index)\n",
    "print(\"Initial DataFrame:\")\n",
    "print(df.head())"
   ],
   "id": "f48197021f5abef3",
   "outputs": [
    {
     "name": "stdout",
     "output_type": "stream",
     "text": [
      "Initial DataFrame:\n",
      "                            value\n",
      "time latitude longitude          \n",
      "1    10       100        0.855012\n",
      "              200        0.439513\n",
      "     20       100        0.680004\n",
      "              200        0.370299\n",
      "     30       100        0.201266\n"
     ]
    }
   ],
   "execution_count": 8
  },
  {
   "metadata": {
    "ExecuteTime": {
     "end_time": "2025-03-03T21:43:27.897458Z",
     "start_time": "2025-03-03T21:43:27.892795Z"
    }
   },
   "cell_type": "code",
   "source": [
    "# Assign specific values to coordinates using df.loc\n",
    "print(\"Updating a specific coordinate:\")\n",
    "df.loc[(1, 10, 100), \"value\"] = 42  # Assigning value 42 to specific coordinates\n",
    "print(df.loc[(1, 10, 100)])"
   ],
   "id": "3482b5b3c57beab5",
   "outputs": [
    {
     "name": "stdout",
     "output_type": "stream",
     "text": [
      "Updating a specific coordinate:\n",
      "value    42.0\n",
      "Name: (1, 10, 100), dtype: float64\n"
     ]
    }
   ],
   "execution_count": 2
  },
  {
   "metadata": {
    "ExecuteTime": {
     "end_time": "2025-03-03T21:43:27.985475Z",
     "start_time": "2025-03-03T21:43:27.981929Z"
    }
   },
   "cell_type": "code",
   "source": [
    "# Batch updates using a dictionary and a loop\n",
    "updates = {\n",
    "    (2, 20, 100): 100,\n",
    "    (3, 30, 200): 200,\n",
    "}\n",
    "print(\"Batch updating multiple coordinates:\")\n",
    "for coord, val in updates.items():\n",
    "    df.loc[coord, \"value\"] = val\n",
    "print(df.loc[(2, 20, 100)])\n",
    "print(df.loc[(3, 30, 200)])"
   ],
   "id": "d8b897b0bfb4b819",
   "outputs": [
    {
     "name": "stdout",
     "output_type": "stream",
     "text": [
      "Batch updating multiple coordinates:\n",
      "value    100.0\n",
      "Name: (2, 20, 100), dtype: float64\n",
      "value    200.0\n",
      "Name: (3, 30, 200), dtype: float64\n"
     ]
    }
   ],
   "execution_count": 3
  },
  {
   "metadata": {
    "ExecuteTime": {
     "end_time": "2025-03-03T21:43:27.999473Z",
     "start_time": "2025-03-03T21:43:27.994162Z"
    }
   },
   "cell_type": "code",
   "source": [
    "# Adding new coordinates and values dynamically\n",
    "new_data = [\n",
    "    (4, 40, 400, 500),\n",
    "    (5, 50, 500, 600),\n",
    "]\n",
    "print(\"Adding new coordinates:\")\n",
    "for time, lat, lon, val in new_data:\n",
    "    df.loc[(time, lat, lon), \"value\"] = val\n",
    "\n",
    "print(df.loc[(4, 40, 400)])\n",
    "print(df.loc[(5, 50, 500)])"
   ],
   "id": "a317ec6517843c86",
   "outputs": [
    {
     "name": "stdout",
     "output_type": "stream",
     "text": [
      "Adding new coordinates:\n",
      "value    500.0\n",
      "Name: (4, 40, 400), dtype: float64\n",
      "value    600.0\n",
      "Name: (5, 50, 500), dtype: float64\n"
     ]
    }
   ],
   "execution_count": 4
  },
  {
   "metadata": {
    "ExecuteTime": {
     "end_time": "2025-03-03T21:43:28.010745Z",
     "start_time": "2025-03-03T21:43:28.006502Z"
    }
   },
   "cell_type": "code",
   "source": [
    "# Retrieving values using specific coordinates and filtering rows by index levels\n",
    "print(\"Retrieve value for (2, 20, 100):\")\n",
    "print(df.loc[(2, 20, 100)])\n",
    "\n",
    "print(\"\\nFiltering rows with latitude 20:\")\n",
    "print(df.xs(20, level=\"latitude\").head())"
   ],
   "id": "8e9f7cf833389ed",
   "outputs": [
    {
     "name": "stdout",
     "output_type": "stream",
     "text": [
      "Retrieve value for (2, 20, 100):\n",
      "value    100.0\n",
      "Name: (2, 20, 100), dtype: float64\n",
      "\n",
      "Filtering rows with latitude 20:\n",
      "                     value\n",
      "time longitude            \n",
      "1    100          0.197227\n",
      "     200          0.800214\n",
      "2    100        100.000000\n",
      "     200          0.585900\n",
      "3    100          0.659068\n"
     ]
    }
   ],
   "execution_count": 5
  },
  {
   "metadata": {
    "ExecuteTime": {
     "end_time": "2025-03-03T21:43:28.024661Z",
     "start_time": "2025-03-03T21:43:28.020499Z"
    }
   },
   "cell_type": "code",
   "source": [
    "# Defining a helper function for coordinate-style assignment\n",
    "def set_value(dataframe, coord, value):\n",
    "    \"\"\"\n",
    "    Helper function to set or add a value in a MultiIndex DataFrame.\n",
    "    \"\"\"\n",
    "    dataframe.loc[coord, \"value\"] = value\n",
    "\n",
    "# Using the helper function\n",
    "print(\"Using helper function to set values:\")\n",
    "set_value(df, (6, 60, 600), 700)\n",
    "print(df.loc[(6, 60, 600)])"
   ],
   "id": "c8b279f7a1d509d4",
   "outputs": [
    {
     "name": "stdout",
     "output_type": "stream",
     "text": [
      "Using helper function to set values:\n",
      "value    700.0\n",
      "Name: (6, 60, 600), dtype: float64\n"
     ]
    }
   ],
   "execution_count": 6
  }
 ],
 "metadata": {
  "kernelspec": {
   "display_name": "Python 3",
   "language": "python",
   "name": "python3"
  },
  "language_info": {
   "codemirror_mode": {
    "name": "ipython",
    "version": 2
   },
   "file_extension": ".py",
   "mimetype": "text/x-python",
   "name": "python",
   "nbconvert_exporter": "python",
   "pygments_lexer": "ipython2",
   "version": "2.7.6"
  }
 },
 "nbformat": 4,
 "nbformat_minor": 5
}
