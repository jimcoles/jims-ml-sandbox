{
 "cells": [
  {
   "metadata": {},
   "cell_type": "code",
   "outputs": [],
   "execution_count": null,
   "source": [
    "Interpolation\n",
    "======================================================================\n",
    "\n",
    "Using B-splines in scipy.signal\n",
    "-------------------------------\n",
    "\n",
    "Example showing how to use B-splines in scipy.signal to do\n",
    "interpolation. The input points must be equally spaced to use these\n",
    "routine."
   ],
   "id": "470372d0ffc11d3f"
  },
  {
   "metadata": {},
   "cell_type": "code",
   "outputs": [],
   "execution_count": null,
   "source": [
    "from numpy import r_, sin\n",
    "from scipy.signal import cspline1d, cspline1d_eval\n",
    "%pylab inline\n",
    "\n",
    "x = r_[0:10]\n",
    "dx = x[1]-x[0]\n",
    "newx = r_[-3:13:0.1]  # notice outside the original domain \n",
    "y = sin(x) \n",
    "cj = cspline1d(y)\n",
    "newy = cspline1d_eval(cj, newx, dx=dx,x0=x[0]) \n",
    "from pylab import plot, show\n",
    "plot(newx, newy, x, y, 'o') \n",
    "show()"
   ],
   "id": "1d51e473437f4872"
  },
  {
   "metadata": {},
   "cell_type": "markdown",
   "source": [
    "N-D interpolation for equally-spaced data\n",
    "-----------------------------------------\n",
    "\n",
    "The scipy.ndimage package also contains spline\\_filter and\n",
    "map\\_coordinates which can be used to perform N-dimensional\n",
    "interpolation for equally-spaced data. A two-dimensional example is\n",
    "given below:"
   ],
   "id": "ba007c20dadacc21"
  },
  {
   "metadata": {},
   "cell_type": "code",
   "outputs": [],
   "execution_count": null,
   "source": [
    "from scipy import ndimage\n",
    "from numpy import ogrid, mgrid, array\n",
    "from matplotlib import pyplot as plt\n",
    "\n",
    "x,y = ogrid[-1:1:5j,-1:1:5j]\n",
    "fvals = sin(x)*sin(y)\n",
    "newx,newy = mgrid[-1:1:100j,-1:1:100j]\n",
    "x0 = x[0,0]\n",
    "y0 = y[0,0]\n",
    "dx = x[1,0] - x0\n",
    "dy = y[0,1] - y0\n",
    "ivals = (newx - x0)/dx\n",
    "jvals = (newy - y0)/dy\n",
    "coords = array([ivals, jvals])\n",
    "newf1 = ndimage.map_coordinates(fvals, coords)"
   ],
   "id": "f94bb5a570eb7fac"
  },
  {
   "metadata": {},
   "cell_type": "markdown",
   "source": [
    "To pre-compute the weights (for multiple interpolation results), you\n",
    "would use"
   ],
   "id": "2538d5a0c8e060ec"
  },
  {
   "metadata": {},
   "cell_type": "code",
   "outputs": [],
   "execution_count": null,
   "source": [
    "coeffs = ndimage.spline_filter(fvals)\n",
    "newf2 = ndimage.map_coordinates(coeffs, coords, prefilter=False)\n",
    "\n",
    "plt.subplot(1,2,1)\n",
    "plt.imshow(newf1)\n",
    "plt.subplot(1,2,2)\n",
    "plt.imshow(newf2)\n",
    "plt.show()"
   ],
   "id": "5ac0cfb0d153b0a6"
  },
  {
   "metadata": {},
   "cell_type": "markdown",
   "source": [
    "Interpolation of an N-D curve\n",
    "-----------------------------\n",
    "\n",
    "The scipy.interpolate packages wraps the netlib FITPACK routines\n",
    "(Dierckx) for calculating smoothing splines for various kinds of data\n",
    "and geometries. Although the data is evenly spaced in this example, it\n",
    "need not be so to use this routine."
   ],
   "id": "cdcff459d1c54209"
  },
  {
   "metadata": {},
   "cell_type": "code",
   "outputs": [],
   "execution_count": null,
   "source": [
    "from numpy import cos, linspace, pi, sin, random\n",
    "from scipy.interpolate import splprep, splev\n",
    "\n",
    "# make ascending spiral in 3-space\n",
    "t=linspace(0,1.75*2*pi,100)\n",
    "\n",
    "x = sin(t)\n",
    "y = cos(t)\n",
    "z = t\n",
    "\n",
    "# add noise\n",
    "x+= random.normal(scale=0.1, size=x.shape)\n",
    "y+= random.normal(scale=0.1, size=y.shape)\n",
    "z+= random.normal(scale=0.1, size=z.shape)\n",
    "\n",
    "# spline parameters\n",
    "s=3.0 # smoothness parameter\n",
    "k=2 # spline order\n",
    "nest=-1 # estimate of number of knots needed (-1 = maximal)\n",
    "\n",
    "# find the knot points\n",
    "tckp,u = splprep([x,y,z],s=s,k=k,nest=-1)\n",
    "\n",
    "# evaluate spline, including interpolated points\n",
    "xnew,ynew,znew = splev(linspace(0,1,400),tckp)\n",
    "\n",
    "import pylab\n",
    "pylab.subplot(2,2,1)\n",
    "data,=pylab.plot(x,y,'bo-',label='data')\n",
    "fit,=pylab.plot(xnew,ynew,'r-',label='fit')\n",
    "pylab.legend()\n",
    "pylab.xlabel('x')\n",
    "pylab.ylabel('y')\n",
    "\n",
    "pylab.subplot(2,2,2)\n",
    "data,=pylab.plot(x,z,'bo-',label='data')\n",
    "fit,=pylab.plot(xnew,znew,'r-',label='fit')\n",
    "pylab.legend()\n",
    "pylab.xlabel('x')\n",
    "pylab.ylabel('z')\n",
    "\n",
    "pylab.subplot(2,2,3)\n",
    "data,=pylab.plot(y,z,'bo-',label='data')\n",
    "fit,=pylab.plot(ynew,znew,'r-',label='fit')\n",
    "pylab.legend()\n",
    "pylab.xlabel('y')\n",
    "pylab.ylabel('z')\n",
    "plt.show()"
   ],
   "id": "c3cdf1572a9b2e6"
  }
 ],
 "metadata": {},
 "nbformat": 5,
 "nbformat_minor": 9
}
