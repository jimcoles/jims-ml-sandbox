{
 "cells": [
  {
   "metadata": {
    "ExecuteTime": {
     "end_time": "2025-03-03T01:11:43.371315Z",
     "start_time": "2025-03-03T01:11:43.368335Z"
    }
   },
   "cell_type": "code",
   "source": "# CS231n Python Tutorial With Google Colab",
   "id": "e170dfd7c8d025b1",
   "outputs": [],
   "execution_count": 1
  },
  {
   "metadata": {},
   "cell_type": "markdown",
   "source": [
    "This tutorial was originally written by [Justin Johnson](https://web.eecs.umich.edu/~justincj/) for cs231n. It was adapted as a Jupyter notebook for cs228 by [Volodymyr Kuleshov](http://web.stanford.edu/~kuleshov/) and [Isaac Caswell](https://symsys.stanford.edu/viewing/symsysaffiliate/21335).\n",
    "\n",
    "This version has been adapted for Colab by Kevin Zakka for the Spring 2020 edition of [cs231n](https://cs231n.github.io/). It runs Python3 by default."
   ],
   "id": "5016f7600a9e8d3e"
  },
  {
   "metadata": {},
   "cell_type": "markdown",
   "source": "## Introduction",
   "id": "c63c1ee31a1f53ae"
  },
  {
   "metadata": {},
   "cell_type": "markdown",
   "source": [
    "Python is a great general-purpose programming language on its own, but with the help of a few popular libraries (numpy, scipy, matplotlib) it becomes a powerful environment for scientific computing.\n",
    "\n",
    "We expect that many of you will have some experience with Python and numpy; for the rest of you, this section will serve as a quick crash course both on the Python programming language and on the use of Python for scientific computing.\n",
    "\n",
    "Some of you may have previous knowledge in Matlab, in which case we also recommend the numpy for Matlab users page (https://docs.scipy.org/doc/numpy-dev/user/numpy-for-matlab-users.html)."
   ],
   "id": "e84fd831441a1534"
  },
  {
   "metadata": {},
   "cell_type": "markdown",
   "source": [
    "In this tutorial, we will cover:\n",
    "\n",
    "* Basic Python: Basic data types (Containers, Lists, Dictionaries, Sets, Tuples), Functions, Classes\n",
    "* Numpy: Arrays, Array indexing, Datatypes, Array math, Broadcasting\n",
    "* Matplotlib: Plotting, Subplots, Images\n",
    "* IPython: Creating notebooks, Typical workflows"
   ],
   "id": "eca4570f331468ff"
  },
  {
   "metadata": {},
   "cell_type": "markdown",
   "source": [
    "## A Brief Note on Python Versions\n",
    "\n",
    "As of Janurary 1, 2020, Python has [officially dropped support](https://www.python.org/doc/sunset-python-2/) for `python2`. We'll be using Python 3.7 for this iteration of the course. You can check your Python version at the command line by running `python --version`. In Colab, we can enforce the Python version by clicking `Runtime -> Change Runtime Type` and selecting `python3`. Note that as of April 2020, Colab uses Python 3.6.9 which should run everything without any errors."
   ],
   "id": "a8cad42a2c802b36"
  },
  {
   "metadata": {
    "ExecuteTime": {
     "end_time": "2025-03-03T01:11:43.513189Z",
     "start_time": "2025-03-03T01:11:43.382288Z"
    }
   },
   "cell_type": "code",
   "source": "!python --version",
   "id": "21f6f5837c4c336d",
   "outputs": [
    {
     "name": "stdout",
     "output_type": "stream",
     "text": [
      "Python 3.12.7\r\n"
     ]
    }
   ],
   "execution_count": 2
  },
  {
   "metadata": {},
   "cell_type": "markdown",
   "source": "## Basics of Python",
   "id": "9bde8c87701bc1e7"
  },
  {
   "metadata": {},
   "cell_type": "markdown",
   "source": "Python is a high-level, dynamically typed multiparadigm programming language. Python code is often said to be almost like pseudocode, since it allows you to express very powerful ideas in very few lines of code while being very readable. As an example, here is an implementation of the classic quicksort algorithm in Python:",
   "id": "540013d34a8592f0"
  },
  {
   "metadata": {
    "ExecuteTime": {
     "end_time": "2025-03-03T01:11:43.573370Z",
     "start_time": "2025-03-03T01:11:43.570496Z"
    }
   },
   "cell_type": "code",
   "source": [
    "def quicksort(arr):\n",
    "    if len(arr) <= 1:\n",
    "        return arr\n",
    "    pivot = arr[len(arr) // 2]\n",
    "    left = [x for x in arr if x < pivot]\n",
    "    middle = [x for x in arr if x == pivot]\n",
    "    right = [x for x in arr if x > pivot]\n",
    "    return quicksort(left) + middle + quicksort(right)\n",
    "\n",
    "print(quicksort([3,6,8,10,1,2,1]))"
   ],
   "id": "15e2aca3d295b27b",
   "outputs": [
    {
     "name": "stdout",
     "output_type": "stream",
     "text": [
      "[1, 1, 2, 3, 6, 8, 10]\n"
     ]
    }
   ],
   "execution_count": 3
  },
  {
   "metadata": {},
   "cell_type": "markdown",
   "source": "### Basic data types",
   "id": "10e16fec25daaf24"
  },
  {
   "metadata": {},
   "cell_type": "markdown",
   "source": "#### Numbers",
   "id": "5672b9afe1d24880"
  },
  {
   "metadata": {},
   "cell_type": "markdown",
   "source": "Integers and floats work as you would expect from other languages:",
   "id": "2ba9cb567604b56e"
  },
  {
   "metadata": {
    "ExecuteTime": {
     "end_time": "2025-03-03T01:11:43.582322Z",
     "start_time": "2025-03-03T01:11:43.580166Z"
    }
   },
   "cell_type": "code",
   "source": [
    "x = 3\n",
    "print(x, type(x))"
   ],
   "id": "51c8b419e8cef70a",
   "outputs": [
    {
     "name": "stdout",
     "output_type": "stream",
     "text": [
      "3 <class 'int'>\n"
     ]
    }
   ],
   "execution_count": 4
  },
  {
   "metadata": {
    "ExecuteTime": {
     "end_time": "2025-03-03T01:11:43.691632Z",
     "start_time": "2025-03-03T01:11:43.689637Z"
    }
   },
   "cell_type": "code",
   "source": [
    "print(x + 1)   # Addition\n",
    "print(x - 1)   # Subtraction\n",
    "print(x * 2)   # Multiplication\n",
    "print(x ** 2)  # Exponentiation"
   ],
   "id": "e5f1b910ce3e8ef0",
   "outputs": [
    {
     "name": "stdout",
     "output_type": "stream",
     "text": [
      "4\n",
      "2\n",
      "6\n",
      "9\n"
     ]
    }
   ],
   "execution_count": 5
  },
  {
   "metadata": {
    "ExecuteTime": {
     "end_time": "2025-03-03T01:11:43.725403Z",
     "start_time": "2025-03-03T01:11:43.723410Z"
    }
   },
   "cell_type": "code",
   "source": [
    "x += 1\n",
    "print(x)\n",
    "x *= 2\n",
    "print(x)"
   ],
   "id": "bf02c5460e4ec471",
   "outputs": [
    {
     "name": "stdout",
     "output_type": "stream",
     "text": [
      "4\n",
      "8\n"
     ]
    }
   ],
   "execution_count": 6
  },
  {
   "metadata": {
    "ExecuteTime": {
     "end_time": "2025-03-03T01:11:43.742207Z",
     "start_time": "2025-03-03T01:11:43.739745Z"
    }
   },
   "cell_type": "code",
   "source": [
    "y = 2.5\n",
    "print(type(y))\n",
    "print(y, y + 1, y * 2, y ** 2)"
   ],
   "id": "b0bdf6a488039c08",
   "outputs": [
    {
     "name": "stdout",
     "output_type": "stream",
     "text": [
      "<class 'float'>\n",
      "2.5 3.5 5.0 6.25\n"
     ]
    }
   ],
   "execution_count": 7
  },
  {
   "metadata": {},
   "cell_type": "markdown",
   "source": [
    "Note that unlike many languages, Python does not have unary increment (x++) or decrement (x--) operators.\n",
    "\n",
    "Python also has built-in types for long integers and complex numbers; you can find all of the details in the [documentation](https://docs.python.org/3.7/library/stdtypes.html#numeric-types-int-float-long-complex)."
   ],
   "id": "c781d480b205b08d"
  },
  {
   "metadata": {},
   "cell_type": "markdown",
   "source": "#### Booleans",
   "id": "8b82af0e545c1b69"
  },
  {
   "metadata": {},
   "cell_type": "markdown",
   "source": "Python implements all of the usual operators for Boolean logic, but uses English words rather than symbols (`&&`, `||`, etc.):",
   "id": "69b8ba27d5b2274e"
  },
  {
   "metadata": {
    "ExecuteTime": {
     "end_time": "2025-03-03T01:11:43.796316Z",
     "start_time": "2025-03-03T01:11:43.793965Z"
    }
   },
   "cell_type": "code",
   "source": [
    "t, f = True, False\n",
    "print(type(t))"
   ],
   "id": "a5d7188a728103d6",
   "outputs": [
    {
     "name": "stdout",
     "output_type": "stream",
     "text": [
      "<class 'bool'>\n"
     ]
    }
   ],
   "execution_count": 8
  },
  {
   "metadata": {},
   "cell_type": "markdown",
   "source": "Now we let's look at the operations:",
   "id": "37dfba0714525e28"
  },
  {
   "metadata": {
    "ExecuteTime": {
     "end_time": "2025-03-03T01:11:43.827551Z",
     "start_time": "2025-03-03T01:11:43.825691Z"
    }
   },
   "cell_type": "code",
   "source": [
    "print(t and f) # Logical AND;\n",
    "print(t or f)  # Logical OR;\n",
    "print(not t)   # Logical NOT;\n",
    "print(t != f)  # Logical XOR;"
   ],
   "id": "8e905b3634f42115",
   "outputs": [
    {
     "name": "stdout",
     "output_type": "stream",
     "text": [
      "False\n",
      "True\n",
      "False\n",
      "True\n"
     ]
    }
   ],
   "execution_count": 9
  },
  {
   "metadata": {},
   "cell_type": "markdown",
   "source": "#### Strings",
   "id": "a44287053e6d09c9"
  },
  {
   "metadata": {
    "ExecuteTime": {
     "end_time": "2025-03-03T01:11:43.867355Z",
     "start_time": "2025-03-03T01:11:43.864998Z"
    }
   },
   "cell_type": "code",
   "source": [
    "hello = 'hello'   # String literals can use single quotes\n",
    "world = \"world\"   # or double quotes; it does not matter\n",
    "print(hello, len(hello))"
   ],
   "id": "3513b4689f6f937f",
   "outputs": [
    {
     "name": "stdout",
     "output_type": "stream",
     "text": [
      "hello 5\n"
     ]
    }
   ],
   "execution_count": 10
  },
  {
   "metadata": {
    "ExecuteTime": {
     "end_time": "2025-03-03T01:11:43.966479Z",
     "start_time": "2025-03-03T01:11:43.964458Z"
    }
   },
   "cell_type": "code",
   "source": [
    "hw = hello + ' ' + world  # String concatenation\n",
    "print(hw)"
   ],
   "id": "4ae6c122ba10b064",
   "outputs": [
    {
     "name": "stdout",
     "output_type": "stream",
     "text": [
      "hello world\n"
     ]
    }
   ],
   "execution_count": 11
  },
  {
   "metadata": {
    "ExecuteTime": {
     "end_time": "2025-03-03T01:11:44.077901Z",
     "start_time": "2025-03-03T01:11:44.076103Z"
    }
   },
   "cell_type": "code",
   "source": [
    "hw12 = '{} {} {}'.format(hello, world, 12)  # string formatting\n",
    "print(hw12)"
   ],
   "id": "c98af7272d31c19e",
   "outputs": [
    {
     "name": "stdout",
     "output_type": "stream",
     "text": [
      "hello world 12\n"
     ]
    }
   ],
   "execution_count": 12
  },
  {
   "metadata": {},
   "cell_type": "markdown",
   "source": "String objects have a bunch of useful methods; for example:",
   "id": "fee0e4eb33f76355"
  },
  {
   "metadata": {
    "ExecuteTime": {
     "end_time": "2025-03-03T01:11:44.147036Z",
     "start_time": "2025-03-03T01:11:44.144488Z"
    }
   },
   "cell_type": "code",
   "source": [
    "s = \"hello\"\n",
    "print(s.capitalize())  # Capitalize a string\n",
    "print(s.upper())       # Convert a string to uppercase; prints \"HELLO\"\n",
    "print(s.rjust(7))      # Right-justify a string, padding with spaces\n",
    "print(s.center(7))     # Center a string, padding with spaces\n",
    "print(s.replace('l', '(ell)'))  # Replace all instances of one substring with another\n",
    "print('  world '.strip())  # Strip leading and trailing whitespace"
   ],
   "id": "4b46de4dd8675bad",
   "outputs": [
    {
     "name": "stdout",
     "output_type": "stream",
     "text": [
      "Hello\n",
      "HELLO\n",
      "  hello\n",
      " hello \n",
      "he(ell)(ell)o\n",
      "world\n"
     ]
    }
   ],
   "execution_count": 13
  },
  {
   "metadata": {},
   "cell_type": "markdown",
   "source": "You can find a list of all string methods in the [documentation](https://docs.python.org/3.7/library/stdtypes.html#string-methods).",
   "id": "c290cf92b04733f0"
  },
  {
   "metadata": {},
   "cell_type": "markdown",
   "source": "### Containers",
   "id": "b9ffd0ecabc12519"
  },
  {
   "metadata": {},
   "cell_type": "markdown",
   "source": "Python includes several built-in container types: lists, dictionaries, sets, and tuples.",
   "id": "7fb42920f16385"
  },
  {
   "metadata": {},
   "cell_type": "markdown",
   "source": "#### Lists",
   "id": "73801f91eca34c0"
  },
  {
   "metadata": {},
   "cell_type": "markdown",
   "source": "A list is the Python equivalent of an array, but is resizeable and can contain elements of different types:",
   "id": "a55048499f2fc82"
  },
  {
   "metadata": {
    "ExecuteTime": {
     "end_time": "2025-03-03T01:11:44.173326Z",
     "start_time": "2025-03-03T01:11:44.171136Z"
    }
   },
   "cell_type": "code",
   "source": [
    "xs = [3, 1, 2]   # Create a list\n",
    "print(xs, xs[2])\n",
    "print(xs[-1])     # Negative indices count from the end of the list; prints \"2\""
   ],
   "id": "d1f57f223b6dcb14",
   "outputs": [
    {
     "name": "stdout",
     "output_type": "stream",
     "text": [
      "[3, 1, 2] 2\n",
      "2\n"
     ]
    }
   ],
   "execution_count": 14
  },
  {
   "metadata": {
    "ExecuteTime": {
     "end_time": "2025-03-03T01:11:44.224396Z",
     "start_time": "2025-03-03T01:11:44.222305Z"
    }
   },
   "cell_type": "code",
   "source": [
    "xs[2] = 'foo'    # Lists can contain elements of different types\n",
    "print(xs)"
   ],
   "id": "23578b3adfa85071",
   "outputs": [
    {
     "name": "stdout",
     "output_type": "stream",
     "text": [
      "[3, 1, 'foo']\n"
     ]
    }
   ],
   "execution_count": 15
  },
  {
   "metadata": {
    "ExecuteTime": {
     "end_time": "2025-03-03T01:11:44.273728Z",
     "start_time": "2025-03-03T01:11:44.271608Z"
    }
   },
   "cell_type": "code",
   "source": [
    "xs.append('bar') # Add a new element to the end of the list\n",
    "print(xs)  "
   ],
   "id": "379665cfdc665826",
   "outputs": [
    {
     "name": "stdout",
     "output_type": "stream",
     "text": [
      "[3, 1, 'foo', 'bar']\n"
     ]
    }
   ],
   "execution_count": 16
  },
  {
   "metadata": {
    "ExecuteTime": {
     "end_time": "2025-03-03T01:11:44.321599Z",
     "start_time": "2025-03-03T01:11:44.319596Z"
    }
   },
   "cell_type": "code",
   "source": [
    "x = xs.pop()     # Remove and return the last element of the list\n",
    "print(x, xs)"
   ],
   "id": "8236257b91802cb9",
   "outputs": [
    {
     "name": "stdout",
     "output_type": "stream",
     "text": [
      "bar [3, 1, 'foo']\n"
     ]
    }
   ],
   "execution_count": 17
  },
  {
   "metadata": {},
   "cell_type": "markdown",
   "source": "As usual, you can find all the gory details about lists in the [documentation](https://docs.python.org/3.7/tutorial/datastructures.html#more-on-lists).",
   "id": "ca52832b80357660"
  },
  {
   "metadata": {},
   "cell_type": "markdown",
   "source": "#### Slicing",
   "id": "5e6ec011e0b6f17c"
  },
  {
   "metadata": {},
   "cell_type": "markdown",
   "source": "In addition to accessing list elements one at a time, Python provides concise syntax to access sublists; this is known as slicing:",
   "id": "4b1661340cf5166"
  },
  {
   "metadata": {
    "ExecuteTime": {
     "end_time": "2025-03-03T01:11:44.355281Z",
     "start_time": "2025-03-03T01:11:44.352642Z"
    }
   },
   "cell_type": "code",
   "source": [
    "nums = list(range(5))    # range is a built-in function that creates a list of integers\n",
    "print(nums)         # Prints \"[0, 1, 2, 3, 4]\"\n",
    "print(nums[2:4])    # Get a slice from index 2 to 4 (exclusive); prints \"[2, 3]\"\n",
    "print(nums[2:])     # Get a slice from index 2 to the end; prints \"[2, 3, 4]\"\n",
    "print(nums[:2])     # Get a slice from the start to index 2 (exclusive); prints \"[0, 1]\"\n",
    "print(nums[:])      # Get a slice of the whole list; prints [\"0, 1, 2, 3, 4]\"\n",
    "print(nums[:-1])    # Slice indices can be negative; prints [\"0, 1, 2, 3]\"\n",
    "nums[2:4] = [8, 9] # Assign a new sublist to a slice\n",
    "print(nums)         # Prints \"[0, 1, 8, 9, 4]\""
   ],
   "id": "c73c66191acf6197",
   "outputs": [
    {
     "name": "stdout",
     "output_type": "stream",
     "text": [
      "[0, 1, 2, 3, 4]\n",
      "[2, 3]\n",
      "[2, 3, 4]\n",
      "[0, 1]\n",
      "[0, 1, 2, 3, 4]\n",
      "[0, 1, 2, 3]\n",
      "[0, 1, 8, 9, 4]\n"
     ]
    }
   ],
   "execution_count": 18
  },
  {
   "metadata": {},
   "cell_type": "markdown",
   "source": "#### Loops",
   "id": "ab2fb5c3c0608294"
  },
  {
   "metadata": {},
   "cell_type": "markdown",
   "source": "You can loop over the elements of a list like this:",
   "id": "1af5448b67dd716e"
  },
  {
   "metadata": {
    "ExecuteTime": {
     "end_time": "2025-03-03T01:11:44.393164Z",
     "start_time": "2025-03-03T01:11:44.390488Z"
    }
   },
   "cell_type": "code",
   "source": [
    "animals = ['cat', 'dog', 'monkey']\n",
    "for animal in animals:\n",
    "    print(animal)"
   ],
   "id": "8587ae2b9ee47359",
   "outputs": [
    {
     "name": "stdout",
     "output_type": "stream",
     "text": [
      "cat\n",
      "dog\n",
      "monkey\n"
     ]
    }
   ],
   "execution_count": 19
  },
  {
   "metadata": {},
   "cell_type": "markdown",
   "source": "If you want access to the index of each element within the body of a loop, use the built-in `enumerate` function:",
   "id": "6bde6aeed3e2188c"
  },
  {
   "metadata": {
    "ExecuteTime": {
     "end_time": "2025-03-03T01:11:44.416459Z",
     "start_time": "2025-03-03T01:11:44.414202Z"
    }
   },
   "cell_type": "code",
   "source": [
    "animals = ['cat', 'dog', 'monkey']\n",
    "for idx, animal in enumerate(animals):\n",
    "    print('#{}: {}'.format(idx + 1, animal))"
   ],
   "id": "f65232989469b3b1",
   "outputs": [
    {
     "name": "stdout",
     "output_type": "stream",
     "text": [
      "#1: cat\n",
      "#2: dog\n",
      "#3: monkey\n"
     ]
    }
   ],
   "execution_count": 20
  },
  {
   "metadata": {},
   "cell_type": "markdown",
   "source": "#### List comprehensions:",
   "id": "89ec741cb070cd45"
  },
  {
   "metadata": {},
   "cell_type": "markdown",
   "source": "When programming, frequently we want to transform one type of data into another. As a simple example, consider the following code that computes square numbers:",
   "id": "4fcb31e561d0a1ef"
  },
  {
   "metadata": {
    "ExecuteTime": {
     "end_time": "2025-03-03T01:11:44.439799Z",
     "start_time": "2025-03-03T01:11:44.437485Z"
    }
   },
   "cell_type": "code",
   "source": [
    "nums = [0, 1, 2, 3, 4]\n",
    "squares = []\n",
    "for x in nums:\n",
    "    squares.append(x ** 2)\n",
    "print(squares)"
   ],
   "id": "f903c65cf8bd57e0",
   "outputs": [
    {
     "name": "stdout",
     "output_type": "stream",
     "text": [
      "[0, 1, 4, 9, 16]\n"
     ]
    }
   ],
   "execution_count": 21
  },
  {
   "metadata": {},
   "cell_type": "markdown",
   "source": "You can make this code simpler using a list comprehension:",
   "id": "45df71173b488a7a"
  },
  {
   "metadata": {
    "ExecuteTime": {
     "end_time": "2025-03-03T01:11:44.464224Z",
     "start_time": "2025-03-03T01:11:44.461893Z"
    }
   },
   "cell_type": "code",
   "source": [
    "nums = [0, 1, 2, 3, 4]\n",
    "squares = [x ** 2 for x in nums]\n",
    "print(squares)"
   ],
   "id": "d9e681efed9c5e44",
   "outputs": [
    {
     "name": "stdout",
     "output_type": "stream",
     "text": [
      "[0, 1, 4, 9, 16]\n"
     ]
    }
   ],
   "execution_count": 22
  },
  {
   "metadata": {},
   "cell_type": "markdown",
   "source": "List comprehensions can also contain conditions:",
   "id": "5c9e7283e9a5e438"
  },
  {
   "metadata": {
    "ExecuteTime": {
     "end_time": "2025-03-03T01:11:44.487646Z",
     "start_time": "2025-03-03T01:11:44.485336Z"
    }
   },
   "cell_type": "code",
   "source": [
    "nums = [0, 1, 2, 3, 4]\n",
    "even_squares = [x ** 2 for x in nums if x % 2 == 0]\n",
    "print(even_squares)"
   ],
   "id": "9784229224cab1ff",
   "outputs": [
    {
     "name": "stdout",
     "output_type": "stream",
     "text": [
      "[0, 4, 16]\n"
     ]
    }
   ],
   "execution_count": 23
  },
  {
   "metadata": {},
   "cell_type": "markdown",
   "source": "#### Dictionaries",
   "id": "39688bc02b1ab873"
  },
  {
   "metadata": {},
   "cell_type": "markdown",
   "source": "A dictionary stores (key, value) pairs, similar to a `Map` in Java or an object in Javascript. You can use it like this:",
   "id": "d9e8d563140f326b"
  },
  {
   "metadata": {
    "ExecuteTime": {
     "end_time": "2025-03-03T01:11:44.515870Z",
     "start_time": "2025-03-03T01:11:44.513578Z"
    }
   },
   "cell_type": "code",
   "source": [
    "d = {'cat': 'cute', 'dog': 'furry'}  # Create a new dictionary with some data\n",
    "print(d['cat'])       # Get an entry from a dictionary; prints \"cute\"\n",
    "print('cat' in d)     # Check if a dictionary has a given key; prints \"True\""
   ],
   "id": "7bb0c4c050df5522",
   "outputs": [
    {
     "name": "stdout",
     "output_type": "stream",
     "text": [
      "cute\n",
      "True\n"
     ]
    }
   ],
   "execution_count": 24
  },
  {
   "metadata": {
    "ExecuteTime": {
     "end_time": "2025-03-03T01:11:44.531477Z",
     "start_time": "2025-03-03T01:11:44.529360Z"
    }
   },
   "cell_type": "code",
   "source": [
    "d['fish'] = 'wet'    # Set an entry in a dictionary\n",
    "print(d['fish'])      # Prints \"wet\""
   ],
   "id": "a616ca0986c8d21",
   "outputs": [
    {
     "name": "stdout",
     "output_type": "stream",
     "text": [
      "wet\n"
     ]
    }
   ],
   "execution_count": 25
  },
  {
   "metadata": {
    "ExecuteTime": {
     "end_time": "2025-03-03T01:11:44.676958Z",
     "start_time": "2025-03-03T01:11:44.550111Z"
    }
   },
   "cell_type": "code",
   "source": "print(d['monkey'])  # KeyError: 'monkey' not a key of d",
   "id": "a6b177166f97720",
   "outputs": [
    {
     "ename": "KeyError",
     "evalue": "'monkey'",
     "output_type": "error",
     "traceback": [
      "\u001B[0;31m---------------------------------------------------------------------------\u001B[0m",
      "\u001B[0;31mKeyError\u001B[0m                                  Traceback (most recent call last)",
      "Cell \u001B[0;32mIn[26], line 1\u001B[0m\n\u001B[0;32m----> 1\u001B[0m \u001B[38;5;28mprint\u001B[39m(\u001B[43md\u001B[49m\u001B[43m[\u001B[49m\u001B[38;5;124;43m'\u001B[39;49m\u001B[38;5;124;43mmonkey\u001B[39;49m\u001B[38;5;124;43m'\u001B[39;49m\u001B[43m]\u001B[49m)  \u001B[38;5;66;03m# KeyError: 'monkey' not a key of d\u001B[39;00m\n",
      "\u001B[0;31mKeyError\u001B[0m: 'monkey'"
     ]
    }
   ],
   "execution_count": 26
  },
  {
   "metadata": {},
   "cell_type": "code",
   "source": [
    "print(d.get('monkey', 'N/A'))  # Get an element with a default; prints \"N/A\"\n",
    "print(d.get('fish', 'N/A'))    # Get an element with a default; prints \"wet\""
   ],
   "id": "21e3f31e1ce7cc5",
   "outputs": [],
   "execution_count": null
  },
  {
   "metadata": {},
   "cell_type": "code",
   "source": [
    "del d['fish']        # Remove an element from a dictionary\n",
    "print(d.get('fish', 'N/A')) # \"fish\" is no longer a key; prints \"N/A\""
   ],
   "id": "40a7dad89add8095",
   "outputs": [],
   "execution_count": null
  },
  {
   "metadata": {},
   "cell_type": "markdown",
   "source": "You can find all you need to know about dictionaries in the [documentation](https://docs.python.org/2/library/stdtypes.html#dict).",
   "id": "b982f6851f953346"
  },
  {
   "metadata": {},
   "cell_type": "markdown",
   "source": "It is easy to iterate over the keys in a dictionary:",
   "id": "cbbeea103c50036f"
  },
  {
   "metadata": {},
   "cell_type": "code",
   "source": [
    "d = {'person': 2, 'cat': 4, 'spider': 8}\n",
    "for animal, legs in d.items():\n",
    "    print('A {} has {} legs'.format(animal, legs))"
   ],
   "id": "3ec86560f0d5694d",
   "outputs": [],
   "execution_count": null
  },
  {
   "metadata": {},
   "cell_type": "markdown",
   "source": "Dictionary comprehensions: These are similar to list comprehensions, but allow you to easily construct dictionaries. For example:",
   "id": "f9523eec752b61c0"
  },
  {
   "metadata": {},
   "cell_type": "code",
   "source": [
    "nums = [0, 1, 2, 3, 4]\n",
    "even_num_to_square = {x: x ** 2 for x in nums if x % 2 == 0}\n",
    "print(even_num_to_square)"
   ],
   "id": "8aebb2a1ea76f52f",
   "outputs": [],
   "execution_count": null
  },
  {
   "metadata": {},
   "cell_type": "markdown",
   "source": "#### Sets",
   "id": "c3c57e2677390323"
  },
  {
   "metadata": {},
   "cell_type": "markdown",
   "source": "A set is an unordered collection of distinct elements. As a simple example, consider the following:",
   "id": "4a979286aad38da6"
  },
  {
   "metadata": {},
   "cell_type": "code",
   "source": [
    "animals = {'cat', 'dog'}\n",
    "print('cat' in animals)   # Check if an element is in a set; prints \"True\"\n",
    "print('fish' in animals)  # prints \"False\"\n"
   ],
   "id": "4b32c423fdf8fbb5",
   "outputs": [],
   "execution_count": null
  },
  {
   "metadata": {},
   "cell_type": "code",
   "source": [
    "animals.add('fish')      # Add an element to a set\n",
    "print('fish' in animals)\n",
    "print(len(animals))       # Number of elements in a set;"
   ],
   "id": "c4c3f13a69d14589",
   "outputs": [],
   "execution_count": null
  },
  {
   "metadata": {},
   "cell_type": "code",
   "source": [
    "animals.add('cat')       # Adding an element that is already in the set does nothing\n",
    "print(len(animals))       \n",
    "animals.remove('cat')    # Remove an element from a set\n",
    "print(len(animals))       "
   ],
   "id": "e7918349cc390be2",
   "outputs": [],
   "execution_count": null
  },
  {
   "metadata": {},
   "cell_type": "markdown",
   "source": "_Loops_: Iterating over a set has the same syntax as iterating over a list; however since sets are unordered, you cannot make assumptions about the order in which you visit the elements of the set:",
   "id": "47916bf49f71c187"
  },
  {
   "metadata": {},
   "cell_type": "code",
   "source": [
    "animals = {'cat', 'dog', 'fish'}\n",
    "for idx, animal in enumerate(animals):\n",
    "    print('#{}: {}'.format(idx + 1, animal))"
   ],
   "id": "facb89e831acc087",
   "outputs": [],
   "execution_count": null
  },
  {
   "metadata": {},
   "cell_type": "markdown",
   "source": "Set comprehensions: Like lists and dictionaries, we can easily construct sets using set comprehensions:",
   "id": "5ee9ba3416e3ea3f"
  },
  {
   "metadata": {},
   "cell_type": "code",
   "source": [
    "from math import sqrt\n",
    "print({int(sqrt(x)) for x in range(30)})"
   ],
   "id": "9dc1d3e0e456375b",
   "outputs": [],
   "execution_count": null
  },
  {
   "metadata": {},
   "cell_type": "markdown",
   "source": "#### Tuples",
   "id": "ef8b4cdd171abae3"
  },
  {
   "metadata": {},
   "cell_type": "markdown",
   "source": "A tuple is an (immutable) ordered list of values. A tuple is in many ways similar to a list; one of the most important differences is that tuples can be used as keys in dictionaries and as elements of sets, while lists cannot. Here is a trivial example:",
   "id": "7c9a3d4bd917fa3f"
  },
  {
   "metadata": {},
   "cell_type": "code",
   "source": [
    "d = {(x, x + 1): x for x in range(10)}  # Create a dictionary with tuple keys\n",
    "t = (5, 6)       # Create a tuple\n",
    "print(type(t))\n",
    "print(d[t])       \n",
    "print(d[(1, 2)])"
   ],
   "id": "8af59e8b0100e324",
   "outputs": [],
   "execution_count": null
  },
  {
   "metadata": {},
   "cell_type": "code",
   "source": "t[0] = 1",
   "id": "29da75cf4b6b9120",
   "outputs": [],
   "execution_count": null
  },
  {
   "metadata": {},
   "cell_type": "markdown",
   "source": "### Functions",
   "id": "2d3dd252d6a1f5c7"
  },
  {
   "metadata": {},
   "cell_type": "markdown",
   "source": "Python functions are defined using the `def` keyword. For example:",
   "id": "3da6521cfc5a85ff"
  },
  {
   "metadata": {},
   "cell_type": "code",
   "source": [
    "def sign(x):\n",
    "    if x > 0:\n",
    "        return 'positive'\n",
    "    elif x < 0:\n",
    "        return 'negative'\n",
    "    else:\n",
    "        return 'zero'\n",
    "\n",
    "for x in [-1, 0, 1]:\n",
    "    print(sign(x))"
   ],
   "id": "4bef9998ac73fa17",
   "outputs": [],
   "execution_count": null
  },
  {
   "metadata": {},
   "cell_type": "markdown",
   "source": "We will often define functions to take optional keyword arguments, like this:",
   "id": "b5506570aed53fd"
  },
  {
   "metadata": {},
   "cell_type": "code",
   "source": [
    "def hello(name, loud=False):\n",
    "    if loud:\n",
    "        print('HELLO, {}'.format(name.upper()))\n",
    "    else:\n",
    "        print('Hello, {}!'.format(name))\n",
    "\n",
    "hello('Bob')\n",
    "hello('Fred', loud=True)"
   ],
   "id": "b7bb8c95db971427",
   "outputs": [],
   "execution_count": null
  },
  {
   "metadata": {},
   "cell_type": "markdown",
   "source": "### Classes",
   "id": "10da61612e20df09"
  },
  {
   "metadata": {},
   "cell_type": "markdown",
   "source": "The syntax for defining classes in Python is straightforward:",
   "id": "5eca501a1988c84c"
  },
  {
   "metadata": {},
   "cell_type": "code",
   "source": [
    "class Greeter:\n",
    "\n",
    "    # Constructor\n",
    "    def __init__(self, name):\n",
    "        self.name = name  # Create an instance variable\n",
    "\n",
    "    # Instance method\n",
    "    def greet(self, loud=False):\n",
    "        if loud:\n",
    "          print('HELLO, {}'.format(self.name.upper()))\n",
    "        else:\n",
    "          print('Hello, {}!'.format(self.name))\n",
    "\n",
    "g = Greeter('Fred')  # Construct an instance of the Greeter class\n",
    "g.greet()            # Call an instance method; prints \"Hello, Fred\"\n",
    "g.greet(loud=True)   # Call an instance method; prints \"HELLO, FRED!\""
   ],
   "id": "85be82c6cadb059e",
   "outputs": [],
   "execution_count": null
  },
  {
   "metadata": {},
   "cell_type": "markdown",
   "source": "## Numpy",
   "id": "b90db5d3ba34b763"
  },
  {
   "metadata": {},
   "cell_type": "markdown",
   "source": "Numpy is the core library for scientific computing in Python. It provides a high-performance multidimensional array object, and tools for working with these arrays. If you are already familiar with MATLAB, you might find this [tutorial](http://wiki.scipy.org/NumPy_for_Matlab_Users) useful to get started with Numpy.",
   "id": "e16b3e5c3dc7557e"
  },
  {
   "metadata": {},
   "cell_type": "markdown",
   "source": "To use Numpy, we first need to import the `numpy` package:",
   "id": "e1dd965600a97fbc"
  },
  {
   "metadata": {},
   "cell_type": "code",
   "source": "import numpy as np",
   "id": "b66848efba26ea45",
   "outputs": [],
   "execution_count": null
  },
  {
   "metadata": {},
   "cell_type": "markdown",
   "source": "### Arrays",
   "id": "6aa2d4fdc57b4f00"
  },
  {
   "metadata": {},
   "cell_type": "markdown",
   "source": "A numpy array is a grid of values, all of the same type, and is indexed by a tuple of nonnegative integers. The number of dimensions is the rank of the array; the shape of an array is a tuple of integers giving the size of the array along each dimension.",
   "id": "8d9e285b984794e1"
  },
  {
   "metadata": {},
   "cell_type": "markdown",
   "source": "We can initialize numpy arrays from nested Python lists, and access elements using square brackets:",
   "id": "752c8b3f8ca9090f"
  },
  {
   "metadata": {},
   "cell_type": "code",
   "source": [
    "a = np.array([1, 2, 3])  # Create a rank 1 array\n",
    "print(type(a), a.shape, a[0], a[1], a[2])\n",
    "a[0] = 5                 # Change an element of the array\n",
    "print(a)                  "
   ],
   "id": "1d6cadfac1725ef0",
   "outputs": [],
   "execution_count": null
  },
  {
   "metadata": {},
   "cell_type": "code",
   "source": [
    "b = np.array([[1,2,3],[4,5,6]])   # Create a rank 2 array\n",
    "print(b)"
   ],
   "id": "badee0ed3697cdcc",
   "outputs": [],
   "execution_count": null
  },
  {
   "metadata": {},
   "cell_type": "code",
   "source": [
    "print(b.shape)\n",
    "print(b[0, 0], b[0, 1], b[1, 0])"
   ],
   "id": "da0f9e5b5fe22556",
   "outputs": [],
   "execution_count": null
  },
  {
   "metadata": {},
   "cell_type": "markdown",
   "source": "Numpy also provides many functions to create arrays:",
   "id": "3d553835bb3aba58"
  },
  {
   "metadata": {},
   "cell_type": "code",
   "source": [
    "a = np.zeros((2,2))  # Create an array of all zeros\n",
    "print(a)"
   ],
   "id": "ac0e1968147aef95",
   "outputs": [],
   "execution_count": null
  },
  {
   "metadata": {},
   "cell_type": "code",
   "source": [
    "b = np.ones((1,2))   # Create an array of all ones\n",
    "print(b)"
   ],
   "id": "d0bf1f915f118d8f",
   "outputs": [],
   "execution_count": null
  },
  {
   "metadata": {},
   "cell_type": "code",
   "source": [
    "c = np.full((2,2), 7) # Create a constant array\n",
    "print(c)"
   ],
   "id": "72fdc6457e518570",
   "outputs": [],
   "execution_count": null
  },
  {
   "metadata": {},
   "cell_type": "code",
   "source": [
    "d = np.eye(2)        # Create a 2x2 identity matrix\n",
    "print(d)"
   ],
   "id": "704cab813b452d88",
   "outputs": [],
   "execution_count": null
  },
  {
   "metadata": {},
   "cell_type": "code",
   "source": [
    "e = np.random.random((2,2)) # Create an array filled with random values\n",
    "print(e)"
   ],
   "id": "18ba1dbaa617e6e4",
   "outputs": [],
   "execution_count": null
  },
  {
   "metadata": {},
   "cell_type": "markdown",
   "source": "### Array indexing",
   "id": "9fb3d934919221c6"
  },
  {
   "metadata": {},
   "cell_type": "markdown",
   "source": "Numpy offers several ways to index into arrays.",
   "id": "562cf67214c3825d"
  },
  {
   "metadata": {},
   "cell_type": "markdown",
   "source": "Slicing: Similar to Python lists, numpy arrays can be sliced. Since arrays may be multidimensional, you must specify a slice for each dimension of the array:",
   "id": "4bf51a9ff31c24fd"
  },
  {
   "metadata": {},
   "cell_type": "code",
   "source": [
    "import numpy as np\n",
    "\n",
    "# Create the following rank 2 array with shape (3, 4)\n",
    "# [[ 1  2  3  4]\n",
    "#  [ 5  6  7  8]\n",
    "#  [ 9 10 11 12]]\n",
    "a = np.array([[1,2,3,4], [5,6,7,8], [9,10,11,12]])\n",
    "\n",
    "# Use slicing to pull out the subarray consisting of the first 2 rows\n",
    "# and columns 1 and 2; b is the following array of shape (2, 2):\n",
    "# [[2 3]\n",
    "#  [6 7]]\n",
    "b = a[:2, 1:3]\n",
    "print(b)"
   ],
   "id": "665c547c7047b67f",
   "outputs": [],
   "execution_count": null
  },
  {
   "metadata": {},
   "cell_type": "markdown",
   "source": "A slice of an array is a view into the same data, so modifying it will modify the original array.",
   "id": "8abf17d3de759002"
  },
  {
   "metadata": {},
   "cell_type": "code",
   "source": [
    "print(a[0, 1])\n",
    "b[0, 0] = 77    # b[0, 0] is the same piece of data as a[0, 1]\n",
    "print(a[0, 1]) "
   ],
   "id": "5fbdc3b0c56a1b91",
   "outputs": [],
   "execution_count": null
  },
  {
   "metadata": {},
   "cell_type": "markdown",
   "source": "You can also mix integer indexing with slice indexing. However, doing so will yield an array of lower rank than the original array. Note that this is quite different from the way that MATLAB handles array slicing:",
   "id": "352304cf9def7a19"
  },
  {
   "metadata": {},
   "cell_type": "code",
   "source": [
    "# Create the following rank 2 array with shape (3, 4)\n",
    "a = np.array([[1,2,3,4], [5,6,7,8], [9,10,11,12]])\n",
    "print(a)"
   ],
   "id": "868cc91ab02617e3",
   "outputs": [],
   "execution_count": null
  },
  {
   "metadata": {},
   "cell_type": "markdown",
   "source": [
    "Two ways of accessing the data in the middle row of the array.\n",
    "Mixing integer indexing with slices yields an array of lower rank,\n",
    "while using only slices yields an array of the same rank as the\n",
    "original array:"
   ],
   "id": "893ac66dae17bb83"
  },
  {
   "metadata": {},
   "cell_type": "code",
   "source": [
    "row_r1 = a[1, :]    # Rank 1 view of the second row of a  \n",
    "row_r2 = a[1:2, :]  # Rank 2 view of the second row of a\n",
    "row_r3 = a[[1], :]  # Rank 2 view of the second row of a\n",
    "print(row_r1, row_r1.shape)\n",
    "print(row_r2, row_r2.shape)\n",
    "print(row_r3, row_r3.shape)"
   ],
   "id": "fe417f838ffb9fc8",
   "outputs": [],
   "execution_count": null
  },
  {
   "metadata": {},
   "cell_type": "code",
   "source": [
    "# We can make the same distinction when accessing columns of an array:\n",
    "col_r1 = a[:, 1]\n",
    "col_r2 = a[:, 1:2]\n",
    "print(col_r1, col_r1.shape)\n",
    "print()\n",
    "print(col_r2, col_r2.shape)"
   ],
   "id": "d0d0f64dadc062c8",
   "outputs": [],
   "execution_count": null
  },
  {
   "metadata": {},
   "cell_type": "markdown",
   "source": "Integer array indexing: When you index into numpy arrays using slicing, the resulting array view will always be a subarray of the original array. In contrast, integer array indexing allows you to construct arbitrary arrays using the data from another array. Here is an example:",
   "id": "3da1cbba771c6c13"
  },
  {
   "metadata": {},
   "cell_type": "code",
   "source": [
    "a = np.array([[1,2], [3, 4], [5, 6]])\n",
    "\n",
    "# An example of integer array indexing.\n",
    "# The returned array will have shape (3,) and \n",
    "print(a[[0, 1, 2], [0, 1, 0]])\n",
    "\n",
    "# The above example of integer array indexing is equivalent to this:\n",
    "print(np.array([a[0, 0], a[1, 1], a[2, 0]]))"
   ],
   "id": "65dbfc598b36baca",
   "outputs": [],
   "execution_count": null
  },
  {
   "metadata": {},
   "cell_type": "code",
   "source": [
    "# When using integer array indexing, you can reuse the same\n",
    "# element from the source array:\n",
    "print(a[[0, 0], [1, 1]])\n",
    "\n",
    "# Equivalent to the previous integer array indexing example\n",
    "print(np.array([a[0, 1], a[0, 1]]))"
   ],
   "id": "3b815ec01a7d4f8e",
   "outputs": [],
   "execution_count": null
  },
  {
   "metadata": {},
   "cell_type": "markdown",
   "source": "One useful trick with integer array indexing is selecting or mutating one element from each row of a matrix:",
   "id": "1e42b7ab932e52ee"
  },
  {
   "metadata": {},
   "cell_type": "code",
   "source": [
    "# Create a new array from which we will select elements\n",
    "a = np.array([[1,2,3], [4,5,6], [7,8,9], [10, 11, 12]])\n",
    "print(a)"
   ],
   "id": "79e9a44b9390c1a7",
   "outputs": [],
   "execution_count": null
  },
  {
   "metadata": {},
   "cell_type": "code",
   "source": [
    "# Create an array of indices\n",
    "b = np.array([0, 2, 0, 1])\n",
    "\n",
    "# Select one element from each row of a using the indices in b\n",
    "print(a[np.arange(4), b])  # Prints \"[ 1  6  7 11]\""
   ],
   "id": "4f0442a8ebb8adb0",
   "outputs": [],
   "execution_count": null
  },
  {
   "metadata": {},
   "cell_type": "code",
   "source": [
    "# Mutate one element from each row of a using the indices in b\n",
    "a[np.arange(4), b] += 10\n",
    "print(a)"
   ],
   "id": "b0ed4be6f39331ce",
   "outputs": [],
   "execution_count": null
  },
  {
   "metadata": {},
   "cell_type": "markdown",
   "source": "Boolean array indexing: Boolean array indexing lets you pick out arbitrary elements of an array. Frequently this type of indexing is used to select the elements of an array that satisfy some condition. Here is an example:",
   "id": "b044ea1d05270380"
  },
  {
   "metadata": {},
   "cell_type": "code",
   "source": [
    "import numpy as np\n",
    "\n",
    "a = np.array([[1,2], [3, 4], [5, 6]])\n",
    "\n",
    "bool_idx = (a > 2)  # Find the elements of a that are bigger than 2;\n",
    "                    # this returns a numpy array of Booleans of the same\n",
    "                    # shape as a, where each slot of bool_idx tells\n",
    "                    # whether that element of a is > 2.\n",
    "\n",
    "print(bool_idx)"
   ],
   "id": "a9357102ea1300e6",
   "outputs": [],
   "execution_count": null
  },
  {
   "metadata": {},
   "cell_type": "code",
   "source": [
    "# We use boolean array indexing to construct a rank 1 array\n",
    "# consisting of the elements of a corresponding to the True values\n",
    "# of bool_idx\n",
    "print(a[bool_idx])\n",
    "\n",
    "# We can do all of the above in a single concise statement:\n",
    "print(a[a > 2])"
   ],
   "id": "1b5ddb34ea752e80",
   "outputs": [],
   "execution_count": null
  },
  {
   "metadata": {},
   "cell_type": "markdown",
   "source": "For brevity we have left out a lot of details about numpy array indexing; if you want to know more you should read the documentation.",
   "id": "274d62ae9ead5551"
  },
  {
   "metadata": {},
   "cell_type": "markdown",
   "source": "### Datatypes",
   "id": "af81bbd8b63bba7"
  },
  {
   "metadata": {},
   "cell_type": "markdown",
   "source": "Every numpy array is a grid of elements of the same type. Numpy provides a large set of numeric datatypes that you can use to construct arrays. Numpy tries to guess a datatype when you create an array, but functions that construct arrays usually also include an optional argument to explicitly specify the datatype. Here is an example:",
   "id": "ef57fbb38aea6511"
  },
  {
   "metadata": {},
   "cell_type": "code",
   "source": [
    "x = np.array([1, 2])  # Let numpy choose the datatype\n",
    "y = np.array([1.0, 2.0])  # Let numpy choose the datatype\n",
    "z = np.array([1, 2], dtype=np.int64)  # Force a particular datatype\n",
    "\n",
    "print(x.dtype, y.dtype, z.dtype)"
   ],
   "id": "92065027dffe731a",
   "outputs": [],
   "execution_count": null
  },
  {
   "metadata": {},
   "cell_type": "markdown",
   "source": "You can read all about numpy datatypes in the [documentation](http://docs.scipy.org/doc/numpy/reference/arrays.dtypes.html).",
   "id": "be7ef08aaf4a8fb0"
  },
  {
   "metadata": {},
   "cell_type": "markdown",
   "source": "### Array math",
   "id": "77f47f2ea21b5fd5"
  },
  {
   "metadata": {},
   "cell_type": "markdown",
   "source": "Basic mathematical functions operate elementwise on arrays, and are available both as operator overloads and as functions in the numpy module:",
   "id": "a0bb33250f3bbbab"
  },
  {
   "metadata": {},
   "cell_type": "code",
   "source": [
    "x = np.array([[1,2],[3,4]], dtype=np.float64)\n",
    "y = np.array([[5,6],[7,8]], dtype=np.float64)\n",
    "\n",
    "# Elementwise sum; both produce the array\n",
    "print(x + y)\n",
    "print(np.add(x, y))"
   ],
   "id": "b046948445cb0b0a",
   "outputs": [],
   "execution_count": null
  },
  {
   "metadata": {},
   "cell_type": "code",
   "source": [
    "# Elementwise difference; both produce the array\n",
    "print(x - y)\n",
    "print(np.subtract(x, y))"
   ],
   "id": "5568704b153c64d6",
   "outputs": [],
   "execution_count": null
  },
  {
   "metadata": {},
   "cell_type": "code",
   "source": [
    "# Elementwise product; both produce the array\n",
    "print(x * y)\n",
    "print(np.multiply(x, y))"
   ],
   "id": "e1bfc5d382ebf3da",
   "outputs": [],
   "execution_count": null
  },
  {
   "metadata": {},
   "cell_type": "code",
   "source": [
    "# Elementwise division; both produce the array\n",
    "# [[ 0.2         0.33333333]\n",
    "#  [ 0.42857143  0.5       ]]\n",
    "print(x / y)\n",
    "print(np.divide(x, y))"
   ],
   "id": "57d39d131c47546c",
   "outputs": [],
   "execution_count": null
  },
  {
   "metadata": {},
   "cell_type": "code",
   "source": [
    "# Elementwise square root; produces the array\n",
    "# [[ 1.          1.41421356]\n",
    "#  [ 1.73205081  2.        ]]\n",
    "print(np.sqrt(x))"
   ],
   "id": "d3d6675fa6669a1b",
   "outputs": [],
   "execution_count": null
  },
  {
   "metadata": {},
   "cell_type": "markdown",
   "source": "Note that unlike MATLAB, `*` is elementwise multiplication, not matrix multiplication. We instead use the dot function to compute inner products of vectors, to multiply a vector by a matrix, and to multiply matrices. dot is available both as a function in the numpy module and as an instance method of array objects:",
   "id": "8d8c29ee93469a75"
  },
  {
   "metadata": {},
   "cell_type": "code",
   "source": [
    "x = np.array([[1,2],[3,4]])\n",
    "y = np.array([[5,6],[7,8]])\n",
    "\n",
    "v = np.array([9,10])\n",
    "w = np.array([11, 12])\n",
    "\n",
    "# Inner product of vectors; both produce 219\n",
    "print(v.dot(w))\n",
    "print(np.dot(v, w))"
   ],
   "id": "13acc54bd9fc40ce",
   "outputs": [],
   "execution_count": null
  },
  {
   "metadata": {},
   "cell_type": "markdown",
   "source": "You can also use the `@` operator which is equivalent to numpy's `dot` operator.",
   "id": "d60f51f5b2306e2"
  },
  {
   "metadata": {},
   "cell_type": "code",
   "source": "print(v @ w)",
   "id": "9656c03696766a25",
   "outputs": [],
   "execution_count": null
  },
  {
   "metadata": {},
   "cell_type": "code",
   "source": [
    "# Matrix / vector product; both produce the rank 1 array [29 67]\n",
    "print(x.dot(v))\n",
    "print(np.dot(x, v))\n",
    "print(x @ v)"
   ],
   "id": "dcfd8f6a4b11de29",
   "outputs": [],
   "execution_count": null
  },
  {
   "metadata": {},
   "cell_type": "code",
   "source": [
    "# Matrix / matrix product; both produce the rank 2 array\n",
    "# [[19 22]\n",
    "#  [43 50]]\n",
    "print(x.dot(y))\n",
    "print(np.dot(x, y))\n",
    "print(x @ y)"
   ],
   "id": "6407df99b0f61811",
   "outputs": [],
   "execution_count": null
  },
  {
   "metadata": {},
   "cell_type": "markdown",
   "source": "Numpy provides many useful functions for performing computations on arrays; one of the most useful is `sum`:",
   "id": "56a8ff58925774d8"
  },
  {
   "metadata": {},
   "cell_type": "code",
   "source": [
    "x = np.array([[1,2],[3,4]])\n",
    "\n",
    "print(np.sum(x))  # Compute sum of all elements; prints \"10\"\n",
    "print(np.sum(x, axis=0))  # Compute sum of each column; prints \"[4 6]\"\n",
    "print(np.sum(x, axis=1))  # Compute sum of each row; prints \"[3 7]\""
   ],
   "id": "85b18c2051b24859",
   "outputs": [],
   "execution_count": null
  },
  {
   "metadata": {},
   "cell_type": "markdown",
   "source": [
    "You can find the full list of mathematical functions provided by numpy in the [documentation](http://docs.scipy.org/doc/numpy/reference/routines.math.html).\n",
    "\n",
    "Apart from computing mathematical functions using arrays, we frequently need to reshape or otherwise manipulate data in arrays. The simplest example of this type of operation is transposing a matrix; to transpose a matrix, simply use the T attribute of an array object:"
   ],
   "id": "ac860dd8949fa099"
  },
  {
   "metadata": {},
   "cell_type": "code",
   "source": [
    "print(x)\n",
    "print(\"transpose\\n\", x.T)"
   ],
   "id": "4cb170d106e47be4",
   "outputs": [],
   "execution_count": null
  },
  {
   "metadata": {},
   "cell_type": "code",
   "source": [
    "v = np.array([[1,2,3]])\n",
    "print(v )\n",
    "print(\"transpose\\n\", v.T)"
   ],
   "id": "3a1bd1c86ac34b5f",
   "outputs": [],
   "execution_count": null
  },
  {
   "metadata": {},
   "cell_type": "markdown",
   "source": "### Broadcasting",
   "id": "2e6504d81b9b758b"
  },
  {
   "metadata": {},
   "cell_type": "markdown",
   "source": [
    "Broadcasting is a powerful mechanism that allows numpy to work with arrays of different shapes when performing arithmetic operations. Frequently we have a smaller array and a larger array, and we want to use the smaller array multiple times to perform some operation on the larger array.\n",
    "\n",
    "For example, suppose that we want to add a constant vector to each row of a matrix. We could do it like this:"
   ],
   "id": "d44db344834334b"
  },
  {
   "metadata": {},
   "cell_type": "code",
   "source": [
    "# We will add the vector v to each row of the matrix x,\n",
    "# storing the result in the matrix y\n",
    "x = np.array([[1,2,3], [4,5,6], [7,8,9], [10, 11, 12]])\n",
    "v = np.array([1, 0, 1])\n",
    "y = np.empty_like(x)   # Create an empty matrix with the same shape as x\n",
    "\n",
    "# Add the vector v to each row of the matrix x with an explicit loop\n",
    "for i in range(4):\n",
    "    y[i, :] = x[i, :] + v\n",
    "\n",
    "print(y)"
   ],
   "id": "eff2ea9609ef0a48",
   "outputs": [],
   "execution_count": null
  },
  {
   "metadata": {},
   "cell_type": "markdown",
   "source": "This works; however when the matrix `x` is very large, computing an explicit loop in Python could be slow. Note that adding the vector v to each row of the matrix `x` is equivalent to forming a matrix `vv` by stacking multiple copies of `v` vertically, then performing elementwise summation of `x` and `vv`. We could implement this approach like this:",
   "id": "802000fd57e76d80"
  },
  {
   "metadata": {},
   "cell_type": "code",
   "source": [
    "vv = np.tile(v, (4, 1))  # Stack 4 copies of v on top of each other\n",
    "print(vv)                # Prints \"[[1 0 1]\n",
    "                         #          [1 0 1]\n",
    "                         #          [1 0 1]\n",
    "                         #          [1 0 1]]\""
   ],
   "id": "4b19787e0361ade4",
   "outputs": [],
   "execution_count": null
  },
  {
   "metadata": {},
   "cell_type": "code",
   "source": [
    "y = x + vv  # Add x and vv elementwise\n",
    "print(y)"
   ],
   "id": "165008175df36a0e",
   "outputs": [],
   "execution_count": null
  },
  {
   "metadata": {},
   "cell_type": "markdown",
   "source": "Numpy broadcasting allows us to perform this computation without actually creating multiple copies of v. Consider this version, using broadcasting:",
   "id": "cba72df83d12f2fe"
  },
  {
   "metadata": {},
   "cell_type": "code",
   "source": [
    "import numpy as np\n",
    "\n",
    "# We will add the vector v to each row of the matrix x,\n",
    "# storing the result in the matrix y\n",
    "x = np.array([[1,2,3], [4,5,6], [7,8,9], [10, 11, 12]])\n",
    "v = np.array([1, 0, 1])\n",
    "y = x + v  # Add v to each row of x using broadcasting\n",
    "print(y)"
   ],
   "id": "ce01d0d80a63fc4c",
   "outputs": [],
   "execution_count": null
  },
  {
   "metadata": {},
   "cell_type": "markdown",
   "source": [
    "The line `y = x + v` works even though `x` has shape `(4, 3)` and `v` has shape `(3,)` due to broadcasting; this line works as if v actually had shape `(4, 3)`, where each row was a copy of `v`, and the sum was performed elementwise.\n",
    "\n",
    "Broadcasting two arrays together follows these rules:\n",
    "\n",
    "1. If the arrays do not have the same rank, prepend the shape of the lower rank array with 1s until both shapes have the same length.\n",
    "2. The two arrays are said to be compatible in a dimension if they have the same size in the dimension, or if one of the arrays has size 1 in that dimension.\n",
    "3. The arrays can be broadcast together if they are compatible in all dimensions.\n",
    "4. After broadcasting, each array behaves as if it had shape equal to the elementwise maximum of shapes of the two input arrays.\n",
    "5. In any dimension where one array had size 1 and the other array had size greater than 1, the first array behaves as if it were copied along that dimension\n",
    "\n",
    "If this explanation does not make sense, try reading the explanation from the [documentation](http://docs.scipy.org/doc/numpy/user/basics.broadcasting.html) or this [explanation](http://wiki.scipy.org/EricsBroadcastingDoc).\n",
    "\n",
    "Functions that support broadcasting are known as universal functions. You can find the list of all universal functions in the [documentation](http://docs.scipy.org/doc/numpy/reference/ufuncs.html#available-ufuncs).\n",
    "\n",
    "Here are some applications of broadcasting:"
   ],
   "id": "5dcc7a8ef2dbf418"
  },
  {
   "metadata": {},
   "cell_type": "code",
   "source": [
    "# Compute outer product of vectors\n",
    "v = np.array([1,2,3])  # v has shape (3,)\n",
    "w = np.array([4,5])    # w has shape (2,)\n",
    "# To compute an outer product, we first reshape v to be a column\n",
    "# vector of shape (3, 1); we can then broadcast it against w to yield\n",
    "# an output of shape (3, 2), which is the outer product of v and w:\n",
    "\n",
    "print(np.reshape(v, (3, 1)) * w)"
   ],
   "id": "678e9cc4b143bc65",
   "outputs": [],
   "execution_count": null
  },
  {
   "metadata": {},
   "cell_type": "code",
   "source": [
    "# Add a vector to each row of a matrix\n",
    "x = np.array([[1,2,3], [4,5,6]])\n",
    "# x has shape (2, 3) and v has shape (3,) so they broadcast to (2, 3),\n",
    "# giving the following matrix:\n",
    "\n",
    "print(x + v)"
   ],
   "id": "e5c3e7565c216e73",
   "outputs": [],
   "execution_count": null
  },
  {
   "metadata": {},
   "cell_type": "code",
   "source": [
    "# Add a vector to each column of a matrix\n",
    "# x has shape (2, 3) and w has shape (2,).\n",
    "# If we transpose x then it has shape (3, 2) and can be broadcast\n",
    "# against w to yield a result of shape (3, 2); transposing this result\n",
    "# yields the final result of shape (2, 3) which is the matrix x with\n",
    "# the vector w added to each column. Gives the following matrix:\n",
    "\n",
    "print((x.T + w).T)"
   ],
   "id": "f78ce5e13713543",
   "outputs": [],
   "execution_count": null
  },
  {
   "metadata": {},
   "cell_type": "code",
   "source": [
    "# Another solution is to reshape w to be a row vector of shape (2, 1);\n",
    "# we can then broadcast it directly against x to produce the same\n",
    "# output.\n",
    "print(x + np.reshape(w, (2, 1)))"
   ],
   "id": "d9f457be6962a4cd",
   "outputs": [],
   "execution_count": null
  },
  {
   "metadata": {},
   "cell_type": "code",
   "source": [
    "# Multiply a matrix by a constant:\n",
    "# x has shape (2, 3). Numpy treats scalars as arrays of shape ();\n",
    "# these can be broadcast together to shape (2, 3), producing the\n",
    "# following array:\n",
    "print(x * 2)"
   ],
   "id": "c9b6f1232b3ec975",
   "outputs": [],
   "execution_count": null
  },
  {
   "metadata": {},
   "cell_type": "markdown",
   "source": "Broadcasting typically makes your code more concise and faster, so you should strive to use it where possible.",
   "id": "c4a21094307f5690"
  },
  {
   "metadata": {},
   "cell_type": "markdown",
   "source": "This brief overview has touched on many of the important things that you need to know about numpy, but is far from complete. Check out the [numpy reference](http://docs.scipy.org/doc/numpy/reference/) to find out much more about numpy.",
   "id": "809f3ddeb03bac98"
  },
  {
   "metadata": {},
   "cell_type": "markdown",
   "source": "## Matplotlib",
   "id": "2acdd3418bf0dc35"
  },
  {
   "metadata": {},
   "cell_type": "markdown",
   "source": "Matplotlib is a plotting library. In this section give a brief introduction to the `matplotlib.pyplot` module, which provides a plotting system similar to that of MATLAB.",
   "id": "1b8a33ec5f2fc8c7"
  },
  {
   "metadata": {},
   "cell_type": "code",
   "source": "import matplotlib.pyplot as plt",
   "id": "bb8f7342c5e9d9fb",
   "outputs": [],
   "execution_count": null
  },
  {
   "metadata": {},
   "cell_type": "markdown",
   "source": "By running this special iPython command, we will be displaying plots inline:",
   "id": "78dea4807d340efe"
  },
  {
   "metadata": {},
   "cell_type": "code",
   "source": "%matplotlib inline",
   "id": "c96c61c9a1b2460",
   "outputs": [],
   "execution_count": null
  },
  {
   "metadata": {},
   "cell_type": "markdown",
   "source": "### Plotting",
   "id": "4278d8726e891a61"
  },
  {
   "metadata": {},
   "cell_type": "markdown",
   "source": "The most important function in `matplotlib` is plot, which allows you to plot 2D data. Here is a simple example:",
   "id": "8d73b32967691301"
  },
  {
   "metadata": {},
   "cell_type": "code",
   "source": [
    "# Compute the x and y coordinates for points on a sine curve\n",
    "x = np.arange(0, 3 * np.pi, 0.1)\n",
    "y = np.sin(x)\n",
    "\n",
    "# Plot the points using matplotlib\n",
    "plt.plot(x, y)"
   ],
   "id": "c7d8ce011420872d",
   "outputs": [],
   "execution_count": null
  },
  {
   "metadata": {},
   "cell_type": "markdown",
   "source": "With just a little bit of extra work we can easily plot multiple lines at once, and add a title, legend, and axis labels:",
   "id": "7c917b9ae39580df"
  },
  {
   "metadata": {},
   "cell_type": "code",
   "source": [
    "y_sin = np.sin(x)\n",
    "y_cos = np.cos(x)\n",
    "\n",
    "# Plot the points using matplotlib\n",
    "plt.plot(x, y_sin)\n",
    "plt.plot(x, y_cos)\n",
    "plt.xlabel('x axis label')\n",
    "plt.ylabel('y axis label')\n",
    "plt.title('Sine and Cosine')\n",
    "plt.legend(['Sine', 'Cosine'])"
   ],
   "id": "4d8810337398f2a4",
   "outputs": [],
   "execution_count": null
  },
  {
   "metadata": {},
   "cell_type": "markdown",
   "source": "### Subplots",
   "id": "b6c6d3eb28903086"
  },
  {
   "metadata": {},
   "cell_type": "markdown",
   "source": "You can plot different things in the same figure using the subplot function. Here is an example:",
   "id": "eb8ca09f24c3a740"
  },
  {
   "metadata": {},
   "cell_type": "code",
   "source": [
    "# Compute the x and y coordinates for points on sine and cosine curves\n",
    "x = np.arange(0, 3 * np.pi, 0.1)\n",
    "y_sin = np.sin(x)\n",
    "y_cos = np.cos(x)\n",
    "\n",
    "# Set up a subplot grid that has height 2 and width 1,\n",
    "# and set the first such subplot as active.\n",
    "plt.subplot(2, 1, 1)\n",
    "\n",
    "# Make the first plot\n",
    "plt.plot(x, y_sin)\n",
    "plt.title('Sine')\n",
    "\n",
    "# Set the second subplot as active, and make the second plot.\n",
    "plt.subplot(2, 1, 2)\n",
    "plt.plot(x, y_cos)\n",
    "plt.title('Cosine')\n",
    "\n",
    "# Show the figure.\n",
    "plt.show()"
   ],
   "id": "4ddc8fc448cc53ef",
   "outputs": [],
   "execution_count": null
  },
  {
   "metadata": {},
   "cell_type": "markdown",
   "source": "You can read much more about the `subplot` function in the [documentation](http://matplotlib.org/api/pyplot_api.html#matplotlib.pyplot.subplot).",
   "id": "1e57899928f910d1"
  },
  {
   "metadata": {},
   "cell_type": "code",
   "source": "",
   "id": "646cc41e832e6c1b",
   "outputs": [],
   "execution_count": null
  }
 ],
 "metadata": {
  "kernelspec": {
   "name": "python3",
   "language": "python",
   "display_name": "Python 3 (ipykernel)"
  }
 },
 "nbformat": 5,
 "nbformat_minor": 9
}
