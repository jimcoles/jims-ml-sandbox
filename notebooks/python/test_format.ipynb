{
 "cells": [
  {
   "cell_type": "code",
   "id": "initial_id",
   "metadata": {
    "collapsed": true,
    "ExecuteTime": {
     "end_time": "2025-03-04T19:00:05.429757Z",
     "start_time": "2025-03-04T19:00:05.424707Z"
    }
   },
   "source": "print(\"Hello world test\")",
   "outputs": [
    {
     "name": "stdout",
     "output_type": "stream",
     "text": [
      "Hello world test\n"
     ]
    }
   ],
   "execution_count": 7
  },
  {
   "metadata": {},
   "cell_type": "markdown",
   "source": "test notebook for format debugging run all",
   "id": "1182bedb925c739c"
  },
  {
   "metadata": {
    "ExecuteTime": {
     "end_time": "2025-03-04T19:00:22.068468Z",
     "start_time": "2025-03-04T19:00:19.760925Z"
    }
   },
   "cell_type": "code",
   "source": [
    "print(\"Hello world test 2\")\n",
    "\n",
    "x = 10\n",
    "y = x * 2 + 3\n",
    "\n",
    "print(f\"x = {x}, y = {y}\")\n"
   ],
   "id": "71419ae6eb86cf5f",
   "outputs": [
    {
     "name": "stdout",
     "output_type": "stream",
     "text": [
      "Hello world test 2\n",
      "x = 10, y = 23\n"
     ]
    }
   ],
   "execution_count": 9
  }
 ],
 "metadata": {
  "kernelspec": {
   "display_name": "Python 3",
   "language": "python",
   "name": "python3"
  },
  "language_info": {
   "codemirror_mode": {
    "name": "ipython",
    "version": 2
   },
   "file_extension": ".py",
   "mimetype": "text/x-python",
   "name": "python",
   "nbconvert_exporter": "python",
   "pygments_lexer": "ipython2",
   "version": "2.7.6"
  }
 },
 "nbformat": 4,
 "nbformat_minor": 5
}
