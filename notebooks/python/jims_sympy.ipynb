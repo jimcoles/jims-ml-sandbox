{
 "cells": [
  {
   "metadata": {},
   "cell_type": "markdown",
   "source": [
    "# Sympy Features Summary for Machine Learning\n",
    "\n",
    "Sympy is a symbolic mathematics library that allows for symbolic computation, \n",
    "a feature useful in machine learning for:\n",
    "1. **Symbolic Differentiation**: Compute gradients or higher derivatives of cost functions symbolically.\n",
    "2. **Equation Solving**: Resolve mathematical equations derived during training or optimization.\n",
    "3. **Matrix Manipulation**: Aid with linear algebra operations through symbolic matrices.\n",
    "4. **Simplification and Pretty Printing**: Simplify and visualize complex expressions."
   ],
   "id": "a3a2330903dff8e3"
  },
  {
   "metadata": {
    "ExecuteTime": {
     "end_time": "2025-03-09T20:53:16.539239Z",
     "start_time": "2025-03-09T20:53:16.534546Z"
    }
   },
   "cell_type": "code",
   "source": "import sympy as sp",
   "id": "cea735544d89dbe6",
   "outputs": [],
   "execution_count": 8
  },
  {
   "metadata": {
    "ExecuteTime": {
     "end_time": "2025-03-09T20:53:16.568630Z",
     "start_time": "2025-03-09T20:53:16.563332Z"
    }
   },
   "cell_type": "code",
   "source": [
    "# Example: Symbolic Differentiation for Machine Learning\n",
    "\n",
    "# Define symbols\n",
    "w, x, y = sp.symbols('w x y')\n",
    "b = sp.Symbol('b')\n",
    "\n",
    "# Define a simple cost function: Mean Squared Error (MSE)\n",
    "# MSE = (1/n) * Σ (y - (wx + b))^2 where n is the number of data points\n",
    "n = sp.Symbol('n')\n",
    "cost_function = (1 / n) * sp.Sum((y - (w * x + b)) ** 2, (x, 1, n))\n",
    "\n",
    "cost_function"
   ],
   "id": "62cc011ad1902640",
   "outputs": [
    {
     "data": {
      "text/plain": [
       "Sum((-b - w*x + y)**2, (x, 1, n))/n"
      ],
      "text/latex": "$\\displaystyle \\frac{\\sum_{x=1}^{n} \\left(- b - w x + y\\right)^{2}}{n}$"
     },
     "execution_count": 9,
     "metadata": {},
     "output_type": "execute_result"
    }
   ],
   "execution_count": 9
  },
  {
   "metadata": {
    "ExecuteTime": {
     "end_time": "2025-03-09T20:53:16.591745Z",
     "start_time": "2025-03-09T20:53:16.588315Z"
    }
   },
   "cell_type": "code",
   "source": [
    "\n",
    "# Compute derivative with respect to w\n",
    "gradient_w = sp.diff(cost_function, w)\n",
    "gradient_w"
   ],
   "id": "79ef90feab0f3ffb",
   "outputs": [
    {
     "data": {
      "text/plain": [
       "Sum(-2*x*(-b - w*x + y), (x, 1, n))/n"
      ],
      "text/latex": "$\\displaystyle \\frac{\\sum_{x=1}^{n} - 2 x \\left(- b - w x + y\\right)}{n}$"
     },
     "execution_count": 10,
     "metadata": {},
     "output_type": "execute_result"
    }
   ],
   "execution_count": 10
  },
  {
   "metadata": {
    "ExecuteTime": {
     "end_time": "2025-03-09T20:53:16.625112Z",
     "start_time": "2025-03-09T20:53:16.619257Z"
    }
   },
   "cell_type": "code",
   "source": [
    "# Example: Solving Symbolic Equations in Machine Learning\n",
    "\n",
    "# Example: Solve for w and b where gradient is zero\n",
    "# Setup equations\n",
    "gradient_w = sp.Eq(sp.diff((y - (w * x + b)) ** 2, w), 0)\n",
    "gradient_b = sp.Eq(sp.diff((y - (w * x + b)) ** 2, b), 0)\n",
    "\n",
    "# Solve equations\n",
    "solution = sp.solve([gradient_w, gradient_b], (w, b))\n",
    "solution"
   ],
   "id": "bc560d1b8e08ff03",
   "outputs": [
    {
     "data": {
      "text/plain": [
       "{w: -b/x + y/x}"
      ]
     },
     "execution_count": 11,
     "metadata": {},
     "output_type": "execute_result"
    }
   ],
   "execution_count": 11
  },
  {
   "metadata": {
    "ExecuteTime": {
     "end_time": "2025-03-09T20:53:16.711737Z",
     "start_time": "2025-03-09T20:53:16.706520Z"
    }
   },
   "cell_type": "code",
   "source": [
    "# Example: Symbolic Matrix Operations for Linear Algebra in ML\n",
    "\n",
    "# Create symbolic matrix objects for differentiation\n",
    "import sympy as sp\n",
    "\n",
    "# Define symbolic matrices for X, W, and Y\n",
    "n, m, p = sp.symbols('n m p', integer=True)  # Dimensions of the matrices\n",
    "X = sp.MatrixSymbol('X', n, m)  # Input data matrix (n x m)\n",
    "W = sp.MatrixSymbol('W', m, p)  # Weight matrix\n",
    "Y = sp.MatrixSymbol('Y', n, p)  # Target matrix\n",
    "\n",
    "# Define the loss function: ensure correct alignment of matrix dimensions\n",
    "# SymPy handles matrix multiplication via the `*` operator for `MatrixSymbol` objects\n",
    "loss = X * W - Y\n",
    "loss"
   ],
   "id": "af738863a7e62ac7",
   "outputs": [
    {
     "data": {
      "text/plain": [
       "X*W - Y"
      ],
      "text/latex": "$\\displaystyle X W - Y$"
     },
     "execution_count": 12,
     "metadata": {},
     "output_type": "execute_result"
    }
   ],
   "execution_count": 12
  },
  {
   "metadata": {
    "ExecuteTime": {
     "end_time": "2025-03-09T20:53:16.740762Z",
     "start_time": "2025-03-09T20:53:16.732015Z"
    }
   },
   "cell_type": "code",
   "source": [
    "\n",
    "# Compute the gradient of the squared loss (element-wise) w.r.t. W\n",
    "# We're calculating the derivative of tr((loss.T * loss)) / 2\n",
    "#squared_loss = (loss.T * loss).as_explicit()  # Explicit turns symbolic trace to scalar equivalent\n",
    "squared_loss = (loss.T * loss)\n",
    "\n",
    "squared_loss"
   ],
   "id": "b299bd0715ed859c",
   "outputs": [
    {
     "data": {
      "text/plain": [
       "(W.T*X.T - Y.T)*(X*W - Y)"
      ],
      "text/latex": "$\\displaystyle \\left(W^{T} X^{T} - Y^{T}\\right) \\left(X W - Y\\right)$"
     },
     "execution_count": 13,
     "metadata": {},
     "output_type": "execute_result"
    }
   ],
   "execution_count": 13
  },
  {
   "metadata": {
    "ExecuteTime": {
     "end_time": "2025-03-09T20:53:16.790144Z",
     "start_time": "2025-03-09T20:53:16.764571Z"
    }
   },
   "cell_type": "code",
   "source": [
    "\n",
    "gradient = sp.diff(squared_loss, W)\n",
    "\n",
    "gradient\n"
   ],
   "id": "bb8a1aa5c22cfc",
   "outputs": [
    {
     "data": {
      "text/plain": [
       "ArrayAdd(PermuteDims(ArrayTensorProduct(X.T*(X*W - Y), I), (1 2 3)), PermuteDims(ArrayTensorProduct(X.T*(X*W - Y), I), (3)(1 2)))"
      ],
      "text/latex": "$\\displaystyle \\operatorname{ArrayAdd}\\left(\\operatorname{PermuteDims}\\left(\\operatorname{ArrayTensorProduct}\\left(X^{T} \\left(X W - Y\\right), \\mathbb{I}\\right), \\left( 1\\; 2\\; 3\\right)\\right), \\operatorname{PermuteDims}\\left(\\operatorname{ArrayTensorProduct}\\left(X^{T} \\left(X W - Y\\right), \\mathbb{I}\\right), \\left( 1\\; 2\\right)\\left( 3\\right)\\right)\\right)$"
     },
     "execution_count": 14,
     "metadata": {},
     "output_type": "execute_result"
    }
   ],
   "execution_count": 14
  },
  {
   "metadata": {
    "ExecuteTime": {
     "end_time": "2025-03-09T20:53:16.804183Z",
     "start_time": "2025-03-09T20:53:16.802682Z"
    }
   },
   "cell_type": "code",
   "source": "",
   "id": "69ccdcca8552d110",
   "outputs": [],
   "execution_count": null
  }
 ],
 "metadata": {
  "kernelspec": {
   "display_name": "Python 3",
   "language": "python",
   "name": "python3"
  },
  "language_info": {
   "codemirror_mode": {
    "name": "ipython",
    "version": 2
   },
   "file_extension": ".py",
   "mimetype": "text/x-python",
   "name": "python",
   "nbconvert_exporter": "python",
   "pygments_lexer": "ipython2",
   "version": "2.7.6"
  }
 },
 "nbformat": 4,
 "nbformat_minor": 5
}
