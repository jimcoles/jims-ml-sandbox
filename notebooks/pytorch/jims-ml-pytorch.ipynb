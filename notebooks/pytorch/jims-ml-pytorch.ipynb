{
 "cells": [
  {
   "metadata": {},
   "cell_type": "markdown",
   "source": "# PyTorch Basic",
   "id": "f4bc8b73c92ddd07"
  },
  {
   "metadata": {
    "collapsed": true,
    "ExecuteTime": {
     "end_time": "2025-02-15T22:19:06.636290Z",
     "start_time": "2025-02-15T22:19:06.630355Z"
    }
   },
   "cell_type": "code",
   "source": [
    "import torch\n",
    "\n",
    "# Create a tensor\n",
    "tensor = torch.arange(10)\n",
    "\n",
    "# Print the tensor\n",
    "print(\"Hello, PyTorch! Here is a tensor:\", tensor)\n",
    "\n",
    "# Print the tensor's data type\n",
    "print(\"Tensor data type:\", tensor.dtype)\n",
    "\n",
    "\n"
   ],
   "id": "initial_id",
   "outputs": [
    {
     "name": "stdout",
     "output_type": "stream",
     "text": [
      "Hello, PyTorch! Here is a tensor: tensor([0, 1, 2, 3, 4, 5, 6, 7, 8, 9])\n",
      "Tensor data type: torch.int64\n"
     ]
    }
   ],
   "execution_count": 9
  },
  {
   "metadata": {},
   "cell_type": "code",
   "outputs": [],
   "execution_count": null,
   "source": "",
   "id": "b3aa4a2c1393a219"
  }
 ],
 "metadata": {
  "kernelspec": {
   "display_name": "Python 3",
   "language": "python",
   "name": "python3"
  },
  "language_info": {
   "codemirror_mode": {
    "name": "ipython",
    "version": 2
   },
   "file_extension": ".py",
   "mimetype": "text/x-python",
   "name": "python",
   "nbconvert_exporter": "python",
   "pygments_lexer": "ipython2",
   "version": "2.7.6"
  }
 },
 "nbformat": 4,
 "nbformat_minor": 5
}
