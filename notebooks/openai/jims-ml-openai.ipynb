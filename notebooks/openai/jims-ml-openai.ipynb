{
 "cells": [
  {
   "metadata": {},
   "cell_type": "markdown",
   "source": [
    "# Open AI Basics\n",
    "\n"
   ],
   "id": "8a77807f92f26ee"
  },
  {
   "metadata": {},
   "cell_type": "markdown",
   "source": [
    "OpenAI requires a paid API key. Set the key in an os environment variable, e.g.:\n",
    "\n",
    "`export OPENAI_API_KEY=sk-proj-12fKGWJW ...`"
   ],
   "id": "6cff362e1aa44a25"
  },
  {
   "metadata": {},
   "cell_type": "markdown",
   "source": "A \"hello world\", OpenAI API-based _Chat Completion_:",
   "id": "e9a4ac56a73460c1"
  },
  {
   "metadata": {
    "ExecuteTime": {
     "end_time": "2025-02-16T01:35:29.112284Z",
     "start_time": "2025-02-16T01:35:27.355208Z"
    }
   },
   "cell_type": "code",
   "source": [
    "import logging.config\n",
    "from openai import OpenAI\n",
    "\n",
    "# Usage\n",
    "log = logging.getLogger(__name__)\n",
    "\n",
    "client = OpenAI()\n",
    "\n",
    "completion = client.chat.completions.create(\n",
    "    model=\"gpt-4o-mini\",\n",
    "    messages=[\n",
    "        {\"role\": \"system\", \"content\": \"You are a helpful assistant.\"},\n",
    "        {\n",
    "            \"role\": \"user\",\n",
    "            # \"content\": \"Write a haiku about recursion in programming.\"\n",
    "            \"content\": \"Hello, OpenAI.\"\n",
    "        }\n",
    "    ]\n",
    ")\n",
    "\n",
    "print(f\"Completion: {completion.choices[0].message}\")"
   ],
   "id": "4bcfc1d037d207a8",
   "outputs": [
    {
     "name": "stdout",
     "output_type": "stream",
     "text": [
      "Completion: ChatCompletionMessage(content='Hello! How can I assist you today?', refusal=None, role='assistant', audio=None, function_call=None, tool_calls=None)\n"
     ]
    }
   ],
   "execution_count": 8
  },
  {
   "metadata": {},
   "cell_type": "markdown",
   "source": "",
   "id": "9c6e7b2dc9d3b8ed"
  }
 ],
 "metadata": {
  "kernelspec": {
   "display_name": "Python 3",
   "language": "python",
   "name": "python3"
  },
  "language_info": {
   "codemirror_mode": {
    "name": "ipython",
    "version": 2
   },
   "file_extension": ".py",
   "mimetype": "text/x-python",
   "name": "python",
   "nbconvert_exporter": "python",
   "pygments_lexer": "ipython2",
   "version": "2.7.6"
  }
 },
 "nbformat": 4,
 "nbformat_minor": 5
}
